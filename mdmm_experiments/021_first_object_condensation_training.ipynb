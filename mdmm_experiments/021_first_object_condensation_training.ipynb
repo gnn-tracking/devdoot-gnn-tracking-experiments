{
 "cells": [
  {
   "attachments": {},
   "cell_type": "markdown",
   "metadata": {
    "collapsed": false
   },
   "source": [
    "# First object condensation model training\n",
    "\n",
    "* **Requirements*: You need to have graphs constructed, e.g., with `010_build_graphs.ipynb`"
   ]
  },
  {
   "cell_type": "code",
   "execution_count": 1,
   "metadata": {
    "collapsed": false
   },
   "outputs": [],
   "source": [
    "from pathlib import Path\n",
    "\n",
    "from gnn_tracking.postprocessing.dbscanscanner import dbscan_scan\n",
    "\n",
    "from gnn_tracking.models.track_condensation_networks import GraphTCN\n",
    "from tcn_trainer import TCNTrainer\n",
    "from gnn_tracking.metrics.losses import (\n",
    "    EdgeWeightFocalLoss,\n",
    "    PotentialLoss,\n",
    "    BackgroundLoss,\n",
    ")\n",
    "from gnn_tracking.utils.loading import get_loaders, TrackingDataset"
   ]
  },
  {
   "cell_type": "code",
   "execution_count": 2,
   "metadata": {
    "collapsed": false
   },
   "outputs": [
    {
     "name": "stdout",
     "output_type": "stream",
     "text": [
      "D:\\Devdoot\\Princeton RSE\\dataset\\graph constructed\n"
     ]
    }
   ],
   "source": [
    "graph_dir = Path(\"D:\\Devdoot\\Princeton RSE\\dataset\\graph constructed\")\n",
    "print(graph_dir)\n",
    "assert graph_dir.is_dir()"
   ]
  },
  {
   "cell_type": "code",
   "execution_count": 3,
   "metadata": {
    "collapsed": false
   },
   "outputs": [
    {
     "name": "stderr",
     "output_type": "stream",
     "text": [
      "\u001b[32m[19:01:53] INFO: DataLoader will load 810 graphs (out of 900 available).\u001b[0m\n",
      "\u001b[36m[19:01:53] DEBUG: First graph is D:\\Devdoot\\Princeton RSE\\dataset\\graph constructed\\data21000_s0.pt, last graph is D:\\Devdoot\\Princeton RSE\\dataset\\graph constructed\\data21909_s0.pt\u001b[0m\n",
      "\u001b[32m[19:01:53] INFO: DataLoader will load 90 graphs (out of 900 available).\u001b[0m\n",
      "\u001b[36m[19:01:53] DEBUG: First graph is D:\\Devdoot\\Princeton RSE\\dataset\\graph constructed\\data21910_s0.pt, last graph is D:\\Devdoot\\Princeton RSE\\dataset\\graph constructed\\data21999_s0.pt\u001b[0m\n",
      "\u001b[36m[19:01:53] DEBUG: Parameters for data loader 'train': {'batch_size': 1, 'num_workers': 1, 'sampler': <torch.utils.data.sampler.RandomSampler object at 0x000001CA91443AF0>, 'pin_memory': True, 'shuffle': None}\u001b[0m\n",
      "\u001b[36m[19:01:53] DEBUG: Parameters for data loader 'val': {'batch_size': 1, 'num_workers': 1, 'sampler': None, 'pin_memory': True, 'shuffle': False}\u001b[0m\n"
     ]
    }
   ],
   "source": [
    "datasets = {\n",
    "    \"train\": TrackingDataset(graph_dir, stop=810),\n",
    "    \"val\": TrackingDataset(graph_dir, start=810, stop=900),\n",
    "}\n",
    "loaders = get_loaders(datasets, batch_size=1)"
   ]
  },
  {
   "cell_type": "code",
   "execution_count": 4,
   "metadata": {
    "collapsed": false
   },
   "outputs": [],
   "source": [
    "main_loss_functions = {\n",
    "    \"potential\": (PotentialLoss(q_min=0.01), {\"attractive\": 1.0}),\n",
    "}\n",
    "constraint_loss_functions = {\n",
    "    \"edge\": (EdgeWeightFocalLoss(gamma=5, alpha=0.95), 0.0002),\n",
    "    \"potential\": (PotentialLoss(q_min=0.01), {\"repulsive\": 0.025}),\n",
    "    \"background\": (BackgroundLoss(sb=1), 0.99),\n",
    "}"
   ]
  },
  {
   "attachments": {},
   "cell_type": "markdown",
   "metadata": {},
   "source": [
    "The values after the loss functions are the loss weights. The potential loss is a special case, because it returns a dictionary two values: `attractive` and `repulsive`. Therefore, there are also two loss weights."
   ]
  },
  {
   "cell_type": "code",
   "execution_count": 5,
   "metadata": {
    "collapsed": false
   },
   "outputs": [],
   "source": [
    "model = GraphTCN(\n",
    "    node_indim=datasets[\"train\"].num_node_features,\n",
    "    edge_indim=datasets[\"train\"].num_edge_features,\n",
    "    h_dim=10,\n",
    "    e_dim=10,\n",
    "    L_ec=5,\n",
    "    L_hc=2,\n",
    "    h_outdim=10,\n",
    "    hidden_dim=128,\n",
    ")"
   ]
  },
  {
   "cell_type": "code",
   "execution_count": 6,
   "metadata": {
    "collapsed": false
   },
   "outputs": [],
   "source": [
    "clustering_functions = {\"dbscan\": dbscan_scan}"
   ]
  },
  {
   "cell_type": "code",
   "execution_count": 7,
   "metadata": {
    "collapsed": false
   },
   "outputs": [
    {
     "name": "stderr",
     "output_type": "stream",
     "text": [
      "\u001b[32m[19:01:53 TCNTrainer] INFO: Using device cuda\u001b[0m\n"
     ]
    }
   ],
   "source": [
    "trainer = TCNTrainer(\n",
    "    model=model,\n",
    "    loaders=loaders,\n",
    "    main_loss_functions=main_loss_functions,\n",
    "    constraint_loss_functions=constraint_loss_functions,\n",
    "    lr=0.005,\n",
    "    cluster_functions=clustering_functions,\n",
    ")"
   ]
  },
  {
   "cell_type": "code",
   "execution_count": 8,
   "metadata": {
    "collapsed": false
   },
   "outputs": [
    {
     "name": "stderr",
     "output_type": "stream",
     "text": [
      "\u001b[36m[19:02:02 TCNTrainer] DEBUG: Epoch 1 (    0/810): Total=6294497.00000, potential_attractive=   0.00034, edge=   0.00443, potential_repulsive=1122.03186, background=   0.99727\u001b[0m\n",
      "\u001b[36m[19:02:09 TCNTrainer] DEBUG: Epoch 1 (   10/810): Total=5864.24023, potential_attractive=5864.23779, edge=   0.00220, potential_repulsive=   0.00089, background=   0.99999\u001b[0m\n",
      "\u001b[36m[19:02:12 TCNTrainer] DEBUG: Epoch 1 (   20/810): Total= 420.91931, potential_attractive= 420.91721, edge=   0.00166, potential_repulsive=   0.00272, background=   1.00000\u001b[0m\n",
      "\u001b[36m[19:02:15 TCNTrainer] DEBUG: Epoch 1 (   30/810): Total=  31.02851, potential_attractive=  31.02709, edge=   0.00185, potential_repulsive=   0.00772, background=   1.00000\u001b[0m\n",
      "\u001b[36m[19:02:18 TCNTrainer] DEBUG: Epoch 1 (   40/810): Total=  48.55421, potential_attractive=  48.55288, edge=   0.00171, potential_repulsive=   0.00988, background=   1.00000\u001b[0m\n",
      "\u001b[36m[19:02:20 TCNTrainer] DEBUG: Epoch 1 (   50/810): Total= 446.45413, potential_attractive= 446.45258, edge=   0.00202, potential_repulsive=   0.01061, background=   1.00000\u001b[0m\n",
      "\u001b[36m[19:02:22 TCNTrainer] DEBUG: Epoch 1 (   60/810): Total=   5.81624, potential_attractive=   5.81498, edge=   0.00170, potential_repulsive=   0.02025, background=   1.00000\u001b[0m\n",
      "\u001b[36m[19:02:25 TCNTrainer] DEBUG: Epoch 1 (   70/810): Total=  13.35282, potential_attractive=  13.35097, edge=   0.00183, potential_repulsive=   0.01323, background=   1.00000\u001b[0m\n",
      "\u001b[36m[19:02:27 TCNTrainer] DEBUG: Epoch 1 (   80/810): Total=  17.55482, potential_attractive=  17.55287, edge=   0.00181, potential_repulsive=   0.01721, background=   1.00000\u001b[0m\n",
      "\u001b[36m[19:02:29 TCNTrainer] DEBUG: Epoch 1 (   90/810): Total=   2.50516, potential_attractive=   2.50230, edge=   0.00155, potential_repulsive=   0.03282, background=   1.00000\u001b[0m\n",
      "\u001b[36m[19:02:32 TCNTrainer] DEBUG: Epoch 1 (  100/810): Total=   1.42175, potential_attractive=   1.41647, edge=   0.00139, potential_repulsive=   0.04470, background=   1.00000\u001b[0m\n",
      "\u001b[36m[19:02:34 TCNTrainer] DEBUG: Epoch 1 (  110/810): Total=   1.37090, potential_attractive=   1.36063, edge=   0.00137, potential_repulsive=   0.05953, background=   1.00000\u001b[0m\n",
      "\u001b[36m[19:02:37 TCNTrainer] DEBUG: Epoch 1 (  120/810): Total=   0.22923, potential_attractive=   0.19155, edge=   0.00118, potential_repulsive=   0.10394, background=   1.00000\u001b[0m\n",
      "\u001b[36m[19:02:39 TCNTrainer] DEBUG: Epoch 1 (  130/810): Total=   0.16434, potential_attractive=   0.12125, edge=   0.00096, potential_repulsive=   0.10997, background=   1.00000\u001b[0m\n",
      "\u001b[36m[19:02:41 TCNTrainer] DEBUG: Epoch 1 (  140/810): Total=   0.39010, potential_attractive=   0.34945, edge=   0.00087, potential_repulsive=   0.10688, background=   1.00000\u001b[0m\n",
      "\u001b[36m[19:02:43 TCNTrainer] DEBUG: Epoch 1 (  150/810): Total=   0.19194, potential_attractive=   0.06279, edge=   0.00069, potential_repulsive=   0.17899, background=   1.00000\u001b[0m\n",
      "\u001b[36m[19:02:46 TCNTrainer] DEBUG: Epoch 1 (  160/810): Total=   0.15368, potential_attractive=   0.08851, edge=   0.00060, potential_repulsive=   0.13127, background=   1.00000\u001b[0m\n",
      "\u001b[36m[19:02:48 TCNTrainer] DEBUG: Epoch 1 (  170/810): Total=   0.11014, potential_attractive=   0.07476, edge=   0.00065, potential_repulsive=   0.09950, background=   1.00000\u001b[0m\n",
      "\u001b[36m[19:02:50 TCNTrainer] DEBUG: Epoch 1 (  180/810): Total=   0.07491, potential_attractive=   0.03669, edge=   0.00056, potential_repulsive=   0.10268, background=   1.00000\u001b[0m\n",
      "\u001b[36m[19:02:53 TCNTrainer] DEBUG: Epoch 1 (  190/810): Total=   0.08154, potential_attractive=   0.05001, edge=   0.00054, potential_repulsive=   0.09363, background=   1.00000\u001b[0m\n",
      "\u001b[36m[19:02:55 TCNTrainer] DEBUG: Epoch 1 (  200/810): Total=   0.07929, potential_attractive=   0.05395, edge=   0.00054, potential_repulsive=   0.08409, background=   1.00000\u001b[0m\n",
      "\u001b[36m[19:02:57 TCNTrainer] DEBUG: Epoch 1 (  210/810): Total=   0.11858, potential_attractive=   0.10138, edge=   0.00054, potential_repulsive=   0.06893, background=   1.00000\u001b[0m\n",
      "\u001b[36m[19:03:00 TCNTrainer] DEBUG: Epoch 1 (  220/810): Total=   0.06108, potential_attractive=   0.04610, edge=   0.00063, potential_repulsive=   0.06316, background=   1.00000\u001b[0m\n",
      "\u001b[36m[19:03:02 TCNTrainer] DEBUG: Epoch 1 (  230/810): Total=   0.06714, potential_attractive=   0.05267, edge=   0.00059, potential_repulsive=   0.06114, background=   1.00000\u001b[0m\n",
      "\u001b[36m[19:03:04 TCNTrainer] DEBUG: Epoch 1 (  240/810): Total=   0.07208, potential_attractive=   0.05333, edge=   0.00048, potential_repulsive=   0.07001, background=   1.00000\u001b[0m\n",
      "\u001b[36m[19:03:06 TCNTrainer] DEBUG: Epoch 1 (  250/810): Total=   0.05786, potential_attractive=   0.03823, edge=   0.00059, potential_repulsive=   0.07090, background=   1.00000\u001b[0m\n",
      "\u001b[36m[19:03:09 TCNTrainer] DEBUG: Epoch 1 (  260/810): Total=   0.06386, potential_attractive=   0.04671, edge=   0.00055, potential_repulsive=   0.06494, background=   1.00000\u001b[0m\n",
      "\u001b[36m[19:03:12 TCNTrainer] DEBUG: Epoch 1 (  270/810): Total=   0.08850, potential_attractive=   0.06573, edge=   0.00049, potential_repulsive=   0.07559, background=   1.00000\u001b[0m\n",
      "\u001b[36m[19:03:14 TCNTrainer] DEBUG: Epoch 1 (  280/810): Total=   0.07678, potential_attractive=   0.04411, edge=   0.00052, potential_repulsive=   0.09075, background=   1.00000\u001b[0m\n",
      "\u001b[36m[19:03:17 TCNTrainer] DEBUG: Epoch 1 (  290/810): Total=   0.06424, potential_attractive=   0.04388, edge=   0.00045, potential_repulsive=   0.06961, background=   1.00000\u001b[0m\n",
      "\u001b[36m[19:03:19 TCNTrainer] DEBUG: Epoch 1 (  300/810): Total=   0.06817, potential_attractive=   0.04303, edge=   0.00047, potential_repulsive=   0.07782, background=   1.00000\u001b[0m\n",
      "\u001b[36m[19:03:21 TCNTrainer] DEBUG: Epoch 1 (  310/810): Total=   0.06858, potential_attractive=   0.04609, edge=   0.00052, potential_repulsive=   0.07218, background=   1.00000\u001b[0m\n",
      "\u001b[36m[19:03:24 TCNTrainer] DEBUG: Epoch 1 (  320/810): Total=   0.06162, potential_attractive=   0.04160, edge=   0.00048, potential_repulsive=   0.06641, background=   1.00000\u001b[0m\n",
      "\u001b[36m[19:03:26 TCNTrainer] DEBUG: Epoch 1 (  330/810): Total=   0.08834, potential_attractive=   0.04665, edge=   0.00042, potential_repulsive=   0.10032, background=   1.00000\u001b[0m\n",
      "\u001b[36m[19:03:29 TCNTrainer] DEBUG: Epoch 1 (  340/810): Total=   0.06987, potential_attractive=   0.05303, edge=   0.00052, potential_repulsive=   0.05668, background=   1.00000\u001b[0m\n",
      "\u001b[36m[19:03:31 TCNTrainer] DEBUG: Epoch 1 (  350/810): Total=   0.07190, potential_attractive=   0.04050, edge=   0.00042, potential_repulsive=   0.08498, background=   1.00000\u001b[0m\n",
      "\u001b[36m[19:03:34 TCNTrainer] DEBUG: Epoch 1 (  360/810): Total=   0.06150, potential_attractive=   0.03898, edge=   0.00043, potential_repulsive=   0.06848, background=   1.00000\u001b[0m\n",
      "\u001b[36m[19:03:36 TCNTrainer] DEBUG: Epoch 1 (  370/810): Total=   0.06503, potential_attractive=   0.04265, edge=   0.00046, potential_repulsive=   0.06728, background=   1.00000\u001b[0m\n",
      "\u001b[36m[19:03:39 TCNTrainer] DEBUG: Epoch 1 (  380/810): Total=   0.08029, potential_attractive=   0.04620, edge=   0.00050, potential_repulsive=   0.08714, background=   1.00000\u001b[0m\n",
      "\u001b[36m[19:03:41 TCNTrainer] DEBUG: Epoch 1 (  390/810): Total=   0.06216, potential_attractive=   0.03784, edge=   0.00048, potential_repulsive=   0.06961, background=   1.00000\u001b[0m\n",
      "\u001b[36m[19:03:43 TCNTrainer] DEBUG: Epoch 1 (  400/810): Total=   0.07343, potential_attractive=   0.04661, edge=   0.00048, potential_repulsive=   0.07368, background=   1.00000\u001b[0m\n",
      "\u001b[36m[19:03:46 TCNTrainer] DEBUG: Epoch 1 (  410/810): Total=   0.07089, potential_attractive=   0.04155, edge=   0.00047, potential_repulsive=   0.07753, background=   1.00000\u001b[0m\n",
      "\u001b[36m[19:03:48 TCNTrainer] DEBUG: Epoch 1 (  420/810): Total=   0.05701, potential_attractive=   0.03817, edge=   0.00049, potential_repulsive=   0.05322, background=   1.00000\u001b[0m\n",
      "\u001b[36m[19:03:51 TCNTrainer] DEBUG: Epoch 1 (  430/810): Total=   0.07324, potential_attractive=   0.04291, edge=   0.00041, potential_repulsive=   0.07792, background=   1.00000\u001b[0m\n",
      "\u001b[36m[19:03:53 TCNTrainer] DEBUG: Epoch 1 (  440/810): Total=   0.06582, potential_attractive=   0.04076, edge=   0.00050, potential_repulsive=   0.06682, background=   1.00000\u001b[0m\n",
      "\u001b[36m[19:03:56 TCNTrainer] DEBUG: Epoch 1 (  450/810): Total=   0.06202, potential_attractive=   0.03622, edge=   0.00051, potential_repulsive=   0.06748, background=   1.00000\u001b[0m\n",
      "\u001b[36m[19:03:58 TCNTrainer] DEBUG: Epoch 1 (  460/810): Total=   0.07375, potential_attractive=   0.04202, edge=   0.00049, potential_repulsive=   0.07805, background=   1.00000\u001b[0m\n",
      "\u001b[36m[19:04:01 TCNTrainer] DEBUG: Epoch 1 (  470/810): Total=   0.09219, potential_attractive=   0.06015, edge=   0.00044, potential_repulsive=   0.07795, background=   1.00000\u001b[0m\n",
      "\u001b[36m[19:04:03 TCNTrainer] DEBUG: Epoch 1 (  480/810): Total=   0.07532, potential_attractive=   0.05148, edge=   0.00052, potential_repulsive=   0.06002, background=   1.00000\u001b[0m\n",
      "\u001b[36m[19:04:05 TCNTrainer] DEBUG: Epoch 1 (  490/810): Total=   0.05777, potential_attractive=   0.03083, edge=   0.00051, potential_repulsive=   0.06630, background=   1.00000\u001b[0m\n",
      "\u001b[36m[19:04:08 TCNTrainer] DEBUG: Epoch 1 (  500/810): Total=   0.06687, potential_attractive=   0.04102, edge=   0.00044, potential_repulsive=   0.06306, background=   1.00000\u001b[0m\n",
      "\u001b[36m[19:04:10 TCNTrainer] DEBUG: Epoch 1 (  510/810): Total=   0.07459, potential_attractive=   0.03171, edge=   0.00045, potential_repulsive=   0.09206, background=   1.00000\u001b[0m\n",
      "\u001b[36m[19:04:13 TCNTrainer] DEBUG: Epoch 1 (  520/810): Total=   0.06189, potential_attractive=   0.03008, edge=   0.00041, potential_repulsive=   0.07375, background=   1.00000\u001b[0m\n",
      "\u001b[36m[19:04:15 TCNTrainer] DEBUG: Epoch 1 (  530/810): Total=   0.08262, potential_attractive=   0.04542, edge=   0.00046, potential_repulsive=   0.08227, background=   1.00000\u001b[0m\n",
      "\u001b[36m[19:04:17 TCNTrainer] DEBUG: Epoch 1 (  540/810): Total=   0.07678, potential_attractive=   0.04116, edge=   0.00041, potential_repulsive=   0.07902, background=   1.00000\u001b[0m\n",
      "\u001b[36m[19:04:20 TCNTrainer] DEBUG: Epoch 1 (  550/810): Total=   0.07097, potential_attractive=   0.03465, edge=   0.00042, potential_repulsive=   0.07943, background=   1.00000\u001b[0m\n",
      "\u001b[36m[19:04:22 TCNTrainer] DEBUG: Epoch 1 (  560/810): Total=   0.07606, potential_attractive=   0.03102, edge=   0.00041, potential_repulsive=   0.09212, background=   1.00000\u001b[0m\n",
      "\u001b[36m[19:04:24 TCNTrainer] DEBUG: Epoch 1 (  570/810): Total=   0.06800, potential_attractive=   0.03679, edge=   0.00044, potential_repulsive=   0.06822, background=   1.00000\u001b[0m\n",
      "\u001b[36m[19:04:28 TCNTrainer] DEBUG: Epoch 1 (  580/810): Total=   0.06556, potential_attractive=   0.02889, edge=   0.00044, potential_repulsive=   0.07776, background=   1.00000\u001b[0m\n",
      "\u001b[36m[19:04:30 TCNTrainer] DEBUG: Epoch 1 (  590/810): Total=   0.06493, potential_attractive=   0.03221, edge=   0.00050, potential_repulsive=   0.06935, background=   1.00000\u001b[0m\n",
      "\u001b[36m[19:04:33 TCNTrainer] DEBUG: Epoch 1 (  600/810): Total=   0.05109, potential_attractive=   0.02654, edge=   0.00047, potential_repulsive=   0.04658, background=   1.00000\u001b[0m\n",
      "\u001b[36m[19:04:35 TCNTrainer] DEBUG: Epoch 1 (  610/810): Total=   0.05564, potential_attractive=   0.02989, edge=   0.00045, potential_repulsive=   0.04942, background=   1.00000\u001b[0m\n",
      "\u001b[36m[19:04:38 TCNTrainer] DEBUG: Epoch 1 (  620/810): Total=   0.05997, potential_attractive=   0.02652, edge=   0.00045, potential_repulsive=   0.06826, background=   1.00000\u001b[0m\n",
      "\u001b[36m[19:04:40 TCNTrainer] DEBUG: Epoch 1 (  630/810): Total=   0.06095, potential_attractive=   0.02987, edge=   0.00038, potential_repulsive=   0.06220, background=   1.00000\u001b[0m\n",
      "\u001b[36m[19:04:43 TCNTrainer] DEBUG: Epoch 1 (  640/810): Total=   0.05197, potential_attractive=   0.02353, edge=   0.00045, potential_repulsive=   0.05376, background=   1.00000\u001b[0m\n",
      "\u001b[36m[19:04:45 TCNTrainer] DEBUG: Epoch 1 (  650/810): Total=   0.06894, potential_attractive=   0.02974, edge=   0.00040, potential_repulsive=   0.07686, background=   1.00000\u001b[0m\n",
      "\u001b[36m[19:04:48 TCNTrainer] DEBUG: Epoch 1 (  660/810): Total=   0.05749, potential_attractive=   0.02823, edge=   0.00036, potential_repulsive=   0.05396, background=   1.00000\u001b[0m\n",
      "\u001b[36m[19:04:51 TCNTrainer] DEBUG: Epoch 1 (  670/810): Total=   0.06277, potential_attractive=   0.02869, edge=   0.00047, potential_repulsive=   0.06477, background=   1.00000\u001b[0m\n",
      "\u001b[36m[19:04:54 TCNTrainer] DEBUG: Epoch 1 (  680/810): Total=   0.07250, potential_attractive=   0.02833, edge=   0.00050, potential_repulsive=   0.08273, background=   1.00000\u001b[0m\n",
      "\u001b[36m[19:04:57 TCNTrainer] DEBUG: Epoch 1 (  690/810): Total=   0.07584, potential_attractive=   0.02721, edge=   0.00041, potential_repulsive=   0.08903, background=   1.00000\u001b[0m\n",
      "\u001b[36m[19:05:00 TCNTrainer] DEBUG: Epoch 1 (  700/810): Total=   0.06717, potential_attractive=   0.03228, edge=   0.00045, potential_repulsive=   0.06359, background=   1.00000\u001b[0m\n",
      "\u001b[36m[19:05:03 TCNTrainer] DEBUG: Epoch 1 (  710/810): Total=   0.07185, potential_attractive=   0.03032, edge=   0.00041, potential_repulsive=   0.07619, background=   1.00000\u001b[0m\n",
      "\u001b[36m[19:05:05 TCNTrainer] DEBUG: Epoch 1 (  720/810): Total=   0.06941, potential_attractive=   0.02983, edge=   0.00044, potential_repulsive=   0.07163, background=   1.00000\u001b[0m\n",
      "\u001b[36m[19:05:08 TCNTrainer] DEBUG: Epoch 1 (  730/810): Total=   0.05886, potential_attractive=   0.02875, edge=   0.00046, potential_repulsive=   0.04566, background=   1.00000\u001b[0m\n",
      "\u001b[36m[19:05:10 TCNTrainer] DEBUG: Epoch 1 (  740/810): Total=   0.07146, potential_attractive=   0.03161, edge=   0.00045, potential_repulsive=   0.07033, background=   1.00000\u001b[0m\n",
      "\u001b[36m[19:05:13 TCNTrainer] DEBUG: Epoch 1 (  750/810): Total=   0.05733, potential_attractive=   0.02406, edge=   0.00042, potential_repulsive=   0.05356, background=   1.00000\u001b[0m\n",
      "\u001b[36m[19:05:15 TCNTrainer] DEBUG: Epoch 1 (  760/810): Total=   0.06015, potential_attractive=   0.02348, edge=   0.00042, potential_repulsive=   0.06147, background=   1.00000\u001b[0m\n",
      "\u001b[36m[19:05:18 TCNTrainer] DEBUG: Epoch 1 (  770/810): Total=   0.06241, potential_attractive=   0.02636, edge=   0.00048, potential_repulsive=   0.05855, background=   1.00000\u001b[0m\n",
      "\u001b[36m[19:05:21 TCNTrainer] DEBUG: Epoch 1 (  780/810): Total=   0.05515, potential_attractive=   0.01961, edge=   0.00044, potential_repulsive=   0.05607, background=   1.00000\u001b[0m\n",
      "\u001b[36m[19:05:23 TCNTrainer] DEBUG: Epoch 1 (  790/810): Total=   0.05162, potential_attractive=   0.01784, edge=   0.00043, potential_repulsive=   0.04929, background=   1.00000\u001b[0m\n",
      "\u001b[36m[19:05:26 TCNTrainer] DEBUG: Epoch 1 (  800/810): Total=   0.05796, potential_attractive=   0.02018, edge=   0.00038, potential_repulsive=   0.05988, background=   1.00000\u001b[0m\n",
      "\u001b[33m[19:06:38 ClusterHP] WARNING: Only using 1 thread for DBSCAN scan\u001b[0m\n",
      "\u001b[36m[19:06:38 ClusterHP] DEBUG: Starting from params: {'eps': 0.95, 'min_samples': 1}\u001b[0m\n",
      "\u001b[32m[19:06:38 ClusterHP] INFO: Starting hyperparameter scan for clustering\u001b[0m\n",
      "\u001b[36m[19:09:37 ClusterHP] DEBUG: Evaluating all metrics for best clustering\u001b[0m\n",
      "\u001b[36m[19:09:39 ClusterHP] DEBUG: Evaluating metrics took 2.408411 seconds: Clustering time: 1.550082, total metric eval: 0.855202, individual: v_measure: 0.05378210003254935, homogeneity: 0.046892400074284524, completeness: 0.05466369999339804, trk: 0.6366725999978371, adjusted_rand: 0.03572899999562651, fowlkes_mallows: 0.027462199912406504\u001b[0m\n",
      "\u001b[36m[19:09:39 ClusterHP] DEBUG: Variance among 100 trials is 0.227712. Min/max: 0.004396/0.882655\u001b[0m\n",
      "\u001b[32m[19:09:39 ClusterHP] INFO: Clustering hyperparameter scan & metric evaluation took 180.95 seconds\u001b[0m\n",
      "\u001b[32m[19:09:39 TCNTrainer] INFO: Results 1: \n",
      "┌─────┬────────────────────────────────┬──────────────┬─────────────┐\n",
      "│     │ Metric                         │        Value │         Std │\n",
      "├─────┼────────────────────────────────┼──────────────┼─────────────┤\n",
      "│     │ F1_pt0.9                       │      0.83356 │     0.02392 │\n",
      "│     │ F1_pt1.5                       │      0.75397 │     0.03397 │\n",
      "│     │ FNR_pt0.9                      │      0.00347 │     0.00139 │\n",
      "│     │ FNR_pt1.5                      │      0.00226 │     0.00144 │\n",
      "│     │ FPR_pt0.9                      │      0.06842 │     0.00314 │\n",
      "│     │ FPR_pt1.5                      │      0.06869 │     0.00376 │\n",
      "│     │ MCC_pt0.9                      │      0.81522 │     0.02081 │\n",
      "│     │ MCC_pt1.5                      │      0.75039 │     0.02781 │\n",
      "│     │ TNR_pt0.9                      │      0.93158 │     0.00314 │\n",
      "│     │ TNR_pt1.5                      │      0.93131 │     0.00376 │\n",
      "│     │ TPR_pt0.9                      │      0.99653 │     0.00139 │\n",
      "│     │ TPR_pt1.5                      │      0.99774 │     0.00144 │\n",
      "│     │ _time_test                     │    249.20870 │   nan       │\n",
      "│     │ _time_train                    │    214.98747 │   nan       │\n",
      "│     │ acc_pt0.9                      │      0.94133 │     0.00328 │\n",
      "│     │ acc_pt1.5                      │      0.93778 │     0.00364 │\n",
      "│     │ adjusted_rand                  │      0.10715 │     0.00275 │\n",
      "│     │ background                     │      1.00000 │     0.00000 │\n",
      "│     │ background_train               │      0.99964 │   nan       │\n",
      "│     │ balanced_acc_pt0.9             │      0.96406 │     0.00198 │\n",
      "│     │ balanced_acc_pt1.5             │      0.96452 │     0.00219 │\n",
      "│     │ best_dbscan_eps                │      0.13153 │   nan       │\n",
      "│     │ best_dbscan_min_samples        │      1.00000 │   nan       │\n",
      "│     │ completeness                   │      0.79860 │     0.00308 │\n",
      "│     │ edge                           │      0.00042 │     0.00003 │\n",
      "│     │ edge_train                     │      0.00068 │   nan       │\n",
      "│     │ fowlkes_mallows                │      0.19623 │     0.00717 │\n",
      "│     │ homogeneity                    │      0.98649 │     0.00110 │\n",
      "│     │ max_ba_pt0.9                   │      0.97058 │     0.00288 │\n",
      "│     │ max_ba_pt1.5                   │      0.97212 │     0.00346 │\n",
      "│     │ max_f1_pt0.9                   │      0.90541 │     0.01385 │\n",
      "│     │ max_f1_pt1.5                   │      0.88075 │     0.01897 │\n",
      "│ --> │ max_mcc_pt0.9                  │      0.88895 │     0.01413 │\n",
      "│ --> │ max_mcc_pt1.5                  │      0.86843 │     0.01901 │\n",
      "│     │ n_false_pt0.9                  │ 104064.22222 │ 30039.41238 │\n",
      "│     │ n_false_pt1.5                  │  71541.24444 │ 21292.35938 │\n",
      "│     │ n_predicted_false_pt0.9        │  96997.87778 │ 27969.82721 │\n",
      "│     │ n_predicted_false_pt1.5        │  66641.75556 │ 19824.95113 │\n",
      "│     │ n_predicted_true_pt0.9         │  24750.16667 │  4466.75487 │\n",
      "│     │ n_predicted_true_pt1.5         │  12302.93333 │  2551.93987 │\n",
      "│     │ n_true_pt0.9                   │  17683.82222 │  2489.91264 │\n",
      "│     │ n_true_pt1.5                   │   7403.44444 │  1162.80451 │\n",
      "│     │ potential_attractive           │      0.02009 │     0.00182 │\n",
      "│     │ potential_attractive_train     │    212.84595 │   nan       │\n",
      "│     │ potential_attractive_weighted  │      0.02009 │     0.00182 │\n",
      "│     │ potential_repulsive            │      0.05825 │     0.00747 │\n",
      "│     │ potential_repulsive_train      │      2.68609 │   nan       │\n",
      "│     │ roc_auc_0.001FPR_pt0.9         │      0.82586 │     0.01598 │\n",
      "│     │ roc_auc_0.001FPR_pt1.5         │      0.82119 │     0.02030 │\n",
      "│     │ roc_auc_0.01FPR_pt0.9          │      0.89475 │     0.00998 │\n",
      "│     │ roc_auc_0.01FPR_pt1.5          │      0.89139 │     0.01335 │\n",
      "│     │ roc_auc_0.1FPR_pt0.9           │      0.97699 │     0.00373 │\n",
      "│     │ roc_auc_0.1FPR_pt1.5           │      0.97731 │     0.00439 │\n",
      "│     │ roc_auc_pt0.9                  │      0.99556 │     0.00072 │\n",
      "│     │ roc_auc_pt1.5                  │      0.99565 │     0.00084 │\n",
      "│     │ total                          │      0.05805 │     0.00426 │\n",
      "│     │ total_train                    │  12375.79377 │   nan       │\n",
      "│ --> │ tpr_eq_tnr_pt0.9               │      0.96670 │     0.00324 │\n",
      "│ --> │ tpr_eq_tnr_pt1.5               │      0.96771 │     0.00376 │\n",
      "│     │ trk.double_majority            │      0.00133 │     0.00108 │\n",
      "│     │ trk.double_majority_pt0.5      │      0.00133 │     0.00108 │\n",
      "│ --> │ trk.double_majority_pt0.9      │      0.00133 │     0.00108 │\n",
      "│ --> │ trk.double_majority_pt1.5      │      0.00122 │     0.00157 │\n",
      "│     │ trk.fake_double_majority       │      0.19120 │     0.01389 │\n",
      "│     │ trk.fake_double_majority_pt0.5 │      0.19120 │     0.01389 │\n",
      "│ --> │ trk.fake_double_majority_pt0.9 │      0.19120 │     0.01389 │\n",
      "│ --> │ trk.fake_double_majority_pt1.5 │      0.18877 │     0.02537 │\n",
      "│     │ trk.fake_lhc                   │      0.48436 │     0.05013 │\n",
      "│     │ trk.fake_lhc_pt0.5             │      0.48436 │     0.05013 │\n",
      "│     │ trk.fake_lhc_pt0.9             │      0.48436 │     0.05013 │\n",
      "│     │ trk.fake_lhc_pt1.5             │      0.50826 │     0.04822 │\n",
      "│     │ trk.fake_perfect               │      0.19253 │     0.01334 │\n",
      "│     │ trk.fake_perfect_pt0.5         │      0.19253 │     0.01334 │\n",
      "│     │ trk.fake_perfect_pt0.9         │      0.19253 │     0.01334 │\n",
      "│     │ trk.fake_perfect_pt1.5         │      0.18998 │     0.02471 │\n",
      "│     │ trk.lhc                        │      0.51564 │     0.05013 │\n",
      "│     │ trk.lhc_pt0.5                  │      0.51564 │     0.05013 │\n",
      "│     │ trk.lhc_pt0.9                  │      0.51564 │     0.05013 │\n",
      "│     │ trk.lhc_pt1.5                  │      0.49174 │     0.04822 │\n",
      "│     │ trk.n_cleaned_clusters         │    207.81818 │    28.48445 │\n",
      "│     │ trk.n_cleaned_clusters_pt0.5   │    207.81818 │    28.48445 │\n",
      "│     │ trk.n_cleaned_clusters_pt0.9   │    207.81818 │    28.48445 │\n",
      "│     │ trk.n_cleaned_clusters_pt1.5   │     86.90909 │    14.32798 │\n",
      "│     │ trk.n_particles                │   1080.00000 │   133.18634 │\n",
      "│     │ trk.n_particles_pt0.5          │   1080.00000 │   133.18634 │\n",
      "│     │ trk.n_particles_pt0.9          │   1080.00000 │   133.18634 │\n",
      "│     │ trk.n_particles_pt1.5          │    458.09091 │    60.13394 │\n",
      "│     │ trk.perfect                    │      0.00000 │     0.00000 │\n",
      "│     │ trk.perfect_pt0.5              │      0.00000 │     0.00000 │\n",
      "│     │ trk.perfect_pt0.9              │      0.00000 │     0.00000 │\n",
      "│     │ trk.perfect_pt1.5              │      0.00000 │     0.00000 │\n",
      "│     │ v_measure                      │      0.88265 │     0.00191 │\n",
      "└─────┴────────────────────────────────┴──────────────┴─────────────┘\u001b[0m\n",
      "\u001b[32m[19:09:39 TCNTrainer] INFO: Saving checkpoint to 230608_190939_model.pt\u001b[0m\n"
     ]
    }
   ],
   "source": [
    "trainer.train(epochs=1)"
   ]
  },
  {
   "cell_type": "code",
   "execution_count": null,
   "metadata": {},
   "outputs": [],
   "source": []
  }
 ],
 "metadata": {
  "kernelspec": {
   "display_name": "Python 3",
   "language": "python",
   "name": "python3"
  },
  "language_info": {
   "codemirror_mode": {
    "name": "ipython",
    "version": 3
   },
   "file_extension": ".py",
   "mimetype": "text/x-python",
   "name": "python",
   "nbconvert_exporter": "python",
   "pygments_lexer": "ipython3",
   "version": "3.10.11"
  }
 },
 "nbformat": 4,
 "nbformat_minor": 0
}
