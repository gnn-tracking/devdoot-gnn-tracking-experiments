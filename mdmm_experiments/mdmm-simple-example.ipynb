{
 "cells": [
  {
   "cell_type": "code",
   "execution_count": 1,
   "metadata": {},
   "outputs": [
    {
     "data": {
      "text/plain": [
       "<torch._C.Generator at 0x232015675b0>"
      ]
     },
     "execution_count": 1,
     "metadata": {},
     "output_type": "execute_result"
    }
   ],
   "source": [
    "import torch\n",
    "import torch.nn as nn\n",
    "import torch.optim as optim\n",
    "import numpy as np\n",
    "np.random.seed(0)\n",
    "torch.manual_seed(0)"
   ]
  },
  {
   "cell_type": "code",
   "execution_count": 2,
   "metadata": {},
   "outputs": [],
   "source": [
    "N = 1000\n",
    "Q = 1\n",
    "nb_output = 2  # total number of output\n",
    "D1 = 1  # first output\n",
    "D2 = 1  # second output"
   ]
  },
  {
   "cell_type": "code",
   "execution_count": 3,
   "metadata": {},
   "outputs": [],
   "source": [
    "def gen_data(N):\n",
    "    X = np.random.randn(N, Q)\n",
    "    w1 = 2.\n",
    "    b1 = 8.\n",
    "    sigma1 = 1\n",
    "    Y1 = X.dot(w1) + b1 + sigma1 * np.random.randn(N, D1)\n",
    "    w2 = 3\n",
    "    b2 = 3.\n",
    "    sigma2 = 1\n",
    "    Y2 = X.dot(w2) + b2 + sigma2 * np.random.randn(N, D2)\n",
    "    return X, Y1, Y2"
   ]
  },
  {
   "cell_type": "code",
   "execution_count": 4,
   "metadata": {},
   "outputs": [
    {
     "data": {
      "image/png": "[encoded data removed]",
      "text/plain": [
       "<Figure size 500x500 with 1 Axes>"
      ]
     },
     "metadata": {},
     "output_type": "display_data"
    }
   ],
   "source": [
    "import pylab\n",
    "%matplotlib inline\n",
    "\n",
    "X, Y1, Y2 = gen_data(N)\n",
    "pylab.figure(figsize=(5, 5))\n",
    "pylab.scatter(X[:, 0], Y1[:, 0])\n",
    "pylab.scatter(X[:, 0], Y2[:, 0])\n",
    "pylab.show()"
   ]
  },
  {
   "cell_type": "code",
   "execution_count": 5,
   "metadata": {},
   "outputs": [],
   "source": [
    "class Net(nn.Module):\n",
    "    def __init__(self, input_size, hidden_size, output1_size, output2_size):\n",
    "        super(Net, self).__init__()\n",
    "        self.fc1 = nn.Linear(input_size, hidden_size) \n",
    "        self.relu = nn.ReLU()\n",
    "        self.fc2 = nn.Linear(hidden_size, output1_size)\n",
    "        self.fc3 = nn.Linear(hidden_size, output2_size)\n",
    "    \n",
    "    def forward(self, x):\n",
    "        out = self.fc1(x)\n",
    "        out = self.relu(out)\n",
    "        out1 = self.fc2(out)\n",
    "        out2 = self.fc3(out)\n",
    "        return out1, out2"
   ]
  },
  {
   "cell_type": "code",
   "execution_count": 6,
   "metadata": {},
   "outputs": [],
   "source": [
    "nb_features = 1024"
   ]
  },
  {
   "cell_type": "code",
   "execution_count": 7,
   "metadata": {},
   "outputs": [],
   "source": [
    "model = Net(Q, nb_features, D1, D2)"
   ]
  },
  {
   "cell_type": "code",
   "execution_count": 8,
   "metadata": {},
   "outputs": [],
   "source": [
    "l_multiplier = torch.zeros((1,), requires_grad=True)\n",
    "epsilon = 0.5\n",
    "damping = 10.0"
   ]
  },
  {
   "cell_type": "code",
   "execution_count": 9,
   "metadata": {},
   "outputs": [],
   "source": [
    "loss_1 = nn.MSELoss()"
   ]
  },
  {
   "cell_type": "code",
   "execution_count": 10,
   "metadata": {},
   "outputs": [],
   "source": [
    "loss_2 = nn.MSELoss()"
   ]
  },
  {
   "cell_type": "code",
   "execution_count": 11,
   "metadata": {},
   "outputs": [],
   "source": [
    "def lagrangian(y_pred, y_true, l_multiplier):\n",
    "    loss1 = loss_1(y_pred[0], y_true[0])\n",
    "    loss2 = loss_2(y_pred[1], y_true[1])\n",
    "    infeasibility = loss2 - epsilon\n",
    "    damp = damping * (infeasibility**2 / 2)\n",
    "    return loss1 + (l_multiplier * infeasibility) + damp"
   ]
  },
  {
   "cell_type": "code",
   "execution_count": 12,
   "metadata": {},
   "outputs": [],
   "source": [
    "def linear_add(y_pred, y_true):\n",
    "    loss1 = loss_1(y_pred[0], y_true[0])\n",
    "    loss2 = loss_2(y_pred[1], y_true[1])\n",
    "    return loss1 + loss2"
   ]
  },
  {
   "cell_type": "code",
   "execution_count": 13,
   "metadata": {},
   "outputs": [],
   "source": [
    "optimizer_wt = optim.Adam(model.parameters(), lr=1e-3)\n",
    "optimizer_l = optim.Adam([l_multiplier], lr=1e-3)"
   ]
  },
  {
   "cell_type": "code",
   "execution_count": 14,
   "metadata": {},
   "outputs": [],
   "source": [
    "# convert data into torch from numpy array\n",
    "X = X.astype('float32')\n",
    "Y1 = Y1.astype('float32')\n",
    "Y2 = Y2.astype('float32')"
   ]
  },
  {
   "cell_type": "code",
   "execution_count": 15,
   "metadata": {},
   "outputs": [],
   "source": [
    "def shuffle_data(X,Y1,Y2):\n",
    "    s = np.arange(X.shape[0])\n",
    "    np.random.shuffle(s)\n",
    "    return X[s], Y1[s], Y2[s]"
   ]
  },
  {
   "cell_type": "code",
   "execution_count": 16,
   "metadata": {},
   "outputs": [],
   "source": [
    "epochs = 500\n",
    "batch_size = 32"
   ]
  },
  {
   "cell_type": "code",
   "execution_count": 18,
   "metadata": {},
   "outputs": [],
   "source": [
    "## Train Network\n",
    "loss_history = np.zeros(epochs)\n",
    "\n",
    "for i in range(epochs):\n",
    "\n",
    "    epoch_loss = 0\n",
    "    \n",
    "    X, Y1, Y2 = shuffle_data(X, Y1, Y2)\n",
    "    \n",
    "    for j in range(N//batch_size):\n",
    "        \n",
    "        inp = torch.from_numpy(X[(j*batch_size):((j+1)*batch_size)])\n",
    "        target1 = torch.from_numpy(Y1[(j*batch_size):((j+1)*batch_size)])\n",
    "        target2 = torch.from_numpy(Y2[(j*batch_size):((j+1)*batch_size)])\n",
    "        \n",
    "        out = model(inp)\n",
    "        \n",
    "        optimizer_wt.zero_grad()\n",
    "        optimizer_l.zero_grad()\n",
    "\n",
    "        loss = lagrangian(out, [target1, target2], l_multiplier)\n",
    "        epoch_loss += loss.item()\n",
    "\n",
    "        loss.backward()\n",
    "        for group in optimizer_l.param_groups:\n",
    "            for p in group['params']:\n",
    "                if p.grad is not None:\n",
    "                    p.grad = -1*p.grad\n",
    "\n",
    "        optimizer_wt.step()\n",
    "        optimizer_l.step()\n",
    "\n",
    "        # optimizer_wt.zero_grad()\n",
    "\n",
    "        # loss = linear_add(out, [target1, target2])\n",
    "        # epoch_loss += loss.item()\n",
    "\n",
    "        # loss.backward()\n",
    "        # optimizer_wt.step()\n",
    "   \n",
    "    loss_history[i] = epoch_loss * batch_size / N"
   ]
  },
  {
   "cell_type": "code",
   "execution_count": 19,
   "metadata": {},
   "outputs": [
    {
     "name": "stdout",
     "output_type": "stream",
     "text": [
      "0.9420067071914673\n",
      "0.9017412066459656\n"
     ]
    },
    {
     "data": {
      "text/plain": [
       "Net(\n",
       "  (fc1): Linear(in_features=1, out_features=1024, bias=True)\n",
       "  (relu): ReLU()\n",
       "  (fc2): Linear(in_features=1024, out_features=1, bias=True)\n",
       "  (fc3): Linear(in_features=1024, out_features=1, bias=True)\n",
       ")"
      ]
     },
     "execution_count": 19,
     "metadata": {},
     "output_type": "execute_result"
    }
   ],
   "source": [
    "model.eval()\n",
    "with torch.no_grad():\n",
    "    inp = torch.from_numpy(X)\n",
    "    target1 = torch.from_numpy(Y1)\n",
    "    target2 = torch.from_numpy(Y2)\n",
    "    out1, out2 = model(inp)\n",
    "    print(loss_1(out1, target1).item())\n",
    "    print(loss_2(out2, target2).item())\n",
    "model.train()"
   ]
  },
  {
   "cell_type": "code",
   "execution_count": 20,
   "metadata": {},
   "outputs": [
    {
     "data": {
      "text/plain": [
       "[<matplotlib.lines.Line2D at 0x2320e6679d0>]"
      ]
     },
     "execution_count": 20,
     "metadata": {},
     "output_type": "execute_result"
    },
    {
     "data": {
      "image/png": "[encoded data removed]",
      "text/plain": [
       "<Figure size 640x480 with 1 Axes>"
      ]
     },
     "metadata": {},
     "output_type": "display_data"
    }
   ],
   "source": [
    "# plot loss history\n",
    "\n",
    "pylab.plot(loss_history)"
   ]
  },
  {
   "cell_type": "code",
   "execution_count": null,
   "metadata": {},
   "outputs": [],
   "source": []
  }
 ],
 "metadata": {
  "kernelspec": {
   "display_name": "gnn",
   "language": "python",
   "name": "python3"
  },
  "language_info": {
   "codemirror_mode": {
    "name": "ipython",
    "version": 3
   },
   "file_extension": ".py",
   "mimetype": "text/x-python",
   "name": "python",
   "nbconvert_exporter": "python",
   "pygments_lexer": "ipython3",
   "version": "3.10.11"
  },
  "orig_nbformat": 4
 },
 "nbformat": 4,
 "nbformat_minor": 2
}
