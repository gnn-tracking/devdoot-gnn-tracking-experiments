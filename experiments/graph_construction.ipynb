{
 "cells": [
  {
   "cell_type": "code",
   "execution_count": 1,
   "id": "ca391c05",
   "metadata": {},
   "outputs": [
    {
     "name": "stdout",
     "output_type": "stream",
     "text": [
      "Tue Jul 11 10:12:22 2023       \r\n",
      "+-----------------------------------------------------------------------------+\r\n",
      "| NVIDIA-SMI 525.105.17   Driver Version: 525.105.17   CUDA Version: 12.0     |\r\n",
      "|-------------------------------+----------------------+----------------------+\r\n",
      "| GPU  Name        Persistence-M| Bus-Id        Disp.A | Volatile Uncorr. ECC |\r\n",
      "| Fan  Temp  Perf  Pwr:Usage/Cap|         Memory-Usage | GPU-Util  Compute M. |\r\n",
      "|                               |                      |               MIG M. |\r\n",
      "|===============================+======================+======================|\r\n",
      "|   0  NVIDIA A100-PCI...  On   | 00000000:21:00.0 Off |                    0 |\r\n",
      "| N/A   31C    P0    36W / 250W |      0MiB / 40960MiB |      0%      Default |\r\n",
      "|                               |                      |             Disabled |\r\n",
      "+-------------------------------+----------------------+----------------------+\r\n",
      "                                                                               \r\n",
      "+-----------------------------------------------------------------------------+\r\n",
      "| Processes:                                                                  |\r\n",
      "|  GPU   GI   CI        PID   Type   Process name                  GPU Memory |\r\n",
      "|        ID   ID                                                   Usage      |\r\n",
      "|=============================================================================|\r\n",
      "|  No running processes found                                                 |\r\n",
      "+-----------------------------------------------------------------------------+\r\n"
     ]
    }
   ],
   "source": [
    "!nvidia-smi"
   ]
  },
  {
   "cell_type": "code",
   "execution_count": 2,
   "id": "161b3409",
   "metadata": {},
   "outputs": [],
   "source": [
    "import os\n",
    "from pathlib import Path\n",
    "from functools import partial\n",
    "\n",
    "import torch\n",
    "\n",
    "from gnn_tracking.training.ml import MLModule\n",
    "from gnn_tracking.training.callbacks import PrintValidationMetrics\n",
    "from gnn_tracking.models.graph_construction import GraphConstructionFCNN\n",
    "from gnn_tracking.metrics.losses import GraphConstructionHingeEmbeddingLoss\n",
    "\n",
    "from pytorch_lightning import Trainer\n",
    "from pytorch_lightning.callbacks import Callback, TQDMProgressBar\n",
    "from gnn_tracking.utils.loading import TrackingDataModule\n",
    "from gnn_tracking.utils.dictionaries import to_floats\n",
    "\n",
    "from torch_geometric.data import Data\n",
    "from torch import nn\n",
    "from pytorch_lightning.core.mixins import HyperparametersMixin\n",
    "\n",
    "import pandas as pd"
   ]
  },
  {
   "cell_type": "code",
   "execution_count": 3,
   "id": "000771e0",
   "metadata": {},
   "outputs": [],
   "source": [
    "val_dir = Path(\"/scratch/gpfs/IOJALVO/gnn-tracking/object_condensation/point_clouds_v5/part_9\")\n",
    "assert val_dir.is_dir()"
   ]
  },
  {
   "cell_type": "code",
   "execution_count": 4,
   "id": "fb50c604",
   "metadata": {},
   "outputs": [],
   "source": [
    "train_dirs = []\n",
    "train_dir = Path(\"/scratch/gpfs/IOJALVO/gnn-tracking/object_condensation/point_clouds_v5/\")\n",
    "for i in range(1,9):\n",
    "    d = os.path.join(train_dir, f\"part_{i}\")\n",
    "    if os.path.isdir(d):\n",
    "        train_dirs.append(d)"
   ]
  },
  {
   "cell_type": "code",
   "execution_count": 5,
   "id": "81ffb819",
   "metadata": {},
   "outputs": [
    {
     "data": {
      "text/plain": [
       "['/scratch/gpfs/IOJALVO/gnn-tracking/object_condensation/point_clouds_v5/part_1',\n",
       " '/scratch/gpfs/IOJALVO/gnn-tracking/object_condensation/point_clouds_v5/part_2',\n",
       " '/scratch/gpfs/IOJALVO/gnn-tracking/object_condensation/point_clouds_v5/part_3',\n",
       " '/scratch/gpfs/IOJALVO/gnn-tracking/object_condensation/point_clouds_v5/part_4',\n",
       " '/scratch/gpfs/IOJALVO/gnn-tracking/object_condensation/point_clouds_v5/part_5',\n",
       " '/scratch/gpfs/IOJALVO/gnn-tracking/object_condensation/point_clouds_v5/part_6',\n",
       " '/scratch/gpfs/IOJALVO/gnn-tracking/object_condensation/point_clouds_v5/part_7',\n",
       " '/scratch/gpfs/IOJALVO/gnn-tracking/object_condensation/point_clouds_v5/part_8']"
      ]
     },
     "execution_count": 5,
     "metadata": {},
     "output_type": "execute_result"
    }
   ],
   "source": [
    "train_dirs"
   ]
  },
  {
   "cell_type": "code",
   "execution_count": 6,
   "id": "f41c9f9e",
   "metadata": {},
   "outputs": [],
   "source": [
    "dm = TrackingDataModule(\n",
    "    train=dict(\n",
    "        dirs=train_dirs,\n",
    "        batch_size=4\n",
    "    ),\n",
    "    val=dict(\n",
    "        dirs=[val_dir],\n",
    "        stop=500,\n",
    "    ),\n",
    "    # could also configure a 'test' set here\n",
    ")"
   ]
  },
  {
   "cell_type": "code",
   "execution_count": 7,
   "id": "0f82c130",
   "metadata": {},
   "outputs": [
    {
     "name": "stderr",
     "output_type": "stream",
     "text": [
      "\u001b[32m[10:12:41] INFO: DataLoader will load 7743 graphs (out of 7743 available).\u001b[0m\n",
      "\u001b[36m[10:12:41] DEBUG: First graph is /scratch/gpfs/IOJALVO/gnn-tracking/object_condensation/point_clouds_v5/part_1/data21000_s0.pt, last graph is /scratch/gpfs/IOJALVO/gnn-tracking/object_condensation/point_clouds_v5/part_8/data28999_s0.pt\u001b[0m\n",
      "\u001b[32m[10:12:41] INFO: DataLoader will load 500 graphs (out of 1000 available).\u001b[0m\n",
      "\u001b[36m[10:12:41] DEBUG: First graph is /scratch/gpfs/IOJALVO/gnn-tracking/object_condensation/point_clouds_v5/part_9/data29000_s0.pt, last graph is /scratch/gpfs/IOJALVO/gnn-tracking/object_condensation/point_clouds_v5/part_9/data29499_s0.pt\u001b[0m\n"
     ]
    },
    {
     "data": {
      "text/plain": [
       "{'train': TrackingDataset(7743), 'val': TrackingDataset(500)}"
      ]
     },
     "execution_count": 7,
     "metadata": {},
     "output_type": "execute_result"
    }
   ],
   "source": [
    "# This is called by the Trainer automatically and sets up the datasets\n",
    "dm.setup(stage=\"fit\")  # 'fit' combines 'train' and 'val'\n",
    "# Now the datasets are available:\n",
    "dm.datasets"
   ]
  },
  {
   "cell_type": "code",
   "execution_count": 8,
   "id": "b42a9afd",
   "metadata": {},
   "outputs": [],
   "source": [
    "class CollectLossHistory(Callback):\n",
    "    def __init__(self):\n",
    "        self.data_list = []\n",
    "\n",
    "    def on_validation_epoch_end(self, trainer, *args):\n",
    "        if not trainer.sanity_checking:\n",
    "            self.data_list.append(to_floats(trainer.callback_metrics))\n",
    "\n",
    "    def get_history(self):\n",
    "        return pd.DataFrame.from_records(self.data_list)"
   ]
  },
  {
   "cell_type": "code",
   "execution_count": 9,
   "id": "f7b82aef",
   "metadata": {},
   "outputs": [],
   "source": [
    "from torch.optim.lr_scheduler import StepLR"
   ]
  },
  {
   "cell_type": "code",
   "execution_count": 10,
   "id": "9c590ce0",
   "metadata": {},
   "outputs": [],
   "source": [
    "# def train_model(weight_repulsive, dm, max_epochs=50):\n",
    "\n",
    "#     model = GraphConstructionFCNN(in_dim=14, out_dim=10, depth=5, hidden_dim=64)\n",
    "\n",
    "#     lmodel = MLModule(\n",
    "#         model=model,\n",
    "#         loss_fct=GraphConstructionHingeEmbeddingLoss(),\n",
    "#         lw_repulsive=weight_repulsive,  # loss weight, see below\n",
    "#         optimizer=partial(torch.optim.Adam, lr=7e-4),\n",
    "#     )\n",
    "\n",
    "#     loss_history_cb = CollectLossHistory()\n",
    "\n",
    "#     trainer = Trainer(max_epochs=max_epochs, accelerator=\"gpu\",\n",
    "#                       log_every_n_steps=1, callbacks=[PrintValidationMetrics(), loss_history_cb])\n",
    "#     trainer.fit(model=lmodel, datamodule=dm)\n",
    "\n",
    "#     loss_history = loss_history_cb.get_history()\n",
    "#     return loss_history"
   ]
  },
  {
   "cell_type": "code",
   "execution_count": 11,
   "id": "0802b0fe",
   "metadata": {},
   "outputs": [],
   "source": [
    "# loss_history = train_model(weight_repulsive=0.2, dm=dm, max_epochs=100)"
   ]
  },
  {
   "cell_type": "code",
   "execution_count": 12,
   "id": "7e0a8d05",
   "metadata": {},
   "outputs": [],
   "source": [
    "import matplotlib.pyplot as plt"
   ]
  },
  {
   "cell_type": "code",
   "execution_count": 13,
   "id": "f6916088",
   "metadata": {},
   "outputs": [],
   "source": [
    "import collections\n",
    "from torch import Tensor\n",
    "from gnn_tracking.utils.dictionaries import add_key_suffix"
   ]
  },
  {
   "cell_type": "code",
   "execution_count": 14,
   "id": "7206ca41",
   "metadata": {},
   "outputs": [],
   "source": [
    "class MLModule_2(MLModule):\n",
    "    def __init__(self, **kwargs):\n",
    "        super().__init__(**kwargs)\n",
    "        self.train_loss_history = []\n",
    "        self.curr_loss = collections.defaultdict(lambda: 0.0)\n",
    "    \n",
    "    def training_step(self, batch: Data, batch_idx: int) -> Tensor | None:\n",
    "        batch = self.data_preproc(batch)\n",
    "        out = self(batch)\n",
    "        loss, loss_dct = self.get_losses(out, batch)\n",
    "        self.log_dict(add_key_suffix(loss_dct, \"_train\"), prog_bar=True, on_epoch=True, on_step=False,\n",
    "                      batch_size=self.trainer.train_dataloader.batch_size)\n",
    "        for k,v in loss_dct.items():\n",
    "            self.curr_loss[f\"{k}_train\"] += v\n",
    "        return loss\n",
    "    \n",
    "    def on_train_epoch_end(self, *args) -> None:\n",
    "        self._log_errors()\n",
    "\n",
    "        loss_dict = {}\n",
    "        for k,v in self.curr_loss.items():\n",
    "            loss_dict[k] = v/self.trainer.num_training_batches\n",
    "            self.curr_loss[k] = 0.0\n",
    "        \n",
    "        self.train_loss_history.append(loss_dict)\n",
    "    \n",
    "    def get_train_history(self):\n",
    "        return pd.DataFrame.from_records(self.train_loss_history)"
   ]
  },
  {
   "cell_type": "code",
   "execution_count": 15,
   "id": "36d855ca",
   "metadata": {},
   "outputs": [],
   "source": [
    "def train_model(weight_repulsive, dm, max_epochs=50):\n",
    "\n",
    "    model = GraphConstructionFCNN(in_dim=14, out_dim=10, depth=5, hidden_dim=512)\n",
    "\n",
    "    lmodel = MLModule_2(\n",
    "        model=model,\n",
    "        loss_fct=GraphConstructionHingeEmbeddingLoss(),\n",
    "        lw_repulsive=weight_repulsive,  # loss weight, see below\n",
    "        optimizer=partial(torch.optim.Adam, lr=5e-4),\n",
    "    )\n",
    "\n",
    "    loss_history_cb = CollectLossHistory()\n",
    "\n",
    "    trainer = Trainer(max_epochs=max_epochs, accelerator=\"gpu\",\n",
    "                      log_every_n_steps=1, callbacks=[loss_history_cb, PrintValidationMetrics(),\n",
    "                                                     TQDMProgressBar(refresh_rate=5)])\n",
    "    trainer.fit(model=lmodel, datamodule=dm)\n",
    "\n",
    "    loss_history = loss_history_cb.get_history()\n",
    "    train_loss_history = lmodel.get_train_history()\n",
    "    return train_loss_history, loss_history"
   ]
  },
  {
   "cell_type": "code",
   "execution_count": 16,
   "id": "46ceb665",
   "metadata": {},
   "outputs": [
    {
     "name": "stderr",
     "output_type": "stream",
     "text": [
      "GPU available: True (cuda), used: True\n",
      "TPU available: False, using: 0 TPU cores\n",
      "IPU available: False, using: 0 IPUs\n",
      "HPU available: False, using: 0 HPUs\n",
      "You are using a CUDA device ('NVIDIA A100-PCIE-40GB') that has Tensor Cores. To properly utilize them, you should set `torch.set_float32_matmul_precision('medium' | 'high')` which will trade-off precision for performance. For more details, read https://pytorch.org/docs/stable/generated/torch.set_float32_matmul_precision.html#torch.set_float32_matmul_precision\n",
      "\u001b[32m[10:13:32] INFO: DataLoader will load 7743 graphs (out of 7743 available).\u001b[0m\n",
      "\u001b[36m[10:13:32] DEBUG: First graph is /scratch/gpfs/IOJALVO/gnn-tracking/object_condensation/point_clouds_v5/part_1/data21000_s0.pt, last graph is /scratch/gpfs/IOJALVO/gnn-tracking/object_condensation/point_clouds_v5/part_8/data28999_s0.pt\u001b[0m\n",
      "\u001b[32m[10:13:32] INFO: DataLoader will load 500 graphs (out of 1000 available).\u001b[0m\n",
      "\u001b[36m[10:13:32] DEBUG: First graph is /scratch/gpfs/IOJALVO/gnn-tracking/object_condensation/point_clouds_v5/part_9/data29000_s0.pt, last graph is /scratch/gpfs/IOJALVO/gnn-tracking/object_condensation/point_clouds_v5/part_9/data29499_s0.pt\u001b[0m\n",
      "LOCAL_RANK: 0 - CUDA_VISIBLE_DEVICES: [0]\n",
      "\n",
      "  | Name     | Type                                | Params\n",
      "-----------------------------------------------------------------\n",
      "0 | model    | GraphConstructionFCNN               | 1.1 M \n",
      "1 | loss_fct | GraphConstructionHingeEmbeddingLoss | 0     \n",
      "-----------------------------------------------------------------\n",
      "1.1 M     Trainable params\n",
      "0         Non-trainable params\n",
      "1.1 M     Total params\n",
      "4.243     Total estimated model params size (MB)\n",
      "SLURM auto-requeueing enabled. Setting signal handlers.\n"
     ]
    },
    {
     "data": {
      "application/vnd.jupyter.widget-view+json": {
       "model_id": "",
       "version_major": 2,
       "version_minor": 0
      },
      "text/plain": [
       "Sanity Checking: 0it [00:00, ?it/s]"
      ]
     },
     "metadata": {},
     "output_type": "display_data"
    },
    {
     "name": "stderr",
     "output_type": "stream",
     "text": [
      "/scratch/gpfs/dc3896/micromamba/envs/gnn/lib/python3.10/site-packages/pytorch_lightning/trainer/connectors/data_connector.py:432: PossibleUserWarning: The dataloader, val_dataloader, does not have many workers which may be a bottleneck. Consider increasing the value of the `num_workers` argument` (try 128 which is the number of cpus on this machine) in the `DataLoader` init to improve performance.\n",
      "  rank_zero_warn(\n"
     ]
    },
    {
     "data": {
      "text/html": [
       "<pre style=\"white-space:pre;overflow-x:auto;line-height:normal;font-family:Menlo,'DejaVu Sans Mono',consolas,'Courier New',monospace\"></pre>\n"
      ],
      "text/plain": []
     },
     "metadata": {},
     "output_type": "display_data"
    },
    {
     "name": "stdout",
     "output_type": "stream",
     "text": [
      "\u001b[3m            Validation epoch=1             \u001b[0m\n",
      "┏━━━━━━━━━━━━━━━━━━━━━┳━━━━━━━━━┳━━━━━━━━━┓\n",
      "┃\u001b[1m \u001b[0m\u001b[1mMetric             \u001b[0m\u001b[1m \u001b[0m┃\u001b[1m \u001b[0m\u001b[1m  Value\u001b[0m\u001b[1m \u001b[0m┃\u001b[1m \u001b[0m\u001b[1m  Error\u001b[0m\u001b[1m \u001b[0m┃\n",
      "┡━━━━━━━━━━━━━━━━━━━━━╇━━━━━━━━━╇━━━━━━━━━┩\n",
      "│ attractive          │ 0.02993 │ 0.00016 │\n",
      "│ attractive_weighted │ 0.02993 │ 0.00016 │\n",
      "│ repulsive           │ 0.05057 │ 0.00163 │\n",
      "│ repulsive_weighted  │ 0.01011 │ 0.00033 │\n",
      "│ total               │ 0.04005 │ 0.00049 │\n",
      "└─────────────────────┴─────────┴─────────┘\n",
      "\n"
     ]
    },
    {
     "name": "stderr",
     "output_type": "stream",
     "text": [
      "/scratch/gpfs/dc3896/micromamba/envs/gnn/lib/python3.10/site-packages/pytorch_lightning/trainer/connectors/data_connector.py:432: PossibleUserWarning: The dataloader, train_dataloader, does not have many workers which may be a bottleneck. Consider increasing the value of the `num_workers` argument` (try 128 which is the number of cpus on this machine) in the `DataLoader` init to improve performance.\n",
      "  rank_zero_warn(\n"
     ]
    },
    {
     "data": {
      "application/vnd.jupyter.widget-view+json": {
       "model_id": "450ed02474d349d094f5d38ef299a9e8",
       "version_major": 2,
       "version_minor": 0
      },
      "text/plain": [
       "Training: 0it [00:00, ?it/s]"
      ]
     },
     "metadata": {},
     "output_type": "display_data"
    },
    {
     "data": {
      "application/vnd.jupyter.widget-view+json": {
       "model_id": "",
       "version_major": 2,
       "version_minor": 0
      },
      "text/plain": [
       "Validation: 0it [00:00, ?it/s]"
      ]
     },
     "metadata": {},
     "output_type": "display_data"
    },
    {
     "data": {
      "text/html": [
       "<pre style=\"white-space:pre;overflow-x:auto;line-height:normal;font-family:Menlo,'DejaVu Sans Mono',consolas,'Courier New',monospace\"></pre>\n"
      ],
      "text/plain": []
     },
     "metadata": {},
     "output_type": "display_data"
    },
    {
     "name": "stdout",
     "output_type": "stream",
     "text": [
      "\u001b[3m            Validation epoch=1             \u001b[0m\n",
      "┏━━━━━━━━━━━━━━━━━━━━━┳━━━━━━━━━┳━━━━━━━━━┓\n",
      "┃\u001b[1m \u001b[0m\u001b[1mMetric             \u001b[0m\u001b[1m \u001b[0m┃\u001b[1m \u001b[0m\u001b[1m  Value\u001b[0m\u001b[1m \u001b[0m┃\u001b[1m \u001b[0m\u001b[1m  Error\u001b[0m\u001b[1m \u001b[0m┃\n",
      "┡━━━━━━━━━━━━━━━━━━━━━╇━━━━━━━━━╇━━━━━━━━━┩\n",
      "│ attractive          │ 0.00306 │ 0.00001 │\n",
      "│ attractive_weighted │ 0.00306 │ 0.00001 │\n",
      "│ repulsive           │ 0.00425 │ 0.00002 │\n",
      "│ repulsive_weighted  │ 0.00085 │ 0.00000 │\n",
      "│ total               │ 0.00391 │ 0.00001 │\n",
      "└─────────────────────┴─────────┴─────────┘\n",
      "\n"
     ]
    },
    {
     "data": {
      "application/vnd.jupyter.widget-view+json": {
       "model_id": "",
       "version_major": 2,
       "version_minor": 0
      },
      "text/plain": [
       "Validation: 0it [00:00, ?it/s]"
      ]
     },
     "metadata": {},
     "output_type": "display_data"
    },
    {
     "data": {
      "text/html": [
       "<pre style=\"white-space:pre;overflow-x:auto;line-height:normal;font-family:Menlo,'DejaVu Sans Mono',consolas,'Courier New',monospace\"></pre>\n"
      ],
      "text/plain": []
     },
     "metadata": {},
     "output_type": "display_data"
    },
    {
     "name": "stdout",
     "output_type": "stream",
     "text": [
      "\u001b[3m               Validation epoch=2                \u001b[0m\n",
      "┏━━━━━━━━━━━━━━━━━━━━━━━━━━━┳━━━━━━━━━┳━━━━━━━━━┓\n",
      "┃\u001b[1m \u001b[0m\u001b[1mMetric                   \u001b[0m\u001b[1m \u001b[0m┃\u001b[1m \u001b[0m\u001b[1m  Value\u001b[0m\u001b[1m \u001b[0m┃\u001b[1m \u001b[0m\u001b[1m  Error\u001b[0m\u001b[1m \u001b[0m┃\n",
      "┡━━━━━━━━━━━━━━━━━━━━━━━━━━━╇━━━━━━━━━╇━━━━━━━━━┩\n",
      "│ attractive                │ 0.00262 │ 0.00000 │\n",
      "│ attractive_train          │ 0.00378 │     nan │\n",
      "│ attractive_weighted       │ 0.00262 │ 0.00000 │\n",
      "│ attractive_weighted_train │ 0.00378 │     nan │\n",
      "│ repulsive                 │ 0.00354 │ 0.00002 │\n",
      "│ repulsive_train           │ 0.00556 │     nan │\n",
      "│ repulsive_weighted        │ 0.00071 │ 0.00000 │\n",
      "│ repulsive_weighted_train  │ 0.00111 │     nan │\n",
      "│ total                     │ 0.00333 │ 0.00001 │\n",
      "│ total_train               │ 0.00489 │     nan │\n",
      "└───────────────────────────┴─────────┴─────────┘\n",
      "\n"
     ]
    },
    {
     "data": {
      "application/vnd.jupyter.widget-view+json": {
       "model_id": "",
       "version_major": 2,
       "version_minor": 0
      },
      "text/plain": [
       "Validation: 0it [00:00, ?it/s]"
      ]
     },
     "metadata": {},
     "output_type": "display_data"
    },
    {
     "data": {
      "text/html": [
       "<pre style=\"white-space:pre;overflow-x:auto;line-height:normal;font-family:Menlo,'DejaVu Sans Mono',consolas,'Courier New',monospace\"></pre>\n"
      ],
      "text/plain": []
     },
     "metadata": {},
     "output_type": "display_data"
    },
    {
     "name": "stdout",
     "output_type": "stream",
     "text": [
      "\u001b[3m               Validation epoch=3                \u001b[0m\n",
      "┏━━━━━━━━━━━━━━━━━━━━━━━━━━━┳━━━━━━━━━┳━━━━━━━━━┓\n",
      "┃\u001b[1m \u001b[0m\u001b[1mMetric                   \u001b[0m\u001b[1m \u001b[0m┃\u001b[1m \u001b[0m\u001b[1m  Value\u001b[0m\u001b[1m \u001b[0m┃\u001b[1m \u001b[0m\u001b[1m  Error\u001b[0m\u001b[1m \u001b[0m┃\n",
      "┡━━━━━━━━━━━━━━━━━━━━━━━━━━━╇━━━━━━━━━╇━━━━━━━━━┩\n",
      "│ attractive                │ 0.00260 │ 0.00001 │\n",
      "│ attractive_train          │ 0.00279 │     nan │\n",
      "│ attractive_weighted       │ 0.00260 │ 0.00001 │\n",
      "│ attractive_weighted_train │ 0.00279 │     nan │\n",
      "│ repulsive                 │ 0.00334 │ 0.00002 │\n",
      "│ repulsive_train           │ 0.00380 │     nan │\n",
      "│ repulsive_weighted        │ 0.00067 │ 0.00000 │\n",
      "│ repulsive_weighted_train  │ 0.00076 │     nan │\n",
      "│ total                     │ 0.00327 │ 0.00001 │\n",
      "│ total_train               │ 0.00355 │     nan │\n",
      "└───────────────────────────┴─────────┴─────────┘\n",
      "\n"
     ]
    },
    {
     "data": {
      "application/vnd.jupyter.widget-view+json": {
       "model_id": "",
       "version_major": 2,
       "version_minor": 0
      },
      "text/plain": [
       "Validation: 0it [00:00, ?it/s]"
      ]
     },
     "metadata": {},
     "output_type": "display_data"
    },
    {
     "data": {
      "text/html": [
       "<pre style=\"white-space:pre;overflow-x:auto;line-height:normal;font-family:Menlo,'DejaVu Sans Mono',consolas,'Courier New',monospace\"></pre>\n"
      ],
      "text/plain": []
     },
     "metadata": {},
     "output_type": "display_data"
    },
    {
     "name": "stdout",
     "output_type": "stream",
     "text": [
      "\u001b[3m               Validation epoch=4                \u001b[0m\n",
      "┏━━━━━━━━━━━━━━━━━━━━━━━━━━━┳━━━━━━━━━┳━━━━━━━━━┓\n",
      "┃\u001b[1m \u001b[0m\u001b[1mMetric                   \u001b[0m\u001b[1m \u001b[0m┃\u001b[1m \u001b[0m\u001b[1m  Value\u001b[0m\u001b[1m \u001b[0m┃\u001b[1m \u001b[0m\u001b[1m  Error\u001b[0m\u001b[1m \u001b[0m┃\n",
      "┡━━━━━━━━━━━━━━━━━━━━━━━━━━━╇━━━━━━━━━╇━━━━━━━━━┩\n",
      "│ attractive                │ 0.00246 │ 0.00000 │\n",
      "│ attractive_train          │ 0.00255 │     nan │\n",
      "│ attractive_weighted       │ 0.00246 │ 0.00000 │\n",
      "│ attractive_weighted_train │ 0.00255 │     nan │\n",
      "│ repulsive                 │ 0.00314 │ 0.00001 │\n",
      "│ repulsive_train           │ 0.00346 │     nan │\n",
      "│ repulsive_weighted        │ 0.00063 │ 0.00000 │\n",
      "│ repulsive_weighted_train  │ 0.00069 │     nan │\n",
      "│ total                     │ 0.00309 │ 0.00001 │\n",
      "│ total_train               │ 0.00325 │     nan │\n",
      "└───────────────────────────┴─────────┴─────────┘\n",
      "\n"
     ]
    },
    {
     "data": {
      "application/vnd.jupyter.widget-view+json": {
       "model_id": "",
       "version_major": 2,
       "version_minor": 0
      },
      "text/plain": [
       "Validation: 0it [00:00, ?it/s]"
      ]
     },
     "metadata": {},
     "output_type": "display_data"
    },
    {
     "data": {
      "text/html": [
       "<pre style=\"white-space:pre;overflow-x:auto;line-height:normal;font-family:Menlo,'DejaVu Sans Mono',consolas,'Courier New',monospace\"></pre>\n"
      ],
      "text/plain": []
     },
     "metadata": {},
     "output_type": "display_data"
    },
    {
     "name": "stdout",
     "output_type": "stream",
     "text": [
      "\u001b[3m               Validation epoch=5                \u001b[0m\n",
      "┏━━━━━━━━━━━━━━━━━━━━━━━━━━━┳━━━━━━━━━┳━━━━━━━━━┓\n",
      "┃\u001b[1m \u001b[0m\u001b[1mMetric                   \u001b[0m\u001b[1m \u001b[0m┃\u001b[1m \u001b[0m\u001b[1m  Value\u001b[0m\u001b[1m \u001b[0m┃\u001b[1m \u001b[0m\u001b[1m  Error\u001b[0m\u001b[1m \u001b[0m┃\n",
      "┡━━━━━━━━━━━━━━━━━━━━━━━━━━━╇━━━━━━━━━╇━━━━━━━━━┩\n",
      "│ attractive                │ 0.00226 │ 0.00000 │\n",
      "│ attractive_train          │ 0.00243 │     nan │\n",
      "│ attractive_weighted       │ 0.00226 │ 0.00000 │\n",
      "│ attractive_weighted_train │ 0.00243 │     nan │\n",
      "│ repulsive                 │ 0.00307 │ 0.00001 │\n",
      "│ repulsive_train           │ 0.00328 │     nan │\n",
      "│ repulsive_weighted        │ 0.00061 │ 0.00000 │\n",
      "│ repulsive_weighted_train  │ 0.00066 │     nan │\n",
      "│ total                     │ 0.00287 │ 0.00001 │\n",
      "│ total_train               │ 0.00308 │     nan │\n",
      "└───────────────────────────┴─────────┴─────────┘\n",
      "\n"
     ]
    },
    {
     "data": {
      "application/vnd.jupyter.widget-view+json": {
       "model_id": "",
       "version_major": 2,
       "version_minor": 0
      },
      "text/plain": [
       "Validation: 0it [00:00, ?it/s]"
      ]
     },
     "metadata": {},
     "output_type": "display_data"
    },
    {
     "data": {
      "text/html": [
       "<pre style=\"white-space:pre;overflow-x:auto;line-height:normal;font-family:Menlo,'DejaVu Sans Mono',consolas,'Courier New',monospace\"></pre>\n"
      ],
      "text/plain": []
     },
     "metadata": {},
     "output_type": "display_data"
    },
    {
     "name": "stdout",
     "output_type": "stream",
     "text": [
      "\u001b[3m               Validation epoch=6                \u001b[0m\n",
      "┏━━━━━━━━━━━━━━━━━━━━━━━━━━━┳━━━━━━━━━┳━━━━━━━━━┓\n",
      "┃\u001b[1m \u001b[0m\u001b[1mMetric                   \u001b[0m\u001b[1m \u001b[0m┃\u001b[1m \u001b[0m\u001b[1m  Value\u001b[0m\u001b[1m \u001b[0m┃\u001b[1m \u001b[0m\u001b[1m  Error\u001b[0m\u001b[1m \u001b[0m┃\n",
      "┡━━━━━━━━━━━━━━━━━━━━━━━━━━━╇━━━━━━━━━╇━━━━━━━━━┩\n",
      "│ attractive                │ 0.00246 │ 0.00000 │\n",
      "│ attractive_train          │ 0.00235 │     nan │\n",
      "│ attractive_weighted       │ 0.00246 │ 0.00000 │\n",
      "│ attractive_weighted_train │ 0.00235 │     nan │\n",
      "│ repulsive                 │ 0.00322 │ 0.00002 │\n",
      "│ repulsive_train           │ 0.00315 │     nan │\n",
      "│ repulsive_weighted        │ 0.00064 │ 0.00000 │\n",
      "│ repulsive_weighted_train  │ 0.00063 │     nan │\n",
      "│ total                     │ 0.00310 │ 0.00001 │\n",
      "│ total_train               │ 0.00298 │     nan │\n",
      "└───────────────────────────┴─────────┴─────────┘\n",
      "\n"
     ]
    },
    {
     "data": {
      "application/vnd.jupyter.widget-view+json": {
       "model_id": "",
       "version_major": 2,
       "version_minor": 0
      },
      "text/plain": [
       "Validation: 0it [00:00, ?it/s]"
      ]
     },
     "metadata": {},
     "output_type": "display_data"
    },
    {
     "data": {
      "text/html": [
       "<pre style=\"white-space:pre;overflow-x:auto;line-height:normal;font-family:Menlo,'DejaVu Sans Mono',consolas,'Courier New',monospace\"></pre>\n"
      ],
      "text/plain": []
     },
     "metadata": {},
     "output_type": "display_data"
    },
    {
     "name": "stdout",
     "output_type": "stream",
     "text": [
      "\u001b[3m               Validation epoch=7                \u001b[0m\n",
      "┏━━━━━━━━━━━━━━━━━━━━━━━━━━━┳━━━━━━━━━┳━━━━━━━━━┓\n",
      "┃\u001b[1m \u001b[0m\u001b[1mMetric                   \u001b[0m\u001b[1m \u001b[0m┃\u001b[1m \u001b[0m\u001b[1m  Value\u001b[0m\u001b[1m \u001b[0m┃\u001b[1m \u001b[0m\u001b[1m  Error\u001b[0m\u001b[1m \u001b[0m┃\n",
      "┡━━━━━━━━━━━━━━━━━━━━━━━━━━━╇━━━━━━━━━╇━━━━━━━━━┩\n",
      "│ attractive                │ 0.00226 │ 0.00000 │\n",
      "│ attractive_train          │ 0.00265 │     nan │\n",
      "│ attractive_weighted       │ 0.00226 │ 0.00000 │\n",
      "│ attractive_weighted_train │ 0.00265 │     nan │\n",
      "│ repulsive                 │ 0.00299 │ 0.00001 │\n",
      "│ repulsive_train           │ 0.00366 │     nan │\n",
      "│ repulsive_weighted        │ 0.00060 │ 0.00000 │\n",
      "│ repulsive_weighted_train  │ 0.00073 │     nan │\n",
      "│ total                     │ 0.00286 │ 0.00001 │\n",
      "│ total_train               │ 0.00338 │     nan │\n",
      "└───────────────────────────┴─────────┴─────────┘\n",
      "\n"
     ]
    },
    {
     "data": {
      "application/vnd.jupyter.widget-view+json": {
       "model_id": "",
       "version_major": 2,
       "version_minor": 0
      },
      "text/plain": [
       "Validation: 0it [00:00, ?it/s]"
      ]
     },
     "metadata": {},
     "output_type": "display_data"
    },
    {
     "data": {
      "text/html": [
       "<pre style=\"white-space:pre;overflow-x:auto;line-height:normal;font-family:Menlo,'DejaVu Sans Mono',consolas,'Courier New',monospace\"></pre>\n"
      ],
      "text/plain": []
     },
     "metadata": {},
     "output_type": "display_data"
    },
    {
     "name": "stdout",
     "output_type": "stream",
     "text": [
      "\u001b[3m               Validation epoch=8                \u001b[0m\n",
      "┏━━━━━━━━━━━━━━━━━━━━━━━━━━━┳━━━━━━━━━┳━━━━━━━━━┓\n",
      "┃\u001b[1m \u001b[0m\u001b[1mMetric                   \u001b[0m\u001b[1m \u001b[0m┃\u001b[1m \u001b[0m\u001b[1m  Value\u001b[0m\u001b[1m \u001b[0m┃\u001b[1m \u001b[0m\u001b[1m  Error\u001b[0m\u001b[1m \u001b[0m┃\n",
      "┡━━━━━━━━━━━━━━━━━━━━━━━━━━━╇━━━━━━━━━╇━━━━━━━━━┩\n",
      "│ attractive                │ 0.00220 │ 0.00000 │\n",
      "│ attractive_train          │ 0.00238 │     nan │\n",
      "│ attractive_weighted       │ 0.00220 │ 0.00000 │\n",
      "│ attractive_weighted_train │ 0.00238 │     nan │\n",
      "│ repulsive                 │ 0.00276 │ 0.00001 │\n",
      "│ repulsive_train           │ 0.00323 │     nan │\n",
      "│ repulsive_weighted        │ 0.00055 │ 0.00000 │\n",
      "│ repulsive_weighted_train  │ 0.00065 │     nan │\n",
      "│ total                     │ 0.00276 │ 0.00001 │\n",
      "│ total_train               │ 0.00303 │     nan │\n",
      "└───────────────────────────┴─────────┴─────────┘\n",
      "\n"
     ]
    },
    {
     "data": {
      "application/vnd.jupyter.widget-view+json": {
       "model_id": "",
       "version_major": 2,
       "version_minor": 0
      },
      "text/plain": [
       "Validation: 0it [00:00, ?it/s]"
      ]
     },
     "metadata": {},
     "output_type": "display_data"
    },
    {
     "data": {
      "text/html": [
       "<pre style=\"white-space:pre;overflow-x:auto;line-height:normal;font-family:Menlo,'DejaVu Sans Mono',consolas,'Courier New',monospace\"></pre>\n"
      ],
      "text/plain": []
     },
     "metadata": {},
     "output_type": "display_data"
    },
    {
     "name": "stdout",
     "output_type": "stream",
     "text": [
      "\u001b[3m               Validation epoch=9                \u001b[0m\n",
      "┏━━━━━━━━━━━━━━━━━━━━━━━━━━━┳━━━━━━━━━┳━━━━━━━━━┓\n",
      "┃\u001b[1m \u001b[0m\u001b[1mMetric                   \u001b[0m\u001b[1m \u001b[0m┃\u001b[1m \u001b[0m\u001b[1m  Value\u001b[0m\u001b[1m \u001b[0m┃\u001b[1m \u001b[0m\u001b[1m  Error\u001b[0m\u001b[1m \u001b[0m┃\n",
      "┡━━━━━━━━━━━━━━━━━━━━━━━━━━━╇━━━━━━━━━╇━━━━━━━━━┩\n",
      "│ attractive                │ 0.00207 │ 0.00000 │\n",
      "│ attractive_train          │ 0.00226 │     nan │\n",
      "│ attractive_weighted       │ 0.00207 │ 0.00000 │\n",
      "│ attractive_weighted_train │ 0.00226 │     nan │\n",
      "│ repulsive                 │ 0.00275 │ 0.00001 │\n",
      "│ repulsive_train           │ 0.00304 │     nan │\n",
      "│ repulsive_weighted        │ 0.00055 │ 0.00000 │\n",
      "│ repulsive_weighted_train  │ 0.00061 │     nan │\n",
      "│ total                     │ 0.00262 │ 0.00001 │\n",
      "│ total_train               │ 0.00286 │     nan │\n",
      "└───────────────────────────┴─────────┴─────────┘\n",
      "\n"
     ]
    },
    {
     "data": {
      "application/vnd.jupyter.widget-view+json": {
       "model_id": "",
       "version_major": 2,
       "version_minor": 0
      },
      "text/plain": [
       "Validation: 0it [00:00, ?it/s]"
      ]
     },
     "metadata": {},
     "output_type": "display_data"
    },
    {
     "data": {
      "text/html": [
       "<pre style=\"white-space:pre;overflow-x:auto;line-height:normal;font-family:Menlo,'DejaVu Sans Mono',consolas,'Courier New',monospace\"></pre>\n"
      ],
      "text/plain": []
     },
     "metadata": {},
     "output_type": "display_data"
    },
    {
     "name": "stdout",
     "output_type": "stream",
     "text": [
      "\u001b[3m               Validation epoch=10               \u001b[0m\n",
      "┏━━━━━━━━━━━━━━━━━━━━━━━━━━━┳━━━━━━━━━┳━━━━━━━━━┓\n",
      "┃\u001b[1m \u001b[0m\u001b[1mMetric                   \u001b[0m\u001b[1m \u001b[0m┃\u001b[1m \u001b[0m\u001b[1m  Value\u001b[0m\u001b[1m \u001b[0m┃\u001b[1m \u001b[0m\u001b[1m  Error\u001b[0m\u001b[1m \u001b[0m┃\n",
      "┡━━━━━━━━━━━━━━━━━━━━━━━━━━━╇━━━━━━━━━╇━━━━━━━━━┩\n",
      "│ attractive                │ 0.00197 │ 0.00000 │\n",
      "│ attractive_train          │ 0.00217 │     nan │\n",
      "│ attractive_weighted       │ 0.00197 │ 0.00000 │\n",
      "│ attractive_weighted_train │ 0.00217 │     nan │\n",
      "│ repulsive                 │ 0.00285 │ 0.00001 │\n",
      "│ repulsive_train           │ 0.00291 │     nan │\n",
      "│ repulsive_weighted        │ 0.00057 │ 0.00000 │\n",
      "│ repulsive_weighted_train  │ 0.00058 │     nan │\n",
      "│ total                     │ 0.00254 │ 0.00000 │\n",
      "│ total_train               │ 0.00275 │     nan │\n",
      "└───────────────────────────┴─────────┴─────────┘\n",
      "\n"
     ]
    },
    {
     "data": {
      "application/vnd.jupyter.widget-view+json": {
       "model_id": "",
       "version_major": 2,
       "version_minor": 0
      },
      "text/plain": [
       "Validation: 0it [00:00, ?it/s]"
      ]
     },
     "metadata": {},
     "output_type": "display_data"
    },
    {
     "data": {
      "text/html": [
       "<pre style=\"white-space:pre;overflow-x:auto;line-height:normal;font-family:Menlo,'DejaVu Sans Mono',consolas,'Courier New',monospace\"></pre>\n"
      ],
      "text/plain": []
     },
     "metadata": {},
     "output_type": "display_data"
    },
    {
     "name": "stdout",
     "output_type": "stream",
     "text": [
      "\u001b[3m               Validation epoch=11               \u001b[0m\n",
      "┏━━━━━━━━━━━━━━━━━━━━━━━━━━━┳━━━━━━━━━┳━━━━━━━━━┓\n",
      "┃\u001b[1m \u001b[0m\u001b[1mMetric                   \u001b[0m\u001b[1m \u001b[0m┃\u001b[1m \u001b[0m\u001b[1m  Value\u001b[0m\u001b[1m \u001b[0m┃\u001b[1m \u001b[0m\u001b[1m  Error\u001b[0m\u001b[1m \u001b[0m┃\n",
      "┡━━━━━━━━━━━━━━━━━━━━━━━━━━━╇━━━━━━━━━╇━━━━━━━━━┩\n",
      "│ attractive                │ 0.00196 │ 0.00000 │\n",
      "│ attractive_train          │ 0.00209 │     nan │\n",
      "│ attractive_weighted       │ 0.00196 │ 0.00000 │\n",
      "│ attractive_weighted_train │ 0.00209 │     nan │\n",
      "│ repulsive                 │ 0.00266 │ 0.00001 │\n",
      "│ repulsive_train           │ 0.00283 │     nan │\n",
      "│ repulsive_weighted        │ 0.00053 │ 0.00000 │\n",
      "│ repulsive_weighted_train  │ 0.00057 │     nan │\n",
      "│ total                     │ 0.00249 │ 0.00000 │\n",
      "│ total_train               │ 0.00266 │     nan │\n",
      "└───────────────────────────┴─────────┴─────────┘\n",
      "\n"
     ]
    },
    {
     "data": {
      "application/vnd.jupyter.widget-view+json": {
       "model_id": "",
       "version_major": 2,
       "version_minor": 0
      },
      "text/plain": [
       "Validation: 0it [00:00, ?it/s]"
      ]
     },
     "metadata": {},
     "output_type": "display_data"
    },
    {
     "data": {
      "text/html": [
       "<pre style=\"white-space:pre;overflow-x:auto;line-height:normal;font-family:Menlo,'DejaVu Sans Mono',consolas,'Courier New',monospace\"></pre>\n"
      ],
      "text/plain": []
     },
     "metadata": {},
     "output_type": "display_data"
    },
    {
     "name": "stdout",
     "output_type": "stream",
     "text": [
      "\u001b[3m               Validation epoch=12               \u001b[0m\n",
      "┏━━━━━━━━━━━━━━━━━━━━━━━━━━━┳━━━━━━━━━┳━━━━━━━━━┓\n",
      "┃\u001b[1m \u001b[0m\u001b[1mMetric                   \u001b[0m\u001b[1m \u001b[0m┃\u001b[1m \u001b[0m\u001b[1m  Value\u001b[0m\u001b[1m \u001b[0m┃\u001b[1m \u001b[0m\u001b[1m  Error\u001b[0m\u001b[1m \u001b[0m┃\n",
      "┡━━━━━━━━━━━━━━━━━━━━━━━━━━━╇━━━━━━━━━╇━━━━━━━━━┩\n",
      "│ attractive                │ 0.00179 │ 0.00000 │\n",
      "│ attractive_train          │ 0.00200 │     nan │\n",
      "│ attractive_weighted       │ 0.00179 │ 0.00000 │\n",
      "│ attractive_weighted_train │ 0.00200 │     nan │\n",
      "│ repulsive                 │ 0.00248 │ 0.00001 │\n",
      "│ repulsive_train           │ 0.00272 │     nan │\n",
      "│ repulsive_weighted        │ 0.00050 │ 0.00000 │\n",
      "│ repulsive_weighted_train  │ 0.00054 │     nan │\n",
      "│ total                     │ 0.00229 │ 0.00000 │\n",
      "│ total_train               │ 0.00254 │     nan │\n",
      "└───────────────────────────┴─────────┴─────────┘\n",
      "\n"
     ]
    },
    {
     "data": {
      "application/vnd.jupyter.widget-view+json": {
       "model_id": "",
       "version_major": 2,
       "version_minor": 0
      },
      "text/plain": [
       "Validation: 0it [00:00, ?it/s]"
      ]
     },
     "metadata": {},
     "output_type": "display_data"
    },
    {
     "data": {
      "text/html": [
       "<pre style=\"white-space:pre;overflow-x:auto;line-height:normal;font-family:Menlo,'DejaVu Sans Mono',consolas,'Courier New',monospace\"></pre>\n"
      ],
      "text/plain": []
     },
     "metadata": {},
     "output_type": "display_data"
    },
    {
     "name": "stdout",
     "output_type": "stream",
     "text": [
      "\u001b[3m               Validation epoch=13               \u001b[0m\n",
      "┏━━━━━━━━━━━━━━━━━━━━━━━━━━━┳━━━━━━━━━┳━━━━━━━━━┓\n",
      "┃\u001b[1m \u001b[0m\u001b[1mMetric                   \u001b[0m\u001b[1m \u001b[0m┃\u001b[1m \u001b[0m\u001b[1m  Value\u001b[0m\u001b[1m \u001b[0m┃\u001b[1m \u001b[0m\u001b[1m  Error\u001b[0m\u001b[1m \u001b[0m┃\n",
      "┡━━━━━━━━━━━━━━━━━━━━━━━━━━━╇━━━━━━━━━╇━━━━━━━━━┩\n",
      "│ attractive                │ 0.00175 │ 0.00000 │\n",
      "│ attractive_train          │ 0.00190 │     nan │\n",
      "│ attractive_weighted       │ 0.00175 │ 0.00000 │\n",
      "│ attractive_weighted_train │ 0.00190 │     nan │\n",
      "│ repulsive                 │ 0.00264 │ 0.00001 │\n",
      "│ repulsive_train           │ 0.00263 │     nan │\n",
      "│ repulsive_weighted        │ 0.00053 │ 0.00000 │\n",
      "│ repulsive_weighted_train  │ 0.00053 │     nan │\n",
      "│ total                     │ 0.00228 │ 0.00000 │\n",
      "│ total_train               │ 0.00243 │     nan │\n",
      "└───────────────────────────┴─────────┴─────────┘\n",
      "\n"
     ]
    },
    {
     "data": {
      "application/vnd.jupyter.widget-view+json": {
       "model_id": "",
       "version_major": 2,
       "version_minor": 0
      },
      "text/plain": [
       "Validation: 0it [00:00, ?it/s]"
      ]
     },
     "metadata": {},
     "output_type": "display_data"
    },
    {
     "data": {
      "text/html": [
       "<pre style=\"white-space:pre;overflow-x:auto;line-height:normal;font-family:Menlo,'DejaVu Sans Mono',consolas,'Courier New',monospace\"></pre>\n"
      ],
      "text/plain": []
     },
     "metadata": {},
     "output_type": "display_data"
    },
    {
     "name": "stdout",
     "output_type": "stream",
     "text": [
      "\u001b[3m               Validation epoch=14               \u001b[0m\n",
      "┏━━━━━━━━━━━━━━━━━━━━━━━━━━━┳━━━━━━━━━┳━━━━━━━━━┓\n",
      "┃\u001b[1m \u001b[0m\u001b[1mMetric                   \u001b[0m\u001b[1m \u001b[0m┃\u001b[1m \u001b[0m\u001b[1m  Value\u001b[0m\u001b[1m \u001b[0m┃\u001b[1m \u001b[0m\u001b[1m  Error\u001b[0m\u001b[1m \u001b[0m┃\n",
      "┡━━━━━━━━━━━━━━━━━━━━━━━━━━━╇━━━━━━━━━╇━━━━━━━━━┩\n",
      "│ attractive                │ 0.00170 │ 0.00000 │\n",
      "│ attractive_train          │ 0.00183 │     nan │\n",
      "│ attractive_weighted       │ 0.00170 │ 0.00000 │\n",
      "│ attractive_weighted_train │ 0.00183 │     nan │\n",
      "│ repulsive                 │ 0.00268 │ 0.00001 │\n",
      "│ repulsive_train           │ 0.00259 │     nan │\n",
      "│ repulsive_weighted        │ 0.00054 │ 0.00000 │\n",
      "│ repulsive_weighted_train  │ 0.00052 │     nan │\n",
      "│ total                     │ 0.00223 │ 0.00000 │\n",
      "│ total_train               │ 0.00234 │     nan │\n",
      "└───────────────────────────┴─────────┴─────────┘\n",
      "\n"
     ]
    },
    {
     "data": {
      "application/vnd.jupyter.widget-view+json": {
       "model_id": "",
       "version_major": 2,
       "version_minor": 0
      },
      "text/plain": [
       "Validation: 0it [00:00, ?it/s]"
      ]
     },
     "metadata": {},
     "output_type": "display_data"
    },
    {
     "data": {
      "text/html": [
       "<pre style=\"white-space:pre;overflow-x:auto;line-height:normal;font-family:Menlo,'DejaVu Sans Mono',consolas,'Courier New',monospace\"></pre>\n"
      ],
      "text/plain": []
     },
     "metadata": {},
     "output_type": "display_data"
    },
    {
     "name": "stdout",
     "output_type": "stream",
     "text": [
      "\u001b[3m               Validation epoch=15               \u001b[0m\n",
      "┏━━━━━━━━━━━━━━━━━━━━━━━━━━━┳━━━━━━━━━┳━━━━━━━━━┓\n",
      "┃\u001b[1m \u001b[0m\u001b[1mMetric                   \u001b[0m\u001b[1m \u001b[0m┃\u001b[1m \u001b[0m\u001b[1m  Value\u001b[0m\u001b[1m \u001b[0m┃\u001b[1m \u001b[0m\u001b[1m  Error\u001b[0m\u001b[1m \u001b[0m┃\n",
      "┡━━━━━━━━━━━━━━━━━━━━━━━━━━━╇━━━━━━━━━╇━━━━━━━━━┩\n",
      "│ attractive                │ 0.00175 │ 0.00000 │\n",
      "│ attractive_train          │ 0.00177 │     nan │\n",
      "│ attractive_weighted       │ 0.00175 │ 0.00000 │\n",
      "│ attractive_weighted_train │ 0.00177 │     nan │\n",
      "│ repulsive                 │ 0.00255 │ 0.00001 │\n",
      "│ repulsive_train           │ 0.00256 │     nan │\n",
      "│ repulsive_weighted        │ 0.00051 │ 0.00000 │\n",
      "│ repulsive_weighted_train  │ 0.00051 │     nan │\n",
      "│ total                     │ 0.00226 │ 0.00000 │\n",
      "│ total_train               │ 0.00228 │     nan │\n",
      "└───────────────────────────┴─────────┴─────────┘\n",
      "\n"
     ]
    },
    {
     "data": {
      "application/vnd.jupyter.widget-view+json": {
       "model_id": "",
       "version_major": 2,
       "version_minor": 0
      },
      "text/plain": [
       "Validation: 0it [00:00, ?it/s]"
      ]
     },
     "metadata": {},
     "output_type": "display_data"
    },
    {
     "data": {
      "text/html": [
       "<pre style=\"white-space:pre;overflow-x:auto;line-height:normal;font-family:Menlo,'DejaVu Sans Mono',consolas,'Courier New',monospace\"></pre>\n"
      ],
      "text/plain": []
     },
     "metadata": {},
     "output_type": "display_data"
    },
    {
     "name": "stdout",
     "output_type": "stream",
     "text": [
      "\u001b[3m               Validation epoch=16               \u001b[0m\n",
      "┏━━━━━━━━━━━━━━━━━━━━━━━━━━━┳━━━━━━━━━┳━━━━━━━━━┓\n",
      "┃\u001b[1m \u001b[0m\u001b[1mMetric                   \u001b[0m\u001b[1m \u001b[0m┃\u001b[1m \u001b[0m\u001b[1m  Value\u001b[0m\u001b[1m \u001b[0m┃\u001b[1m \u001b[0m\u001b[1m  Error\u001b[0m\u001b[1m \u001b[0m┃\n",
      "┡━━━━━━━━━━━━━━━━━━━━━━━━━━━╇━━━━━━━━━╇━━━━━━━━━┩\n",
      "│ attractive                │ 0.00159 │ 0.00000 │\n",
      "│ attractive_train          │ 0.00171 │     nan │\n",
      "│ attractive_weighted       │ 0.00159 │ 0.00000 │\n",
      "│ attractive_weighted_train │ 0.00171 │     nan │\n",
      "│ repulsive                 │ 0.00262 │ 0.00001 │\n",
      "│ repulsive_train           │ 0.00253 │     nan │\n",
      "│ repulsive_weighted        │ 0.00052 │ 0.00000 │\n",
      "│ repulsive_weighted_train  │ 0.00051 │     nan │\n",
      "│ total                     │ 0.00211 │ 0.00000 │\n",
      "│ total_train               │ 0.00222 │     nan │\n",
      "└───────────────────────────┴─────────┴─────────┘\n",
      "\n"
     ]
    },
    {
     "data": {
      "application/vnd.jupyter.widget-view+json": {
       "model_id": "",
       "version_major": 2,
       "version_minor": 0
      },
      "text/plain": [
       "Validation: 0it [00:00, ?it/s]"
      ]
     },
     "metadata": {},
     "output_type": "display_data"
    },
    {
     "data": {
      "text/html": [
       "<pre style=\"white-space:pre;overflow-x:auto;line-height:normal;font-family:Menlo,'DejaVu Sans Mono',consolas,'Courier New',monospace\"></pre>\n"
      ],
      "text/plain": []
     },
     "metadata": {},
     "output_type": "display_data"
    },
    {
     "name": "stdout",
     "output_type": "stream",
     "text": [
      "\u001b[3m               Validation epoch=17               \u001b[0m\n",
      "┏━━━━━━━━━━━━━━━━━━━━━━━━━━━┳━━━━━━━━━┳━━━━━━━━━┓\n",
      "┃\u001b[1m \u001b[0m\u001b[1mMetric                   \u001b[0m\u001b[1m \u001b[0m┃\u001b[1m \u001b[0m\u001b[1m  Value\u001b[0m\u001b[1m \u001b[0m┃\u001b[1m \u001b[0m\u001b[1m  Error\u001b[0m\u001b[1m \u001b[0m┃\n",
      "┡━━━━━━━━━━━━━━━━━━━━━━━━━━━╇━━━━━━━━━╇━━━━━━━━━┩\n",
      "│ attractive                │ 0.00155 │ 0.00000 │\n",
      "│ attractive_train          │ 0.00167 │     nan │\n",
      "│ attractive_weighted       │ 0.00155 │ 0.00000 │\n",
      "│ attractive_weighted_train │ 0.00167 │     nan │\n",
      "│ repulsive                 │ 0.00253 │ 0.00001 │\n",
      "│ repulsive_train           │ 0.00252 │     nan │\n",
      "│ repulsive_weighted        │ 0.00051 │ 0.00000 │\n",
      "│ repulsive_weighted_train  │ 0.00050 │     nan │\n",
      "│ total                     │ 0.00206 │ 0.00000 │\n",
      "│ total_train               │ 0.00218 │     nan │\n",
      "└───────────────────────────┴─────────┴─────────┘\n",
      "\n"
     ]
    },
    {
     "data": {
      "application/vnd.jupyter.widget-view+json": {
       "model_id": "",
       "version_major": 2,
       "version_minor": 0
      },
      "text/plain": [
       "Validation: 0it [00:00, ?it/s]"
      ]
     },
     "metadata": {},
     "output_type": "display_data"
    },
    {
     "data": {
      "text/html": [
       "<pre style=\"white-space:pre;overflow-x:auto;line-height:normal;font-family:Menlo,'DejaVu Sans Mono',consolas,'Courier New',monospace\"></pre>\n"
      ],
      "text/plain": []
     },
     "metadata": {},
     "output_type": "display_data"
    },
    {
     "name": "stdout",
     "output_type": "stream",
     "text": [
      "\u001b[3m               Validation epoch=18               \u001b[0m\n",
      "┏━━━━━━━━━━━━━━━━━━━━━━━━━━━┳━━━━━━━━━┳━━━━━━━━━┓\n",
      "┃\u001b[1m \u001b[0m\u001b[1mMetric                   \u001b[0m\u001b[1m \u001b[0m┃\u001b[1m \u001b[0m\u001b[1m  Value\u001b[0m\u001b[1m \u001b[0m┃\u001b[1m \u001b[0m\u001b[1m  Error\u001b[0m\u001b[1m \u001b[0m┃\n",
      "┡━━━━━━━━━━━━━━━━━━━━━━━━━━━╇━━━━━━━━━╇━━━━━━━━━┩\n",
      "│ attractive                │ 0.00152 │ 0.00000 │\n",
      "│ attractive_train          │ 0.00164 │     nan │\n",
      "│ attractive_weighted       │ 0.00152 │ 0.00000 │\n",
      "│ attractive_weighted_train │ 0.00164 │     nan │\n",
      "│ repulsive                 │ 0.00232 │ 0.00001 │\n",
      "│ repulsive_train           │ 0.00251 │     nan │\n",
      "│ repulsive_weighted        │ 0.00046 │ 0.00000 │\n",
      "│ repulsive_weighted_train  │ 0.00050 │     nan │\n",
      "│ total                     │ 0.00198 │ 0.00000 │\n",
      "│ total_train               │ 0.00214 │     nan │\n",
      "└───────────────────────────┴─────────┴─────────┘\n",
      "\n"
     ]
    },
    {
     "data": {
      "application/vnd.jupyter.widget-view+json": {
       "model_id": "",
       "version_major": 2,
       "version_minor": 0
      },
      "text/plain": [
       "Validation: 0it [00:00, ?it/s]"
      ]
     },
     "metadata": {},
     "output_type": "display_data"
    },
    {
     "data": {
      "text/html": [
       "<pre style=\"white-space:pre;overflow-x:auto;line-height:normal;font-family:Menlo,'DejaVu Sans Mono',consolas,'Courier New',monospace\"></pre>\n"
      ],
      "text/plain": []
     },
     "metadata": {},
     "output_type": "display_data"
    },
    {
     "name": "stdout",
     "output_type": "stream",
     "text": [
      "\u001b[3m               Validation epoch=19               \u001b[0m\n",
      "┏━━━━━━━━━━━━━━━━━━━━━━━━━━━┳━━━━━━━━━┳━━━━━━━━━┓\n",
      "┃\u001b[1m \u001b[0m\u001b[1mMetric                   \u001b[0m\u001b[1m \u001b[0m┃\u001b[1m \u001b[0m\u001b[1m  Value\u001b[0m\u001b[1m \u001b[0m┃\u001b[1m \u001b[0m\u001b[1m  Error\u001b[0m\u001b[1m \u001b[0m┃\n",
      "┡━━━━━━━━━━━━━━━━━━━━━━━━━━━╇━━━━━━━━━╇━━━━━━━━━┩\n",
      "│ attractive                │ 0.00157 │ 0.00000 │\n",
      "│ attractive_train          │ 0.00161 │     nan │\n",
      "│ attractive_weighted       │ 0.00157 │ 0.00000 │\n",
      "│ attractive_weighted_train │ 0.00161 │     nan │\n",
      "│ repulsive                 │ 0.00254 │ 0.00001 │\n",
      "│ repulsive_train           │ 0.00249 │     nan │\n",
      "│ repulsive_weighted        │ 0.00051 │ 0.00000 │\n",
      "│ repulsive_weighted_train  │ 0.00050 │     nan │\n",
      "│ total                     │ 0.00208 │ 0.00000 │\n",
      "│ total_train               │ 0.00211 │     nan │\n",
      "└───────────────────────────┴─────────┴─────────┘\n",
      "\n"
     ]
    },
    {
     "data": {
      "application/vnd.jupyter.widget-view+json": {
       "model_id": "",
       "version_major": 2,
       "version_minor": 0
      },
      "text/plain": [
       "Validation: 0it [00:00, ?it/s]"
      ]
     },
     "metadata": {},
     "output_type": "display_data"
    },
    {
     "data": {
      "text/html": [
       "<pre style=\"white-space:pre;overflow-x:auto;line-height:normal;font-family:Menlo,'DejaVu Sans Mono',consolas,'Courier New',monospace\"></pre>\n"
      ],
      "text/plain": []
     },
     "metadata": {},
     "output_type": "display_data"
    },
    {
     "name": "stdout",
     "output_type": "stream",
     "text": [
      "\u001b[3m               Validation epoch=20               \u001b[0m\n",
      "┏━━━━━━━━━━━━━━━━━━━━━━━━━━━┳━━━━━━━━━┳━━━━━━━━━┓\n",
      "┃\u001b[1m \u001b[0m\u001b[1mMetric                   \u001b[0m\u001b[1m \u001b[0m┃\u001b[1m \u001b[0m\u001b[1m  Value\u001b[0m\u001b[1m \u001b[0m┃\u001b[1m \u001b[0m\u001b[1m  Error\u001b[0m\u001b[1m \u001b[0m┃\n",
      "┡━━━━━━━━━━━━━━━━━━━━━━━━━━━╇━━━━━━━━━╇━━━━━━━━━┩\n",
      "│ attractive                │ 0.00162 │ 0.00000 │\n",
      "│ attractive_train          │ 0.00157 │     nan │\n",
      "│ attractive_weighted       │ 0.00162 │ 0.00000 │\n",
      "│ attractive_weighted_train │ 0.00157 │     nan │\n",
      "│ repulsive                 │ 0.00247 │ 0.00001 │\n",
      "│ repulsive_train           │ 0.00248 │     nan │\n",
      "│ repulsive_weighted        │ 0.00049 │ 0.00000 │\n",
      "│ repulsive_weighted_train  │ 0.00050 │     nan │\n",
      "│ total                     │ 0.00211 │ 0.00000 │\n",
      "│ total_train               │ 0.00207 │     nan │\n",
      "└───────────────────────────┴─────────┴─────────┘\n",
      "\n"
     ]
    },
    {
     "data": {
      "application/vnd.jupyter.widget-view+json": {
       "model_id": "",
       "version_major": 2,
       "version_minor": 0
      },
      "text/plain": [
       "Validation: 0it [00:00, ?it/s]"
      ]
     },
     "metadata": {},
     "output_type": "display_data"
    },
    {
     "data": {
      "text/html": [
       "<pre style=\"white-space:pre;overflow-x:auto;line-height:normal;font-family:Menlo,'DejaVu Sans Mono',consolas,'Courier New',monospace\"></pre>\n"
      ],
      "text/plain": []
     },
     "metadata": {},
     "output_type": "display_data"
    },
    {
     "name": "stdout",
     "output_type": "stream",
     "text": [
      "\u001b[3m               Validation epoch=21               \u001b[0m\n",
      "┏━━━━━━━━━━━━━━━━━━━━━━━━━━━┳━━━━━━━━━┳━━━━━━━━━┓\n",
      "┃\u001b[1m \u001b[0m\u001b[1mMetric                   \u001b[0m\u001b[1m \u001b[0m┃\u001b[1m \u001b[0m\u001b[1m  Value\u001b[0m\u001b[1m \u001b[0m┃\u001b[1m \u001b[0m\u001b[1m  Error\u001b[0m\u001b[1m \u001b[0m┃\n",
      "┡━━━━━━━━━━━━━━━━━━━━━━━━━━━╇━━━━━━━━━╇━━━━━━━━━┩\n",
      "│ attractive                │ 0.00154 │ 0.00000 │\n",
      "│ attractive_train          │ 0.00156 │     nan │\n",
      "│ attractive_weighted       │ 0.00154 │ 0.00000 │\n",
      "│ attractive_weighted_train │ 0.00156 │     nan │\n",
      "│ repulsive                 │ 0.00242 │ 0.00001 │\n",
      "│ repulsive_train           │ 0.00247 │     nan │\n",
      "│ repulsive_weighted        │ 0.00048 │ 0.00000 │\n",
      "│ repulsive_weighted_train  │ 0.00049 │     nan │\n",
      "│ total                     │ 0.00202 │ 0.00000 │\n",
      "│ total_train               │ 0.00205 │     nan │\n",
      "└───────────────────────────┴─────────┴─────────┘\n",
      "\n"
     ]
    },
    {
     "data": {
      "application/vnd.jupyter.widget-view+json": {
       "model_id": "",
       "version_major": 2,
       "version_minor": 0
      },
      "text/plain": [
       "Validation: 0it [00:00, ?it/s]"
      ]
     },
     "metadata": {},
     "output_type": "display_data"
    },
    {
     "data": {
      "text/html": [
       "<pre style=\"white-space:pre;overflow-x:auto;line-height:normal;font-family:Menlo,'DejaVu Sans Mono',consolas,'Courier New',monospace\"></pre>\n"
      ],
      "text/plain": []
     },
     "metadata": {},
     "output_type": "display_data"
    },
    {
     "name": "stdout",
     "output_type": "stream",
     "text": [
      "\u001b[3m               Validation epoch=22               \u001b[0m\n",
      "┏━━━━━━━━━━━━━━━━━━━━━━━━━━━┳━━━━━━━━━┳━━━━━━━━━┓\n",
      "┃\u001b[1m \u001b[0m\u001b[1mMetric                   \u001b[0m\u001b[1m \u001b[0m┃\u001b[1m \u001b[0m\u001b[1m  Value\u001b[0m\u001b[1m \u001b[0m┃\u001b[1m \u001b[0m\u001b[1m  Error\u001b[0m\u001b[1m \u001b[0m┃\n",
      "┡━━━━━━━━━━━━━━━━━━━━━━━━━━━╇━━━━━━━━━╇━━━━━━━━━┩\n",
      "│ attractive                │ 0.00158 │ 0.00000 │\n",
      "│ attractive_train          │ 0.00154 │     nan │\n",
      "│ attractive_weighted       │ 0.00158 │ 0.00000 │\n",
      "│ attractive_weighted_train │ 0.00154 │     nan │\n",
      "│ repulsive                 │ 0.00243 │ 0.00001 │\n",
      "│ repulsive_train           │ 0.00246 │     nan │\n",
      "│ repulsive_weighted        │ 0.00049 │ 0.00000 │\n",
      "│ repulsive_weighted_train  │ 0.00049 │     nan │\n",
      "│ total                     │ 0.00206 │ 0.00000 │\n",
      "│ total_train               │ 0.00203 │     nan │\n",
      "└───────────────────────────┴─────────┴─────────┘\n",
      "\n"
     ]
    },
    {
     "data": {
      "application/vnd.jupyter.widget-view+json": {
       "model_id": "",
       "version_major": 2,
       "version_minor": 0
      },
      "text/plain": [
       "Validation: 0it [00:00, ?it/s]"
      ]
     },
     "metadata": {},
     "output_type": "display_data"
    },
    {
     "data": {
      "text/html": [
       "<pre style=\"white-space:pre;overflow-x:auto;line-height:normal;font-family:Menlo,'DejaVu Sans Mono',consolas,'Courier New',monospace\"></pre>\n"
      ],
      "text/plain": []
     },
     "metadata": {},
     "output_type": "display_data"
    },
    {
     "name": "stdout",
     "output_type": "stream",
     "text": [
      "\u001b[3m               Validation epoch=23               \u001b[0m\n",
      "┏━━━━━━━━━━━━━━━━━━━━━━━━━━━┳━━━━━━━━━┳━━━━━━━━━┓\n",
      "┃\u001b[1m \u001b[0m\u001b[1mMetric                   \u001b[0m\u001b[1m \u001b[0m┃\u001b[1m \u001b[0m\u001b[1m  Value\u001b[0m\u001b[1m \u001b[0m┃\u001b[1m \u001b[0m\u001b[1m  Error\u001b[0m\u001b[1m \u001b[0m┃\n",
      "┡━━━━━━━━━━━━━━━━━━━━━━━━━━━╇━━━━━━━━━╇━━━━━━━━━┩\n",
      "│ attractive                │ 0.00155 │ 0.00000 │\n",
      "│ attractive_train          │ 0.00152 │     nan │\n",
      "│ attractive_weighted       │ 0.00155 │ 0.00000 │\n",
      "│ attractive_weighted_train │ 0.00152 │     nan │\n",
      "│ repulsive                 │ 0.00228 │ 0.00001 │\n",
      "│ repulsive_train           │ 0.00245 │     nan │\n",
      "│ repulsive_weighted        │ 0.00046 │ 0.00000 │\n",
      "│ repulsive_weighted_train  │ 0.00049 │     nan │\n",
      "│ total                     │ 0.00200 │ 0.00000 │\n",
      "│ total_train               │ 0.00201 │     nan │\n",
      "└───────────────────────────┴─────────┴─────────┘\n",
      "\n"
     ]
    },
    {
     "data": {
      "application/vnd.jupyter.widget-view+json": {
       "model_id": "",
       "version_major": 2,
       "version_minor": 0
      },
      "text/plain": [
       "Validation: 0it [00:00, ?it/s]"
      ]
     },
     "metadata": {},
     "output_type": "display_data"
    },
    {
     "data": {
      "text/html": [
       "<pre style=\"white-space:pre;overflow-x:auto;line-height:normal;font-family:Menlo,'DejaVu Sans Mono',consolas,'Courier New',monospace\"></pre>\n"
      ],
      "text/plain": []
     },
     "metadata": {},
     "output_type": "display_data"
    },
    {
     "name": "stderr",
     "output_type": "stream",
     "text": [
      "`Trainer.fit` stopped: `max_epochs=24` reached.\n"
     ]
    },
    {
     "name": "stdout",
     "output_type": "stream",
     "text": [
      "\u001b[3m               Validation epoch=24               \u001b[0m\n",
      "┏━━━━━━━━━━━━━━━━━━━━━━━━━━━┳━━━━━━━━━┳━━━━━━━━━┓\n",
      "┃\u001b[1m \u001b[0m\u001b[1mMetric                   \u001b[0m\u001b[1m \u001b[0m┃\u001b[1m \u001b[0m\u001b[1m  Value\u001b[0m\u001b[1m \u001b[0m┃\u001b[1m \u001b[0m\u001b[1m  Error\u001b[0m\u001b[1m \u001b[0m┃\n",
      "┡━━━━━━━━━━━━━━━━━━━━━━━━━━━╇━━━━━━━━━╇━━━━━━━━━┩\n",
      "│ attractive                │ 0.00163 │ 0.00000 │\n",
      "│ attractive_train          │ 0.00149 │     nan │\n",
      "│ attractive_weighted       │ 0.00163 │ 0.00000 │\n",
      "│ attractive_weighted_train │ 0.00149 │     nan │\n",
      "│ repulsive                 │ 0.00240 │ 0.00001 │\n",
      "│ repulsive_train           │ 0.00244 │     nan │\n",
      "│ repulsive_weighted        │ 0.00048 │ 0.00000 │\n",
      "│ repulsive_weighted_train  │ 0.00049 │     nan │\n",
      "│ total                     │ 0.00211 │ 0.00000 │\n",
      "│ total_train               │ 0.00198 │     nan │\n",
      "└───────────────────────────┴─────────┴─────────┘\n",
      "\n"
     ]
    }
   ],
   "source": [
    "train_loss_history, loss_history = train_model(weight_repulsive=0.2, dm=dm, max_epochs=24)"
   ]
  },
  {
   "cell_type": "code",
   "execution_count": 17,
   "id": "484603b7",
   "metadata": {},
   "outputs": [
    {
     "data": {
      "text/html": [
       "<div>\n",
       "<style scoped>\n",
       "    .dataframe tbody tr th:only-of-type {\n",
       "        vertical-align: middle;\n",
       "    }\n",
       "\n",
       "    .dataframe tbody tr th {\n",
       "        vertical-align: top;\n",
       "    }\n",
       "\n",
       "    .dataframe thead th {\n",
       "        text-align: right;\n",
       "    }\n",
       "</style>\n",
       "<table border=\"1\" class=\"dataframe\">\n",
       "  <thead>\n",
       "    <tr style=\"text-align: right;\">\n",
       "      <th></th>\n",
       "      <th>attractive</th>\n",
       "      <th>repulsive</th>\n",
       "      <th>attractive_weighted</th>\n",
       "      <th>repulsive_weighted</th>\n",
       "      <th>total</th>\n",
       "      <th>attractive_std</th>\n",
       "      <th>repulsive_std</th>\n",
       "      <th>attractive_weighted_std</th>\n",
       "      <th>repulsive_weighted_std</th>\n",
       "      <th>total_std</th>\n",
       "      <th>attractive_train</th>\n",
       "      <th>repulsive_train</th>\n",
       "      <th>attractive_weighted_train</th>\n",
       "      <th>repulsive_weighted_train</th>\n",
       "      <th>total_train</th>\n",
       "    </tr>\n",
       "  </thead>\n",
       "  <tbody>\n",
       "    <tr>\n",
       "      <th>0</th>\n",
       "      <td>0.003063</td>\n",
       "      <td>0.004249</td>\n",
       "      <td>0.003063</td>\n",
       "      <td>0.000850</td>\n",
       "      <td>0.003913</td>\n",
       "      <td>NaN</td>\n",
       "      <td>NaN</td>\n",
       "      <td>NaN</td>\n",
       "      <td>NaN</td>\n",
       "      <td>NaN</td>\n",
       "      <td>NaN</td>\n",
       "      <td>NaN</td>\n",
       "      <td>NaN</td>\n",
       "      <td>NaN</td>\n",
       "      <td>NaN</td>\n",
       "    </tr>\n",
       "    <tr>\n",
       "      <th>1</th>\n",
       "      <td>0.002621</td>\n",
       "      <td>0.003536</td>\n",
       "      <td>0.002621</td>\n",
       "      <td>0.000707</td>\n",
       "      <td>0.003328</td>\n",
       "      <td>0.000005</td>\n",
       "      <td>0.000020</td>\n",
       "      <td>0.000005</td>\n",
       "      <td>0.000004</td>\n",
       "      <td>0.000007</td>\n",
       "      <td>0.003777</td>\n",
       "      <td>0.005559</td>\n",
       "      <td>0.003777</td>\n",
       "      <td>0.001112</td>\n",
       "      <td>0.004889</td>\n",
       "    </tr>\n",
       "    <tr>\n",
       "      <th>2</th>\n",
       "      <td>0.002601</td>\n",
       "      <td>0.003338</td>\n",
       "      <td>0.002601</td>\n",
       "      <td>0.000668</td>\n",
       "      <td>0.003269</td>\n",
       "      <td>0.000005</td>\n",
       "      <td>0.000017</td>\n",
       "      <td>0.000005</td>\n",
       "      <td>0.000003</td>\n",
       "      <td>0.000006</td>\n",
       "      <td>0.002791</td>\n",
       "      <td>0.003804</td>\n",
       "      <td>0.002791</td>\n",
       "      <td>0.000761</td>\n",
       "      <td>0.003552</td>\n",
       "    </tr>\n",
       "    <tr>\n",
       "      <th>3</th>\n",
       "      <td>0.002460</td>\n",
       "      <td>0.003136</td>\n",
       "      <td>0.002460</td>\n",
       "      <td>0.000627</td>\n",
       "      <td>0.003087</td>\n",
       "      <td>0.000005</td>\n",
       "      <td>0.000016</td>\n",
       "      <td>0.000005</td>\n",
       "      <td>0.000003</td>\n",
       "      <td>0.000006</td>\n",
       "      <td>0.002554</td>\n",
       "      <td>0.003464</td>\n",
       "      <td>0.002554</td>\n",
       "      <td>0.000693</td>\n",
       "      <td>0.003247</td>\n",
       "    </tr>\n",
       "    <tr>\n",
       "      <th>4</th>\n",
       "      <td>0.002256</td>\n",
       "      <td>0.003074</td>\n",
       "      <td>0.002256</td>\n",
       "      <td>0.000615</td>\n",
       "      <td>0.002871</td>\n",
       "      <td>0.000005</td>\n",
       "      <td>0.000015</td>\n",
       "      <td>0.000005</td>\n",
       "      <td>0.000003</td>\n",
       "      <td>0.000006</td>\n",
       "      <td>0.002427</td>\n",
       "      <td>0.003279</td>\n",
       "      <td>0.002427</td>\n",
       "      <td>0.000656</td>\n",
       "      <td>0.003083</td>\n",
       "    </tr>\n",
       "    <tr>\n",
       "      <th>5</th>\n",
       "      <td>0.002458</td>\n",
       "      <td>0.003224</td>\n",
       "      <td>0.002458</td>\n",
       "      <td>0.000645</td>\n",
       "      <td>0.003103</td>\n",
       "      <td>0.000005</td>\n",
       "      <td>0.000015</td>\n",
       "      <td>0.000005</td>\n",
       "      <td>0.000003</td>\n",
       "      <td>0.000006</td>\n",
       "      <td>0.002346</td>\n",
       "      <td>0.003149</td>\n",
       "      <td>0.002346</td>\n",
       "      <td>0.000630</td>\n",
       "      <td>0.002976</td>\n",
       "    </tr>\n",
       "    <tr>\n",
       "      <th>6</th>\n",
       "      <td>0.002265</td>\n",
       "      <td>0.002993</td>\n",
       "      <td>0.002265</td>\n",
       "      <td>0.000599</td>\n",
       "      <td>0.002863</td>\n",
       "      <td>0.000005</td>\n",
       "      <td>0.000015</td>\n",
       "      <td>0.000005</td>\n",
       "      <td>0.000003</td>\n",
       "      <td>0.000006</td>\n",
       "      <td>0.002652</td>\n",
       "      <td>0.003660</td>\n",
       "      <td>0.002652</td>\n",
       "      <td>0.000732</td>\n",
       "      <td>0.003384</td>\n",
       "    </tr>\n",
       "    <tr>\n",
       "      <th>7</th>\n",
       "      <td>0.002205</td>\n",
       "      <td>0.002765</td>\n",
       "      <td>0.002205</td>\n",
       "      <td>0.000553</td>\n",
       "      <td>0.002758</td>\n",
       "      <td>0.000005</td>\n",
       "      <td>0.000014</td>\n",
       "      <td>0.000005</td>\n",
       "      <td>0.000003</td>\n",
       "      <td>0.000006</td>\n",
       "      <td>0.002380</td>\n",
       "      <td>0.003230</td>\n",
       "      <td>0.002380</td>\n",
       "      <td>0.000646</td>\n",
       "      <td>0.003026</td>\n",
       "    </tr>\n",
       "    <tr>\n",
       "      <th>8</th>\n",
       "      <td>0.002069</td>\n",
       "      <td>0.002746</td>\n",
       "      <td>0.002069</td>\n",
       "      <td>0.000549</td>\n",
       "      <td>0.002618</td>\n",
       "      <td>0.000004</td>\n",
       "      <td>0.000013</td>\n",
       "      <td>0.000004</td>\n",
       "      <td>0.000003</td>\n",
       "      <td>0.000005</td>\n",
       "      <td>0.002256</td>\n",
       "      <td>0.003037</td>\n",
       "      <td>0.002256</td>\n",
       "      <td>0.000607</td>\n",
       "      <td>0.002863</td>\n",
       "    </tr>\n",
       "    <tr>\n",
       "      <th>9</th>\n",
       "      <td>0.001974</td>\n",
       "      <td>0.002853</td>\n",
       "      <td>0.001974</td>\n",
       "      <td>0.000571</td>\n",
       "      <td>0.002545</td>\n",
       "      <td>0.000004</td>\n",
       "      <td>0.000013</td>\n",
       "      <td>0.000004</td>\n",
       "      <td>0.000003</td>\n",
       "      <td>0.000005</td>\n",
       "      <td>0.002167</td>\n",
       "      <td>0.002908</td>\n",
       "      <td>0.002167</td>\n",
       "      <td>0.000582</td>\n",
       "      <td>0.002748</td>\n",
       "    </tr>\n",
       "    <tr>\n",
       "      <th>10</th>\n",
       "      <td>0.001961</td>\n",
       "      <td>0.002657</td>\n",
       "      <td>0.001961</td>\n",
       "      <td>0.000531</td>\n",
       "      <td>0.002492</td>\n",
       "      <td>0.000003</td>\n",
       "      <td>0.000014</td>\n",
       "      <td>0.000003</td>\n",
       "      <td>0.000003</td>\n",
       "      <td>0.000005</td>\n",
       "      <td>0.002091</td>\n",
       "      <td>0.002825</td>\n",
       "      <td>0.002091</td>\n",
       "      <td>0.000565</td>\n",
       "      <td>0.002656</td>\n",
       "    </tr>\n",
       "    <tr>\n",
       "      <th>11</th>\n",
       "      <td>0.001791</td>\n",
       "      <td>0.002482</td>\n",
       "      <td>0.001791</td>\n",
       "      <td>0.000496</td>\n",
       "      <td>0.002287</td>\n",
       "      <td>0.000003</td>\n",
       "      <td>0.000013</td>\n",
       "      <td>0.000003</td>\n",
       "      <td>0.000003</td>\n",
       "      <td>0.000004</td>\n",
       "      <td>0.001997</td>\n",
       "      <td>0.002718</td>\n",
       "      <td>0.001997</td>\n",
       "      <td>0.000544</td>\n",
       "      <td>0.002540</td>\n",
       "    </tr>\n",
       "    <tr>\n",
       "      <th>12</th>\n",
       "      <td>0.001748</td>\n",
       "      <td>0.002644</td>\n",
       "      <td>0.001748</td>\n",
       "      <td>0.000529</td>\n",
       "      <td>0.002277</td>\n",
       "      <td>0.000002</td>\n",
       "      <td>0.000012</td>\n",
       "      <td>0.000002</td>\n",
       "      <td>0.000002</td>\n",
       "      <td>0.000004</td>\n",
       "      <td>0.001902</td>\n",
       "      <td>0.002626</td>\n",
       "      <td>0.001902</td>\n",
       "      <td>0.000525</td>\n",
       "      <td>0.002427</td>\n",
       "    </tr>\n",
       "    <tr>\n",
       "      <th>13</th>\n",
       "      <td>0.001698</td>\n",
       "      <td>0.002684</td>\n",
       "      <td>0.001698</td>\n",
       "      <td>0.000537</td>\n",
       "      <td>0.002235</td>\n",
       "      <td>0.000002</td>\n",
       "      <td>0.000013</td>\n",
       "      <td>0.000002</td>\n",
       "      <td>0.000003</td>\n",
       "      <td>0.000004</td>\n",
       "      <td>0.001827</td>\n",
       "      <td>0.002585</td>\n",
       "      <td>0.001827</td>\n",
       "      <td>0.000517</td>\n",
       "      <td>0.002344</td>\n",
       "    </tr>\n",
       "    <tr>\n",
       "      <th>14</th>\n",
       "      <td>0.001746</td>\n",
       "      <td>0.002546</td>\n",
       "      <td>0.001746</td>\n",
       "      <td>0.000509</td>\n",
       "      <td>0.002255</td>\n",
       "      <td>0.000002</td>\n",
       "      <td>0.000013</td>\n",
       "      <td>0.000002</td>\n",
       "      <td>0.000003</td>\n",
       "      <td>0.000004</td>\n",
       "      <td>0.001766</td>\n",
       "      <td>0.002558</td>\n",
       "      <td>0.001766</td>\n",
       "      <td>0.000512</td>\n",
       "      <td>0.002278</td>\n",
       "    </tr>\n",
       "    <tr>\n",
       "      <th>15</th>\n",
       "      <td>0.001590</td>\n",
       "      <td>0.002624</td>\n",
       "      <td>0.001590</td>\n",
       "      <td>0.000525</td>\n",
       "      <td>0.002115</td>\n",
       "      <td>0.000002</td>\n",
       "      <td>0.000012</td>\n",
       "      <td>0.000002</td>\n",
       "      <td>0.000002</td>\n",
       "      <td>0.000004</td>\n",
       "      <td>0.001712</td>\n",
       "      <td>0.002531</td>\n",
       "      <td>0.001712</td>\n",
       "      <td>0.000506</td>\n",
       "      <td>0.002218</td>\n",
       "    </tr>\n",
       "    <tr>\n",
       "      <th>16</th>\n",
       "      <td>0.001552</td>\n",
       "      <td>0.002535</td>\n",
       "      <td>0.001552</td>\n",
       "      <td>0.000507</td>\n",
       "      <td>0.002058</td>\n",
       "      <td>0.000002</td>\n",
       "      <td>0.000013</td>\n",
       "      <td>0.000002</td>\n",
       "      <td>0.000003</td>\n",
       "      <td>0.000004</td>\n",
       "      <td>0.001674</td>\n",
       "      <td>0.002525</td>\n",
       "      <td>0.001674</td>\n",
       "      <td>0.000505</td>\n",
       "      <td>0.002179</td>\n",
       "    </tr>\n",
       "    <tr>\n",
       "      <th>17</th>\n",
       "      <td>0.001520</td>\n",
       "      <td>0.002322</td>\n",
       "      <td>0.001520</td>\n",
       "      <td>0.000464</td>\n",
       "      <td>0.001985</td>\n",
       "      <td>0.000002</td>\n",
       "      <td>0.000012</td>\n",
       "      <td>0.000002</td>\n",
       "      <td>0.000002</td>\n",
       "      <td>0.000004</td>\n",
       "      <td>0.001636</td>\n",
       "      <td>0.002507</td>\n",
       "      <td>0.001636</td>\n",
       "      <td>0.000501</td>\n",
       "      <td>0.002138</td>\n",
       "    </tr>\n",
       "    <tr>\n",
       "      <th>18</th>\n",
       "      <td>0.001568</td>\n",
       "      <td>0.002536</td>\n",
       "      <td>0.001568</td>\n",
       "      <td>0.000507</td>\n",
       "      <td>0.002075</td>\n",
       "      <td>0.000002</td>\n",
       "      <td>0.000011</td>\n",
       "      <td>0.000002</td>\n",
       "      <td>0.000002</td>\n",
       "      <td>0.000003</td>\n",
       "      <td>0.001607</td>\n",
       "      <td>0.002494</td>\n",
       "      <td>0.001607</td>\n",
       "      <td>0.000499</td>\n",
       "      <td>0.002106</td>\n",
       "    </tr>\n",
       "    <tr>\n",
       "      <th>19</th>\n",
       "      <td>0.001617</td>\n",
       "      <td>0.002472</td>\n",
       "      <td>0.001617</td>\n",
       "      <td>0.000494</td>\n",
       "      <td>0.002111</td>\n",
       "      <td>0.000002</td>\n",
       "      <td>0.000012</td>\n",
       "      <td>0.000002</td>\n",
       "      <td>0.000002</td>\n",
       "      <td>0.000003</td>\n",
       "      <td>0.001574</td>\n",
       "      <td>0.002476</td>\n",
       "      <td>0.001574</td>\n",
       "      <td>0.000495</td>\n",
       "      <td>0.002070</td>\n",
       "    </tr>\n",
       "    <tr>\n",
       "      <th>20</th>\n",
       "      <td>0.001539</td>\n",
       "      <td>0.002421</td>\n",
       "      <td>0.001539</td>\n",
       "      <td>0.000484</td>\n",
       "      <td>0.002023</td>\n",
       "      <td>0.000002</td>\n",
       "      <td>0.000012</td>\n",
       "      <td>0.000002</td>\n",
       "      <td>0.000002</td>\n",
       "      <td>0.000003</td>\n",
       "      <td>0.001558</td>\n",
       "      <td>0.002473</td>\n",
       "      <td>0.001558</td>\n",
       "      <td>0.000495</td>\n",
       "      <td>0.002052</td>\n",
       "    </tr>\n",
       "    <tr>\n",
       "      <th>21</th>\n",
       "      <td>0.001576</td>\n",
       "      <td>0.002430</td>\n",
       "      <td>0.001576</td>\n",
       "      <td>0.000486</td>\n",
       "      <td>0.002062</td>\n",
       "      <td>0.000002</td>\n",
       "      <td>0.000012</td>\n",
       "      <td>0.000002</td>\n",
       "      <td>0.000002</td>\n",
       "      <td>0.000003</td>\n",
       "      <td>0.001536</td>\n",
       "      <td>0.002462</td>\n",
       "      <td>0.001536</td>\n",
       "      <td>0.000492</td>\n",
       "      <td>0.002028</td>\n",
       "    </tr>\n",
       "    <tr>\n",
       "      <th>22</th>\n",
       "      <td>0.001545</td>\n",
       "      <td>0.002277</td>\n",
       "      <td>0.001545</td>\n",
       "      <td>0.000455</td>\n",
       "      <td>0.002000</td>\n",
       "      <td>0.000002</td>\n",
       "      <td>0.000012</td>\n",
       "      <td>0.000002</td>\n",
       "      <td>0.000002</td>\n",
       "      <td>0.000003</td>\n",
       "      <td>0.001516</td>\n",
       "      <td>0.002452</td>\n",
       "      <td>0.001516</td>\n",
       "      <td>0.000490</td>\n",
       "      <td>0.002006</td>\n",
       "    </tr>\n",
       "    <tr>\n",
       "      <th>23</th>\n",
       "      <td>0.001628</td>\n",
       "      <td>0.002396</td>\n",
       "      <td>0.001628</td>\n",
       "      <td>0.000479</td>\n",
       "      <td>0.002107</td>\n",
       "      <td>0.000002</td>\n",
       "      <td>0.000011</td>\n",
       "      <td>0.000002</td>\n",
       "      <td>0.000002</td>\n",
       "      <td>0.000003</td>\n",
       "      <td>0.001494</td>\n",
       "      <td>0.002437</td>\n",
       "      <td>0.001494</td>\n",
       "      <td>0.000487</td>\n",
       "      <td>0.001982</td>\n",
       "    </tr>\n",
       "  </tbody>\n",
       "</table>\n",
       "</div>"
      ],
      "text/plain": [
       "    attractive  repulsive  attractive_weighted  repulsive_weighted     total  \\\n",
       "0     0.003063   0.004249             0.003063            0.000850  0.003913   \n",
       "1     0.002621   0.003536             0.002621            0.000707  0.003328   \n",
       "2     0.002601   0.003338             0.002601            0.000668  0.003269   \n",
       "3     0.002460   0.003136             0.002460            0.000627  0.003087   \n",
       "4     0.002256   0.003074             0.002256            0.000615  0.002871   \n",
       "5     0.002458   0.003224             0.002458            0.000645  0.003103   \n",
       "6     0.002265   0.002993             0.002265            0.000599  0.002863   \n",
       "7     0.002205   0.002765             0.002205            0.000553  0.002758   \n",
       "8     0.002069   0.002746             0.002069            0.000549  0.002618   \n",
       "9     0.001974   0.002853             0.001974            0.000571  0.002545   \n",
       "10    0.001961   0.002657             0.001961            0.000531  0.002492   \n",
       "11    0.001791   0.002482             0.001791            0.000496  0.002287   \n",
       "12    0.001748   0.002644             0.001748            0.000529  0.002277   \n",
       "13    0.001698   0.002684             0.001698            0.000537  0.002235   \n",
       "14    0.001746   0.002546             0.001746            0.000509  0.002255   \n",
       "15    0.001590   0.002624             0.001590            0.000525  0.002115   \n",
       "16    0.001552   0.002535             0.001552            0.000507  0.002058   \n",
       "17    0.001520   0.002322             0.001520            0.000464  0.001985   \n",
       "18    0.001568   0.002536             0.001568            0.000507  0.002075   \n",
       "19    0.001617   0.002472             0.001617            0.000494  0.002111   \n",
       "20    0.001539   0.002421             0.001539            0.000484  0.002023   \n",
       "21    0.001576   0.002430             0.001576            0.000486  0.002062   \n",
       "22    0.001545   0.002277             0.001545            0.000455  0.002000   \n",
       "23    0.001628   0.002396             0.001628            0.000479  0.002107   \n",
       "\n",
       "    attractive_std  repulsive_std  attractive_weighted_std  \\\n",
       "0              NaN            NaN                      NaN   \n",
       "1         0.000005       0.000020                 0.000005   \n",
       "2         0.000005       0.000017                 0.000005   \n",
       "3         0.000005       0.000016                 0.000005   \n",
       "4         0.000005       0.000015                 0.000005   \n",
       "5         0.000005       0.000015                 0.000005   \n",
       "6         0.000005       0.000015                 0.000005   \n",
       "7         0.000005       0.000014                 0.000005   \n",
       "8         0.000004       0.000013                 0.000004   \n",
       "9         0.000004       0.000013                 0.000004   \n",
       "10        0.000003       0.000014                 0.000003   \n",
       "11        0.000003       0.000013                 0.000003   \n",
       "12        0.000002       0.000012                 0.000002   \n",
       "13        0.000002       0.000013                 0.000002   \n",
       "14        0.000002       0.000013                 0.000002   \n",
       "15        0.000002       0.000012                 0.000002   \n",
       "16        0.000002       0.000013                 0.000002   \n",
       "17        0.000002       0.000012                 0.000002   \n",
       "18        0.000002       0.000011                 0.000002   \n",
       "19        0.000002       0.000012                 0.000002   \n",
       "20        0.000002       0.000012                 0.000002   \n",
       "21        0.000002       0.000012                 0.000002   \n",
       "22        0.000002       0.000012                 0.000002   \n",
       "23        0.000002       0.000011                 0.000002   \n",
       "\n",
       "    repulsive_weighted_std  total_std  attractive_train  repulsive_train  \\\n",
       "0                      NaN        NaN               NaN              NaN   \n",
       "1                 0.000004   0.000007          0.003777         0.005559   \n",
       "2                 0.000003   0.000006          0.002791         0.003804   \n",
       "3                 0.000003   0.000006          0.002554         0.003464   \n",
       "4                 0.000003   0.000006          0.002427         0.003279   \n",
       "5                 0.000003   0.000006          0.002346         0.003149   \n",
       "6                 0.000003   0.000006          0.002652         0.003660   \n",
       "7                 0.000003   0.000006          0.002380         0.003230   \n",
       "8                 0.000003   0.000005          0.002256         0.003037   \n",
       "9                 0.000003   0.000005          0.002167         0.002908   \n",
       "10                0.000003   0.000005          0.002091         0.002825   \n",
       "11                0.000003   0.000004          0.001997         0.002718   \n",
       "12                0.000002   0.000004          0.001902         0.002626   \n",
       "13                0.000003   0.000004          0.001827         0.002585   \n",
       "14                0.000003   0.000004          0.001766         0.002558   \n",
       "15                0.000002   0.000004          0.001712         0.002531   \n",
       "16                0.000003   0.000004          0.001674         0.002525   \n",
       "17                0.000002   0.000004          0.001636         0.002507   \n",
       "18                0.000002   0.000003          0.001607         0.002494   \n",
       "19                0.000002   0.000003          0.001574         0.002476   \n",
       "20                0.000002   0.000003          0.001558         0.002473   \n",
       "21                0.000002   0.000003          0.001536         0.002462   \n",
       "22                0.000002   0.000003          0.001516         0.002452   \n",
       "23                0.000002   0.000003          0.001494         0.002437   \n",
       "\n",
       "    attractive_weighted_train  repulsive_weighted_train  total_train  \n",
       "0                         NaN                       NaN          NaN  \n",
       "1                    0.003777                  0.001112     0.004889  \n",
       "2                    0.002791                  0.000761     0.003552  \n",
       "3                    0.002554                  0.000693     0.003247  \n",
       "4                    0.002427                  0.000656     0.003083  \n",
       "5                    0.002346                  0.000630     0.002976  \n",
       "6                    0.002652                  0.000732     0.003384  \n",
       "7                    0.002380                  0.000646     0.003026  \n",
       "8                    0.002256                  0.000607     0.002863  \n",
       "9                    0.002167                  0.000582     0.002748  \n",
       "10                   0.002091                  0.000565     0.002656  \n",
       "11                   0.001997                  0.000544     0.002540  \n",
       "12                   0.001902                  0.000525     0.002427  \n",
       "13                   0.001827                  0.000517     0.002344  \n",
       "14                   0.001766                  0.000512     0.002278  \n",
       "15                   0.001712                  0.000506     0.002218  \n",
       "16                   0.001674                  0.000505     0.002179  \n",
       "17                   0.001636                  0.000501     0.002138  \n",
       "18                   0.001607                  0.000499     0.002106  \n",
       "19                   0.001574                  0.000495     0.002070  \n",
       "20                   0.001558                  0.000495     0.002052  \n",
       "21                   0.001536                  0.000492     0.002028  \n",
       "22                   0.001516                  0.000490     0.002006  \n",
       "23                   0.001494                  0.000487     0.001982  "
      ]
     },
     "execution_count": 17,
     "metadata": {},
     "output_type": "execute_result"
    }
   ],
   "source": [
    "loss_history"
   ]
  },
  {
   "cell_type": "code",
   "execution_count": 18,
   "id": "356cfef6",
   "metadata": {},
   "outputs": [
    {
     "data": {
      "text/html": [
       "<div>\n",
       "<style scoped>\n",
       "    .dataframe tbody tr th:only-of-type {\n",
       "        vertical-align: middle;\n",
       "    }\n",
       "\n",
       "    .dataframe tbody tr th {\n",
       "        vertical-align: top;\n",
       "    }\n",
       "\n",
       "    .dataframe thead th {\n",
       "        text-align: right;\n",
       "    }\n",
       "</style>\n",
       "<table border=\"1\" class=\"dataframe\">\n",
       "  <thead>\n",
       "    <tr style=\"text-align: right;\">\n",
       "      <th></th>\n",
       "      <th>attractive_train</th>\n",
       "      <th>repulsive_train</th>\n",
       "      <th>attractive_weighted_train</th>\n",
       "      <th>repulsive_weighted_train</th>\n",
       "      <th>total_train</th>\n",
       "    </tr>\n",
       "  </thead>\n",
       "  <tbody>\n",
       "    <tr>\n",
       "      <th>0</th>\n",
       "      <td>0.003777</td>\n",
       "      <td>0.005559</td>\n",
       "      <td>0.003777</td>\n",
       "      <td>0.001112</td>\n",
       "      <td>0.004889</td>\n",
       "    </tr>\n",
       "    <tr>\n",
       "      <th>1</th>\n",
       "      <td>0.002791</td>\n",
       "      <td>0.003804</td>\n",
       "      <td>0.002791</td>\n",
       "      <td>0.000761</td>\n",
       "      <td>0.003552</td>\n",
       "    </tr>\n",
       "    <tr>\n",
       "      <th>2</th>\n",
       "      <td>0.002554</td>\n",
       "      <td>0.003464</td>\n",
       "      <td>0.002554</td>\n",
       "      <td>0.000693</td>\n",
       "      <td>0.003247</td>\n",
       "    </tr>\n",
       "    <tr>\n",
       "      <th>3</th>\n",
       "      <td>0.002427</td>\n",
       "      <td>0.003279</td>\n",
       "      <td>0.002427</td>\n",
       "      <td>0.000656</td>\n",
       "      <td>0.003083</td>\n",
       "    </tr>\n",
       "    <tr>\n",
       "      <th>4</th>\n",
       "      <td>0.002346</td>\n",
       "      <td>0.003149</td>\n",
       "      <td>0.002346</td>\n",
       "      <td>0.000630</td>\n",
       "      <td>0.002976</td>\n",
       "    </tr>\n",
       "    <tr>\n",
       "      <th>5</th>\n",
       "      <td>0.002652</td>\n",
       "      <td>0.003660</td>\n",
       "      <td>0.002652</td>\n",
       "      <td>0.000732</td>\n",
       "      <td>0.003384</td>\n",
       "    </tr>\n",
       "    <tr>\n",
       "      <th>6</th>\n",
       "      <td>0.002380</td>\n",
       "      <td>0.003230</td>\n",
       "      <td>0.002380</td>\n",
       "      <td>0.000646</td>\n",
       "      <td>0.003026</td>\n",
       "    </tr>\n",
       "    <tr>\n",
       "      <th>7</th>\n",
       "      <td>0.002256</td>\n",
       "      <td>0.003037</td>\n",
       "      <td>0.002256</td>\n",
       "      <td>0.000607</td>\n",
       "      <td>0.002863</td>\n",
       "    </tr>\n",
       "    <tr>\n",
       "      <th>8</th>\n",
       "      <td>0.002167</td>\n",
       "      <td>0.002908</td>\n",
       "      <td>0.002167</td>\n",
       "      <td>0.000582</td>\n",
       "      <td>0.002748</td>\n",
       "    </tr>\n",
       "    <tr>\n",
       "      <th>9</th>\n",
       "      <td>0.002091</td>\n",
       "      <td>0.002825</td>\n",
       "      <td>0.002091</td>\n",
       "      <td>0.000565</td>\n",
       "      <td>0.002656</td>\n",
       "    </tr>\n",
       "    <tr>\n",
       "      <th>10</th>\n",
       "      <td>0.001997</td>\n",
       "      <td>0.002718</td>\n",
       "      <td>0.001997</td>\n",
       "      <td>0.000544</td>\n",
       "      <td>0.002540</td>\n",
       "    </tr>\n",
       "    <tr>\n",
       "      <th>11</th>\n",
       "      <td>0.001902</td>\n",
       "      <td>0.002626</td>\n",
       "      <td>0.001902</td>\n",
       "      <td>0.000525</td>\n",
       "      <td>0.002427</td>\n",
       "    </tr>\n",
       "    <tr>\n",
       "      <th>12</th>\n",
       "      <td>0.001827</td>\n",
       "      <td>0.002585</td>\n",
       "      <td>0.001827</td>\n",
       "      <td>0.000517</td>\n",
       "      <td>0.002344</td>\n",
       "    </tr>\n",
       "    <tr>\n",
       "      <th>13</th>\n",
       "      <td>0.001766</td>\n",
       "      <td>0.002558</td>\n",
       "      <td>0.001766</td>\n",
       "      <td>0.000512</td>\n",
       "      <td>0.002278</td>\n",
       "    </tr>\n",
       "    <tr>\n",
       "      <th>14</th>\n",
       "      <td>0.001712</td>\n",
       "      <td>0.002531</td>\n",
       "      <td>0.001712</td>\n",
       "      <td>0.000506</td>\n",
       "      <td>0.002218</td>\n",
       "    </tr>\n",
       "    <tr>\n",
       "      <th>15</th>\n",
       "      <td>0.001674</td>\n",
       "      <td>0.002525</td>\n",
       "      <td>0.001674</td>\n",
       "      <td>0.000505</td>\n",
       "      <td>0.002179</td>\n",
       "    </tr>\n",
       "    <tr>\n",
       "      <th>16</th>\n",
       "      <td>0.001636</td>\n",
       "      <td>0.002507</td>\n",
       "      <td>0.001636</td>\n",
       "      <td>0.000501</td>\n",
       "      <td>0.002138</td>\n",
       "    </tr>\n",
       "    <tr>\n",
       "      <th>17</th>\n",
       "      <td>0.001607</td>\n",
       "      <td>0.002494</td>\n",
       "      <td>0.001607</td>\n",
       "      <td>0.000499</td>\n",
       "      <td>0.002106</td>\n",
       "    </tr>\n",
       "    <tr>\n",
       "      <th>18</th>\n",
       "      <td>0.001574</td>\n",
       "      <td>0.002476</td>\n",
       "      <td>0.001574</td>\n",
       "      <td>0.000495</td>\n",
       "      <td>0.002070</td>\n",
       "    </tr>\n",
       "    <tr>\n",
       "      <th>19</th>\n",
       "      <td>0.001558</td>\n",
       "      <td>0.002473</td>\n",
       "      <td>0.001558</td>\n",
       "      <td>0.000495</td>\n",
       "      <td>0.002052</td>\n",
       "    </tr>\n",
       "    <tr>\n",
       "      <th>20</th>\n",
       "      <td>0.001536</td>\n",
       "      <td>0.002462</td>\n",
       "      <td>0.001536</td>\n",
       "      <td>0.000492</td>\n",
       "      <td>0.002028</td>\n",
       "    </tr>\n",
       "    <tr>\n",
       "      <th>21</th>\n",
       "      <td>0.001516</td>\n",
       "      <td>0.002452</td>\n",
       "      <td>0.001516</td>\n",
       "      <td>0.000490</td>\n",
       "      <td>0.002006</td>\n",
       "    </tr>\n",
       "    <tr>\n",
       "      <th>22</th>\n",
       "      <td>0.001494</td>\n",
       "      <td>0.002437</td>\n",
       "      <td>0.001494</td>\n",
       "      <td>0.000487</td>\n",
       "      <td>0.001982</td>\n",
       "    </tr>\n",
       "    <tr>\n",
       "      <th>23</th>\n",
       "      <td>0.001474</td>\n",
       "      <td>0.002425</td>\n",
       "      <td>0.001474</td>\n",
       "      <td>0.000485</td>\n",
       "      <td>0.001959</td>\n",
       "    </tr>\n",
       "  </tbody>\n",
       "</table>\n",
       "</div>"
      ],
      "text/plain": [
       "    attractive_train  repulsive_train  attractive_weighted_train  \\\n",
       "0           0.003777         0.005559                   0.003777   \n",
       "1           0.002791         0.003804                   0.002791   \n",
       "2           0.002554         0.003464                   0.002554   \n",
       "3           0.002427         0.003279                   0.002427   \n",
       "4           0.002346         0.003149                   0.002346   \n",
       "5           0.002652         0.003660                   0.002652   \n",
       "6           0.002380         0.003230                   0.002380   \n",
       "7           0.002256         0.003037                   0.002256   \n",
       "8           0.002167         0.002908                   0.002167   \n",
       "9           0.002091         0.002825                   0.002091   \n",
       "10          0.001997         0.002718                   0.001997   \n",
       "11          0.001902         0.002626                   0.001902   \n",
       "12          0.001827         0.002585                   0.001827   \n",
       "13          0.001766         0.002558                   0.001766   \n",
       "14          0.001712         0.002531                   0.001712   \n",
       "15          0.001674         0.002525                   0.001674   \n",
       "16          0.001636         0.002507                   0.001636   \n",
       "17          0.001607         0.002494                   0.001607   \n",
       "18          0.001574         0.002476                   0.001574   \n",
       "19          0.001558         0.002473                   0.001558   \n",
       "20          0.001536         0.002462                   0.001536   \n",
       "21          0.001516         0.002452                   0.001516   \n",
       "22          0.001494         0.002437                   0.001494   \n",
       "23          0.001474         0.002425                   0.001474   \n",
       "\n",
       "    repulsive_weighted_train  total_train  \n",
       "0                   0.001112     0.004889  \n",
       "1                   0.000761     0.003552  \n",
       "2                   0.000693     0.003247  \n",
       "3                   0.000656     0.003083  \n",
       "4                   0.000630     0.002976  \n",
       "5                   0.000732     0.003384  \n",
       "6                   0.000646     0.003026  \n",
       "7                   0.000607     0.002863  \n",
       "8                   0.000582     0.002748  \n",
       "9                   0.000565     0.002656  \n",
       "10                  0.000544     0.002540  \n",
       "11                  0.000525     0.002427  \n",
       "12                  0.000517     0.002344  \n",
       "13                  0.000512     0.002278  \n",
       "14                  0.000506     0.002218  \n",
       "15                  0.000505     0.002179  \n",
       "16                  0.000501     0.002138  \n",
       "17                  0.000499     0.002106  \n",
       "18                  0.000495     0.002070  \n",
       "19                  0.000495     0.002052  \n",
       "20                  0.000492     0.002028  \n",
       "21                  0.000490     0.002006  \n",
       "22                  0.000487     0.001982  \n",
       "23                  0.000485     0.001959  "
      ]
     },
     "execution_count": 18,
     "metadata": {},
     "output_type": "execute_result"
    }
   ],
   "source": [
    "train_loss_history"
   ]
  },
  {
   "cell_type": "code",
   "execution_count": 19,
   "id": "eaf687af",
   "metadata": {},
   "outputs": [
    {
     "data": {
      "image/png": "[encoded data removed]",
      "text/plain": [
       "<Figure size 640x480 with 1 Axes>"
      ]
     },
     "metadata": {},
     "output_type": "display_data"
    }
   ],
   "source": [
    "label = f'Scaling coefficients = {1.0} (attractive), {0.2} (repulsive)'\n",
    "loss_history.plot(x='attractive_train', y='repulsive_train', marker='o', markersize=3, label=label)\n",
    "\n",
    "plt.xlabel('embedding_loss_attractive_train')\n",
    "plt.ylabel('embedding_loss_repulsive_train')\n",
    "\n",
    "plt.legend()\n",
    "plt.show()"
   ]
  },
  {
   "cell_type": "code",
   "execution_count": 20,
   "id": "ad97a7de",
   "metadata": {},
   "outputs": [
    {
     "data": {
      "image/png": "[encoded data removed]",
      "text/plain": [
       "<Figure size 640x480 with 1 Axes>"
      ]
     },
     "metadata": {},
     "output_type": "display_data"
    }
   ],
   "source": [
    "label = f'Scaling coefficients = {1.0} (attractive), {0.2} (repulsive)'\n",
    "train_loss_history.plot(x='attractive_train', y='repulsive_train', marker='o', markersize=3, label=label)\n",
    "\n",
    "plt.xlabel('embedding_loss_attractive_train')\n",
    "plt.ylabel('embedding_loss_repulsive_train')\n",
    "\n",
    "plt.legend()\n",
    "plt.show()"
   ]
  },
  {
   "cell_type": "code",
   "execution_count": 21,
   "id": "e514e278",
   "metadata": {},
   "outputs": [
    {
     "data": {
      "image/png": "[encoded data removed]",
      "text/plain": [
       "<Figure size 640x480 with 1 Axes>"
      ]
     },
     "metadata": {},
     "output_type": "display_data"
    }
   ],
   "source": [
    "label = f'Scaling coefficients = {1.0} (attractive), {0.2} (repulsive)'\n",
    "loss_history.plot(x='attractive', y='repulsive', marker='o', markersize=3, label=label)\n",
    "\n",
    "plt.xlabel('embedding_loss_attractive')\n",
    "plt.ylabel('embedding_loss_repulsive')\n",
    "\n",
    "plt.legend()\n",
    "plt.show()"
   ]
  },
  {
   "cell_type": "code",
   "execution_count": 22,
   "id": "6fc1963e",
   "metadata": {},
   "outputs": [
    {
     "data": {
      "image/png": "[encoded data removed]",
      "text/plain": [
       "<Figure size 640x480 with 1 Axes>"
      ]
     },
     "metadata": {},
     "output_type": "display_data"
    }
   ],
   "source": [
    "label = f'Scaling coefficients = {1.0} (attractive), {0.2} (repulsive)'\n",
    "train_loss_history.plot(y='total_train', use_index=True, marker='o', markersize=3, label=label)\n",
    "\n",
    "plt.xlabel('epoch')\n",
    "plt.ylabel('total_train_loss')\n",
    "\n",
    "plt.legend()\n",
    "plt.show()"
   ]
  },
  {
   "cell_type": "code",
   "execution_count": 23,
   "id": "71b5d159",
   "metadata": {},
   "outputs": [
    {
     "data": {
      "image/png": "[encoded data removed]",
      "text/plain": [
       "<Figure size 640x480 with 1 Axes>"
      ]
     },
     "metadata": {},
     "output_type": "display_data"
    }
   ],
   "source": [
    "label = f'Scaling coefficients = {1.0} (attractive), {0.2} (repulsive)'\n",
    "loss_history.plot(y='total', use_index=True, marker='o', markersize=3, label=label)\n",
    "\n",
    "plt.xlabel('epoch')\n",
    "plt.ylabel('total_val_loss')\n",
    "\n",
    "plt.legend()\n",
    "plt.show()"
   ]
  },
  {
   "cell_type": "code",
   "execution_count": null,
   "id": "5232c99d",
   "metadata": {},
   "outputs": [],
   "source": []
  },
  {
   "cell_type": "code",
   "execution_count": null,
   "id": "d9c8a42c",
   "metadata": {},
   "outputs": [],
   "source": []
  },
  {
   "cell_type": "code",
   "execution_count": null,
   "id": "03cc39a9",
   "metadata": {},
   "outputs": [],
   "source": []
  },
  {
   "cell_type": "code",
   "execution_count": 11,
   "id": "b86321ff",
   "metadata": {},
   "outputs": [],
   "source": [
    "scaling_coeffs = [0.2, 0.5, 1.0, 2.0, 4.0]"
   ]
  },
  {
   "cell_type": "code",
   "execution_count": 12,
   "id": "a866f64e",
   "metadata": {},
   "outputs": [
    {
     "name": "stderr",
     "output_type": "stream",
     "text": [
      "GPU available: True (cuda), used: True\n",
      "TPU available: False, using: 0 TPU cores\n",
      "IPU available: False, using: 0 IPUs\n",
      "HPU available: False, using: 0 HPUs\n"
     ]
    },
    {
     "name": "stdout",
     "output_type": "stream",
     "text": [
      "Training for scaling coefficients = 0.2\n"
     ]
    },
    {
     "name": "stderr",
     "output_type": "stream",
     "text": [
      "You are using a CUDA device ('NVIDIA A100-SXM4-80GB') that has Tensor Cores. To properly utilize them, you should set `torch.set_float32_matmul_precision('medium' | 'high')` which will trade-off precision for performance. For more details, read https://pytorch.org/docs/stable/generated/torch.set_float32_matmul_precision.html#torch.set_float32_matmul_precision\n",
      "\u001b[32m[03:36:30] INFO: DataLoader will load 810 graphs (out of 900 available).\u001b[0m\n",
      "\u001b[36m[03:36:30] DEBUG: First graph is /scratch/gpfs/IOJALVO/gnn-tracking/object_condensation/point_clouds_v5/part1_pt1/part_1_0/data21025_s0.pt, last graph is /scratch/gpfs/IOJALVO/gnn-tracking/object_condensation/point_clouds_v5/part1_pt1/part_1_8/data21999_s0.pt\u001b[0m\n",
      "\u001b[32m[03:36:30] INFO: DataLoader will load 90 graphs (out of 900 available).\u001b[0m\n",
      "\u001b[36m[03:36:30] DEBUG: First graph is /scratch/gpfs/IOJALVO/gnn-tracking/object_condensation/point_clouds_v5/part1_pt1/part_1_9/data21009_s0.pt, last graph is /scratch/gpfs/IOJALVO/gnn-tracking/object_condensation/point_clouds_v5/part1_pt1/part_1_9/data21986_s0.pt\u001b[0m\n",
      "LOCAL_RANK: 0 - CUDA_VISIBLE_DEVICES: [0]\n",
      "\n",
      "  | Name     | Type                                | Params\n",
      "-----------------------------------------------------------------\n",
      "0 | model    | GraphConstructionFCNN               | 17.9 K\n",
      "1 | loss_fct | GraphConstructionHingeEmbeddingLoss | 0     \n",
      "-----------------------------------------------------------------\n",
      "17.9 K    Trainable params\n",
      "0         Non-trainable params\n",
      "17.9 K    Total params\n",
      "0.072     Total estimated model params size (MB)\n",
      "SLURM auto-requeueing enabled. Setting signal handlers.\n"
     ]
    },
    {
     "data": {
      "application/vnd.jupyter.widget-view+json": {
       "model_id": "",
       "version_major": 2,
       "version_minor": 0
      },
      "text/plain": [
       "Sanity Checking: 0it [00:00, ?it/s]"
      ]
     },
     "metadata": {},
     "output_type": "display_data"
    },
    {
     "name": "stderr",
     "output_type": "stream",
     "text": [
      "/scratch/gpfs/dc3896/micromamba/envs/gnn/lib/python3.10/site-packages/pytorch_lightning/trainer/connectors/data_connector.py:432: PossibleUserWarning: The dataloader, val_dataloader, does not have many workers which may be a bottleneck. Consider increasing the value of the `num_workers` argument` (try 48 which is the number of cpus on this machine) in the `DataLoader` init to improve performance.\n",
      "  rank_zero_warn(\n"
     ]
    },
    {
     "data": {
      "text/html": [
       "<pre style=\"white-space:pre;overflow-x:auto;line-height:normal;font-family:Menlo,'DejaVu Sans Mono',consolas,'Courier New',monospace\"></pre>\n"
      ],
      "text/plain": []
     },
     "metadata": {},
     "output_type": "display_data"
    },
    {
     "name": "stderr",
     "output_type": "stream",
     "text": [
      "/scratch/gpfs/dc3896/micromamba/envs/gnn/lib/python3.10/site-packages/pytorch_lightning/trainer/connectors/data_connector.py:432: PossibleUserWarning: The dataloader, train_dataloader, does not have many workers which may be a bottleneck. Consider increasing the value of the `num_workers` argument` (try 48 which is the number of cpus on this machine) in the `DataLoader` init to improve performance.\n",
      "  rank_zero_warn(\n"
     ]
    },
    {
     "data": {
      "application/vnd.jupyter.widget-view+json": {
       "model_id": "c6f7c54245c747cfbc333a805be2b1ed",
       "version_major": 2,
       "version_minor": 0
      },
      "text/plain": [
       "Training: 0it [00:00, ?it/s]"
      ]
     },
     "metadata": {},
     "output_type": "display_data"
    },
    {
     "data": {
      "application/vnd.jupyter.widget-view+json": {
       "model_id": "",
       "version_major": 2,
       "version_minor": 0
      },
      "text/plain": [
       "Validation: 0it [00:00, ?it/s]"
      ]
     },
     "metadata": {},
     "output_type": "display_data"
    },
    {
     "data": {
      "text/html": [
       "<pre style=\"white-space:pre;overflow-x:auto;line-height:normal;font-family:Menlo,'DejaVu Sans Mono',consolas,'Courier New',monospace\"></pre>\n"
      ],
      "text/plain": []
     },
     "metadata": {},
     "output_type": "display_data"
    },
    {
     "name": "stdout",
     "output_type": "stream",
     "text": [
      "\u001b[3m               Validation epoch=1                \u001b[0m\n",
      "┏━━━━━━━━━━━━━━━━━━━━━━━━━━━┳━━━━━━━━━┳━━━━━━━━━┓\n",
      "┃\u001b[1m \u001b[0m\u001b[1mMetric                   \u001b[0m\u001b[1m \u001b[0m┃\u001b[1m \u001b[0m\u001b[1m  Value\u001b[0m\u001b[1m \u001b[0m┃\u001b[1m \u001b[0m\u001b[1m  Error\u001b[0m\u001b[1m \u001b[0m┃\n",
      "┡━━━━━━━━━━━━━━━━━━━━━━━━━━━╇━━━━━━━━━╇━━━━━━━━━┩\n",
      "│ attractive                │ 0.00127 │ 0.00001 │\n",
      "│ attractive_train          │ 0.00135 │     nan │\n",
      "│ attractive_weighted       │ 0.00127 │ 0.00001 │\n",
      "│ attractive_weighted_train │ 0.00135 │     nan │\n",
      "│ repulsive                 │ 0.00254 │ 0.00004 │\n",
      "│ repulsive_train           │ 0.00273 │     nan │\n",
      "│ repulsive_weighted        │ 0.00051 │ 0.00001 │\n",
      "│ repulsive_weighted_train  │ 0.00055 │     nan │\n",
      "│ total                     │ 0.00178 │ 0.00001 │\n",
      "│ total_train               │ 0.00189 │     nan │\n",
      "└───────────────────────────┴─────────┴─────────┘\n",
      "\n"
     ]
    },
    {
     "data": {
      "application/vnd.jupyter.widget-view+json": {
       "model_id": "",
       "version_major": 2,
       "version_minor": 0
      },
      "text/plain": [
       "Validation: 0it [00:00, ?it/s]"
      ]
     },
     "metadata": {},
     "output_type": "display_data"
    },
    {
     "data": {
      "text/html": [
       "<pre style=\"white-space:pre;overflow-x:auto;line-height:normal;font-family:Menlo,'DejaVu Sans Mono',consolas,'Courier New',monospace\"></pre>\n"
      ],
      "text/plain": []
     },
     "metadata": {},
     "output_type": "display_data"
    },
    {
     "name": "stdout",
     "output_type": "stream",
     "text": [
      "\u001b[3m               Validation epoch=2                \u001b[0m\n",
      "┏━━━━━━━━━━━━━━━━━━━━━━━━━━━┳━━━━━━━━━┳━━━━━━━━━┓\n",
      "┃\u001b[1m \u001b[0m\u001b[1mMetric                   \u001b[0m\u001b[1m \u001b[0m┃\u001b[1m \u001b[0m\u001b[1m  Value\u001b[0m\u001b[1m \u001b[0m┃\u001b[1m \u001b[0m\u001b[1m  Error\u001b[0m\u001b[1m \u001b[0m┃\n",
      "┡━━━━━━━━━━━━━━━━━━━━━━━━━━━╇━━━━━━━━━╇━━━━━━━━━┩\n",
      "│ attractive                │ 0.00114 │ 0.00001 │\n",
      "│ attractive_train          │ 0.00105 │     nan │\n",
      "│ attractive_weighted       │ 0.00114 │ 0.00001 │\n",
      "│ attractive_weighted_train │ 0.00105 │     nan │\n",
      "│ repulsive                 │ 0.00220 │ 0.00004 │\n",
      "│ repulsive_train           │ 0.00251 │     nan │\n",
      "│ repulsive_weighted        │ 0.00044 │ 0.00001 │\n",
      "│ repulsive_weighted_train  │ 0.00050 │     nan │\n",
      "│ total                     │ 0.00158 │ 0.00001 │\n",
      "│ total_train               │ 0.00155 │     nan │\n",
      "└───────────────────────────┴─────────┴─────────┘\n",
      "\n"
     ]
    },
    {
     "data": {
      "application/vnd.jupyter.widget-view+json": {
       "model_id": "",
       "version_major": 2,
       "version_minor": 0
      },
      "text/plain": [
       "Validation: 0it [00:00, ?it/s]"
      ]
     },
     "metadata": {},
     "output_type": "display_data"
    },
    {
     "data": {
      "text/html": [
       "<pre style=\"white-space:pre;overflow-x:auto;line-height:normal;font-family:Menlo,'DejaVu Sans Mono',consolas,'Courier New',monospace\"></pre>\n"
      ],
      "text/plain": []
     },
     "metadata": {},
     "output_type": "display_data"
    },
    {
     "name": "stdout",
     "output_type": "stream",
     "text": [
      "\u001b[3m               Validation epoch=3                \u001b[0m\n",
      "┏━━━━━━━━━━━━━━━━━━━━━━━━━━━┳━━━━━━━━━┳━━━━━━━━━┓\n",
      "┃\u001b[1m \u001b[0m\u001b[1mMetric                   \u001b[0m\u001b[1m \u001b[0m┃\u001b[1m \u001b[0m\u001b[1m  Value\u001b[0m\u001b[1m \u001b[0m┃\u001b[1m \u001b[0m\u001b[1m  Error\u001b[0m\u001b[1m \u001b[0m┃\n",
      "┡━━━━━━━━━━━━━━━━━━━━━━━━━━━╇━━━━━━━━━╇━━━━━━━━━┩\n",
      "│ attractive                │ 0.00112 │ 0.00000 │\n",
      "│ attractive_train          │ 0.00092 │     nan │\n",
      "│ attractive_weighted       │ 0.00112 │ 0.00000 │\n",
      "│ attractive_weighted_train │ 0.00092 │     nan │\n",
      "│ repulsive                 │ 0.00213 │ 0.00003 │\n",
      "│ repulsive_train           │ 0.00250 │     nan │\n",
      "│ repulsive_weighted        │ 0.00043 │ 0.00001 │\n",
      "│ repulsive_weighted_train  │ 0.00050 │     nan │\n",
      "│ total                     │ 0.00154 │ 0.00001 │\n",
      "│ total_train               │ 0.00142 │     nan │\n",
      "└───────────────────────────┴─────────┴─────────┘\n",
      "\n"
     ]
    },
    {
     "data": {
      "application/vnd.jupyter.widget-view+json": {
       "model_id": "",
       "version_major": 2,
       "version_minor": 0
      },
      "text/plain": [
       "Validation: 0it [00:00, ?it/s]"
      ]
     },
     "metadata": {},
     "output_type": "display_data"
    },
    {
     "data": {
      "text/html": [
       "<pre style=\"white-space:pre;overflow-x:auto;line-height:normal;font-family:Menlo,'DejaVu Sans Mono',consolas,'Courier New',monospace\"></pre>\n"
      ],
      "text/plain": []
     },
     "metadata": {},
     "output_type": "display_data"
    },
    {
     "name": "stdout",
     "output_type": "stream",
     "text": [
      "\u001b[3m               Validation epoch=4                \u001b[0m\n",
      "┏━━━━━━━━━━━━━━━━━━━━━━━━━━━┳━━━━━━━━━┳━━━━━━━━━┓\n",
      "┃\u001b[1m \u001b[0m\u001b[1mMetric                   \u001b[0m\u001b[1m \u001b[0m┃\u001b[1m \u001b[0m\u001b[1m  Value\u001b[0m\u001b[1m \u001b[0m┃\u001b[1m \u001b[0m\u001b[1m  Error\u001b[0m\u001b[1m \u001b[0m┃\n",
      "┡━━━━━━━━━━━━━━━━━━━━━━━━━━━╇━━━━━━━━━╇━━━━━━━━━┩\n",
      "│ attractive                │ 0.00093 │ 0.00001 │\n",
      "│ attractive_train          │ 0.00087 │     nan │\n",
      "│ attractive_weighted       │ 0.00093 │ 0.00001 │\n",
      "│ attractive_weighted_train │ 0.00087 │     nan │\n",
      "│ repulsive                 │ 0.00173 │ 0.00003 │\n",
      "│ repulsive_train           │ 0.00253 │     nan │\n",
      "│ repulsive_weighted        │ 0.00035 │ 0.00001 │\n",
      "│ repulsive_weighted_train  │ 0.00051 │     nan │\n",
      "│ total                     │ 0.00128 │ 0.00001 │\n",
      "│ total_train               │ 0.00138 │     nan │\n",
      "└───────────────────────────┴─────────┴─────────┘\n",
      "\n"
     ]
    },
    {
     "data": {
      "application/vnd.jupyter.widget-view+json": {
       "model_id": "",
       "version_major": 2,
       "version_minor": 0
      },
      "text/plain": [
       "Validation: 0it [00:00, ?it/s]"
      ]
     },
     "metadata": {},
     "output_type": "display_data"
    },
    {
     "data": {
      "text/html": [
       "<pre style=\"white-space:pre;overflow-x:auto;line-height:normal;font-family:Menlo,'DejaVu Sans Mono',consolas,'Courier New',monospace\"></pre>\n"
      ],
      "text/plain": []
     },
     "metadata": {},
     "output_type": "display_data"
    },
    {
     "name": "stdout",
     "output_type": "stream",
     "text": [
      "\u001b[3m               Validation epoch=5                \u001b[0m\n",
      "┏━━━━━━━━━━━━━━━━━━━━━━━━━━━┳━━━━━━━━━┳━━━━━━━━━┓\n",
      "┃\u001b[1m \u001b[0m\u001b[1mMetric                   \u001b[0m\u001b[1m \u001b[0m┃\u001b[1m \u001b[0m\u001b[1m  Value\u001b[0m\u001b[1m \u001b[0m┃\u001b[1m \u001b[0m\u001b[1m  Error\u001b[0m\u001b[1m \u001b[0m┃\n",
      "┡━━━━━━━━━━━━━━━━━━━━━━━━━━━╇━━━━━━━━━╇━━━━━━━━━┩\n",
      "│ attractive                │ 0.00087 │ 0.00000 │\n",
      "│ attractive_train          │ 0.00084 │     nan │\n",
      "│ attractive_weighted       │ 0.00087 │ 0.00000 │\n",
      "│ attractive_weighted_train │ 0.00084 │     nan │\n",
      "│ repulsive                 │ 0.00190 │ 0.00003 │\n",
      "│ repulsive_train           │ 0.00186 │     nan │\n",
      "│ repulsive_weighted        │ 0.00038 │ 0.00001 │\n",
      "│ repulsive_weighted_train  │ 0.00037 │     nan │\n",
      "│ total                     │ 0.00125 │ 0.00001 │\n",
      "│ total_train               │ 0.00121 │     nan │\n",
      "└───────────────────────────┴─────────┴─────────┘\n",
      "\n"
     ]
    },
    {
     "data": {
      "application/vnd.jupyter.widget-view+json": {
       "model_id": "",
       "version_major": 2,
       "version_minor": 0
      },
      "text/plain": [
       "Validation: 0it [00:00, ?it/s]"
      ]
     },
     "metadata": {},
     "output_type": "display_data"
    },
    {
     "data": {
      "text/html": [
       "<pre style=\"white-space:pre;overflow-x:auto;line-height:normal;font-family:Menlo,'DejaVu Sans Mono',consolas,'Courier New',monospace\"></pre>\n"
      ],
      "text/plain": []
     },
     "metadata": {},
     "output_type": "display_data"
    },
    {
     "name": "stdout",
     "output_type": "stream",
     "text": [
      "\u001b[3m               Validation epoch=6                \u001b[0m\n",
      "┏━━━━━━━━━━━━━━━━━━━━━━━━━━━┳━━━━━━━━━┳━━━━━━━━━┓\n",
      "┃\u001b[1m \u001b[0m\u001b[1mMetric                   \u001b[0m\u001b[1m \u001b[0m┃\u001b[1m \u001b[0m\u001b[1m  Value\u001b[0m\u001b[1m \u001b[0m┃\u001b[1m \u001b[0m\u001b[1m  Error\u001b[0m\u001b[1m \u001b[0m┃\n",
      "┡━━━━━━━━━━━━━━━━━━━━━━━━━━━╇━━━━━━━━━╇━━━━━━━━━┩\n",
      "│ attractive                │ 0.00075 │ 0.00000 │\n",
      "│ attractive_train          │ 0.00078 │     nan │\n",
      "│ attractive_weighted       │ 0.00075 │ 0.00000 │\n",
      "│ attractive_weighted_train │ 0.00078 │     nan │\n",
      "│ repulsive                 │ 0.00179 │ 0.00003 │\n",
      "│ repulsive_train           │ 0.00169 │     nan │\n",
      "│ repulsive_weighted        │ 0.00036 │ 0.00001 │\n",
      "│ repulsive_weighted_train  │ 0.00034 │     nan │\n",
      "│ total                     │ 0.00111 │ 0.00001 │\n",
      "│ total_train               │ 0.00111 │     nan │\n",
      "└───────────────────────────┴─────────┴─────────┘\n",
      "\n"
     ]
    },
    {
     "data": {
      "application/vnd.jupyter.widget-view+json": {
       "model_id": "",
       "version_major": 2,
       "version_minor": 0
      },
      "text/plain": [
       "Validation: 0it [00:00, ?it/s]"
      ]
     },
     "metadata": {},
     "output_type": "display_data"
    },
    {
     "data": {
      "text/html": [
       "<pre style=\"white-space:pre;overflow-x:auto;line-height:normal;font-family:Menlo,'DejaVu Sans Mono',consolas,'Courier New',monospace\"></pre>\n"
      ],
      "text/plain": []
     },
     "metadata": {},
     "output_type": "display_data"
    },
    {
     "name": "stdout",
     "output_type": "stream",
     "text": [
      "\u001b[3m               Validation epoch=7                \u001b[0m\n",
      "┏━━━━━━━━━━━━━━━━━━━━━━━━━━━┳━━━━━━━━━┳━━━━━━━━━┓\n",
      "┃\u001b[1m \u001b[0m\u001b[1mMetric                   \u001b[0m\u001b[1m \u001b[0m┃\u001b[1m \u001b[0m\u001b[1m  Value\u001b[0m\u001b[1m \u001b[0m┃\u001b[1m \u001b[0m\u001b[1m  Error\u001b[0m\u001b[1m \u001b[0m┃\n",
      "┡━━━━━━━━━━━━━━━━━━━━━━━━━━━╇━━━━━━━━━╇━━━━━━━━━┩\n",
      "│ attractive                │ 0.00082 │ 0.00000 │\n",
      "│ attractive_train          │ 0.00074 │     nan │\n",
      "│ attractive_weighted       │ 0.00082 │ 0.00000 │\n",
      "│ attractive_weighted_train │ 0.00074 │     nan │\n",
      "│ repulsive                 │ 0.00144 │ 0.00002 │\n",
      "│ repulsive_train           │ 0.00155 │     nan │\n",
      "│ repulsive_weighted        │ 0.00029 │ 0.00000 │\n",
      "│ repulsive_weighted_train  │ 0.00031 │     nan │\n",
      "│ total                     │ 0.00110 │ 0.00001 │\n",
      "│ total_train               │ 0.00105 │     nan │\n",
      "└───────────────────────────┴─────────┴─────────┘\n",
      "\n"
     ]
    },
    {
     "data": {
      "application/vnd.jupyter.widget-view+json": {
       "model_id": "",
       "version_major": 2,
       "version_minor": 0
      },
      "text/plain": [
       "Validation: 0it [00:00, ?it/s]"
      ]
     },
     "metadata": {},
     "output_type": "display_data"
    },
    {
     "data": {
      "text/html": [
       "<pre style=\"white-space:pre;overflow-x:auto;line-height:normal;font-family:Menlo,'DejaVu Sans Mono',consolas,'Courier New',monospace\"></pre>\n"
      ],
      "text/plain": []
     },
     "metadata": {},
     "output_type": "display_data"
    },
    {
     "name": "stdout",
     "output_type": "stream",
     "text": [
      "\u001b[3m               Validation epoch=8                \u001b[0m\n",
      "┏━━━━━━━━━━━━━━━━━━━━━━━━━━━┳━━━━━━━━━┳━━━━━━━━━┓\n",
      "┃\u001b[1m \u001b[0m\u001b[1mMetric                   \u001b[0m\u001b[1m \u001b[0m┃\u001b[1m \u001b[0m\u001b[1m  Value\u001b[0m\u001b[1m \u001b[0m┃\u001b[1m \u001b[0m\u001b[1m  Error\u001b[0m\u001b[1m \u001b[0m┃\n",
      "┡━━━━━━━━━━━━━━━━━━━━━━━━━━━╇━━━━━━━━━╇━━━━━━━━━┩\n",
      "│ attractive                │ 0.00078 │ 0.00000 │\n",
      "│ attractive_train          │ 0.00069 │     nan │\n",
      "│ attractive_weighted       │ 0.00078 │ 0.00000 │\n",
      "│ attractive_weighted_train │ 0.00069 │     nan │\n",
      "│ repulsive                 │ 0.00177 │ 0.00003 │\n",
      "│ repulsive_train           │ 0.00196 │     nan │\n",
      "│ repulsive_weighted        │ 0.00035 │ 0.00001 │\n",
      "│ repulsive_weighted_train  │ 0.00039 │     nan │\n",
      "│ total                     │ 0.00113 │ 0.00001 │\n",
      "│ total_train               │ 0.00109 │     nan │\n",
      "└───────────────────────────┴─────────┴─────────┘\n",
      "\n"
     ]
    },
    {
     "data": {
      "application/vnd.jupyter.widget-view+json": {
       "model_id": "",
       "version_major": 2,
       "version_minor": 0
      },
      "text/plain": [
       "Validation: 0it [00:00, ?it/s]"
      ]
     },
     "metadata": {},
     "output_type": "display_data"
    },
    {
     "data": {
      "text/html": [
       "<pre style=\"white-space:pre;overflow-x:auto;line-height:normal;font-family:Menlo,'DejaVu Sans Mono',consolas,'Courier New',monospace\"></pre>\n"
      ],
      "text/plain": []
     },
     "metadata": {},
     "output_type": "display_data"
    },
    {
     "name": "stdout",
     "output_type": "stream",
     "text": [
      "\u001b[3m               Validation epoch=9                \u001b[0m\n",
      "┏━━━━━━━━━━━━━━━━━━━━━━━━━━━┳━━━━━━━━━┳━━━━━━━━━┓\n",
      "┃\u001b[1m \u001b[0m\u001b[1mMetric                   \u001b[0m\u001b[1m \u001b[0m┃\u001b[1m \u001b[0m\u001b[1m  Value\u001b[0m\u001b[1m \u001b[0m┃\u001b[1m \u001b[0m\u001b[1m  Error\u001b[0m\u001b[1m \u001b[0m┃\n",
      "┡━━━━━━━━━━━━━━━━━━━━━━━━━━━╇━━━━━━━━━╇━━━━━━━━━┩\n",
      "│ attractive                │ 0.00072 │ 0.00000 │\n",
      "│ attractive_train          │ 0.00076 │     nan │\n",
      "│ attractive_weighted       │ 0.00072 │ 0.00000 │\n",
      "│ attractive_weighted_train │ 0.00076 │     nan │\n",
      "│ repulsive                 │ 0.00158 │ 0.00003 │\n",
      "│ repulsive_train           │ 0.00126 │     nan │\n",
      "│ repulsive_weighted        │ 0.00032 │ 0.00001 │\n",
      "│ repulsive_weighted_train  │ 0.00025 │     nan │\n",
      "│ total                     │ 0.00103 │ 0.00001 │\n",
      "│ total_train               │ 0.00102 │     nan │\n",
      "└───────────────────────────┴─────────┴─────────┘\n",
      "\n"
     ]
    },
    {
     "data": {
      "application/vnd.jupyter.widget-view+json": {
       "model_id": "",
       "version_major": 2,
       "version_minor": 0
      },
      "text/plain": [
       "Validation: 0it [00:00, ?it/s]"
      ]
     },
     "metadata": {},
     "output_type": "display_data"
    },
    {
     "data": {
      "text/html": [
       "<pre style=\"white-space:pre;overflow-x:auto;line-height:normal;font-family:Menlo,'DejaVu Sans Mono',consolas,'Courier New',monospace\"></pre>\n"
      ],
      "text/plain": []
     },
     "metadata": {},
     "output_type": "display_data"
    },
    {
     "name": "stdout",
     "output_type": "stream",
     "text": [
      "\u001b[3m               Validation epoch=10               \u001b[0m\n",
      "┏━━━━━━━━━━━━━━━━━━━━━━━━━━━┳━━━━━━━━━┳━━━━━━━━━┓\n",
      "┃\u001b[1m \u001b[0m\u001b[1mMetric                   \u001b[0m\u001b[1m \u001b[0m┃\u001b[1m \u001b[0m\u001b[1m  Value\u001b[0m\u001b[1m \u001b[0m┃\u001b[1m \u001b[0m\u001b[1m  Error\u001b[0m\u001b[1m \u001b[0m┃\n",
      "┡━━━━━━━━━━━━━━━━━━━━━━━━━━━╇━━━━━━━━━╇━━━━━━━━━┩\n",
      "│ attractive                │ 0.00066 │ 0.00000 │\n",
      "│ attractive_train          │ 0.00077 │     nan │\n",
      "│ attractive_weighted       │ 0.00066 │ 0.00000 │\n",
      "│ attractive_weighted_train │ 0.00077 │     nan │\n",
      "│ repulsive                 │ 0.00146 │ 0.00002 │\n",
      "│ repulsive_train           │ 0.00132 │     nan │\n",
      "│ repulsive_weighted        │ 0.00029 │ 0.00000 │\n",
      "│ repulsive_weighted_train  │ 0.00026 │     nan │\n",
      "│ total                     │ 0.00096 │ 0.00001 │\n",
      "│ total_train               │ 0.00103 │     nan │\n",
      "└───────────────────────────┴─────────┴─────────┘\n",
      "\n"
     ]
    },
    {
     "data": {
      "application/vnd.jupyter.widget-view+json": {
       "model_id": "",
       "version_major": 2,
       "version_minor": 0
      },
      "text/plain": [
       "Validation: 0it [00:00, ?it/s]"
      ]
     },
     "metadata": {},
     "output_type": "display_data"
    },
    {
     "data": {
      "text/html": [
       "<pre style=\"white-space:pre;overflow-x:auto;line-height:normal;font-family:Menlo,'DejaVu Sans Mono',consolas,'Courier New',monospace\"></pre>\n"
      ],
      "text/plain": []
     },
     "metadata": {},
     "output_type": "display_data"
    },
    {
     "name": "stdout",
     "output_type": "stream",
     "text": [
      "\u001b[3m               Validation epoch=11               \u001b[0m\n",
      "┏━━━━━━━━━━━━━━━━━━━━━━━━━━━┳━━━━━━━━━┳━━━━━━━━━┓\n",
      "┃\u001b[1m \u001b[0m\u001b[1mMetric                   \u001b[0m\u001b[1m \u001b[0m┃\u001b[1m \u001b[0m\u001b[1m  Value\u001b[0m\u001b[1m \u001b[0m┃\u001b[1m \u001b[0m\u001b[1m  Error\u001b[0m\u001b[1m \u001b[0m┃\n",
      "┡━━━━━━━━━━━━━━━━━━━━━━━━━━━╇━━━━━━━━━╇━━━━━━━━━┩\n",
      "│ attractive                │ 0.00070 │ 0.00000 │\n",
      "│ attractive_train          │ 0.00074 │     nan │\n",
      "│ attractive_weighted       │ 0.00070 │ 0.00000 │\n",
      "│ attractive_weighted_train │ 0.00074 │     nan │\n",
      "│ repulsive                 │ 0.00150 │ 0.00002 │\n",
      "│ repulsive_train           │ 0.00177 │     nan │\n",
      "│ repulsive_weighted        │ 0.00030 │ 0.00000 │\n",
      "│ repulsive_weighted_train  │ 0.00035 │     nan │\n",
      "│ total                     │ 0.00100 │ 0.00001 │\n",
      "│ total_train               │ 0.00110 │     nan │\n",
      "└───────────────────────────┴─────────┴─────────┘\n",
      "\n"
     ]
    },
    {
     "data": {
      "application/vnd.jupyter.widget-view+json": {
       "model_id": "",
       "version_major": 2,
       "version_minor": 0
      },
      "text/plain": [
       "Validation: 0it [00:00, ?it/s]"
      ]
     },
     "metadata": {},
     "output_type": "display_data"
    },
    {
     "data": {
      "text/html": [
       "<pre style=\"white-space:pre;overflow-x:auto;line-height:normal;font-family:Menlo,'DejaVu Sans Mono',consolas,'Courier New',monospace\"></pre>\n"
      ],
      "text/plain": []
     },
     "metadata": {},
     "output_type": "display_data"
    },
    {
     "name": "stdout",
     "output_type": "stream",
     "text": [
      "\u001b[3m               Validation epoch=12               \u001b[0m\n",
      "┏━━━━━━━━━━━━━━━━━━━━━━━━━━━┳━━━━━━━━━┳━━━━━━━━━┓\n",
      "┃\u001b[1m \u001b[0m\u001b[1mMetric                   \u001b[0m\u001b[1m \u001b[0m┃\u001b[1m \u001b[0m\u001b[1m  Value\u001b[0m\u001b[1m \u001b[0m┃\u001b[1m \u001b[0m\u001b[1m  Error\u001b[0m\u001b[1m \u001b[0m┃\n",
      "┡━━━━━━━━━━━━━━━━━━━━━━━━━━━╇━━━━━━━━━╇━━━━━━━━━┩\n",
      "│ attractive                │ 0.00063 │ 0.00000 │\n",
      "│ attractive_train          │ 0.00066 │     nan │\n",
      "│ attractive_weighted       │ 0.00063 │ 0.00000 │\n",
      "│ attractive_weighted_train │ 0.00066 │     nan │\n",
      "│ repulsive                 │ 0.00149 │ 0.00002 │\n",
      "│ repulsive_train           │ 0.00143 │     nan │\n",
      "│ repulsive_weighted        │ 0.00030 │ 0.00000 │\n",
      "│ repulsive_weighted_train  │ 0.00029 │     nan │\n",
      "│ total                     │ 0.00093 │ 0.00001 │\n",
      "│ total_train               │ 0.00094 │     nan │\n",
      "└───────────────────────────┴─────────┴─────────┘\n",
      "\n"
     ]
    },
    {
     "data": {
      "application/vnd.jupyter.widget-view+json": {
       "model_id": "",
       "version_major": 2,
       "version_minor": 0
      },
      "text/plain": [
       "Validation: 0it [00:00, ?it/s]"
      ]
     },
     "metadata": {},
     "output_type": "display_data"
    },
    {
     "data": {
      "text/html": [
       "<pre style=\"white-space:pre;overflow-x:auto;line-height:normal;font-family:Menlo,'DejaVu Sans Mono',consolas,'Courier New',monospace\"></pre>\n"
      ],
      "text/plain": []
     },
     "metadata": {},
     "output_type": "display_data"
    },
    {
     "name": "stdout",
     "output_type": "stream",
     "text": [
      "\u001b[3m               Validation epoch=13               \u001b[0m\n",
      "┏━━━━━━━━━━━━━━━━━━━━━━━━━━━┳━━━━━━━━━┳━━━━━━━━━┓\n",
      "┃\u001b[1m \u001b[0m\u001b[1mMetric                   \u001b[0m\u001b[1m \u001b[0m┃\u001b[1m \u001b[0m\u001b[1m  Value\u001b[0m\u001b[1m \u001b[0m┃\u001b[1m \u001b[0m\u001b[1m  Error\u001b[0m\u001b[1m \u001b[0m┃\n",
      "┡━━━━━━━━━━━━━━━━━━━━━━━━━━━╇━━━━━━━━━╇━━━━━━━━━┩\n",
      "│ attractive                │ 0.00068 │ 0.00000 │\n",
      "│ attractive_train          │ 0.00065 │     nan │\n",
      "│ attractive_weighted       │ 0.00068 │ 0.00000 │\n",
      "│ attractive_weighted_train │ 0.00065 │     nan │\n",
      "│ repulsive                 │ 0.00142 │ 0.00002 │\n",
      "│ repulsive_train           │ 0.00118 │     nan │\n",
      "│ repulsive_weighted        │ 0.00028 │ 0.00000 │\n",
      "│ repulsive_weighted_train  │ 0.00024 │     nan │\n",
      "│ total                     │ 0.00097 │ 0.00001 │\n",
      "│ total_train               │ 0.00089 │     nan │\n",
      "└───────────────────────────┴─────────┴─────────┘\n",
      "\n"
     ]
    },
    {
     "data": {
      "application/vnd.jupyter.widget-view+json": {
       "model_id": "",
       "version_major": 2,
       "version_minor": 0
      },
      "text/plain": [
       "Validation: 0it [00:00, ?it/s]"
      ]
     },
     "metadata": {},
     "output_type": "display_data"
    },
    {
     "data": {
      "text/html": [
       "<pre style=\"white-space:pre;overflow-x:auto;line-height:normal;font-family:Menlo,'DejaVu Sans Mono',consolas,'Courier New',monospace\"></pre>\n"
      ],
      "text/plain": []
     },
     "metadata": {},
     "output_type": "display_data"
    },
    {
     "name": "stdout",
     "output_type": "stream",
     "text": [
      "\u001b[3m               Validation epoch=14               \u001b[0m\n",
      "┏━━━━━━━━━━━━━━━━━━━━━━━━━━━┳━━━━━━━━━┳━━━━━━━━━┓\n",
      "┃\u001b[1m \u001b[0m\u001b[1mMetric                   \u001b[0m\u001b[1m \u001b[0m┃\u001b[1m \u001b[0m\u001b[1m  Value\u001b[0m\u001b[1m \u001b[0m┃\u001b[1m \u001b[0m\u001b[1m  Error\u001b[0m\u001b[1m \u001b[0m┃\n",
      "┡━━━━━━━━━━━━━━━━━━━━━━━━━━━╇━━━━━━━━━╇━━━━━━━━━┩\n",
      "│ attractive                │ 0.00064 │ 0.00000 │\n",
      "│ attractive_train          │ 0.00061 │     nan │\n",
      "│ attractive_weighted       │ 0.00064 │ 0.00000 │\n",
      "│ attractive_weighted_train │ 0.00061 │     nan │\n",
      "│ repulsive                 │ 0.00135 │ 0.00002 │\n",
      "│ repulsive_train           │ 0.00139 │     nan │\n",
      "│ repulsive_weighted        │ 0.00027 │ 0.00000 │\n",
      "│ repulsive_weighted_train  │ 0.00028 │     nan │\n",
      "│ total                     │ 0.00091 │ 0.00001 │\n",
      "│ total_train               │ 0.00089 │     nan │\n",
      "└───────────────────────────┴─────────┴─────────┘\n",
      "\n"
     ]
    },
    {
     "data": {
      "application/vnd.jupyter.widget-view+json": {
       "model_id": "",
       "version_major": 2,
       "version_minor": 0
      },
      "text/plain": [
       "Validation: 0it [00:00, ?it/s]"
      ]
     },
     "metadata": {},
     "output_type": "display_data"
    },
    {
     "data": {
      "text/html": [
       "<pre style=\"white-space:pre;overflow-x:auto;line-height:normal;font-family:Menlo,'DejaVu Sans Mono',consolas,'Courier New',monospace\"></pre>\n"
      ],
      "text/plain": []
     },
     "metadata": {},
     "output_type": "display_data"
    },
    {
     "name": "stdout",
     "output_type": "stream",
     "text": [
      "\u001b[3m               Validation epoch=15               \u001b[0m\n",
      "┏━━━━━━━━━━━━━━━━━━━━━━━━━━━┳━━━━━━━━━┳━━━━━━━━━┓\n",
      "┃\u001b[1m \u001b[0m\u001b[1mMetric                   \u001b[0m\u001b[1m \u001b[0m┃\u001b[1m \u001b[0m\u001b[1m  Value\u001b[0m\u001b[1m \u001b[0m┃\u001b[1m \u001b[0m\u001b[1m  Error\u001b[0m\u001b[1m \u001b[0m┃\n",
      "┡━━━━━━━━━━━━━━━━━━━━━━━━━━━╇━━━━━━━━━╇━━━━━━━━━┩\n",
      "│ attractive                │ 0.00065 │ 0.00000 │\n",
      "│ attractive_train          │ 0.00068 │     nan │\n",
      "│ attractive_weighted       │ 0.00065 │ 0.00000 │\n",
      "│ attractive_weighted_train │ 0.00068 │     nan │\n",
      "│ repulsive                 │ 0.00144 │ 0.00002 │\n",
      "│ repulsive_train           │ 0.00140 │     nan │\n",
      "│ repulsive_weighted        │ 0.00029 │ 0.00000 │\n",
      "│ repulsive_weighted_train  │ 0.00028 │     nan │\n",
      "│ total                     │ 0.00094 │ 0.00001 │\n",
      "│ total_train               │ 0.00096 │     nan │\n",
      "└───────────────────────────┴─────────┴─────────┘\n",
      "\n"
     ]
    },
    {
     "data": {
      "application/vnd.jupyter.widget-view+json": {
       "model_id": "",
       "version_major": 2,
       "version_minor": 0
      },
      "text/plain": [
       "Validation: 0it [00:00, ?it/s]"
      ]
     },
     "metadata": {},
     "output_type": "display_data"
    },
    {
     "data": {
      "text/html": [
       "<pre style=\"white-space:pre;overflow-x:auto;line-height:normal;font-family:Menlo,'DejaVu Sans Mono',consolas,'Courier New',monospace\"></pre>\n"
      ],
      "text/plain": []
     },
     "metadata": {},
     "output_type": "display_data"
    },
    {
     "name": "stdout",
     "output_type": "stream",
     "text": [
      "\u001b[3m               Validation epoch=16               \u001b[0m\n",
      "┏━━━━━━━━━━━━━━━━━━━━━━━━━━━┳━━━━━━━━━┳━━━━━━━━━┓\n",
      "┃\u001b[1m \u001b[0m\u001b[1mMetric                   \u001b[0m\u001b[1m \u001b[0m┃\u001b[1m \u001b[0m\u001b[1m  Value\u001b[0m\u001b[1m \u001b[0m┃\u001b[1m \u001b[0m\u001b[1m  Error\u001b[0m\u001b[1m \u001b[0m┃\n",
      "┡━━━━━━━━━━━━━━━━━━━━━━━━━━━╇━━━━━━━━━╇━━━━━━━━━┩\n",
      "│ attractive                │ 0.00065 │ 0.00000 │\n",
      "│ attractive_train          │ 0.00061 │     nan │\n",
      "│ attractive_weighted       │ 0.00065 │ 0.00000 │\n",
      "│ attractive_weighted_train │ 0.00061 │     nan │\n",
      "│ repulsive                 │ 0.00155 │ 0.00002 │\n",
      "│ repulsive_train           │ 0.00132 │     nan │\n",
      "│ repulsive_weighted        │ 0.00031 │ 0.00000 │\n",
      "│ repulsive_weighted_train  │ 0.00026 │     nan │\n",
      "│ total                     │ 0.00096 │ 0.00001 │\n",
      "│ total_train               │ 0.00088 │     nan │\n",
      "└───────────────────────────┴─────────┴─────────┘\n",
      "\n"
     ]
    },
    {
     "data": {
      "application/vnd.jupyter.widget-view+json": {
       "model_id": "",
       "version_major": 2,
       "version_minor": 0
      },
      "text/plain": [
       "Validation: 0it [00:00, ?it/s]"
      ]
     },
     "metadata": {},
     "output_type": "display_data"
    },
    {
     "data": {
      "text/html": [
       "<pre style=\"white-space:pre;overflow-x:auto;line-height:normal;font-family:Menlo,'DejaVu Sans Mono',consolas,'Courier New',monospace\"></pre>\n"
      ],
      "text/plain": []
     },
     "metadata": {},
     "output_type": "display_data"
    },
    {
     "name": "stdout",
     "output_type": "stream",
     "text": [
      "\u001b[3m               Validation epoch=17               \u001b[0m\n",
      "┏━━━━━━━━━━━━━━━━━━━━━━━━━━━┳━━━━━━━━━┳━━━━━━━━━┓\n",
      "┃\u001b[1m \u001b[0m\u001b[1mMetric                   \u001b[0m\u001b[1m \u001b[0m┃\u001b[1m \u001b[0m\u001b[1m  Value\u001b[0m\u001b[1m \u001b[0m┃\u001b[1m \u001b[0m\u001b[1m  Error\u001b[0m\u001b[1m \u001b[0m┃\n",
      "┡━━━━━━━━━━━━━━━━━━━━━━━━━━━╇━━━━━━━━━╇━━━━━━━━━┩\n",
      "│ attractive                │ 0.00066 │ 0.00000 │\n",
      "│ attractive_train          │ 0.00060 │     nan │\n",
      "│ attractive_weighted       │ 0.00066 │ 0.00000 │\n",
      "│ attractive_weighted_train │ 0.00060 │     nan │\n",
      "│ repulsive                 │ 0.00135 │ 0.00002 │\n",
      "│ repulsive_train           │ 0.00121 │     nan │\n",
      "│ repulsive_weighted        │ 0.00027 │ 0.00000 │\n",
      "│ repulsive_weighted_train  │ 0.00024 │     nan │\n",
      "│ total                     │ 0.00093 │ 0.00001 │\n",
      "│ total_train               │ 0.00084 │     nan │\n",
      "└───────────────────────────┴─────────┴─────────┘\n",
      "\n"
     ]
    },
    {
     "data": {
      "application/vnd.jupyter.widget-view+json": {
       "model_id": "",
       "version_major": 2,
       "version_minor": 0
      },
      "text/plain": [
       "Validation: 0it [00:00, ?it/s]"
      ]
     },
     "metadata": {},
     "output_type": "display_data"
    },
    {
     "data": {
      "text/html": [
       "<pre style=\"white-space:pre;overflow-x:auto;line-height:normal;font-family:Menlo,'DejaVu Sans Mono',consolas,'Courier New',monospace\"></pre>\n"
      ],
      "text/plain": []
     },
     "metadata": {},
     "output_type": "display_data"
    },
    {
     "name": "stdout",
     "output_type": "stream",
     "text": [
      "\u001b[3m               Validation epoch=18               \u001b[0m\n",
      "┏━━━━━━━━━━━━━━━━━━━━━━━━━━━┳━━━━━━━━━┳━━━━━━━━━┓\n",
      "┃\u001b[1m \u001b[0m\u001b[1mMetric                   \u001b[0m\u001b[1m \u001b[0m┃\u001b[1m \u001b[0m\u001b[1m  Value\u001b[0m\u001b[1m \u001b[0m┃\u001b[1m \u001b[0m\u001b[1m  Error\u001b[0m\u001b[1m \u001b[0m┃\n",
      "┡━━━━━━━━━━━━━━━━━━━━━━━━━━━╇━━━━━━━━━╇━━━━━━━━━┩\n",
      "│ attractive                │ 0.00060 │ 0.00000 │\n",
      "│ attractive_train          │ 0.00065 │     nan │\n",
      "│ attractive_weighted       │ 0.00060 │ 0.00000 │\n",
      "│ attractive_weighted_train │ 0.00065 │     nan │\n",
      "│ repulsive                 │ 0.00130 │ 0.00002 │\n",
      "│ repulsive_train           │ 0.00133 │     nan │\n",
      "│ repulsive_weighted        │ 0.00026 │ 0.00000 │\n",
      "│ repulsive_weighted_train  │ 0.00027 │     nan │\n",
      "│ total                     │ 0.00086 │ 0.00001 │\n",
      "│ total_train               │ 0.00092 │     nan │\n",
      "└───────────────────────────┴─────────┴─────────┘\n",
      "\n"
     ]
    },
    {
     "data": {
      "application/vnd.jupyter.widget-view+json": {
       "model_id": "",
       "version_major": 2,
       "version_minor": 0
      },
      "text/plain": [
       "Validation: 0it [00:00, ?it/s]"
      ]
     },
     "metadata": {},
     "output_type": "display_data"
    },
    {
     "data": {
      "text/html": [
       "<pre style=\"white-space:pre;overflow-x:auto;line-height:normal;font-family:Menlo,'DejaVu Sans Mono',consolas,'Courier New',monospace\"></pre>\n"
      ],
      "text/plain": []
     },
     "metadata": {},
     "output_type": "display_data"
    },
    {
     "name": "stdout",
     "output_type": "stream",
     "text": [
      "\u001b[3m               Validation epoch=19               \u001b[0m\n",
      "┏━━━━━━━━━━━━━━━━━━━━━━━━━━━┳━━━━━━━━━┳━━━━━━━━━┓\n",
      "┃\u001b[1m \u001b[0m\u001b[1mMetric                   \u001b[0m\u001b[1m \u001b[0m┃\u001b[1m \u001b[0m\u001b[1m  Value\u001b[0m\u001b[1m \u001b[0m┃\u001b[1m \u001b[0m\u001b[1m  Error\u001b[0m\u001b[1m \u001b[0m┃\n",
      "┡━━━━━━━━━━━━━━━━━━━━━━━━━━━╇━━━━━━━━━╇━━━━━━━━━┩\n",
      "│ attractive                │ 0.00064 │ 0.00000 │\n",
      "│ attractive_train          │ 0.00058 │     nan │\n",
      "│ attractive_weighted       │ 0.00064 │ 0.00000 │\n",
      "│ attractive_weighted_train │ 0.00058 │     nan │\n",
      "│ repulsive                 │ 0.00133 │ 0.00002 │\n",
      "│ repulsive_train           │ 0.00129 │     nan │\n",
      "│ repulsive_weighted        │ 0.00027 │ 0.00000 │\n",
      "│ repulsive_weighted_train  │ 0.00026 │     nan │\n",
      "│ total                     │ 0.00091 │ 0.00001 │\n",
      "│ total_train               │ 0.00084 │     nan │\n",
      "└───────────────────────────┴─────────┴─────────┘\n",
      "\n"
     ]
    },
    {
     "data": {
      "application/vnd.jupyter.widget-view+json": {
       "model_id": "",
       "version_major": 2,
       "version_minor": 0
      },
      "text/plain": [
       "Validation: 0it [00:00, ?it/s]"
      ]
     },
     "metadata": {},
     "output_type": "display_data"
    },
    {
     "data": {
      "text/html": [
       "<pre style=\"white-space:pre;overflow-x:auto;line-height:normal;font-family:Menlo,'DejaVu Sans Mono',consolas,'Courier New',monospace\"></pre>\n"
      ],
      "text/plain": []
     },
     "metadata": {},
     "output_type": "display_data"
    },
    {
     "name": "stderr",
     "output_type": "stream",
     "text": [
      "`Trainer.fit` stopped: `max_epochs=20` reached.\n",
      "GPU available: True (cuda), used: True\n",
      "TPU available: False, using: 0 TPU cores\n",
      "IPU available: False, using: 0 IPUs\n",
      "HPU available: False, using: 0 HPUs\n",
      "You are using a CUDA device ('NVIDIA A100-SXM4-80GB') that has Tensor Cores. To properly utilize them, you should set `torch.set_float32_matmul_precision('medium' | 'high')` which will trade-off precision for performance. For more details, read https://pytorch.org/docs/stable/generated/torch.set_float32_matmul_precision.html#torch.set_float32_matmul_precision\n",
      "\u001b[32m[03:38:16] INFO: DataLoader will load 810 graphs (out of 900 available).\u001b[0m\n",
      "\u001b[36m[03:38:16] DEBUG: First graph is /scratch/gpfs/IOJALVO/gnn-tracking/object_condensation/point_clouds_v5/part1_pt1/part_1_0/data21025_s0.pt, last graph is /scratch/gpfs/IOJALVO/gnn-tracking/object_condensation/point_clouds_v5/part1_pt1/part_1_8/data21999_s0.pt\u001b[0m\n",
      "\u001b[32m[03:38:16] INFO: DataLoader will load 90 graphs (out of 900 available).\u001b[0m\n",
      "\u001b[36m[03:38:16] DEBUG: First graph is /scratch/gpfs/IOJALVO/gnn-tracking/object_condensation/point_clouds_v5/part1_pt1/part_1_9/data21009_s0.pt, last graph is /scratch/gpfs/IOJALVO/gnn-tracking/object_condensation/point_clouds_v5/part1_pt1/part_1_9/data21986_s0.pt\u001b[0m\n",
      "/scratch/gpfs/dc3896/micromamba/envs/gnn/lib/python3.10/site-packages/pytorch_lightning/callbacks/model_checkpoint.py:615: UserWarning: Checkpoint directory /home/dc3896/notebooks/lightning_logs/version_49016548/checkpoints exists and is not empty.\n",
      "  rank_zero_warn(f\"Checkpoint directory {dirpath} exists and is not empty.\")\n",
      "LOCAL_RANK: 0 - CUDA_VISIBLE_DEVICES: [0]\n",
      "\n",
      "  | Name     | Type                                | Params\n",
      "-----------------------------------------------------------------\n",
      "0 | model    | GraphConstructionFCNN               | 17.9 K\n",
      "1 | loss_fct | GraphConstructionHingeEmbeddingLoss | 0     \n",
      "-----------------------------------------------------------------\n",
      "17.9 K    Trainable params\n",
      "0         Non-trainable params\n",
      "17.9 K    Total params\n",
      "0.072     Total estimated model params size (MB)\n",
      "SLURM auto-requeueing enabled. Setting signal handlers.\n"
     ]
    },
    {
     "name": "stdout",
     "output_type": "stream",
     "text": [
      "\u001b[3m               Validation epoch=20               \u001b[0m\n",
      "┏━━━━━━━━━━━━━━━━━━━━━━━━━━━┳━━━━━━━━━┳━━━━━━━━━┓\n",
      "┃\u001b[1m \u001b[0m\u001b[1mMetric                   \u001b[0m\u001b[1m \u001b[0m┃\u001b[1m \u001b[0m\u001b[1m  Value\u001b[0m\u001b[1m \u001b[0m┃\u001b[1m \u001b[0m\u001b[1m  Error\u001b[0m\u001b[1m \u001b[0m┃\n",
      "┡━━━━━━━━━━━━━━━━━━━━━━━━━━━╇━━━━━━━━━╇━━━━━━━━━┩\n",
      "│ attractive                │ 0.00058 │ 0.00000 │\n",
      "│ attractive_train          │ 0.00057 │     nan │\n",
      "│ attractive_weighted       │ 0.00058 │ 0.00000 │\n",
      "│ attractive_weighted_train │ 0.00057 │     nan │\n",
      "│ repulsive                 │ 0.00124 │ 0.00002 │\n",
      "│ repulsive_train           │ 0.00111 │     nan │\n",
      "│ repulsive_weighted        │ 0.00025 │ 0.00000 │\n",
      "│ repulsive_weighted_train  │ 0.00022 │     nan │\n",
      "│ total                     │ 0.00083 │ 0.00001 │\n",
      "│ total_train               │ 0.00080 │     nan │\n",
      "└───────────────────────────┴─────────┴─────────┘\n",
      "\n",
      "\n",
      "\n",
      "Training for scaling coefficients = 0.5\n"
     ]
    },
    {
     "data": {
      "application/vnd.jupyter.widget-view+json": {
       "model_id": "",
       "version_major": 2,
       "version_minor": 0
      },
      "text/plain": [
       "Sanity Checking: 0it [00:00, ?it/s]"
      ]
     },
     "metadata": {},
     "output_type": "display_data"
    },
    {
     "name": "stderr",
     "output_type": "stream",
     "text": [
      "/scratch/gpfs/dc3896/micromamba/envs/gnn/lib/python3.10/site-packages/pytorch_lightning/trainer/connectors/data_connector.py:432: PossibleUserWarning: The dataloader, val_dataloader, does not have many workers which may be a bottleneck. Consider increasing the value of the `num_workers` argument` (try 48 which is the number of cpus on this machine) in the `DataLoader` init to improve performance.\n",
      "  rank_zero_warn(\n"
     ]
    },
    {
     "data": {
      "text/html": [
       "<pre style=\"white-space:pre;overflow-x:auto;line-height:normal;font-family:Menlo,'DejaVu Sans Mono',consolas,'Courier New',monospace\"></pre>\n"
      ],
      "text/plain": []
     },
     "metadata": {},
     "output_type": "display_data"
    },
    {
     "name": "stderr",
     "output_type": "stream",
     "text": [
      "/scratch/gpfs/dc3896/micromamba/envs/gnn/lib/python3.10/site-packages/pytorch_lightning/trainer/connectors/data_connector.py:432: PossibleUserWarning: The dataloader, train_dataloader, does not have many workers which may be a bottleneck. Consider increasing the value of the `num_workers` argument` (try 48 which is the number of cpus on this machine) in the `DataLoader` init to improve performance.\n",
      "  rank_zero_warn(\n"
     ]
    },
    {
     "data": {
      "application/vnd.jupyter.widget-view+json": {
       "model_id": "2f5d74c2ec9f4603a3c8831a9251a769",
       "version_major": 2,
       "version_minor": 0
      },
      "text/plain": [
       "Training: 0it [00:00, ?it/s]"
      ]
     },
     "metadata": {},
     "output_type": "display_data"
    },
    {
     "data": {
      "application/vnd.jupyter.widget-view+json": {
       "model_id": "",
       "version_major": 2,
       "version_minor": 0
      },
      "text/plain": [
       "Validation: 0it [00:00, ?it/s]"
      ]
     },
     "metadata": {},
     "output_type": "display_data"
    },
    {
     "data": {
      "text/html": [
       "<pre style=\"white-space:pre;overflow-x:auto;line-height:normal;font-family:Menlo,'DejaVu Sans Mono',consolas,'Courier New',monospace\"></pre>\n"
      ],
      "text/plain": []
     },
     "metadata": {},
     "output_type": "display_data"
    },
    {
     "name": "stdout",
     "output_type": "stream",
     "text": [
      "\u001b[3m               Validation epoch=1                \u001b[0m\n",
      "┏━━━━━━━━━━━━━━━━━━━━━━━━━━━┳━━━━━━━━━┳━━━━━━━━━┓\n",
      "┃\u001b[1m \u001b[0m\u001b[1mMetric                   \u001b[0m\u001b[1m \u001b[0m┃\u001b[1m \u001b[0m\u001b[1m  Value\u001b[0m\u001b[1m \u001b[0m┃\u001b[1m \u001b[0m\u001b[1m  Error\u001b[0m\u001b[1m \u001b[0m┃\n",
      "┡━━━━━━━━━━━━━━━━━━━━━━━━━━━╇━━━━━━━━━╇━━━━━━━━━┩\n",
      "│ attractive                │ 0.00188 │ 0.00001 │\n",
      "│ attractive_train          │ 0.00182 │     nan │\n",
      "│ attractive_weighted       │ 0.00188 │ 0.00001 │\n",
      "│ attractive_weighted_train │ 0.00182 │     nan │\n",
      "│ repulsive                 │ 0.00127 │ 0.00002 │\n",
      "│ repulsive_train           │ 0.00117 │     nan │\n",
      "│ repulsive_weighted        │ 0.00064 │ 0.00001 │\n",
      "│ repulsive_weighted_train  │ 0.00058 │     nan │\n",
      "│ total                     │ 0.00252 │ 0.00001 │\n",
      "│ total_train               │ 0.00241 │     nan │\n",
      "└───────────────────────────┴─────────┴─────────┘\n",
      "\n"
     ]
    },
    {
     "data": {
      "application/vnd.jupyter.widget-view+json": {
       "model_id": "",
       "version_major": 2,
       "version_minor": 0
      },
      "text/plain": [
       "Validation: 0it [00:00, ?it/s]"
      ]
     },
     "metadata": {},
     "output_type": "display_data"
    },
    {
     "data": {
      "text/html": [
       "<pre style=\"white-space:pre;overflow-x:auto;line-height:normal;font-family:Menlo,'DejaVu Sans Mono',consolas,'Courier New',monospace\"></pre>\n"
      ],
      "text/plain": []
     },
     "metadata": {},
     "output_type": "display_data"
    },
    {
     "name": "stdout",
     "output_type": "stream",
     "text": [
      "\u001b[3m               Validation epoch=2                \u001b[0m\n",
      "┏━━━━━━━━━━━━━━━━━━━━━━━━━━━┳━━━━━━━━━┳━━━━━━━━━┓\n",
      "┃\u001b[1m \u001b[0m\u001b[1mMetric                   \u001b[0m\u001b[1m \u001b[0m┃\u001b[1m \u001b[0m\u001b[1m  Value\u001b[0m\u001b[1m \u001b[0m┃\u001b[1m \u001b[0m\u001b[1m  Error\u001b[0m\u001b[1m \u001b[0m┃\n",
      "┡━━━━━━━━━━━━━━━━━━━━━━━━━━━╇━━━━━━━━━╇━━━━━━━━━┩\n",
      "│ attractive                │ 0.00159 │ 0.00001 │\n",
      "│ attractive_train          │ 0.00150 │     nan │\n",
      "│ attractive_weighted       │ 0.00159 │ 0.00001 │\n",
      "│ attractive_weighted_train │ 0.00150 │     nan │\n",
      "│ repulsive                 │ 0.00121 │ 0.00002 │\n",
      "│ repulsive_train           │ 0.00130 │     nan │\n",
      "│ repulsive_weighted        │ 0.00061 │ 0.00001 │\n",
      "│ repulsive_weighted_train  │ 0.00065 │     nan │\n",
      "│ total                     │ 0.00220 │ 0.00001 │\n",
      "│ total_train               │ 0.00215 │     nan │\n",
      "└───────────────────────────┴─────────┴─────────┘\n",
      "\n"
     ]
    },
    {
     "data": {
      "application/vnd.jupyter.widget-view+json": {
       "model_id": "",
       "version_major": 2,
       "version_minor": 0
      },
      "text/plain": [
       "Validation: 0it [00:00, ?it/s]"
      ]
     },
     "metadata": {},
     "output_type": "display_data"
    },
    {
     "data": {
      "text/html": [
       "<pre style=\"white-space:pre;overflow-x:auto;line-height:normal;font-family:Menlo,'DejaVu Sans Mono',consolas,'Courier New',monospace\"></pre>\n"
      ],
      "text/plain": []
     },
     "metadata": {},
     "output_type": "display_data"
    },
    {
     "name": "stdout",
     "output_type": "stream",
     "text": [
      "\u001b[3m               Validation epoch=3                \u001b[0m\n",
      "┏━━━━━━━━━━━━━━━━━━━━━━━━━━━┳━━━━━━━━━┳━━━━━━━━━┓\n",
      "┃\u001b[1m \u001b[0m\u001b[1mMetric                   \u001b[0m\u001b[1m \u001b[0m┃\u001b[1m \u001b[0m\u001b[1m  Value\u001b[0m\u001b[1m \u001b[0m┃\u001b[1m \u001b[0m\u001b[1m  Error\u001b[0m\u001b[1m \u001b[0m┃\n",
      "┡━━━━━━━━━━━━━━━━━━━━━━━━━━━╇━━━━━━━━━╇━━━━━━━━━┩\n",
      "│ attractive                │ 0.00144 │ 0.00001 │\n",
      "│ attractive_train          │ 0.00153 │     nan │\n",
      "│ attractive_weighted       │ 0.00144 │ 0.00001 │\n",
      "│ attractive_weighted_train │ 0.00153 │     nan │\n",
      "│ repulsive                 │ 0.00110 │ 0.00002 │\n",
      "│ repulsive_train           │ 0.00099 │     nan │\n",
      "│ repulsive_weighted        │ 0.00055 │ 0.00001 │\n",
      "│ repulsive_weighted_train  │ 0.00050 │     nan │\n",
      "│ total                     │ 0.00199 │ 0.00001 │\n",
      "│ total_train               │ 0.00203 │     nan │\n",
      "└───────────────────────────┴─────────┴─────────┘\n",
      "\n"
     ]
    },
    {
     "data": {
      "application/vnd.jupyter.widget-view+json": {
       "model_id": "",
       "version_major": 2,
       "version_minor": 0
      },
      "text/plain": [
       "Validation: 0it [00:00, ?it/s]"
      ]
     },
     "metadata": {},
     "output_type": "display_data"
    },
    {
     "data": {
      "text/html": [
       "<pre style=\"white-space:pre;overflow-x:auto;line-height:normal;font-family:Menlo,'DejaVu Sans Mono',consolas,'Courier New',monospace\"></pre>\n"
      ],
      "text/plain": []
     },
     "metadata": {},
     "output_type": "display_data"
    },
    {
     "name": "stdout",
     "output_type": "stream",
     "text": [
      "\u001b[3m               Validation epoch=4                \u001b[0m\n",
      "┏━━━━━━━━━━━━━━━━━━━━━━━━━━━┳━━━━━━━━━┳━━━━━━━━━┓\n",
      "┃\u001b[1m \u001b[0m\u001b[1mMetric                   \u001b[0m\u001b[1m \u001b[0m┃\u001b[1m \u001b[0m\u001b[1m  Value\u001b[0m\u001b[1m \u001b[0m┃\u001b[1m \u001b[0m\u001b[1m  Error\u001b[0m\u001b[1m \u001b[0m┃\n",
      "┡━━━━━━━━━━━━━━━━━━━━━━━━━━━╇━━━━━━━━━╇━━━━━━━━━┩\n",
      "│ attractive                │ 0.00132 │ 0.00001 │\n",
      "│ attractive_train          │ 0.00132 │     nan │\n",
      "│ attractive_weighted       │ 0.00132 │ 0.00001 │\n",
      "│ attractive_weighted_train │ 0.00132 │     nan │\n",
      "│ repulsive                 │ 0.00097 │ 0.00002 │\n",
      "│ repulsive_train           │ 0.00103 │     nan │\n",
      "│ repulsive_weighted        │ 0.00049 │ 0.00001 │\n",
      "│ repulsive_weighted_train  │ 0.00052 │     nan │\n",
      "│ total                     │ 0.00181 │ 0.00001 │\n",
      "│ total_train               │ 0.00184 │     nan │\n",
      "└───────────────────────────┴─────────┴─────────┘\n",
      "\n"
     ]
    },
    {
     "data": {
      "application/vnd.jupyter.widget-view+json": {
       "model_id": "",
       "version_major": 2,
       "version_minor": 0
      },
      "text/plain": [
       "Validation: 0it [00:00, ?it/s]"
      ]
     },
     "metadata": {},
     "output_type": "display_data"
    },
    {
     "data": {
      "text/html": [
       "<pre style=\"white-space:pre;overflow-x:auto;line-height:normal;font-family:Menlo,'DejaVu Sans Mono',consolas,'Courier New',monospace\"></pre>\n"
      ],
      "text/plain": []
     },
     "metadata": {},
     "output_type": "display_data"
    },
    {
     "name": "stdout",
     "output_type": "stream",
     "text": [
      "\u001b[3m               Validation epoch=5                \u001b[0m\n",
      "┏━━━━━━━━━━━━━━━━━━━━━━━━━━━┳━━━━━━━━━┳━━━━━━━━━┓\n",
      "┃\u001b[1m \u001b[0m\u001b[1mMetric                   \u001b[0m\u001b[1m \u001b[0m┃\u001b[1m \u001b[0m\u001b[1m  Value\u001b[0m\u001b[1m \u001b[0m┃\u001b[1m \u001b[0m\u001b[1m  Error\u001b[0m\u001b[1m \u001b[0m┃\n",
      "┡━━━━━━━━━━━━━━━━━━━━━━━━━━━╇━━━━━━━━━╇━━━━━━━━━┩\n",
      "│ attractive                │ 0.00113 │ 0.00001 │\n",
      "│ attractive_train          │ 0.00114 │     nan │\n",
      "│ attractive_weighted       │ 0.00113 │ 0.00001 │\n",
      "│ attractive_weighted_train │ 0.00114 │     nan │\n",
      "│ repulsive                 │ 0.00096 │ 0.00002 │\n",
      "│ repulsive_train           │ 0.00113 │     nan │\n",
      "│ repulsive_weighted        │ 0.00048 │ 0.00001 │\n",
      "│ repulsive_weighted_train  │ 0.00057 │     nan │\n",
      "│ total                     │ 0.00161 │ 0.00001 │\n",
      "│ total_train               │ 0.00171 │     nan │\n",
      "└───────────────────────────┴─────────┴─────────┘\n",
      "\n"
     ]
    },
    {
     "data": {
      "application/vnd.jupyter.widget-view+json": {
       "model_id": "",
       "version_major": 2,
       "version_minor": 0
      },
      "text/plain": [
       "Validation: 0it [00:00, ?it/s]"
      ]
     },
     "metadata": {},
     "output_type": "display_data"
    },
    {
     "data": {
      "text/html": [
       "<pre style=\"white-space:pre;overflow-x:auto;line-height:normal;font-family:Menlo,'DejaVu Sans Mono',consolas,'Courier New',monospace\"></pre>\n"
      ],
      "text/plain": []
     },
     "metadata": {},
     "output_type": "display_data"
    },
    {
     "name": "stdout",
     "output_type": "stream",
     "text": [
      "\u001b[3m               Validation epoch=6                \u001b[0m\n",
      "┏━━━━━━━━━━━━━━━━━━━━━━━━━━━┳━━━━━━━━━┳━━━━━━━━━┓\n",
      "┃\u001b[1m \u001b[0m\u001b[1mMetric                   \u001b[0m\u001b[1m \u001b[0m┃\u001b[1m \u001b[0m\u001b[1m  Value\u001b[0m\u001b[1m \u001b[0m┃\u001b[1m \u001b[0m\u001b[1m  Error\u001b[0m\u001b[1m \u001b[0m┃\n",
      "┡━━━━━━━━━━━━━━━━━━━━━━━━━━━╇━━━━━━━━━╇━━━━━━━━━┩\n",
      "│ attractive                │ 0.00116 │ 0.00001 │\n",
      "│ attractive_train          │ 0.00115 │     nan │\n",
      "│ attractive_weighted       │ 0.00116 │ 0.00001 │\n",
      "│ attractive_weighted_train │ 0.00115 │     nan │\n",
      "│ repulsive                 │ 0.00091 │ 0.00002 │\n",
      "│ repulsive_train           │ 0.00101 │     nan │\n",
      "│ repulsive_weighted        │ 0.00045 │ 0.00001 │\n",
      "│ repulsive_weighted_train  │ 0.00050 │     nan │\n",
      "│ total                     │ 0.00161 │ 0.00001 │\n",
      "│ total_train               │ 0.00165 │     nan │\n",
      "└───────────────────────────┴─────────┴─────────┘\n",
      "\n"
     ]
    },
    {
     "data": {
      "application/vnd.jupyter.widget-view+json": {
       "model_id": "",
       "version_major": 2,
       "version_minor": 0
      },
      "text/plain": [
       "Validation: 0it [00:00, ?it/s]"
      ]
     },
     "metadata": {},
     "output_type": "display_data"
    },
    {
     "data": {
      "text/html": [
       "<pre style=\"white-space:pre;overflow-x:auto;line-height:normal;font-family:Menlo,'DejaVu Sans Mono',consolas,'Courier New',monospace\"></pre>\n"
      ],
      "text/plain": []
     },
     "metadata": {},
     "output_type": "display_data"
    },
    {
     "name": "stdout",
     "output_type": "stream",
     "text": [
      "\u001b[3m               Validation epoch=7                \u001b[0m\n",
      "┏━━━━━━━━━━━━━━━━━━━━━━━━━━━┳━━━━━━━━━┳━━━━━━━━━┓\n",
      "┃\u001b[1m \u001b[0m\u001b[1mMetric                   \u001b[0m\u001b[1m \u001b[0m┃\u001b[1m \u001b[0m\u001b[1m  Value\u001b[0m\u001b[1m \u001b[0m┃\u001b[1m \u001b[0m\u001b[1m  Error\u001b[0m\u001b[1m \u001b[0m┃\n",
      "┡━━━━━━━━━━━━━━━━━━━━━━━━━━━╇━━━━━━━━━╇━━━━━━━━━┩\n",
      "│ attractive                │ 0.00113 │ 0.00001 │\n",
      "│ attractive_train          │ 0.00100 │     nan │\n",
      "│ attractive_weighted       │ 0.00113 │ 0.00001 │\n",
      "│ attractive_weighted_train │ 0.00100 │     nan │\n",
      "│ repulsive                 │ 0.00086 │ 0.00001 │\n",
      "│ repulsive_train           │ 0.00089 │     nan │\n",
      "│ repulsive_weighted        │ 0.00043 │ 0.00001 │\n",
      "│ repulsive_weighted_train  │ 0.00044 │     nan │\n",
      "│ total                     │ 0.00156 │ 0.00001 │\n",
      "│ total_train               │ 0.00144 │     nan │\n",
      "└───────────────────────────┴─────────┴─────────┘\n",
      "\n"
     ]
    },
    {
     "data": {
      "application/vnd.jupyter.widget-view+json": {
       "model_id": "",
       "version_major": 2,
       "version_minor": 0
      },
      "text/plain": [
       "Validation: 0it [00:00, ?it/s]"
      ]
     },
     "metadata": {},
     "output_type": "display_data"
    },
    {
     "data": {
      "text/html": [
       "<pre style=\"white-space:pre;overflow-x:auto;line-height:normal;font-family:Menlo,'DejaVu Sans Mono',consolas,'Courier New',monospace\"></pre>\n"
      ],
      "text/plain": []
     },
     "metadata": {},
     "output_type": "display_data"
    },
    {
     "name": "stdout",
     "output_type": "stream",
     "text": [
      "\u001b[3m               Validation epoch=8                \u001b[0m\n",
      "┏━━━━━━━━━━━━━━━━━━━━━━━━━━━┳━━━━━━━━━┳━━━━━━━━━┓\n",
      "┃\u001b[1m \u001b[0m\u001b[1mMetric                   \u001b[0m\u001b[1m \u001b[0m┃\u001b[1m \u001b[0m\u001b[1m  Value\u001b[0m\u001b[1m \u001b[0m┃\u001b[1m \u001b[0m\u001b[1m  Error\u001b[0m\u001b[1m \u001b[0m┃\n",
      "┡━━━━━━━━━━━━━━━━━━━━━━━━━━━╇━━━━━━━━━╇━━━━━━━━━┩\n",
      "│ attractive                │ 0.00107 │ 0.00001 │\n",
      "│ attractive_train          │ 0.00101 │     nan │\n",
      "│ attractive_weighted       │ 0.00107 │ 0.00001 │\n",
      "│ attractive_weighted_train │ 0.00101 │     nan │\n",
      "│ repulsive                 │ 0.00081 │ 0.00001 │\n",
      "│ repulsive_train           │ 0.00093 │     nan │\n",
      "│ repulsive_weighted        │ 0.00041 │ 0.00001 │\n",
      "│ repulsive_weighted_train  │ 0.00046 │     nan │\n",
      "│ total                     │ 0.00147 │ 0.00001 │\n",
      "│ total_train               │ 0.00147 │     nan │\n",
      "└───────────────────────────┴─────────┴─────────┘\n",
      "\n"
     ]
    },
    {
     "data": {
      "application/vnd.jupyter.widget-view+json": {
       "model_id": "",
       "version_major": 2,
       "version_minor": 0
      },
      "text/plain": [
       "Validation: 0it [00:00, ?it/s]"
      ]
     },
     "metadata": {},
     "output_type": "display_data"
    },
    {
     "data": {
      "text/html": [
       "<pre style=\"white-space:pre;overflow-x:auto;line-height:normal;font-family:Menlo,'DejaVu Sans Mono',consolas,'Courier New',monospace\"></pre>\n"
      ],
      "text/plain": []
     },
     "metadata": {},
     "output_type": "display_data"
    },
    {
     "name": "stdout",
     "output_type": "stream",
     "text": [
      "\u001b[3m               Validation epoch=9                \u001b[0m\n",
      "┏━━━━━━━━━━━━━━━━━━━━━━━━━━━┳━━━━━━━━━┳━━━━━━━━━┓\n",
      "┃\u001b[1m \u001b[0m\u001b[1mMetric                   \u001b[0m\u001b[1m \u001b[0m┃\u001b[1m \u001b[0m\u001b[1m  Value\u001b[0m\u001b[1m \u001b[0m┃\u001b[1m \u001b[0m\u001b[1m  Error\u001b[0m\u001b[1m \u001b[0m┃\n",
      "┡━━━━━━━━━━━━━━━━━━━━━━━━━━━╇━━━━━━━━━╇━━━━━━━━━┩\n",
      "│ attractive                │ 0.00097 │ 0.00001 │\n",
      "│ attractive_train          │ 0.00097 │     nan │\n",
      "│ attractive_weighted       │ 0.00097 │ 0.00001 │\n",
      "│ attractive_weighted_train │ 0.00097 │     nan │\n",
      "│ repulsive                 │ 0.00084 │ 0.00001 │\n",
      "│ repulsive_train           │ 0.00072 │     nan │\n",
      "│ repulsive_weighted        │ 0.00042 │ 0.00001 │\n",
      "│ repulsive_weighted_train  │ 0.00036 │     nan │\n",
      "│ total                     │ 0.00139 │ 0.00001 │\n",
      "│ total_train               │ 0.00134 │     nan │\n",
      "└───────────────────────────┴─────────┴─────────┘\n",
      "\n"
     ]
    },
    {
     "data": {
      "application/vnd.jupyter.widget-view+json": {
       "model_id": "",
       "version_major": 2,
       "version_minor": 0
      },
      "text/plain": [
       "Validation: 0it [00:00, ?it/s]"
      ]
     },
     "metadata": {},
     "output_type": "display_data"
    },
    {
     "data": {
      "text/html": [
       "<pre style=\"white-space:pre;overflow-x:auto;line-height:normal;font-family:Menlo,'DejaVu Sans Mono',consolas,'Courier New',monospace\"></pre>\n"
      ],
      "text/plain": []
     },
     "metadata": {},
     "output_type": "display_data"
    },
    {
     "name": "stdout",
     "output_type": "stream",
     "text": [
      "\u001b[3m               Validation epoch=10               \u001b[0m\n",
      "┏━━━━━━━━━━━━━━━━━━━━━━━━━━━┳━━━━━━━━━┳━━━━━━━━━┓\n",
      "┃\u001b[1m \u001b[0m\u001b[1mMetric                   \u001b[0m\u001b[1m \u001b[0m┃\u001b[1m \u001b[0m\u001b[1m  Value\u001b[0m\u001b[1m \u001b[0m┃\u001b[1m \u001b[0m\u001b[1m  Error\u001b[0m\u001b[1m \u001b[0m┃\n",
      "┡━━━━━━━━━━━━━━━━━━━━━━━━━━━╇━━━━━━━━━╇━━━━━━━━━┩\n",
      "│ attractive                │ 0.00107 │ 0.00001 │\n",
      "│ attractive_train          │ 0.00097 │     nan │\n",
      "│ attractive_weighted       │ 0.00107 │ 0.00001 │\n",
      "│ attractive_weighted_train │ 0.00097 │     nan │\n",
      "│ repulsive                 │ 0.00077 │ 0.00001 │\n",
      "│ repulsive_train           │ 0.00098 │     nan │\n",
      "│ repulsive_weighted        │ 0.00038 │ 0.00001 │\n",
      "│ repulsive_weighted_train  │ 0.00049 │     nan │\n",
      "│ total                     │ 0.00145 │ 0.00001 │\n",
      "│ total_train               │ 0.00145 │     nan │\n",
      "└───────────────────────────┴─────────┴─────────┘\n",
      "\n"
     ]
    },
    {
     "data": {
      "application/vnd.jupyter.widget-view+json": {
       "model_id": "",
       "version_major": 2,
       "version_minor": 0
      },
      "text/plain": [
       "Validation: 0it [00:00, ?it/s]"
      ]
     },
     "metadata": {},
     "output_type": "display_data"
    },
    {
     "data": {
      "text/html": [
       "<pre style=\"white-space:pre;overflow-x:auto;line-height:normal;font-family:Menlo,'DejaVu Sans Mono',consolas,'Courier New',monospace\"></pre>\n"
      ],
      "text/plain": []
     },
     "metadata": {},
     "output_type": "display_data"
    },
    {
     "name": "stdout",
     "output_type": "stream",
     "text": [
      "\u001b[3m               Validation epoch=11               \u001b[0m\n",
      "┏━━━━━━━━━━━━━━━━━━━━━━━━━━━┳━━━━━━━━━┳━━━━━━━━━┓\n",
      "┃\u001b[1m \u001b[0m\u001b[1mMetric                   \u001b[0m\u001b[1m \u001b[0m┃\u001b[1m \u001b[0m\u001b[1m  Value\u001b[0m\u001b[1m \u001b[0m┃\u001b[1m \u001b[0m\u001b[1m  Error\u001b[0m\u001b[1m \u001b[0m┃\n",
      "┡━━━━━━━━━━━━━━━━━━━━━━━━━━━╇━━━━━━━━━╇━━━━━━━━━┩\n",
      "│ attractive                │ 0.00091 │ 0.00001 │\n",
      "│ attractive_train          │ 0.00092 │     nan │\n",
      "│ attractive_weighted       │ 0.00091 │ 0.00001 │\n",
      "│ attractive_weighted_train │ 0.00092 │     nan │\n",
      "│ repulsive                 │ 0.00084 │ 0.00001 │\n",
      "│ repulsive_train           │ 0.00075 │     nan │\n",
      "│ repulsive_weighted        │ 0.00042 │ 0.00001 │\n",
      "│ repulsive_weighted_train  │ 0.00037 │     nan │\n",
      "│ total                     │ 0.00133 │ 0.00001 │\n",
      "│ total_train               │ 0.00129 │     nan │\n",
      "└───────────────────────────┴─────────┴─────────┘\n",
      "\n"
     ]
    },
    {
     "data": {
      "application/vnd.jupyter.widget-view+json": {
       "model_id": "",
       "version_major": 2,
       "version_minor": 0
      },
      "text/plain": [
       "Validation: 0it [00:00, ?it/s]"
      ]
     },
     "metadata": {},
     "output_type": "display_data"
    },
    {
     "data": {
      "text/html": [
       "<pre style=\"white-space:pre;overflow-x:auto;line-height:normal;font-family:Menlo,'DejaVu Sans Mono',consolas,'Courier New',monospace\"></pre>\n"
      ],
      "text/plain": []
     },
     "metadata": {},
     "output_type": "display_data"
    },
    {
     "name": "stdout",
     "output_type": "stream",
     "text": [
      "\u001b[3m               Validation epoch=12               \u001b[0m\n",
      "┏━━━━━━━━━━━━━━━━━━━━━━━━━━━┳━━━━━━━━━┳━━━━━━━━━┓\n",
      "┃\u001b[1m \u001b[0m\u001b[1mMetric                   \u001b[0m\u001b[1m \u001b[0m┃\u001b[1m \u001b[0m\u001b[1m  Value\u001b[0m\u001b[1m \u001b[0m┃\u001b[1m \u001b[0m\u001b[1m  Error\u001b[0m\u001b[1m \u001b[0m┃\n",
      "┡━━━━━━━━━━━━━━━━━━━━━━━━━━━╇━━━━━━━━━╇━━━━━━━━━┩\n",
      "│ attractive                │ 0.00091 │ 0.00001 │\n",
      "│ attractive_train          │ 0.00097 │     nan │\n",
      "│ attractive_weighted       │ 0.00091 │ 0.00001 │\n",
      "│ attractive_weighted_train │ 0.00097 │     nan │\n",
      "│ repulsive                 │ 0.00076 │ 0.00001 │\n",
      "│ repulsive_train           │ 0.00077 │     nan │\n",
      "│ repulsive_weighted        │ 0.00038 │ 0.00001 │\n",
      "│ repulsive_weighted_train  │ 0.00039 │     nan │\n",
      "│ total                     │ 0.00129 │ 0.00001 │\n",
      "│ total_train               │ 0.00136 │     nan │\n",
      "└───────────────────────────┴─────────┴─────────┘\n",
      "\n"
     ]
    },
    {
     "data": {
      "application/vnd.jupyter.widget-view+json": {
       "model_id": "",
       "version_major": 2,
       "version_minor": 0
      },
      "text/plain": [
       "Validation: 0it [00:00, ?it/s]"
      ]
     },
     "metadata": {},
     "output_type": "display_data"
    },
    {
     "data": {
      "text/html": [
       "<pre style=\"white-space:pre;overflow-x:auto;line-height:normal;font-family:Menlo,'DejaVu Sans Mono',consolas,'Courier New',monospace\"></pre>\n"
      ],
      "text/plain": []
     },
     "metadata": {},
     "output_type": "display_data"
    },
    {
     "name": "stdout",
     "output_type": "stream",
     "text": [
      "\u001b[3m               Validation epoch=13               \u001b[0m\n",
      "┏━━━━━━━━━━━━━━━━━━━━━━━━━━━┳━━━━━━━━━┳━━━━━━━━━┓\n",
      "┃\u001b[1m \u001b[0m\u001b[1mMetric                   \u001b[0m\u001b[1m \u001b[0m┃\u001b[1m \u001b[0m\u001b[1m  Value\u001b[0m\u001b[1m \u001b[0m┃\u001b[1m \u001b[0m\u001b[1m  Error\u001b[0m\u001b[1m \u001b[0m┃\n",
      "┡━━━━━━━━━━━━━━━━━━━━━━━━━━━╇━━━━━━━━━╇━━━━━━━━━┩\n",
      "│ attractive                │ 0.00083 │ 0.00001 │\n",
      "│ attractive_train          │ 0.00087 │     nan │\n",
      "│ attractive_weighted       │ 0.00083 │ 0.00001 │\n",
      "│ attractive_weighted_train │ 0.00087 │     nan │\n",
      "│ repulsive                 │ 0.00083 │ 0.00001 │\n",
      "│ repulsive_train           │ 0.00067 │     nan │\n",
      "│ repulsive_weighted        │ 0.00041 │ 0.00001 │\n",
      "│ repulsive_weighted_train  │ 0.00033 │     nan │\n",
      "│ total                     │ 0.00124 │ 0.00001 │\n",
      "│ total_train               │ 0.00120 │     nan │\n",
      "└───────────────────────────┴─────────┴─────────┘\n",
      "\n"
     ]
    },
    {
     "data": {
      "application/vnd.jupyter.widget-view+json": {
       "model_id": "",
       "version_major": 2,
       "version_minor": 0
      },
      "text/plain": [
       "Validation: 0it [00:00, ?it/s]"
      ]
     },
     "metadata": {},
     "output_type": "display_data"
    },
    {
     "data": {
      "text/html": [
       "<pre style=\"white-space:pre;overflow-x:auto;line-height:normal;font-family:Menlo,'DejaVu Sans Mono',consolas,'Courier New',monospace\"></pre>\n"
      ],
      "text/plain": []
     },
     "metadata": {},
     "output_type": "display_data"
    },
    {
     "name": "stdout",
     "output_type": "stream",
     "text": [
      "\u001b[3m               Validation epoch=14               \u001b[0m\n",
      "┏━━━━━━━━━━━━━━━━━━━━━━━━━━━┳━━━━━━━━━┳━━━━━━━━━┓\n",
      "┃\u001b[1m \u001b[0m\u001b[1mMetric                   \u001b[0m\u001b[1m \u001b[0m┃\u001b[1m \u001b[0m\u001b[1m  Value\u001b[0m\u001b[1m \u001b[0m┃\u001b[1m \u001b[0m\u001b[1m  Error\u001b[0m\u001b[1m \u001b[0m┃\n",
      "┡━━━━━━━━━━━━━━━━━━━━━━━━━━━╇━━━━━━━━━╇━━━━━━━━━┩\n",
      "│ attractive                │ 0.00088 │ 0.00001 │\n",
      "│ attractive_train          │ 0.00081 │     nan │\n",
      "│ attractive_weighted       │ 0.00088 │ 0.00001 │\n",
      "│ attractive_weighted_train │ 0.00081 │     nan │\n",
      "│ repulsive                 │ 0.00073 │ 0.00001 │\n",
      "│ repulsive_train           │ 0.00078 │     nan │\n",
      "│ repulsive_weighted        │ 0.00037 │ 0.00001 │\n",
      "│ repulsive_weighted_train  │ 0.00039 │     nan │\n",
      "│ total                     │ 0.00124 │ 0.00001 │\n",
      "│ total_train               │ 0.00120 │     nan │\n",
      "└───────────────────────────┴─────────┴─────────┘\n",
      "\n"
     ]
    },
    {
     "data": {
      "application/vnd.jupyter.widget-view+json": {
       "model_id": "",
       "version_major": 2,
       "version_minor": 0
      },
      "text/plain": [
       "Validation: 0it [00:00, ?it/s]"
      ]
     },
     "metadata": {},
     "output_type": "display_data"
    },
    {
     "data": {
      "text/html": [
       "<pre style=\"white-space:pre;overflow-x:auto;line-height:normal;font-family:Menlo,'DejaVu Sans Mono',consolas,'Courier New',monospace\"></pre>\n"
      ],
      "text/plain": []
     },
     "metadata": {},
     "output_type": "display_data"
    },
    {
     "name": "stdout",
     "output_type": "stream",
     "text": [
      "\u001b[3m               Validation epoch=15               \u001b[0m\n",
      "┏━━━━━━━━━━━━━━━━━━━━━━━━━━━┳━━━━━━━━━┳━━━━━━━━━┓\n",
      "┃\u001b[1m \u001b[0m\u001b[1mMetric                   \u001b[0m\u001b[1m \u001b[0m┃\u001b[1m \u001b[0m\u001b[1m  Value\u001b[0m\u001b[1m \u001b[0m┃\u001b[1m \u001b[0m\u001b[1m  Error\u001b[0m\u001b[1m \u001b[0m┃\n",
      "┡━━━━━━━━━━━━━━━━━━━━━━━━━━━╇━━━━━━━━━╇━━━━━━━━━┩\n",
      "│ attractive                │ 0.00082 │ 0.00001 │\n",
      "│ attractive_train          │ 0.00080 │     nan │\n",
      "│ attractive_weighted       │ 0.00082 │ 0.00001 │\n",
      "│ attractive_weighted_train │ 0.00080 │     nan │\n",
      "│ repulsive                 │ 0.00072 │ 0.00001 │\n",
      "│ repulsive_train           │ 0.00092 │     nan │\n",
      "│ repulsive_weighted        │ 0.00036 │ 0.00001 │\n",
      "│ repulsive_weighted_train  │ 0.00046 │     nan │\n",
      "│ total                     │ 0.00118 │ 0.00001 │\n",
      "│ total_train               │ 0.00126 │     nan │\n",
      "└───────────────────────────┴─────────┴─────────┘\n",
      "\n"
     ]
    },
    {
     "data": {
      "application/vnd.jupyter.widget-view+json": {
       "model_id": "",
       "version_major": 2,
       "version_minor": 0
      },
      "text/plain": [
       "Validation: 0it [00:00, ?it/s]"
      ]
     },
     "metadata": {},
     "output_type": "display_data"
    },
    {
     "data": {
      "text/html": [
       "<pre style=\"white-space:pre;overflow-x:auto;line-height:normal;font-family:Menlo,'DejaVu Sans Mono',consolas,'Courier New',monospace\"></pre>\n"
      ],
      "text/plain": []
     },
     "metadata": {},
     "output_type": "display_data"
    },
    {
     "name": "stdout",
     "output_type": "stream",
     "text": [
      "\u001b[3m               Validation epoch=16               \u001b[0m\n",
      "┏━━━━━━━━━━━━━━━━━━━━━━━━━━━┳━━━━━━━━━┳━━━━━━━━━┓\n",
      "┃\u001b[1m \u001b[0m\u001b[1mMetric                   \u001b[0m\u001b[1m \u001b[0m┃\u001b[1m \u001b[0m\u001b[1m  Value\u001b[0m\u001b[1m \u001b[0m┃\u001b[1m \u001b[0m\u001b[1m  Error\u001b[0m\u001b[1m \u001b[0m┃\n",
      "┡━━━━━━━━━━━━━━━━━━━━━━━━━━━╇━━━━━━━━━╇━━━━━━━━━┩\n",
      "│ attractive                │ 0.00086 │ 0.00001 │\n",
      "│ attractive_train          │ 0.00087 │     nan │\n",
      "│ attractive_weighted       │ 0.00086 │ 0.00001 │\n",
      "│ attractive_weighted_train │ 0.00087 │     nan │\n",
      "│ repulsive                 │ 0.00069 │ 0.00001 │\n",
      "│ repulsive_train           │ 0.00069 │     nan │\n",
      "│ repulsive_weighted        │ 0.00034 │ 0.00001 │\n",
      "│ repulsive_weighted_train  │ 0.00034 │     nan │\n",
      "│ total                     │ 0.00120 │ 0.00001 │\n",
      "│ total_train               │ 0.00121 │     nan │\n",
      "└───────────────────────────┴─────────┴─────────┘\n",
      "\n"
     ]
    },
    {
     "data": {
      "application/vnd.jupyter.widget-view+json": {
       "model_id": "",
       "version_major": 2,
       "version_minor": 0
      },
      "text/plain": [
       "Validation: 0it [00:00, ?it/s]"
      ]
     },
     "metadata": {},
     "output_type": "display_data"
    },
    {
     "data": {
      "text/html": [
       "<pre style=\"white-space:pre;overflow-x:auto;line-height:normal;font-family:Menlo,'DejaVu Sans Mono',consolas,'Courier New',monospace\"></pre>\n"
      ],
      "text/plain": []
     },
     "metadata": {},
     "output_type": "display_data"
    },
    {
     "name": "stdout",
     "output_type": "stream",
     "text": [
      "\u001b[3m               Validation epoch=17               \u001b[0m\n",
      "┏━━━━━━━━━━━━━━━━━━━━━━━━━━━┳━━━━━━━━━┳━━━━━━━━━┓\n",
      "┃\u001b[1m \u001b[0m\u001b[1mMetric                   \u001b[0m\u001b[1m \u001b[0m┃\u001b[1m \u001b[0m\u001b[1m  Value\u001b[0m\u001b[1m \u001b[0m┃\u001b[1m \u001b[0m\u001b[1m  Error\u001b[0m\u001b[1m \u001b[0m┃\n",
      "┡━━━━━━━━━━━━━━━━━━━━━━━━━━━╇━━━━━━━━━╇━━━━━━━━━┩\n",
      "│ attractive                │ 0.00079 │ 0.00001 │\n",
      "│ attractive_train          │ 0.00088 │     nan │\n",
      "│ attractive_weighted       │ 0.00079 │ 0.00001 │\n",
      "│ attractive_weighted_train │ 0.00088 │     nan │\n",
      "│ repulsive                 │ 0.00073 │ 0.00001 │\n",
      "│ repulsive_train           │ 0.00078 │     nan │\n",
      "│ repulsive_weighted        │ 0.00036 │ 0.00001 │\n",
      "│ repulsive_weighted_train  │ 0.00039 │     nan │\n",
      "│ total                     │ 0.00116 │ 0.00001 │\n",
      "│ total_train               │ 0.00127 │     nan │\n",
      "└───────────────────────────┴─────────┴─────────┘\n",
      "\n"
     ]
    },
    {
     "data": {
      "application/vnd.jupyter.widget-view+json": {
       "model_id": "",
       "version_major": 2,
       "version_minor": 0
      },
      "text/plain": [
       "Validation: 0it [00:00, ?it/s]"
      ]
     },
     "metadata": {},
     "output_type": "display_data"
    },
    {
     "data": {
      "text/html": [
       "<pre style=\"white-space:pre;overflow-x:auto;line-height:normal;font-family:Menlo,'DejaVu Sans Mono',consolas,'Courier New',monospace\"></pre>\n"
      ],
      "text/plain": []
     },
     "metadata": {},
     "output_type": "display_data"
    },
    {
     "name": "stdout",
     "output_type": "stream",
     "text": [
      "\u001b[3m               Validation epoch=18               \u001b[0m\n",
      "┏━━━━━━━━━━━━━━━━━━━━━━━━━━━┳━━━━━━━━━┳━━━━━━━━━┓\n",
      "┃\u001b[1m \u001b[0m\u001b[1mMetric                   \u001b[0m\u001b[1m \u001b[0m┃\u001b[1m \u001b[0m\u001b[1m  Value\u001b[0m\u001b[1m \u001b[0m┃\u001b[1m \u001b[0m\u001b[1m  Error\u001b[0m\u001b[1m \u001b[0m┃\n",
      "┡━━━━━━━━━━━━━━━━━━━━━━━━━━━╇━━━━━━━━━╇━━━━━━━━━┩\n",
      "│ attractive                │ 0.00080 │ 0.00001 │\n",
      "│ attractive_train          │ 0.00080 │     nan │\n",
      "│ attractive_weighted       │ 0.00080 │ 0.00001 │\n",
      "│ attractive_weighted_train │ 0.00080 │     nan │\n",
      "│ repulsive                 │ 0.00069 │ 0.00001 │\n",
      "│ repulsive_train           │ 0.00075 │     nan │\n",
      "│ repulsive_weighted        │ 0.00035 │ 0.00001 │\n",
      "│ repulsive_weighted_train  │ 0.00037 │     nan │\n",
      "│ total                     │ 0.00115 │ 0.00001 │\n",
      "│ total_train               │ 0.00118 │     nan │\n",
      "└───────────────────────────┴─────────┴─────────┘\n",
      "\n"
     ]
    },
    {
     "data": {
      "application/vnd.jupyter.widget-view+json": {
       "model_id": "",
       "version_major": 2,
       "version_minor": 0
      },
      "text/plain": [
       "Validation: 0it [00:00, ?it/s]"
      ]
     },
     "metadata": {},
     "output_type": "display_data"
    },
    {
     "data": {
      "text/html": [
       "<pre style=\"white-space:pre;overflow-x:auto;line-height:normal;font-family:Menlo,'DejaVu Sans Mono',consolas,'Courier New',monospace\"></pre>\n"
      ],
      "text/plain": []
     },
     "metadata": {},
     "output_type": "display_data"
    },
    {
     "name": "stdout",
     "output_type": "stream",
     "text": [
      "\u001b[3m               Validation epoch=19               \u001b[0m\n",
      "┏━━━━━━━━━━━━━━━━━━━━━━━━━━━┳━━━━━━━━━┳━━━━━━━━━┓\n",
      "┃\u001b[1m \u001b[0m\u001b[1mMetric                   \u001b[0m\u001b[1m \u001b[0m┃\u001b[1m \u001b[0m\u001b[1m  Value\u001b[0m\u001b[1m \u001b[0m┃\u001b[1m \u001b[0m\u001b[1m  Error\u001b[0m\u001b[1m \u001b[0m┃\n",
      "┡━━━━━━━━━━━━━━━━━━━━━━━━━━━╇━━━━━━━━━╇━━━━━━━━━┩\n",
      "│ attractive                │ 0.00084 │ 0.00001 │\n",
      "│ attractive_train          │ 0.00077 │     nan │\n",
      "│ attractive_weighted       │ 0.00084 │ 0.00001 │\n",
      "│ attractive_weighted_train │ 0.00077 │     nan │\n",
      "│ repulsive                 │ 0.00068 │ 0.00001 │\n",
      "│ repulsive_train           │ 0.00083 │     nan │\n",
      "│ repulsive_weighted        │ 0.00034 │ 0.00001 │\n",
      "│ repulsive_weighted_train  │ 0.00042 │     nan │\n",
      "│ total                     │ 0.00118 │ 0.00001 │\n",
      "│ total_train               │ 0.00118 │     nan │\n",
      "└───────────────────────────┴─────────┴─────────┘\n",
      "\n"
     ]
    },
    {
     "data": {
      "application/vnd.jupyter.widget-view+json": {
       "model_id": "",
       "version_major": 2,
       "version_minor": 0
      },
      "text/plain": [
       "Validation: 0it [00:00, ?it/s]"
      ]
     },
     "metadata": {},
     "output_type": "display_data"
    },
    {
     "data": {
      "text/html": [
       "<pre style=\"white-space:pre;overflow-x:auto;line-height:normal;font-family:Menlo,'DejaVu Sans Mono',consolas,'Courier New',monospace\"></pre>\n"
      ],
      "text/plain": []
     },
     "metadata": {},
     "output_type": "display_data"
    },
    {
     "name": "stderr",
     "output_type": "stream",
     "text": [
      "`Trainer.fit` stopped: `max_epochs=20` reached.\n",
      "GPU available: True (cuda), used: True\n",
      "TPU available: False, using: 0 TPU cores\n",
      "IPU available: False, using: 0 IPUs\n",
      "HPU available: False, using: 0 HPUs\n",
      "You are using a CUDA device ('NVIDIA A100-SXM4-80GB') that has Tensor Cores. To properly utilize them, you should set `torch.set_float32_matmul_precision('medium' | 'high')` which will trade-off precision for performance. For more details, read https://pytorch.org/docs/stable/generated/torch.set_float32_matmul_precision.html#torch.set_float32_matmul_precision\n",
      "\u001b[32m[03:39:50] INFO: DataLoader will load 810 graphs (out of 900 available).\u001b[0m\n",
      "\u001b[36m[03:39:50] DEBUG: First graph is /scratch/gpfs/IOJALVO/gnn-tracking/object_condensation/point_clouds_v5/part1_pt1/part_1_0/data21025_s0.pt, last graph is /scratch/gpfs/IOJALVO/gnn-tracking/object_condensation/point_clouds_v5/part1_pt1/part_1_8/data21999_s0.pt\u001b[0m\n",
      "\u001b[32m[03:39:50] INFO: DataLoader will load 90 graphs (out of 900 available).\u001b[0m\n",
      "\u001b[36m[03:39:50] DEBUG: First graph is /scratch/gpfs/IOJALVO/gnn-tracking/object_condensation/point_clouds_v5/part1_pt1/part_1_9/data21009_s0.pt, last graph is /scratch/gpfs/IOJALVO/gnn-tracking/object_condensation/point_clouds_v5/part1_pt1/part_1_9/data21986_s0.pt\u001b[0m\n",
      "/scratch/gpfs/dc3896/micromamba/envs/gnn/lib/python3.10/site-packages/pytorch_lightning/callbacks/model_checkpoint.py:615: UserWarning: Checkpoint directory /home/dc3896/notebooks/lightning_logs/version_49016548/checkpoints exists and is not empty.\n",
      "  rank_zero_warn(f\"Checkpoint directory {dirpath} exists and is not empty.\")\n",
      "LOCAL_RANK: 0 - CUDA_VISIBLE_DEVICES: [0]\n",
      "\n",
      "  | Name     | Type                                | Params\n",
      "-----------------------------------------------------------------\n",
      "0 | model    | GraphConstructionFCNN               | 17.9 K\n",
      "1 | loss_fct | GraphConstructionHingeEmbeddingLoss | 0     \n",
      "-----------------------------------------------------------------\n",
      "17.9 K    Trainable params\n",
      "0         Non-trainable params\n",
      "17.9 K    Total params\n",
      "0.072     Total estimated model params size (MB)\n",
      "SLURM auto-requeueing enabled. Setting signal handlers.\n"
     ]
    },
    {
     "name": "stdout",
     "output_type": "stream",
     "text": [
      "\u001b[3m               Validation epoch=20               \u001b[0m\n",
      "┏━━━━━━━━━━━━━━━━━━━━━━━━━━━┳━━━━━━━━━┳━━━━━━━━━┓\n",
      "┃\u001b[1m \u001b[0m\u001b[1mMetric                   \u001b[0m\u001b[1m \u001b[0m┃\u001b[1m \u001b[0m\u001b[1m  Value\u001b[0m\u001b[1m \u001b[0m┃\u001b[1m \u001b[0m\u001b[1m  Error\u001b[0m\u001b[1m \u001b[0m┃\n",
      "┡━━━━━━━━━━━━━━━━━━━━━━━━━━━╇━━━━━━━━━╇━━━━━━━━━┩\n",
      "│ attractive                │ 0.00080 │ 0.00001 │\n",
      "│ attractive_train          │ 0.00081 │     nan │\n",
      "│ attractive_weighted       │ 0.00080 │ 0.00001 │\n",
      "│ attractive_weighted_train │ 0.00081 │     nan │\n",
      "│ repulsive                 │ 0.00070 │ 0.00001 │\n",
      "│ repulsive_train           │ 0.00075 │     nan │\n",
      "│ repulsive_weighted        │ 0.00035 │ 0.00001 │\n",
      "│ repulsive_weighted_train  │ 0.00038 │     nan │\n",
      "│ total                     │ 0.00115 │ 0.00001 │\n",
      "│ total_train               │ 0.00119 │     nan │\n",
      "└───────────────────────────┴─────────┴─────────┘\n",
      "\n",
      "\n",
      "\n",
      "Training for scaling coefficients = 1.0\n"
     ]
    },
    {
     "data": {
      "application/vnd.jupyter.widget-view+json": {
       "model_id": "",
       "version_major": 2,
       "version_minor": 0
      },
      "text/plain": [
       "Sanity Checking: 0it [00:00, ?it/s]"
      ]
     },
     "metadata": {},
     "output_type": "display_data"
    },
    {
     "name": "stderr",
     "output_type": "stream",
     "text": [
      "/scratch/gpfs/dc3896/micromamba/envs/gnn/lib/python3.10/site-packages/pytorch_lightning/trainer/connectors/data_connector.py:432: PossibleUserWarning: The dataloader, val_dataloader, does not have many workers which may be a bottleneck. Consider increasing the value of the `num_workers` argument` (try 48 which is the number of cpus on this machine) in the `DataLoader` init to improve performance.\n",
      "  rank_zero_warn(\n"
     ]
    },
    {
     "data": {
      "text/html": [
       "<pre style=\"white-space:pre;overflow-x:auto;line-height:normal;font-family:Menlo,'DejaVu Sans Mono',consolas,'Courier New',monospace\"></pre>\n"
      ],
      "text/plain": []
     },
     "metadata": {},
     "output_type": "display_data"
    },
    {
     "name": "stderr",
     "output_type": "stream",
     "text": [
      "/scratch/gpfs/dc3896/micromamba/envs/gnn/lib/python3.10/site-packages/pytorch_lightning/trainer/connectors/data_connector.py:432: PossibleUserWarning: The dataloader, train_dataloader, does not have many workers which may be a bottleneck. Consider increasing the value of the `num_workers` argument` (try 48 which is the number of cpus on this machine) in the `DataLoader` init to improve performance.\n",
      "  rank_zero_warn(\n"
     ]
    },
    {
     "data": {
      "application/vnd.jupyter.widget-view+json": {
       "model_id": "8a7618bfcb2c405ba7aadffe1379cc76",
       "version_major": 2,
       "version_minor": 0
      },
      "text/plain": [
       "Training: 0it [00:00, ?it/s]"
      ]
     },
     "metadata": {},
     "output_type": "display_data"
    },
    {
     "data": {
      "application/vnd.jupyter.widget-view+json": {
       "model_id": "",
       "version_major": 2,
       "version_minor": 0
      },
      "text/plain": [
       "Validation: 0it [00:00, ?it/s]"
      ]
     },
     "metadata": {},
     "output_type": "display_data"
    },
    {
     "data": {
      "text/html": [
       "<pre style=\"white-space:pre;overflow-x:auto;line-height:normal;font-family:Menlo,'DejaVu Sans Mono',consolas,'Courier New',monospace\"></pre>\n"
      ],
      "text/plain": []
     },
     "metadata": {},
     "output_type": "display_data"
    },
    {
     "name": "stdout",
     "output_type": "stream",
     "text": [
      "\u001b[3m               Validation epoch=1                \u001b[0m\n",
      "┏━━━━━━━━━━━━━━━━━━━━━━━━━━━┳━━━━━━━━━┳━━━━━━━━━┓\n",
      "┃\u001b[1m \u001b[0m\u001b[1mMetric                   \u001b[0m\u001b[1m \u001b[0m┃\u001b[1m \u001b[0m\u001b[1m  Value\u001b[0m\u001b[1m \u001b[0m┃\u001b[1m \u001b[0m\u001b[1m  Error\u001b[0m\u001b[1m \u001b[0m┃\n",
      "┡━━━━━━━━━━━━━━━━━━━━━━━━━━━╇━━━━━━━━━╇━━━━━━━━━┩\n",
      "│ attractive                │ 0.00208 │ 0.00001 │\n",
      "│ attractive_train          │ 0.00208 │     nan │\n",
      "│ attractive_weighted       │ 0.00208 │ 0.00001 │\n",
      "│ attractive_weighted_train │ 0.00208 │     nan │\n",
      "│ repulsive                 │ 0.00074 │ 0.00001 │\n",
      "│ repulsive_train           │ 0.00086 │     nan │\n",
      "│ repulsive_weighted        │ 0.00074 │ 0.00001 │\n",
      "│ repulsive_weighted_train  │ 0.00086 │     nan │\n",
      "│ total                     │ 0.00281 │ 0.00002 │\n",
      "│ total_train               │ 0.00295 │     nan │\n",
      "└───────────────────────────┴─────────┴─────────┘\n",
      "\n"
     ]
    },
    {
     "data": {
      "application/vnd.jupyter.widget-view+json": {
       "model_id": "",
       "version_major": 2,
       "version_minor": 0
      },
      "text/plain": [
       "Validation: 0it [00:00, ?it/s]"
      ]
     },
     "metadata": {},
     "output_type": "display_data"
    },
    {
     "data": {
      "text/html": [
       "<pre style=\"white-space:pre;overflow-x:auto;line-height:normal;font-family:Menlo,'DejaVu Sans Mono',consolas,'Courier New',monospace\"></pre>\n"
      ],
      "text/plain": []
     },
     "metadata": {},
     "output_type": "display_data"
    },
    {
     "name": "stdout",
     "output_type": "stream",
     "text": [
      "\u001b[3m               Validation epoch=2                \u001b[0m\n",
      "┏━━━━━━━━━━━━━━━━━━━━━━━━━━━┳━━━━━━━━━┳━━━━━━━━━┓\n",
      "┃\u001b[1m \u001b[0m\u001b[1mMetric                   \u001b[0m\u001b[1m \u001b[0m┃\u001b[1m \u001b[0m\u001b[1m  Value\u001b[0m\u001b[1m \u001b[0m┃\u001b[1m \u001b[0m\u001b[1m  Error\u001b[0m\u001b[1m \u001b[0m┃\n",
      "┡━━━━━━━━━━━━━━━━━━━━━━━━━━━╇━━━━━━━━━╇━━━━━━━━━┩\n",
      "│ attractive                │ 0.00195 │ 0.00001 │\n",
      "│ attractive_train          │ 0.00187 │     nan │\n",
      "│ attractive_weighted       │ 0.00195 │ 0.00001 │\n",
      "│ attractive_weighted_train │ 0.00187 │     nan │\n",
      "│ repulsive                 │ 0.00061 │ 0.00001 │\n",
      "│ repulsive_train           │ 0.00055 │     nan │\n",
      "│ repulsive_weighted        │ 0.00061 │ 0.00001 │\n",
      "│ repulsive_weighted_train  │ 0.00055 │     nan │\n",
      "│ total                     │ 0.00256 │ 0.00001 │\n",
      "│ total_train               │ 0.00242 │     nan │\n",
      "└───────────────────────────┴─────────┴─────────┘\n",
      "\n"
     ]
    },
    {
     "data": {
      "application/vnd.jupyter.widget-view+json": {
       "model_id": "",
       "version_major": 2,
       "version_minor": 0
      },
      "text/plain": [
       "Validation: 0it [00:00, ?it/s]"
      ]
     },
     "metadata": {},
     "output_type": "display_data"
    },
    {
     "data": {
      "text/html": [
       "<pre style=\"white-space:pre;overflow-x:auto;line-height:normal;font-family:Menlo,'DejaVu Sans Mono',consolas,'Courier New',monospace\"></pre>\n"
      ],
      "text/plain": []
     },
     "metadata": {},
     "output_type": "display_data"
    },
    {
     "name": "stdout",
     "output_type": "stream",
     "text": [
      "\u001b[3m               Validation epoch=3                \u001b[0m\n",
      "┏━━━━━━━━━━━━━━━━━━━━━━━━━━━┳━━━━━━━━━┳━━━━━━━━━┓\n",
      "┃\u001b[1m \u001b[0m\u001b[1mMetric                   \u001b[0m\u001b[1m \u001b[0m┃\u001b[1m \u001b[0m\u001b[1m  Value\u001b[0m\u001b[1m \u001b[0m┃\u001b[1m \u001b[0m\u001b[1m  Error\u001b[0m\u001b[1m \u001b[0m┃\n",
      "┡━━━━━━━━━━━━━━━━━━━━━━━━━━━╇━━━━━━━━━╇━━━━━━━━━┩\n",
      "│ attractive                │ 0.00170 │ 0.00001 │\n",
      "│ attractive_train          │ 0.00149 │     nan │\n",
      "│ attractive_weighted       │ 0.00170 │ 0.00001 │\n",
      "│ attractive_weighted_train │ 0.00149 │     nan │\n",
      "│ repulsive                 │ 0.00050 │ 0.00001 │\n",
      "│ repulsive_train           │ 0.00063 │     nan │\n",
      "│ repulsive_weighted        │ 0.00050 │ 0.00001 │\n",
      "│ repulsive_weighted_train  │ 0.00063 │     nan │\n",
      "│ total                     │ 0.00221 │ 0.00001 │\n",
      "│ total_train               │ 0.00213 │     nan │\n",
      "└───────────────────────────┴─────────┴─────────┘\n",
      "\n"
     ]
    },
    {
     "data": {
      "application/vnd.jupyter.widget-view+json": {
       "model_id": "",
       "version_major": 2,
       "version_minor": 0
      },
      "text/plain": [
       "Validation: 0it [00:00, ?it/s]"
      ]
     },
     "metadata": {},
     "output_type": "display_data"
    },
    {
     "data": {
      "text/html": [
       "<pre style=\"white-space:pre;overflow-x:auto;line-height:normal;font-family:Menlo,'DejaVu Sans Mono',consolas,'Courier New',monospace\"></pre>\n"
      ],
      "text/plain": []
     },
     "metadata": {},
     "output_type": "display_data"
    },
    {
     "name": "stdout",
     "output_type": "stream",
     "text": [
      "\u001b[3m               Validation epoch=4                \u001b[0m\n",
      "┏━━━━━━━━━━━━━━━━━━━━━━━━━━━┳━━━━━━━━━┳━━━━━━━━━┓\n",
      "┃\u001b[1m \u001b[0m\u001b[1mMetric                   \u001b[0m\u001b[1m \u001b[0m┃\u001b[1m \u001b[0m\u001b[1m  Value\u001b[0m\u001b[1m \u001b[0m┃\u001b[1m \u001b[0m\u001b[1m  Error\u001b[0m\u001b[1m \u001b[0m┃\n",
      "┡━━━━━━━━━━━━━━━━━━━━━━━━━━━╇━━━━━━━━━╇━━━━━━━━━┩\n",
      "│ attractive                │ 0.00154 │ 0.00001 │\n",
      "│ attractive_train          │ 0.00139 │     nan │\n",
      "│ attractive_weighted       │ 0.00154 │ 0.00001 │\n",
      "│ attractive_weighted_train │ 0.00139 │     nan │\n",
      "│ repulsive                 │ 0.00060 │ 0.00001 │\n",
      "│ repulsive_train           │ 0.00061 │     nan │\n",
      "│ repulsive_weighted        │ 0.00060 │ 0.00001 │\n",
      "│ repulsive_weighted_train  │ 0.00061 │     nan │\n",
      "│ total                     │ 0.00214 │ 0.00001 │\n",
      "│ total_train               │ 0.00199 │     nan │\n",
      "└───────────────────────────┴─────────┴─────────┘\n",
      "\n"
     ]
    },
    {
     "data": {
      "application/vnd.jupyter.widget-view+json": {
       "model_id": "",
       "version_major": 2,
       "version_minor": 0
      },
      "text/plain": [
       "Validation: 0it [00:00, ?it/s]"
      ]
     },
     "metadata": {},
     "output_type": "display_data"
    },
    {
     "data": {
      "text/html": [
       "<pre style=\"white-space:pre;overflow-x:auto;line-height:normal;font-family:Menlo,'DejaVu Sans Mono',consolas,'Courier New',monospace\"></pre>\n"
      ],
      "text/plain": []
     },
     "metadata": {},
     "output_type": "display_data"
    },
    {
     "name": "stdout",
     "output_type": "stream",
     "text": [
      "\u001b[3m               Validation epoch=5                \u001b[0m\n",
      "┏━━━━━━━━━━━━━━━━━━━━━━━━━━━┳━━━━━━━━━┳━━━━━━━━━┓\n",
      "┃\u001b[1m \u001b[0m\u001b[1mMetric                   \u001b[0m\u001b[1m \u001b[0m┃\u001b[1m \u001b[0m\u001b[1m  Value\u001b[0m\u001b[1m \u001b[0m┃\u001b[1m \u001b[0m\u001b[1m  Error\u001b[0m\u001b[1m \u001b[0m┃\n",
      "┡━━━━━━━━━━━━━━━━━━━━━━━━━━━╇━━━━━━━━━╇━━━━━━━━━┩\n",
      "│ attractive                │ 0.00134 │ 0.00001 │\n",
      "│ attractive_train          │ 0.00140 │     nan │\n",
      "│ attractive_weighted       │ 0.00134 │ 0.00001 │\n",
      "│ attractive_weighted_train │ 0.00140 │     nan │\n",
      "│ repulsive                 │ 0.00057 │ 0.00001 │\n",
      "│ repulsive_train           │ 0.00059 │     nan │\n",
      "│ repulsive_weighted        │ 0.00057 │ 0.00001 │\n",
      "│ repulsive_weighted_train  │ 0.00059 │     nan │\n",
      "│ total                     │ 0.00191 │ 0.00001 │\n",
      "│ total_train               │ 0.00199 │     nan │\n",
      "└───────────────────────────┴─────────┴─────────┘\n",
      "\n"
     ]
    },
    {
     "data": {
      "application/vnd.jupyter.widget-view+json": {
       "model_id": "",
       "version_major": 2,
       "version_minor": 0
      },
      "text/plain": [
       "Validation: 0it [00:00, ?it/s]"
      ]
     },
     "metadata": {},
     "output_type": "display_data"
    },
    {
     "data": {
      "text/html": [
       "<pre style=\"white-space:pre;overflow-x:auto;line-height:normal;font-family:Menlo,'DejaVu Sans Mono',consolas,'Courier New',monospace\"></pre>\n"
      ],
      "text/plain": []
     },
     "metadata": {},
     "output_type": "display_data"
    },
    {
     "name": "stdout",
     "output_type": "stream",
     "text": [
      "\u001b[3m               Validation epoch=6                \u001b[0m\n",
      "┏━━━━━━━━━━━━━━━━━━━━━━━━━━━┳━━━━━━━━━┳━━━━━━━━━┓\n",
      "┃\u001b[1m \u001b[0m\u001b[1mMetric                   \u001b[0m\u001b[1m \u001b[0m┃\u001b[1m \u001b[0m\u001b[1m  Value\u001b[0m\u001b[1m \u001b[0m┃\u001b[1m \u001b[0m\u001b[1m  Error\u001b[0m\u001b[1m \u001b[0m┃\n",
      "┡━━━━━━━━━━━━━━━━━━━━━━━━━━━╇━━━━━━━━━╇━━━━━━━━━┩\n",
      "│ attractive                │ 0.00132 │ 0.00001 │\n",
      "│ attractive_train          │ 0.00131 │     nan │\n",
      "│ attractive_weighted       │ 0.00132 │ 0.00001 │\n",
      "│ attractive_weighted_train │ 0.00131 │     nan │\n",
      "│ repulsive                 │ 0.00049 │ 0.00001 │\n",
      "│ repulsive_train           │ 0.00058 │     nan │\n",
      "│ repulsive_weighted        │ 0.00049 │ 0.00001 │\n",
      "│ repulsive_weighted_train  │ 0.00058 │     nan │\n",
      "│ total                     │ 0.00181 │ 0.00001 │\n",
      "│ total_train               │ 0.00189 │     nan │\n",
      "└───────────────────────────┴─────────┴─────────┘\n",
      "\n"
     ]
    },
    {
     "data": {
      "application/vnd.jupyter.widget-view+json": {
       "model_id": "",
       "version_major": 2,
       "version_minor": 0
      },
      "text/plain": [
       "Validation: 0it [00:00, ?it/s]"
      ]
     },
     "metadata": {},
     "output_type": "display_data"
    },
    {
     "data": {
      "text/html": [
       "<pre style=\"white-space:pre;overflow-x:auto;line-height:normal;font-family:Menlo,'DejaVu Sans Mono',consolas,'Courier New',monospace\"></pre>\n"
      ],
      "text/plain": []
     },
     "metadata": {},
     "output_type": "display_data"
    },
    {
     "name": "stdout",
     "output_type": "stream",
     "text": [
      "\u001b[3m               Validation epoch=7                \u001b[0m\n",
      "┏━━━━━━━━━━━━━━━━━━━━━━━━━━━┳━━━━━━━━━┳━━━━━━━━━┓\n",
      "┃\u001b[1m \u001b[0m\u001b[1mMetric                   \u001b[0m\u001b[1m \u001b[0m┃\u001b[1m \u001b[0m\u001b[1m  Value\u001b[0m\u001b[1m \u001b[0m┃\u001b[1m \u001b[0m\u001b[1m  Error\u001b[0m\u001b[1m \u001b[0m┃\n",
      "┡━━━━━━━━━━━━━━━━━━━━━━━━━━━╇━━━━━━━━━╇━━━━━━━━━┩\n",
      "│ attractive                │ 0.00143 │ 0.00001 │\n",
      "│ attractive_train          │ 0.00146 │     nan │\n",
      "│ attractive_weighted       │ 0.00143 │ 0.00001 │\n",
      "│ attractive_weighted_train │ 0.00146 │     nan │\n",
      "│ repulsive                 │ 0.00050 │ 0.00001 │\n",
      "│ repulsive_train           │ 0.00048 │     nan │\n",
      "│ repulsive_weighted        │ 0.00050 │ 0.00001 │\n",
      "│ repulsive_weighted_train  │ 0.00048 │     nan │\n",
      "│ total                     │ 0.00193 │ 0.00001 │\n",
      "│ total_train               │ 0.00195 │     nan │\n",
      "└───────────────────────────┴─────────┴─────────┘\n",
      "\n"
     ]
    },
    {
     "data": {
      "application/vnd.jupyter.widget-view+json": {
       "model_id": "",
       "version_major": 2,
       "version_minor": 0
      },
      "text/plain": [
       "Validation: 0it [00:00, ?it/s]"
      ]
     },
     "metadata": {},
     "output_type": "display_data"
    },
    {
     "data": {
      "text/html": [
       "<pre style=\"white-space:pre;overflow-x:auto;line-height:normal;font-family:Menlo,'DejaVu Sans Mono',consolas,'Courier New',monospace\"></pre>\n"
      ],
      "text/plain": []
     },
     "metadata": {},
     "output_type": "display_data"
    },
    {
     "name": "stdout",
     "output_type": "stream",
     "text": [
      "\u001b[3m               Validation epoch=8                \u001b[0m\n",
      "┏━━━━━━━━━━━━━━━━━━━━━━━━━━━┳━━━━━━━━━┳━━━━━━━━━┓\n",
      "┃\u001b[1m \u001b[0m\u001b[1mMetric                   \u001b[0m\u001b[1m \u001b[0m┃\u001b[1m \u001b[0m\u001b[1m  Value\u001b[0m\u001b[1m \u001b[0m┃\u001b[1m \u001b[0m\u001b[1m  Error\u001b[0m\u001b[1m \u001b[0m┃\n",
      "┡━━━━━━━━━━━━━━━━━━━━━━━━━━━╇━━━━━━━━━╇━━━━━━━━━┩\n",
      "│ attractive                │ 0.00141 │ 0.00001 │\n",
      "│ attractive_train          │ 0.00122 │     nan │\n",
      "│ attractive_weighted       │ 0.00141 │ 0.00001 │\n",
      "│ attractive_weighted_train │ 0.00122 │     nan │\n",
      "│ repulsive                 │ 0.00056 │ 0.00001 │\n",
      "│ repulsive_train           │ 0.00053 │     nan │\n",
      "│ repulsive_weighted        │ 0.00056 │ 0.00001 │\n",
      "│ repulsive_weighted_train  │ 0.00053 │     nan │\n",
      "│ total                     │ 0.00196 │ 0.00001 │\n",
      "│ total_train               │ 0.00175 │     nan │\n",
      "└───────────────────────────┴─────────┴─────────┘\n",
      "\n"
     ]
    },
    {
     "data": {
      "application/vnd.jupyter.widget-view+json": {
       "model_id": "",
       "version_major": 2,
       "version_minor": 0
      },
      "text/plain": [
       "Validation: 0it [00:00, ?it/s]"
      ]
     },
     "metadata": {},
     "output_type": "display_data"
    },
    {
     "data": {
      "text/html": [
       "<pre style=\"white-space:pre;overflow-x:auto;line-height:normal;font-family:Menlo,'DejaVu Sans Mono',consolas,'Courier New',monospace\"></pre>\n"
      ],
      "text/plain": []
     },
     "metadata": {},
     "output_type": "display_data"
    },
    {
     "name": "stdout",
     "output_type": "stream",
     "text": [
      "\u001b[3m               Validation epoch=9                \u001b[0m\n",
      "┏━━━━━━━━━━━━━━━━━━━━━━━━━━━┳━━━━━━━━━┳━━━━━━━━━┓\n",
      "┃\u001b[1m \u001b[0m\u001b[1mMetric                   \u001b[0m\u001b[1m \u001b[0m┃\u001b[1m \u001b[0m\u001b[1m  Value\u001b[0m\u001b[1m \u001b[0m┃\u001b[1m \u001b[0m\u001b[1m  Error\u001b[0m\u001b[1m \u001b[0m┃\n",
      "┡━━━━━━━━━━━━━━━━━━━━━━━━━━━╇━━━━━━━━━╇━━━━━━━━━┩\n",
      "│ attractive                │ 0.00119 │ 0.00001 │\n",
      "│ attractive_train          │ 0.00121 │     nan │\n",
      "│ attractive_weighted       │ 0.00119 │ 0.00001 │\n",
      "│ attractive_weighted_train │ 0.00121 │     nan │\n",
      "│ repulsive                 │ 0.00051 │ 0.00001 │\n",
      "│ repulsive_train           │ 0.00051 │     nan │\n",
      "│ repulsive_weighted        │ 0.00051 │ 0.00001 │\n",
      "│ repulsive_weighted_train  │ 0.00051 │     nan │\n",
      "│ total                     │ 0.00170 │ 0.00001 │\n",
      "│ total_train               │ 0.00172 │     nan │\n",
      "└───────────────────────────┴─────────┴─────────┘\n",
      "\n"
     ]
    },
    {
     "data": {
      "application/vnd.jupyter.widget-view+json": {
       "model_id": "",
       "version_major": 2,
       "version_minor": 0
      },
      "text/plain": [
       "Validation: 0it [00:00, ?it/s]"
      ]
     },
     "metadata": {},
     "output_type": "display_data"
    },
    {
     "data": {
      "text/html": [
       "<pre style=\"white-space:pre;overflow-x:auto;line-height:normal;font-family:Menlo,'DejaVu Sans Mono',consolas,'Courier New',monospace\"></pre>\n"
      ],
      "text/plain": []
     },
     "metadata": {},
     "output_type": "display_data"
    },
    {
     "name": "stdout",
     "output_type": "stream",
     "text": [
      "\u001b[3m               Validation epoch=10               \u001b[0m\n",
      "┏━━━━━━━━━━━━━━━━━━━━━━━━━━━┳━━━━━━━━━┳━━━━━━━━━┓\n",
      "┃\u001b[1m \u001b[0m\u001b[1mMetric                   \u001b[0m\u001b[1m \u001b[0m┃\u001b[1m \u001b[0m\u001b[1m  Value\u001b[0m\u001b[1m \u001b[0m┃\u001b[1m \u001b[0m\u001b[1m  Error\u001b[0m\u001b[1m \u001b[0m┃\n",
      "┡━━━━━━━━━━━━━━━━━━━━━━━━━━━╇━━━━━━━━━╇━━━━━━━━━┩\n",
      "│ attractive                │ 0.00122 │ 0.00001 │\n",
      "│ attractive_train          │ 0.00124 │     nan │\n",
      "│ attractive_weighted       │ 0.00122 │ 0.00001 │\n",
      "│ attractive_weighted_train │ 0.00124 │     nan │\n",
      "│ repulsive                 │ 0.00046 │ 0.00001 │\n",
      "│ repulsive_train           │ 0.00052 │     nan │\n",
      "│ repulsive_weighted        │ 0.00046 │ 0.00001 │\n",
      "│ repulsive_weighted_train  │ 0.00052 │     nan │\n",
      "│ total                     │ 0.00168 │ 0.00001 │\n",
      "│ total_train               │ 0.00176 │     nan │\n",
      "└───────────────────────────┴─────────┴─────────┘\n",
      "\n"
     ]
    },
    {
     "data": {
      "application/vnd.jupyter.widget-view+json": {
       "model_id": "",
       "version_major": 2,
       "version_minor": 0
      },
      "text/plain": [
       "Validation: 0it [00:00, ?it/s]"
      ]
     },
     "metadata": {},
     "output_type": "display_data"
    },
    {
     "data": {
      "text/html": [
       "<pre style=\"white-space:pre;overflow-x:auto;line-height:normal;font-family:Menlo,'DejaVu Sans Mono',consolas,'Courier New',monospace\"></pre>\n"
      ],
      "text/plain": []
     },
     "metadata": {},
     "output_type": "display_data"
    },
    {
     "name": "stdout",
     "output_type": "stream",
     "text": [
      "\u001b[3m               Validation epoch=11               \u001b[0m\n",
      "┏━━━━━━━━━━━━━━━━━━━━━━━━━━━┳━━━━━━━━━┳━━━━━━━━━┓\n",
      "┃\u001b[1m \u001b[0m\u001b[1mMetric                   \u001b[0m\u001b[1m \u001b[0m┃\u001b[1m \u001b[0m\u001b[1m  Value\u001b[0m\u001b[1m \u001b[0m┃\u001b[1m \u001b[0m\u001b[1m  Error\u001b[0m\u001b[1m \u001b[0m┃\n",
      "┡━━━━━━━━━━━━━━━━━━━━━━━━━━━╇━━━━━━━━━╇━━━━━━━━━┩\n",
      "│ attractive                │ 0.00121 │ 0.00001 │\n",
      "│ attractive_train          │ 0.00116 │     nan │\n",
      "│ attractive_weighted       │ 0.00121 │ 0.00001 │\n",
      "│ attractive_weighted_train │ 0.00116 │     nan │\n",
      "│ repulsive                 │ 0.00049 │ 0.00001 │\n",
      "│ repulsive_train           │ 0.00058 │     nan │\n",
      "│ repulsive_weighted        │ 0.00049 │ 0.00001 │\n",
      "│ repulsive_weighted_train  │ 0.00058 │     nan │\n",
      "│ total                     │ 0.00170 │ 0.00001 │\n",
      "│ total_train               │ 0.00174 │     nan │\n",
      "└───────────────────────────┴─────────┴─────────┘\n",
      "\n"
     ]
    },
    {
     "data": {
      "application/vnd.jupyter.widget-view+json": {
       "model_id": "",
       "version_major": 2,
       "version_minor": 0
      },
      "text/plain": [
       "Validation: 0it [00:00, ?it/s]"
      ]
     },
     "metadata": {},
     "output_type": "display_data"
    },
    {
     "data": {
      "text/html": [
       "<pre style=\"white-space:pre;overflow-x:auto;line-height:normal;font-family:Menlo,'DejaVu Sans Mono',consolas,'Courier New',monospace\"></pre>\n"
      ],
      "text/plain": []
     },
     "metadata": {},
     "output_type": "display_data"
    },
    {
     "name": "stdout",
     "output_type": "stream",
     "text": [
      "\u001b[3m               Validation epoch=12               \u001b[0m\n",
      "┏━━━━━━━━━━━━━━━━━━━━━━━━━━━┳━━━━━━━━━┳━━━━━━━━━┓\n",
      "┃\u001b[1m \u001b[0m\u001b[1mMetric                   \u001b[0m\u001b[1m \u001b[0m┃\u001b[1m \u001b[0m\u001b[1m  Value\u001b[0m\u001b[1m \u001b[0m┃\u001b[1m \u001b[0m\u001b[1m  Error\u001b[0m\u001b[1m \u001b[0m┃\n",
      "┡━━━━━━━━━━━━━━━━━━━━━━━━━━━╇━━━━━━━━━╇━━━━━━━━━┩\n",
      "│ attractive                │ 0.00113 │ 0.00001 │\n",
      "│ attractive_train          │ 0.00123 │     nan │\n",
      "│ attractive_weighted       │ 0.00113 │ 0.00001 │\n",
      "│ attractive_weighted_train │ 0.00123 │     nan │\n",
      "│ repulsive                 │ 0.00045 │ 0.00001 │\n",
      "│ repulsive_train           │ 0.00051 │     nan │\n",
      "│ repulsive_weighted        │ 0.00045 │ 0.00001 │\n",
      "│ repulsive_weighted_train  │ 0.00051 │     nan │\n",
      "│ total                     │ 0.00158 │ 0.00001 │\n",
      "│ total_train               │ 0.00174 │     nan │\n",
      "└───────────────────────────┴─────────┴─────────┘\n",
      "\n"
     ]
    },
    {
     "data": {
      "application/vnd.jupyter.widget-view+json": {
       "model_id": "",
       "version_major": 2,
       "version_minor": 0
      },
      "text/plain": [
       "Validation: 0it [00:00, ?it/s]"
      ]
     },
     "metadata": {},
     "output_type": "display_data"
    },
    {
     "data": {
      "text/html": [
       "<pre style=\"white-space:pre;overflow-x:auto;line-height:normal;font-family:Menlo,'DejaVu Sans Mono',consolas,'Courier New',monospace\"></pre>\n"
      ],
      "text/plain": []
     },
     "metadata": {},
     "output_type": "display_data"
    },
    {
     "name": "stdout",
     "output_type": "stream",
     "text": [
      "\u001b[3m               Validation epoch=13               \u001b[0m\n",
      "┏━━━━━━━━━━━━━━━━━━━━━━━━━━━┳━━━━━━━━━┳━━━━━━━━━┓\n",
      "┃\u001b[1m \u001b[0m\u001b[1mMetric                   \u001b[0m\u001b[1m \u001b[0m┃\u001b[1m \u001b[0m\u001b[1m  Value\u001b[0m\u001b[1m \u001b[0m┃\u001b[1m \u001b[0m\u001b[1m  Error\u001b[0m\u001b[1m \u001b[0m┃\n",
      "┡━━━━━━━━━━━━━━━━━━━━━━━━━━━╇━━━━━━━━━╇━━━━━━━━━┩\n",
      "│ attractive                │ 0.00109 │ 0.00001 │\n",
      "│ attractive_train          │ 0.00109 │     nan │\n",
      "│ attractive_weighted       │ 0.00109 │ 0.00001 │\n",
      "│ attractive_weighted_train │ 0.00109 │     nan │\n",
      "│ repulsive                 │ 0.00048 │ 0.00001 │\n",
      "│ repulsive_train           │ 0.00047 │     nan │\n",
      "│ repulsive_weighted        │ 0.00048 │ 0.00001 │\n",
      "│ repulsive_weighted_train  │ 0.00047 │     nan │\n",
      "│ total                     │ 0.00157 │ 0.00001 │\n",
      "│ total_train               │ 0.00156 │     nan │\n",
      "└───────────────────────────┴─────────┴─────────┘\n",
      "\n"
     ]
    },
    {
     "data": {
      "application/vnd.jupyter.widget-view+json": {
       "model_id": "",
       "version_major": 2,
       "version_minor": 0
      },
      "text/plain": [
       "Validation: 0it [00:00, ?it/s]"
      ]
     },
     "metadata": {},
     "output_type": "display_data"
    },
    {
     "data": {
      "text/html": [
       "<pre style=\"white-space:pre;overflow-x:auto;line-height:normal;font-family:Menlo,'DejaVu Sans Mono',consolas,'Courier New',monospace\"></pre>\n"
      ],
      "text/plain": []
     },
     "metadata": {},
     "output_type": "display_data"
    },
    {
     "name": "stdout",
     "output_type": "stream",
     "text": [
      "\u001b[3m               Validation epoch=14               \u001b[0m\n",
      "┏━━━━━━━━━━━━━━━━━━━━━━━━━━━┳━━━━━━━━━┳━━━━━━━━━┓\n",
      "┃\u001b[1m \u001b[0m\u001b[1mMetric                   \u001b[0m\u001b[1m \u001b[0m┃\u001b[1m \u001b[0m\u001b[1m  Value\u001b[0m\u001b[1m \u001b[0m┃\u001b[1m \u001b[0m\u001b[1m  Error\u001b[0m\u001b[1m \u001b[0m┃\n",
      "┡━━━━━━━━━━━━━━━━━━━━━━━━━━━╇━━━━━━━━━╇━━━━━━━━━┩\n",
      "│ attractive                │ 0.00117 │ 0.00001 │\n",
      "│ attractive_train          │ 0.00113 │     nan │\n",
      "│ attractive_weighted       │ 0.00117 │ 0.00001 │\n",
      "│ attractive_weighted_train │ 0.00113 │     nan │\n",
      "│ repulsive                 │ 0.00046 │ 0.00001 │\n",
      "│ repulsive_train           │ 0.00059 │     nan │\n",
      "│ repulsive_weighted        │ 0.00046 │ 0.00001 │\n",
      "│ repulsive_weighted_train  │ 0.00059 │     nan │\n",
      "│ total                     │ 0.00162 │ 0.00001 │\n",
      "│ total_train               │ 0.00172 │     nan │\n",
      "└───────────────────────────┴─────────┴─────────┘\n",
      "\n"
     ]
    },
    {
     "data": {
      "application/vnd.jupyter.widget-view+json": {
       "model_id": "",
       "version_major": 2,
       "version_minor": 0
      },
      "text/plain": [
       "Validation: 0it [00:00, ?it/s]"
      ]
     },
     "metadata": {},
     "output_type": "display_data"
    },
    {
     "data": {
      "text/html": [
       "<pre style=\"white-space:pre;overflow-x:auto;line-height:normal;font-family:Menlo,'DejaVu Sans Mono',consolas,'Courier New',monospace\"></pre>\n"
      ],
      "text/plain": []
     },
     "metadata": {},
     "output_type": "display_data"
    },
    {
     "name": "stdout",
     "output_type": "stream",
     "text": [
      "\u001b[3m               Validation epoch=15               \u001b[0m\n",
      "┏━━━━━━━━━━━━━━━━━━━━━━━━━━━┳━━━━━━━━━┳━━━━━━━━━┓\n",
      "┃\u001b[1m \u001b[0m\u001b[1mMetric                   \u001b[0m\u001b[1m \u001b[0m┃\u001b[1m \u001b[0m\u001b[1m  Value\u001b[0m\u001b[1m \u001b[0m┃\u001b[1m \u001b[0m\u001b[1m  Error\u001b[0m\u001b[1m \u001b[0m┃\n",
      "┡━━━━━━━━━━━━━━━━━━━━━━━━━━━╇━━━━━━━━━╇━━━━━━━━━┩\n",
      "│ attractive                │ 0.00111 │ 0.00001 │\n",
      "│ attractive_train          │ 0.00106 │     nan │\n",
      "│ attractive_weighted       │ 0.00111 │ 0.00001 │\n",
      "│ attractive_weighted_train │ 0.00106 │     nan │\n",
      "│ repulsive                 │ 0.00048 │ 0.00001 │\n",
      "│ repulsive_train           │ 0.00036 │     nan │\n",
      "│ repulsive_weighted        │ 0.00048 │ 0.00001 │\n",
      "│ repulsive_weighted_train  │ 0.00036 │     nan │\n",
      "│ total                     │ 0.00160 │ 0.00001 │\n",
      "│ total_train               │ 0.00141 │     nan │\n",
      "└───────────────────────────┴─────────┴─────────┘\n",
      "\n"
     ]
    },
    {
     "data": {
      "application/vnd.jupyter.widget-view+json": {
       "model_id": "",
       "version_major": 2,
       "version_minor": 0
      },
      "text/plain": [
       "Validation: 0it [00:00, ?it/s]"
      ]
     },
     "metadata": {},
     "output_type": "display_data"
    },
    {
     "data": {
      "text/html": [
       "<pre style=\"white-space:pre;overflow-x:auto;line-height:normal;font-family:Menlo,'DejaVu Sans Mono',consolas,'Courier New',monospace\"></pre>\n"
      ],
      "text/plain": []
     },
     "metadata": {},
     "output_type": "display_data"
    },
    {
     "name": "stdout",
     "output_type": "stream",
     "text": [
      "\u001b[3m               Validation epoch=16               \u001b[0m\n",
      "┏━━━━━━━━━━━━━━━━━━━━━━━━━━━┳━━━━━━━━━┳━━━━━━━━━┓\n",
      "┃\u001b[1m \u001b[0m\u001b[1mMetric                   \u001b[0m\u001b[1m \u001b[0m┃\u001b[1m \u001b[0m\u001b[1m  Value\u001b[0m\u001b[1m \u001b[0m┃\u001b[1m \u001b[0m\u001b[1m  Error\u001b[0m\u001b[1m \u001b[0m┃\n",
      "┡━━━━━━━━━━━━━━━━━━━━━━━━━━━╇━━━━━━━━━╇━━━━━━━━━┩\n",
      "│ attractive                │ 0.00107 │ 0.00001 │\n",
      "│ attractive_train          │ 0.00108 │     nan │\n",
      "│ attractive_weighted       │ 0.00107 │ 0.00001 │\n",
      "│ attractive_weighted_train │ 0.00108 │     nan │\n",
      "│ repulsive                 │ 0.00041 │ 0.00001 │\n",
      "│ repulsive_train           │ 0.00052 │     nan │\n",
      "│ repulsive_weighted        │ 0.00041 │ 0.00001 │\n",
      "│ repulsive_weighted_train  │ 0.00052 │     nan │\n",
      "│ total                     │ 0.00147 │ 0.00001 │\n",
      "│ total_train               │ 0.00160 │     nan │\n",
      "└───────────────────────────┴─────────┴─────────┘\n",
      "\n"
     ]
    },
    {
     "data": {
      "application/vnd.jupyter.widget-view+json": {
       "model_id": "",
       "version_major": 2,
       "version_minor": 0
      },
      "text/plain": [
       "Validation: 0it [00:00, ?it/s]"
      ]
     },
     "metadata": {},
     "output_type": "display_data"
    },
    {
     "data": {
      "text/html": [
       "<pre style=\"white-space:pre;overflow-x:auto;line-height:normal;font-family:Menlo,'DejaVu Sans Mono',consolas,'Courier New',monospace\"></pre>\n"
      ],
      "text/plain": []
     },
     "metadata": {},
     "output_type": "display_data"
    },
    {
     "name": "stdout",
     "output_type": "stream",
     "text": [
      "\u001b[3m               Validation epoch=17               \u001b[0m\n",
      "┏━━━━━━━━━━━━━━━━━━━━━━━━━━━┳━━━━━━━━━┳━━━━━━━━━┓\n",
      "┃\u001b[1m \u001b[0m\u001b[1mMetric                   \u001b[0m\u001b[1m \u001b[0m┃\u001b[1m \u001b[0m\u001b[1m  Value\u001b[0m\u001b[1m \u001b[0m┃\u001b[1m \u001b[0m\u001b[1m  Error\u001b[0m\u001b[1m \u001b[0m┃\n",
      "┡━━━━━━━━━━━━━━━━━━━━━━━━━━━╇━━━━━━━━━╇━━━━━━━━━┩\n",
      "│ attractive                │ 0.00112 │ 0.00001 │\n",
      "│ attractive_train          │ 0.00100 │     nan │\n",
      "│ attractive_weighted       │ 0.00112 │ 0.00001 │\n",
      "│ attractive_weighted_train │ 0.00100 │     nan │\n",
      "│ repulsive                 │ 0.00042 │ 0.00001 │\n",
      "│ repulsive_train           │ 0.00052 │     nan │\n",
      "│ repulsive_weighted        │ 0.00042 │ 0.00001 │\n",
      "│ repulsive_weighted_train  │ 0.00052 │     nan │\n",
      "│ total                     │ 0.00154 │ 0.00001 │\n",
      "│ total_train               │ 0.00152 │     nan │\n",
      "└───────────────────────────┴─────────┴─────────┘\n",
      "\n"
     ]
    },
    {
     "data": {
      "application/vnd.jupyter.widget-view+json": {
       "model_id": "",
       "version_major": 2,
       "version_minor": 0
      },
      "text/plain": [
       "Validation: 0it [00:00, ?it/s]"
      ]
     },
     "metadata": {},
     "output_type": "display_data"
    },
    {
     "data": {
      "text/html": [
       "<pre style=\"white-space:pre;overflow-x:auto;line-height:normal;font-family:Menlo,'DejaVu Sans Mono',consolas,'Courier New',monospace\"></pre>\n"
      ],
      "text/plain": []
     },
     "metadata": {},
     "output_type": "display_data"
    },
    {
     "name": "stdout",
     "output_type": "stream",
     "text": [
      "\u001b[3m               Validation epoch=18               \u001b[0m\n",
      "┏━━━━━━━━━━━━━━━━━━━━━━━━━━━┳━━━━━━━━━┳━━━━━━━━━┓\n",
      "┃\u001b[1m \u001b[0m\u001b[1mMetric                   \u001b[0m\u001b[1m \u001b[0m┃\u001b[1m \u001b[0m\u001b[1m  Value\u001b[0m\u001b[1m \u001b[0m┃\u001b[1m \u001b[0m\u001b[1m  Error\u001b[0m\u001b[1m \u001b[0m┃\n",
      "┡━━━━━━━━━━━━━━━━━━━━━━━━━━━╇━━━━━━━━━╇━━━━━━━━━┩\n",
      "│ attractive                │ 0.00107 │ 0.00001 │\n",
      "│ attractive_train          │ 0.00106 │     nan │\n",
      "│ attractive_weighted       │ 0.00107 │ 0.00001 │\n",
      "│ attractive_weighted_train │ 0.00106 │     nan │\n",
      "│ repulsive                 │ 0.00042 │ 0.00001 │\n",
      "│ repulsive_train           │ 0.00040 │     nan │\n",
      "│ repulsive_weighted        │ 0.00042 │ 0.00001 │\n",
      "│ repulsive_weighted_train  │ 0.00040 │     nan │\n",
      "│ total                     │ 0.00149 │ 0.00001 │\n",
      "│ total_train               │ 0.00145 │     nan │\n",
      "└───────────────────────────┴─────────┴─────────┘\n",
      "\n"
     ]
    },
    {
     "data": {
      "application/vnd.jupyter.widget-view+json": {
       "model_id": "",
       "version_major": 2,
       "version_minor": 0
      },
      "text/plain": [
       "Validation: 0it [00:00, ?it/s]"
      ]
     },
     "metadata": {},
     "output_type": "display_data"
    },
    {
     "data": {
      "text/html": [
       "<pre style=\"white-space:pre;overflow-x:auto;line-height:normal;font-family:Menlo,'DejaVu Sans Mono',consolas,'Courier New',monospace\"></pre>\n"
      ],
      "text/plain": []
     },
     "metadata": {},
     "output_type": "display_data"
    },
    {
     "name": "stdout",
     "output_type": "stream",
     "text": [
      "\u001b[3m               Validation epoch=19               \u001b[0m\n",
      "┏━━━━━━━━━━━━━━━━━━━━━━━━━━━┳━━━━━━━━━┳━━━━━━━━━┓\n",
      "┃\u001b[1m \u001b[0m\u001b[1mMetric                   \u001b[0m\u001b[1m \u001b[0m┃\u001b[1m \u001b[0m\u001b[1m  Value\u001b[0m\u001b[1m \u001b[0m┃\u001b[1m \u001b[0m\u001b[1m  Error\u001b[0m\u001b[1m \u001b[0m┃\n",
      "┡━━━━━━━━━━━━━━━━━━━━━━━━━━━╇━━━━━━━━━╇━━━━━━━━━┩\n",
      "│ attractive                │ 0.00108 │ 0.00001 │\n",
      "│ attractive_train          │ 0.00107 │     nan │\n",
      "│ attractive_weighted       │ 0.00108 │ 0.00001 │\n",
      "│ attractive_weighted_train │ 0.00107 │     nan │\n",
      "│ repulsive                 │ 0.00041 │ 0.00001 │\n",
      "│ repulsive_train           │ 0.00049 │     nan │\n",
      "│ repulsive_weighted        │ 0.00041 │ 0.00001 │\n",
      "│ repulsive_weighted_train  │ 0.00049 │     nan │\n",
      "│ total                     │ 0.00148 │ 0.00001 │\n",
      "│ total_train               │ 0.00156 │     nan │\n",
      "└───────────────────────────┴─────────┴─────────┘\n",
      "\n"
     ]
    },
    {
     "data": {
      "application/vnd.jupyter.widget-view+json": {
       "model_id": "",
       "version_major": 2,
       "version_minor": 0
      },
      "text/plain": [
       "Validation: 0it [00:00, ?it/s]"
      ]
     },
     "metadata": {},
     "output_type": "display_data"
    },
    {
     "data": {
      "text/html": [
       "<pre style=\"white-space:pre;overflow-x:auto;line-height:normal;font-family:Menlo,'DejaVu Sans Mono',consolas,'Courier New',monospace\"></pre>\n"
      ],
      "text/plain": []
     },
     "metadata": {},
     "output_type": "display_data"
    },
    {
     "name": "stderr",
     "output_type": "stream",
     "text": [
      "`Trainer.fit` stopped: `max_epochs=20` reached.\n",
      "GPU available: True (cuda), used: True\n",
      "TPU available: False, using: 0 TPU cores\n",
      "IPU available: False, using: 0 IPUs\n",
      "HPU available: False, using: 0 HPUs\n",
      "You are using a CUDA device ('NVIDIA A100-SXM4-80GB') that has Tensor Cores. To properly utilize them, you should set `torch.set_float32_matmul_precision('medium' | 'high')` which will trade-off precision for performance. For more details, read https://pytorch.org/docs/stable/generated/torch.set_float32_matmul_precision.html#torch.set_float32_matmul_precision\n",
      "\u001b[32m[03:41:26] INFO: DataLoader will load 810 graphs (out of 900 available).\u001b[0m\n",
      "\u001b[36m[03:41:26] DEBUG: First graph is /scratch/gpfs/IOJALVO/gnn-tracking/object_condensation/point_clouds_v5/part1_pt1/part_1_0/data21025_s0.pt, last graph is /scratch/gpfs/IOJALVO/gnn-tracking/object_condensation/point_clouds_v5/part1_pt1/part_1_8/data21999_s0.pt\u001b[0m\n",
      "\u001b[32m[03:41:26] INFO: DataLoader will load 90 graphs (out of 900 available).\u001b[0m\n",
      "\u001b[36m[03:41:26] DEBUG: First graph is /scratch/gpfs/IOJALVO/gnn-tracking/object_condensation/point_clouds_v5/part1_pt1/part_1_9/data21009_s0.pt, last graph is /scratch/gpfs/IOJALVO/gnn-tracking/object_condensation/point_clouds_v5/part1_pt1/part_1_9/data21986_s0.pt\u001b[0m\n",
      "/scratch/gpfs/dc3896/micromamba/envs/gnn/lib/python3.10/site-packages/pytorch_lightning/callbacks/model_checkpoint.py:615: UserWarning: Checkpoint directory /home/dc3896/notebooks/lightning_logs/version_49016548/checkpoints exists and is not empty.\n",
      "  rank_zero_warn(f\"Checkpoint directory {dirpath} exists and is not empty.\")\n",
      "LOCAL_RANK: 0 - CUDA_VISIBLE_DEVICES: [0]\n",
      "\n",
      "  | Name     | Type                                | Params\n",
      "-----------------------------------------------------------------\n",
      "0 | model    | GraphConstructionFCNN               | 17.9 K\n",
      "1 | loss_fct | GraphConstructionHingeEmbeddingLoss | 0     \n",
      "-----------------------------------------------------------------\n",
      "17.9 K    Trainable params\n",
      "0         Non-trainable params\n",
      "17.9 K    Total params\n",
      "0.072     Total estimated model params size (MB)\n",
      "SLURM auto-requeueing enabled. Setting signal handlers.\n"
     ]
    },
    {
     "name": "stdout",
     "output_type": "stream",
     "text": [
      "\u001b[3m               Validation epoch=20               \u001b[0m\n",
      "┏━━━━━━━━━━━━━━━━━━━━━━━━━━━┳━━━━━━━━━┳━━━━━━━━━┓\n",
      "┃\u001b[1m \u001b[0m\u001b[1mMetric                   \u001b[0m\u001b[1m \u001b[0m┃\u001b[1m \u001b[0m\u001b[1m  Value\u001b[0m\u001b[1m \u001b[0m┃\u001b[1m \u001b[0m\u001b[1m  Error\u001b[0m\u001b[1m \u001b[0m┃\n",
      "┡━━━━━━━━━━━━━━━━━━━━━━━━━━━╇━━━━━━━━━╇━━━━━━━━━┩\n",
      "│ attractive                │ 0.00104 │ 0.00001 │\n",
      "│ attractive_train          │ 0.00098 │     nan │\n",
      "│ attractive_weighted       │ 0.00104 │ 0.00001 │\n",
      "│ attractive_weighted_train │ 0.00098 │     nan │\n",
      "│ repulsive                 │ 0.00039 │ 0.00001 │\n",
      "│ repulsive_train           │ 0.00041 │     nan │\n",
      "│ repulsive_weighted        │ 0.00039 │ 0.00001 │\n",
      "│ repulsive_weighted_train  │ 0.00041 │     nan │\n",
      "│ total                     │ 0.00143 │ 0.00001 │\n",
      "│ total_train               │ 0.00139 │     nan │\n",
      "└───────────────────────────┴─────────┴─────────┘\n",
      "\n",
      "\n",
      "\n",
      "Training for scaling coefficients = 2.0\n"
     ]
    },
    {
     "data": {
      "application/vnd.jupyter.widget-view+json": {
       "model_id": "",
       "version_major": 2,
       "version_minor": 0
      },
      "text/plain": [
       "Sanity Checking: 0it [00:00, ?it/s]"
      ]
     },
     "metadata": {},
     "output_type": "display_data"
    },
    {
     "name": "stderr",
     "output_type": "stream",
     "text": [
      "/scratch/gpfs/dc3896/micromamba/envs/gnn/lib/python3.10/site-packages/pytorch_lightning/trainer/connectors/data_connector.py:432: PossibleUserWarning: The dataloader, val_dataloader, does not have many workers which may be a bottleneck. Consider increasing the value of the `num_workers` argument` (try 48 which is the number of cpus on this machine) in the `DataLoader` init to improve performance.\n",
      "  rank_zero_warn(\n"
     ]
    },
    {
     "data": {
      "text/html": [
       "<pre style=\"white-space:pre;overflow-x:auto;line-height:normal;font-family:Menlo,'DejaVu Sans Mono',consolas,'Courier New',monospace\"></pre>\n"
      ],
      "text/plain": []
     },
     "metadata": {},
     "output_type": "display_data"
    },
    {
     "name": "stderr",
     "output_type": "stream",
     "text": [
      "/scratch/gpfs/dc3896/micromamba/envs/gnn/lib/python3.10/site-packages/pytorch_lightning/trainer/connectors/data_connector.py:432: PossibleUserWarning: The dataloader, train_dataloader, does not have many workers which may be a bottleneck. Consider increasing the value of the `num_workers` argument` (try 48 which is the number of cpus on this machine) in the `DataLoader` init to improve performance.\n",
      "  rank_zero_warn(\n"
     ]
    },
    {
     "data": {
      "application/vnd.jupyter.widget-view+json": {
       "model_id": "5eaf175019c146ce872a30b340348928",
       "version_major": 2,
       "version_minor": 0
      },
      "text/plain": [
       "Training: 0it [00:00, ?it/s]"
      ]
     },
     "metadata": {},
     "output_type": "display_data"
    },
    {
     "data": {
      "application/vnd.jupyter.widget-view+json": {
       "model_id": "",
       "version_major": 2,
       "version_minor": 0
      },
      "text/plain": [
       "Validation: 0it [00:00, ?it/s]"
      ]
     },
     "metadata": {},
     "output_type": "display_data"
    },
    {
     "data": {
      "text/html": [
       "<pre style=\"white-space:pre;overflow-x:auto;line-height:normal;font-family:Menlo,'DejaVu Sans Mono',consolas,'Courier New',monospace\"></pre>\n"
      ],
      "text/plain": []
     },
     "metadata": {},
     "output_type": "display_data"
    },
    {
     "name": "stdout",
     "output_type": "stream",
     "text": [
      "\u001b[3m               Validation epoch=1                \u001b[0m\n",
      "┏━━━━━━━━━━━━━━━━━━━━━━━━━━━┳━━━━━━━━━┳━━━━━━━━━┓\n",
      "┃\u001b[1m \u001b[0m\u001b[1mMetric                   \u001b[0m\u001b[1m \u001b[0m┃\u001b[1m \u001b[0m\u001b[1m  Value\u001b[0m\u001b[1m \u001b[0m┃\u001b[1m \u001b[0m\u001b[1m  Error\u001b[0m\u001b[1m \u001b[0m┃\n",
      "┡━━━━━━━━━━━━━━━━━━━━━━━━━━━╇━━━━━━━━━╇━━━━━━━━━┩\n",
      "│ attractive                │ 0.00259 │ 0.00001 │\n",
      "│ attractive_train          │ 0.00249 │     nan │\n",
      "│ attractive_weighted       │ 0.00259 │ 0.00001 │\n",
      "│ attractive_weighted_train │ 0.00249 │     nan │\n",
      "│ repulsive                 │ 0.00041 │ 0.00001 │\n",
      "│ repulsive_train           │ 0.00035 │     nan │\n",
      "│ repulsive_weighted        │ 0.00083 │ 0.00001 │\n",
      "│ repulsive_weighted_train  │ 0.00070 │     nan │\n",
      "│ total                     │ 0.00342 │ 0.00002 │\n",
      "│ total_train               │ 0.00319 │     nan │\n",
      "└───────────────────────────┴─────────┴─────────┘\n",
      "\n"
     ]
    },
    {
     "data": {
      "application/vnd.jupyter.widget-view+json": {
       "model_id": "",
       "version_major": 2,
       "version_minor": 0
      },
      "text/plain": [
       "Validation: 0it [00:00, ?it/s]"
      ]
     },
     "metadata": {},
     "output_type": "display_data"
    },
    {
     "data": {
      "text/html": [
       "<pre style=\"white-space:pre;overflow-x:auto;line-height:normal;font-family:Menlo,'DejaVu Sans Mono',consolas,'Courier New',monospace\"></pre>\n"
      ],
      "text/plain": []
     },
     "metadata": {},
     "output_type": "display_data"
    },
    {
     "name": "stdout",
     "output_type": "stream",
     "text": [
      "\u001b[3m               Validation epoch=2                \u001b[0m\n",
      "┏━━━━━━━━━━━━━━━━━━━━━━━━━━━┳━━━━━━━━━┳━━━━━━━━━┓\n",
      "┃\u001b[1m \u001b[0m\u001b[1mMetric                   \u001b[0m\u001b[1m \u001b[0m┃\u001b[1m \u001b[0m\u001b[1m  Value\u001b[0m\u001b[1m \u001b[0m┃\u001b[1m \u001b[0m\u001b[1m  Error\u001b[0m\u001b[1m \u001b[0m┃\n",
      "┡━━━━━━━━━━━━━━━━━━━━━━━━━━━╇━━━━━━━━━╇━━━━━━━━━┩\n",
      "│ attractive                │ 0.00228 │ 0.00001 │\n",
      "│ attractive_train          │ 0.00249 │     nan │\n",
      "│ attractive_weighted       │ 0.00228 │ 0.00001 │\n",
      "│ attractive_weighted_train │ 0.00249 │     nan │\n",
      "│ repulsive                 │ 0.00040 │ 0.00001 │\n",
      "│ repulsive_train           │ 0.00031 │     nan │\n",
      "│ repulsive_weighted        │ 0.00081 │ 0.00001 │\n",
      "│ repulsive_weighted_train  │ 0.00062 │     nan │\n",
      "│ total                     │ 0.00309 │ 0.00002 │\n",
      "│ total_train               │ 0.00311 │     nan │\n",
      "└───────────────────────────┴─────────┴─────────┘\n",
      "\n"
     ]
    },
    {
     "data": {
      "application/vnd.jupyter.widget-view+json": {
       "model_id": "",
       "version_major": 2,
       "version_minor": 0
      },
      "text/plain": [
       "Validation: 0it [00:00, ?it/s]"
      ]
     },
     "metadata": {},
     "output_type": "display_data"
    },
    {
     "data": {
      "text/html": [
       "<pre style=\"white-space:pre;overflow-x:auto;line-height:normal;font-family:Menlo,'DejaVu Sans Mono',consolas,'Courier New',monospace\"></pre>\n"
      ],
      "text/plain": []
     },
     "metadata": {},
     "output_type": "display_data"
    },
    {
     "name": "stdout",
     "output_type": "stream",
     "text": [
      "\u001b[3m               Validation epoch=3                \u001b[0m\n",
      "┏━━━━━━━━━━━━━━━━━━━━━━━━━━━┳━━━━━━━━━┳━━━━━━━━━┓\n",
      "┃\u001b[1m \u001b[0m\u001b[1mMetric                   \u001b[0m\u001b[1m \u001b[0m┃\u001b[1m \u001b[0m\u001b[1m  Value\u001b[0m\u001b[1m \u001b[0m┃\u001b[1m \u001b[0m\u001b[1m  Error\u001b[0m\u001b[1m \u001b[0m┃\n",
      "┡━━━━━━━━━━━━━━━━━━━━━━━━━━━╇━━━━━━━━━╇━━━━━━━━━┩\n",
      "│ attractive                │ 0.00206 │ 0.00001 │\n",
      "│ attractive_train          │ 0.00214 │     nan │\n",
      "│ attractive_weighted       │ 0.00206 │ 0.00001 │\n",
      "│ attractive_weighted_train │ 0.00214 │     nan │\n",
      "│ repulsive                 │ 0.00032 │ 0.00001 │\n",
      "│ repulsive_train           │ 0.00039 │     nan │\n",
      "│ repulsive_weighted        │ 0.00064 │ 0.00001 │\n",
      "│ repulsive_weighted_train  │ 0.00079 │     nan │\n",
      "│ total                     │ 0.00270 │ 0.00001 │\n",
      "│ total_train               │ 0.00292 │     nan │\n",
      "└───────────────────────────┴─────────┴─────────┘\n",
      "\n"
     ]
    },
    {
     "data": {
      "application/vnd.jupyter.widget-view+json": {
       "model_id": "",
       "version_major": 2,
       "version_minor": 0
      },
      "text/plain": [
       "Validation: 0it [00:00, ?it/s]"
      ]
     },
     "metadata": {},
     "output_type": "display_data"
    },
    {
     "data": {
      "text/html": [
       "<pre style=\"white-space:pre;overflow-x:auto;line-height:normal;font-family:Menlo,'DejaVu Sans Mono',consolas,'Courier New',monospace\"></pre>\n"
      ],
      "text/plain": []
     },
     "metadata": {},
     "output_type": "display_data"
    },
    {
     "name": "stdout",
     "output_type": "stream",
     "text": [
      "\u001b[3m               Validation epoch=4                \u001b[0m\n",
      "┏━━━━━━━━━━━━━━━━━━━━━━━━━━━┳━━━━━━━━━┳━━━━━━━━━┓\n",
      "┃\u001b[1m \u001b[0m\u001b[1mMetric                   \u001b[0m\u001b[1m \u001b[0m┃\u001b[1m \u001b[0m\u001b[1m  Value\u001b[0m\u001b[1m \u001b[0m┃\u001b[1m \u001b[0m\u001b[1m  Error\u001b[0m\u001b[1m \u001b[0m┃\n",
      "┡━━━━━━━━━━━━━━━━━━━━━━━━━━━╇━━━━━━━━━╇━━━━━━━━━┩\n",
      "│ attractive                │ 0.00194 │ 0.00001 │\n",
      "│ attractive_train          │ 0.00187 │     nan │\n",
      "│ attractive_weighted       │ 0.00194 │ 0.00001 │\n",
      "│ attractive_weighted_train │ 0.00187 │     nan │\n",
      "│ repulsive                 │ 0.00034 │ 0.00001 │\n",
      "│ repulsive_train           │ 0.00034 │     nan │\n",
      "│ repulsive_weighted        │ 0.00067 │ 0.00001 │\n",
      "│ repulsive_weighted_train  │ 0.00069 │     nan │\n",
      "│ total                     │ 0.00261 │ 0.00001 │\n",
      "│ total_train               │ 0.00256 │     nan │\n",
      "└───────────────────────────┴─────────┴─────────┘\n",
      "\n"
     ]
    },
    {
     "data": {
      "application/vnd.jupyter.widget-view+json": {
       "model_id": "",
       "version_major": 2,
       "version_minor": 0
      },
      "text/plain": [
       "Validation: 0it [00:00, ?it/s]"
      ]
     },
     "metadata": {},
     "output_type": "display_data"
    },
    {
     "data": {
      "text/html": [
       "<pre style=\"white-space:pre;overflow-x:auto;line-height:normal;font-family:Menlo,'DejaVu Sans Mono',consolas,'Courier New',monospace\"></pre>\n"
      ],
      "text/plain": []
     },
     "metadata": {},
     "output_type": "display_data"
    },
    {
     "name": "stdout",
     "output_type": "stream",
     "text": [
      "\u001b[3m               Validation epoch=5                \u001b[0m\n",
      "┏━━━━━━━━━━━━━━━━━━━━━━━━━━━┳━━━━━━━━━┳━━━━━━━━━┓\n",
      "┃\u001b[1m \u001b[0m\u001b[1mMetric                   \u001b[0m\u001b[1m \u001b[0m┃\u001b[1m \u001b[0m\u001b[1m  Value\u001b[0m\u001b[1m \u001b[0m┃\u001b[1m \u001b[0m\u001b[1m  Error\u001b[0m\u001b[1m \u001b[0m┃\n",
      "┡━━━━━━━━━━━━━━━━━━━━━━━━━━━╇━━━━━━━━━╇━━━━━━━━━┩\n",
      "│ attractive                │ 0.00177 │ 0.00001 │\n",
      "│ attractive_train          │ 0.00199 │     nan │\n",
      "│ attractive_weighted       │ 0.00177 │ 0.00001 │\n",
      "│ attractive_weighted_train │ 0.00199 │     nan │\n",
      "│ repulsive                 │ 0.00034 │ 0.00001 │\n",
      "│ repulsive_train           │ 0.00033 │     nan │\n",
      "│ repulsive_weighted        │ 0.00068 │ 0.00001 │\n",
      "│ repulsive_weighted_train  │ 0.00065 │     nan │\n",
      "│ total                     │ 0.00245 │ 0.00001 │\n",
      "│ total_train               │ 0.00265 │     nan │\n",
      "└───────────────────────────┴─────────┴─────────┘\n",
      "\n"
     ]
    },
    {
     "data": {
      "application/vnd.jupyter.widget-view+json": {
       "model_id": "",
       "version_major": 2,
       "version_minor": 0
      },
      "text/plain": [
       "Validation: 0it [00:00, ?it/s]"
      ]
     },
     "metadata": {},
     "output_type": "display_data"
    },
    {
     "data": {
      "text/html": [
       "<pre style=\"white-space:pre;overflow-x:auto;line-height:normal;font-family:Menlo,'DejaVu Sans Mono',consolas,'Courier New',monospace\"></pre>\n"
      ],
      "text/plain": []
     },
     "metadata": {},
     "output_type": "display_data"
    },
    {
     "name": "stdout",
     "output_type": "stream",
     "text": [
      "\u001b[3m               Validation epoch=6                \u001b[0m\n",
      "┏━━━━━━━━━━━━━━━━━━━━━━━━━━━┳━━━━━━━━━┳━━━━━━━━━┓\n",
      "┃\u001b[1m \u001b[0m\u001b[1mMetric                   \u001b[0m\u001b[1m \u001b[0m┃\u001b[1m \u001b[0m\u001b[1m  Value\u001b[0m\u001b[1m \u001b[0m┃\u001b[1m \u001b[0m\u001b[1m  Error\u001b[0m\u001b[1m \u001b[0m┃\n",
      "┡━━━━━━━━━━━━━━━━━━━━━━━━━━━╇━━━━━━━━━╇━━━━━━━━━┩\n",
      "│ attractive                │ 0.00178 │ 0.00001 │\n",
      "│ attractive_train          │ 0.00182 │     nan │\n",
      "│ attractive_weighted       │ 0.00178 │ 0.00001 │\n",
      "│ attractive_weighted_train │ 0.00182 │     nan │\n",
      "│ repulsive                 │ 0.00028 │ 0.00000 │\n",
      "│ repulsive_train           │ 0.00027 │     nan │\n",
      "│ repulsive_weighted        │ 0.00057 │ 0.00001 │\n",
      "│ repulsive_weighted_train  │ 0.00053 │     nan │\n",
      "│ total                     │ 0.00235 │ 0.00001 │\n",
      "│ total_train               │ 0.00236 │     nan │\n",
      "└───────────────────────────┴─────────┴─────────┘\n",
      "\n"
     ]
    },
    {
     "data": {
      "application/vnd.jupyter.widget-view+json": {
       "model_id": "",
       "version_major": 2,
       "version_minor": 0
      },
      "text/plain": [
       "Validation: 0it [00:00, ?it/s]"
      ]
     },
     "metadata": {},
     "output_type": "display_data"
    },
    {
     "data": {
      "text/html": [
       "<pre style=\"white-space:pre;overflow-x:auto;line-height:normal;font-family:Menlo,'DejaVu Sans Mono',consolas,'Courier New',monospace\"></pre>\n"
      ],
      "text/plain": []
     },
     "metadata": {},
     "output_type": "display_data"
    },
    {
     "name": "stdout",
     "output_type": "stream",
     "text": [
      "\u001b[3m               Validation epoch=7                \u001b[0m\n",
      "┏━━━━━━━━━━━━━━━━━━━━━━━━━━━┳━━━━━━━━━┳━━━━━━━━━┓\n",
      "┃\u001b[1m \u001b[0m\u001b[1mMetric                   \u001b[0m\u001b[1m \u001b[0m┃\u001b[1m \u001b[0m\u001b[1m  Value\u001b[0m\u001b[1m \u001b[0m┃\u001b[1m \u001b[0m\u001b[1m  Error\u001b[0m\u001b[1m \u001b[0m┃\n",
      "┡━━━━━━━━━━━━━━━━━━━━━━━━━━━╇━━━━━━━━━╇━━━━━━━━━┩\n",
      "│ attractive                │ 0.00160 │ 0.00001 │\n",
      "│ attractive_train          │ 0.00174 │     nan │\n",
      "│ attractive_weighted       │ 0.00160 │ 0.00001 │\n",
      "│ attractive_weighted_train │ 0.00174 │     nan │\n",
      "│ repulsive                 │ 0.00034 │ 0.00001 │\n",
      "│ repulsive_train           │ 0.00023 │     nan │\n",
      "│ repulsive_weighted        │ 0.00068 │ 0.00001 │\n",
      "│ repulsive_weighted_train  │ 0.00046 │     nan │\n",
      "│ total                     │ 0.00229 │ 0.00001 │\n",
      "│ total_train               │ 0.00220 │     nan │\n",
      "└───────────────────────────┴─────────┴─────────┘\n",
      "\n"
     ]
    },
    {
     "data": {
      "application/vnd.jupyter.widget-view+json": {
       "model_id": "",
       "version_major": 2,
       "version_minor": 0
      },
      "text/plain": [
       "Validation: 0it [00:00, ?it/s]"
      ]
     },
     "metadata": {},
     "output_type": "display_data"
    },
    {
     "data": {
      "text/html": [
       "<pre style=\"white-space:pre;overflow-x:auto;line-height:normal;font-family:Menlo,'DejaVu Sans Mono',consolas,'Courier New',monospace\"></pre>\n"
      ],
      "text/plain": []
     },
     "metadata": {},
     "output_type": "display_data"
    },
    {
     "name": "stdout",
     "output_type": "stream",
     "text": [
      "\u001b[3m               Validation epoch=8                \u001b[0m\n",
      "┏━━━━━━━━━━━━━━━━━━━━━━━━━━━┳━━━━━━━━━┳━━━━━━━━━┓\n",
      "┃\u001b[1m \u001b[0m\u001b[1mMetric                   \u001b[0m\u001b[1m \u001b[0m┃\u001b[1m \u001b[0m\u001b[1m  Value\u001b[0m\u001b[1m \u001b[0m┃\u001b[1m \u001b[0m\u001b[1m  Error\u001b[0m\u001b[1m \u001b[0m┃\n",
      "┡━━━━━━━━━━━━━━━━━━━━━━━━━━━╇━━━━━━━━━╇━━━━━━━━━┩\n",
      "│ attractive                │ 0.00165 │ 0.00001 │\n",
      "│ attractive_train          │ 0.00172 │     nan │\n",
      "│ attractive_weighted       │ 0.00165 │ 0.00001 │\n",
      "│ attractive_weighted_train │ 0.00172 │     nan │\n",
      "│ repulsive                 │ 0.00029 │ 0.00000 │\n",
      "│ repulsive_train           │ 0.00027 │     nan │\n",
      "│ repulsive_weighted        │ 0.00057 │ 0.00001 │\n",
      "│ repulsive_weighted_train  │ 0.00054 │     nan │\n",
      "│ total                     │ 0.00222 │ 0.00001 │\n",
      "│ total_train               │ 0.00227 │     nan │\n",
      "└───────────────────────────┴─────────┴─────────┘\n",
      "\n"
     ]
    },
    {
     "data": {
      "application/vnd.jupyter.widget-view+json": {
       "model_id": "",
       "version_major": 2,
       "version_minor": 0
      },
      "text/plain": [
       "Validation: 0it [00:00, ?it/s]"
      ]
     },
     "metadata": {},
     "output_type": "display_data"
    },
    {
     "data": {
      "text/html": [
       "<pre style=\"white-space:pre;overflow-x:auto;line-height:normal;font-family:Menlo,'DejaVu Sans Mono',consolas,'Courier New',monospace\"></pre>\n"
      ],
      "text/plain": []
     },
     "metadata": {},
     "output_type": "display_data"
    },
    {
     "name": "stdout",
     "output_type": "stream",
     "text": [
      "\u001b[3m               Validation epoch=9                \u001b[0m\n",
      "┏━━━━━━━━━━━━━━━━━━━━━━━━━━━┳━━━━━━━━━┳━━━━━━━━━┓\n",
      "┃\u001b[1m \u001b[0m\u001b[1mMetric                   \u001b[0m\u001b[1m \u001b[0m┃\u001b[1m \u001b[0m\u001b[1m  Value\u001b[0m\u001b[1m \u001b[0m┃\u001b[1m \u001b[0m\u001b[1m  Error\u001b[0m\u001b[1m \u001b[0m┃\n",
      "┡━━━━━━━━━━━━━━━━━━━━━━━━━━━╇━━━━━━━━━╇━━━━━━━━━┩\n",
      "│ attractive                │ 0.00172 │ 0.00001 │\n",
      "│ attractive_train          │ 0.00177 │     nan │\n",
      "│ attractive_weighted       │ 0.00172 │ 0.00001 │\n",
      "│ attractive_weighted_train │ 0.00177 │     nan │\n",
      "│ repulsive                 │ 0.00027 │ 0.00000 │\n",
      "│ repulsive_train           │ 0.00024 │     nan │\n",
      "│ repulsive_weighted        │ 0.00054 │ 0.00001 │\n",
      "│ repulsive_weighted_train  │ 0.00049 │     nan │\n",
      "│ total                     │ 0.00226 │ 0.00001 │\n",
      "│ total_train               │ 0.00225 │     nan │\n",
      "└───────────────────────────┴─────────┴─────────┘\n",
      "\n"
     ]
    },
    {
     "data": {
      "application/vnd.jupyter.widget-view+json": {
       "model_id": "",
       "version_major": 2,
       "version_minor": 0
      },
      "text/plain": [
       "Validation: 0it [00:00, ?it/s]"
      ]
     },
     "metadata": {},
     "output_type": "display_data"
    },
    {
     "data": {
      "text/html": [
       "<pre style=\"white-space:pre;overflow-x:auto;line-height:normal;font-family:Menlo,'DejaVu Sans Mono',consolas,'Courier New',monospace\"></pre>\n"
      ],
      "text/plain": []
     },
     "metadata": {},
     "output_type": "display_data"
    },
    {
     "name": "stdout",
     "output_type": "stream",
     "text": [
      "\u001b[3m               Validation epoch=10               \u001b[0m\n",
      "┏━━━━━━━━━━━━━━━━━━━━━━━━━━━┳━━━━━━━━━┳━━━━━━━━━┓\n",
      "┃\u001b[1m \u001b[0m\u001b[1mMetric                   \u001b[0m\u001b[1m \u001b[0m┃\u001b[1m \u001b[0m\u001b[1m  Value\u001b[0m\u001b[1m \u001b[0m┃\u001b[1m \u001b[0m\u001b[1m  Error\u001b[0m\u001b[1m \u001b[0m┃\n",
      "┡━━━━━━━━━━━━━━━━━━━━━━━━━━━╇━━━━━━━━━╇━━━━━━━━━┩\n",
      "│ attractive                │ 0.00163 │ 0.00001 │\n",
      "│ attractive_train          │ 0.00151 │     nan │\n",
      "│ attractive_weighted       │ 0.00163 │ 0.00001 │\n",
      "│ attractive_weighted_train │ 0.00151 │     nan │\n",
      "│ repulsive                 │ 0.00030 │ 0.00001 │\n",
      "│ repulsive_train           │ 0.00029 │     nan │\n",
      "│ repulsive_weighted        │ 0.00060 │ 0.00001 │\n",
      "│ repulsive_weighted_train  │ 0.00058 │     nan │\n",
      "│ total                     │ 0.00223 │ 0.00001 │\n",
      "│ total_train               │ 0.00209 │     nan │\n",
      "└───────────────────────────┴─────────┴─────────┘\n",
      "\n"
     ]
    },
    {
     "data": {
      "application/vnd.jupyter.widget-view+json": {
       "model_id": "",
       "version_major": 2,
       "version_minor": 0
      },
      "text/plain": [
       "Validation: 0it [00:00, ?it/s]"
      ]
     },
     "metadata": {},
     "output_type": "display_data"
    },
    {
     "data": {
      "text/html": [
       "<pre style=\"white-space:pre;overflow-x:auto;line-height:normal;font-family:Menlo,'DejaVu Sans Mono',consolas,'Courier New',monospace\"></pre>\n"
      ],
      "text/plain": []
     },
     "metadata": {},
     "output_type": "display_data"
    },
    {
     "name": "stdout",
     "output_type": "stream",
     "text": [
      "\u001b[3m               Validation epoch=11               \u001b[0m\n",
      "┏━━━━━━━━━━━━━━━━━━━━━━━━━━━┳━━━━━━━━━┳━━━━━━━━━┓\n",
      "┃\u001b[1m \u001b[0m\u001b[1mMetric                   \u001b[0m\u001b[1m \u001b[0m┃\u001b[1m \u001b[0m\u001b[1m  Value\u001b[0m\u001b[1m \u001b[0m┃\u001b[1m \u001b[0m\u001b[1m  Error\u001b[0m\u001b[1m \u001b[0m┃\n",
      "┡━━━━━━━━━━━━━━━━━━━━━━━━━━━╇━━━━━━━━━╇━━━━━━━━━┩\n",
      "│ attractive                │ 0.00144 │ 0.00001 │\n",
      "│ attractive_train          │ 0.00152 │     nan │\n",
      "│ attractive_weighted       │ 0.00144 │ 0.00001 │\n",
      "│ attractive_weighted_train │ 0.00152 │     nan │\n",
      "│ repulsive                 │ 0.00030 │ 0.00001 │\n",
      "│ repulsive_train           │ 0.00032 │     nan │\n",
      "│ repulsive_weighted        │ 0.00061 │ 0.00001 │\n",
      "│ repulsive_weighted_train  │ 0.00064 │     nan │\n",
      "│ total                     │ 0.00204 │ 0.00001 │\n",
      "│ total_train               │ 0.00215 │     nan │\n",
      "└───────────────────────────┴─────────┴─────────┘\n",
      "\n"
     ]
    },
    {
     "data": {
      "application/vnd.jupyter.widget-view+json": {
       "model_id": "",
       "version_major": 2,
       "version_minor": 0
      },
      "text/plain": [
       "Validation: 0it [00:00, ?it/s]"
      ]
     },
     "metadata": {},
     "output_type": "display_data"
    },
    {
     "data": {
      "text/html": [
       "<pre style=\"white-space:pre;overflow-x:auto;line-height:normal;font-family:Menlo,'DejaVu Sans Mono',consolas,'Courier New',monospace\"></pre>\n"
      ],
      "text/plain": []
     },
     "metadata": {},
     "output_type": "display_data"
    },
    {
     "name": "stdout",
     "output_type": "stream",
     "text": [
      "\u001b[3m               Validation epoch=12               \u001b[0m\n",
      "┏━━━━━━━━━━━━━━━━━━━━━━━━━━━┳━━━━━━━━━┳━━━━━━━━━┓\n",
      "┃\u001b[1m \u001b[0m\u001b[1mMetric                   \u001b[0m\u001b[1m \u001b[0m┃\u001b[1m \u001b[0m\u001b[1m  Value\u001b[0m\u001b[1m \u001b[0m┃\u001b[1m \u001b[0m\u001b[1m  Error\u001b[0m\u001b[1m \u001b[0m┃\n",
      "┡━━━━━━━━━━━━━━━━━━━━━━━━━━━╇━━━━━━━━━╇━━━━━━━━━┩\n",
      "│ attractive                │ 0.00151 │ 0.00001 │\n",
      "│ attractive_train          │ 0.00141 │     nan │\n",
      "│ attractive_weighted       │ 0.00151 │ 0.00001 │\n",
      "│ attractive_weighted_train │ 0.00141 │     nan │\n",
      "│ repulsive                 │ 0.00026 │ 0.00000 │\n",
      "│ repulsive_train           │ 0.00025 │     nan │\n",
      "│ repulsive_weighted        │ 0.00051 │ 0.00001 │\n",
      "│ repulsive_weighted_train  │ 0.00049 │     nan │\n",
      "│ total                     │ 0.00202 │ 0.00001 │\n",
      "│ total_train               │ 0.00190 │     nan │\n",
      "└───────────────────────────┴─────────┴─────────┘\n",
      "\n"
     ]
    },
    {
     "data": {
      "application/vnd.jupyter.widget-view+json": {
       "model_id": "",
       "version_major": 2,
       "version_minor": 0
      },
      "text/plain": [
       "Validation: 0it [00:00, ?it/s]"
      ]
     },
     "metadata": {},
     "output_type": "display_data"
    },
    {
     "data": {
      "text/html": [
       "<pre style=\"white-space:pre;overflow-x:auto;line-height:normal;font-family:Menlo,'DejaVu Sans Mono',consolas,'Courier New',monospace\"></pre>\n"
      ],
      "text/plain": []
     },
     "metadata": {},
     "output_type": "display_data"
    },
    {
     "name": "stdout",
     "output_type": "stream",
     "text": [
      "\u001b[3m               Validation epoch=13               \u001b[0m\n",
      "┏━━━━━━━━━━━━━━━━━━━━━━━━━━━┳━━━━━━━━━┳━━━━━━━━━┓\n",
      "┃\u001b[1m \u001b[0m\u001b[1mMetric                   \u001b[0m\u001b[1m \u001b[0m┃\u001b[1m \u001b[0m\u001b[1m  Value\u001b[0m\u001b[1m \u001b[0m┃\u001b[1m \u001b[0m\u001b[1m  Error\u001b[0m\u001b[1m \u001b[0m┃\n",
      "┡━━━━━━━━━━━━━━━━━━━━━━━━━━━╇━━━━━━━━━╇━━━━━━━━━┩\n",
      "│ attractive                │ 0.00150 │ 0.00001 │\n",
      "│ attractive_train          │ 0.00149 │     nan │\n",
      "│ attractive_weighted       │ 0.00150 │ 0.00001 │\n",
      "│ attractive_weighted_train │ 0.00149 │     nan │\n",
      "│ repulsive                 │ 0.00027 │ 0.00000 │\n",
      "│ repulsive_train           │ 0.00034 │     nan │\n",
      "│ repulsive_weighted        │ 0.00053 │ 0.00001 │\n",
      "│ repulsive_weighted_train  │ 0.00067 │     nan │\n",
      "│ total                     │ 0.00203 │ 0.00001 │\n",
      "│ total_train               │ 0.00216 │     nan │\n",
      "└───────────────────────────┴─────────┴─────────┘\n",
      "\n"
     ]
    },
    {
     "data": {
      "application/vnd.jupyter.widget-view+json": {
       "model_id": "",
       "version_major": 2,
       "version_minor": 0
      },
      "text/plain": [
       "Validation: 0it [00:00, ?it/s]"
      ]
     },
     "metadata": {},
     "output_type": "display_data"
    },
    {
     "data": {
      "text/html": [
       "<pre style=\"white-space:pre;overflow-x:auto;line-height:normal;font-family:Menlo,'DejaVu Sans Mono',consolas,'Courier New',monospace\"></pre>\n"
      ],
      "text/plain": []
     },
     "metadata": {},
     "output_type": "display_data"
    },
    {
     "name": "stdout",
     "output_type": "stream",
     "text": [
      "\u001b[3m               Validation epoch=14               \u001b[0m\n",
      "┏━━━━━━━━━━━━━━━━━━━━━━━━━━━┳━━━━━━━━━┳━━━━━━━━━┓\n",
      "┃\u001b[1m \u001b[0m\u001b[1mMetric                   \u001b[0m\u001b[1m \u001b[0m┃\u001b[1m \u001b[0m\u001b[1m  Value\u001b[0m\u001b[1m \u001b[0m┃\u001b[1m \u001b[0m\u001b[1m  Error\u001b[0m\u001b[1m \u001b[0m┃\n",
      "┡━━━━━━━━━━━━━━━━━━━━━━━━━━━╇━━━━━━━━━╇━━━━━━━━━┩\n",
      "│ attractive                │ 0.00136 │ 0.00001 │\n",
      "│ attractive_train          │ 0.00152 │     nan │\n",
      "│ attractive_weighted       │ 0.00136 │ 0.00001 │\n",
      "│ attractive_weighted_train │ 0.00152 │     nan │\n",
      "│ repulsive                 │ 0.00029 │ 0.00000 │\n",
      "│ repulsive_train           │ 0.00025 │     nan │\n",
      "│ repulsive_weighted        │ 0.00059 │ 0.00001 │\n",
      "│ repulsive_weighted_train  │ 0.00049 │     nan │\n",
      "│ total                     │ 0.00195 │ 0.00001 │\n",
      "│ total_train               │ 0.00201 │     nan │\n",
      "└───────────────────────────┴─────────┴─────────┘\n",
      "\n"
     ]
    },
    {
     "data": {
      "application/vnd.jupyter.widget-view+json": {
       "model_id": "",
       "version_major": 2,
       "version_minor": 0
      },
      "text/plain": [
       "Validation: 0it [00:00, ?it/s]"
      ]
     },
     "metadata": {},
     "output_type": "display_data"
    },
    {
     "data": {
      "text/html": [
       "<pre style=\"white-space:pre;overflow-x:auto;line-height:normal;font-family:Menlo,'DejaVu Sans Mono',consolas,'Courier New',monospace\"></pre>\n"
      ],
      "text/plain": []
     },
     "metadata": {},
     "output_type": "display_data"
    },
    {
     "name": "stdout",
     "output_type": "stream",
     "text": [
      "\u001b[3m               Validation epoch=15               \u001b[0m\n",
      "┏━━━━━━━━━━━━━━━━━━━━━━━━━━━┳━━━━━━━━━┳━━━━━━━━━┓\n",
      "┃\u001b[1m \u001b[0m\u001b[1mMetric                   \u001b[0m\u001b[1m \u001b[0m┃\u001b[1m \u001b[0m\u001b[1m  Value\u001b[0m\u001b[1m \u001b[0m┃\u001b[1m \u001b[0m\u001b[1m  Error\u001b[0m\u001b[1m \u001b[0m┃\n",
      "┡━━━━━━━━━━━━━━━━━━━━━━━━━━━╇━━━━━━━━━╇━━━━━━━━━┩\n",
      "│ attractive                │ 0.00141 │ 0.00001 │\n",
      "│ attractive_train          │ 0.00139 │     nan │\n",
      "│ attractive_weighted       │ 0.00141 │ 0.00001 │\n",
      "│ attractive_weighted_train │ 0.00139 │     nan │\n",
      "│ repulsive                 │ 0.00026 │ 0.00000 │\n",
      "│ repulsive_train           │ 0.00026 │     nan │\n",
      "│ repulsive_weighted        │ 0.00053 │ 0.00001 │\n",
      "│ repulsive_weighted_train  │ 0.00052 │     nan │\n",
      "│ total                     │ 0.00193 │ 0.00001 │\n",
      "│ total_train               │ 0.00192 │     nan │\n",
      "└───────────────────────────┴─────────┴─────────┘\n",
      "\n"
     ]
    },
    {
     "data": {
      "application/vnd.jupyter.widget-view+json": {
       "model_id": "",
       "version_major": 2,
       "version_minor": 0
      },
      "text/plain": [
       "Validation: 0it [00:00, ?it/s]"
      ]
     },
     "metadata": {},
     "output_type": "display_data"
    },
    {
     "data": {
      "text/html": [
       "<pre style=\"white-space:pre;overflow-x:auto;line-height:normal;font-family:Menlo,'DejaVu Sans Mono',consolas,'Courier New',monospace\"></pre>\n"
      ],
      "text/plain": []
     },
     "metadata": {},
     "output_type": "display_data"
    },
    {
     "name": "stdout",
     "output_type": "stream",
     "text": [
      "\u001b[3m               Validation epoch=16               \u001b[0m\n",
      "┏━━━━━━━━━━━━━━━━━━━━━━━━━━━┳━━━━━━━━━┳━━━━━━━━━┓\n",
      "┃\u001b[1m \u001b[0m\u001b[1mMetric                   \u001b[0m\u001b[1m \u001b[0m┃\u001b[1m \u001b[0m\u001b[1m  Value\u001b[0m\u001b[1m \u001b[0m┃\u001b[1m \u001b[0m\u001b[1m  Error\u001b[0m\u001b[1m \u001b[0m┃\n",
      "┡━━━━━━━━━━━━━━━━━━━━━━━━━━━╇━━━━━━━━━╇━━━━━━━━━┩\n",
      "│ attractive                │ 0.00143 │ 0.00001 │\n",
      "│ attractive_train          │ 0.00143 │     nan │\n",
      "│ attractive_weighted       │ 0.00143 │ 0.00001 │\n",
      "│ attractive_weighted_train │ 0.00143 │     nan │\n",
      "│ repulsive                 │ 0.00025 │ 0.00000 │\n",
      "│ repulsive_train           │ 0.00031 │     nan │\n",
      "│ repulsive_weighted        │ 0.00049 │ 0.00001 │\n",
      "│ repulsive_weighted_train  │ 0.00062 │     nan │\n",
      "│ total                     │ 0.00192 │ 0.00001 │\n",
      "│ total_train               │ 0.00205 │     nan │\n",
      "└───────────────────────────┴─────────┴─────────┘\n",
      "\n"
     ]
    },
    {
     "data": {
      "application/vnd.jupyter.widget-view+json": {
       "model_id": "",
       "version_major": 2,
       "version_minor": 0
      },
      "text/plain": [
       "Validation: 0it [00:00, ?it/s]"
      ]
     },
     "metadata": {},
     "output_type": "display_data"
    },
    {
     "data": {
      "text/html": [
       "<pre style=\"white-space:pre;overflow-x:auto;line-height:normal;font-family:Menlo,'DejaVu Sans Mono',consolas,'Courier New',monospace\"></pre>\n"
      ],
      "text/plain": []
     },
     "metadata": {},
     "output_type": "display_data"
    },
    {
     "name": "stdout",
     "output_type": "stream",
     "text": [
      "\u001b[3m               Validation epoch=17               \u001b[0m\n",
      "┏━━━━━━━━━━━━━━━━━━━━━━━━━━━┳━━━━━━━━━┳━━━━━━━━━┓\n",
      "┃\u001b[1m \u001b[0m\u001b[1mMetric                   \u001b[0m\u001b[1m \u001b[0m┃\u001b[1m \u001b[0m\u001b[1m  Value\u001b[0m\u001b[1m \u001b[0m┃\u001b[1m \u001b[0m\u001b[1m  Error\u001b[0m\u001b[1m \u001b[0m┃\n",
      "┡━━━━━━━━━━━━━━━━━━━━━━━━━━━╇━━━━━━━━━╇━━━━━━━━━┩\n",
      "│ attractive                │ 0.00132 │ 0.00001 │\n",
      "│ attractive_train          │ 0.00128 │     nan │\n",
      "│ attractive_weighted       │ 0.00132 │ 0.00001 │\n",
      "│ attractive_weighted_train │ 0.00128 │     nan │\n",
      "│ repulsive                 │ 0.00026 │ 0.00000 │\n",
      "│ repulsive_train           │ 0.00029 │     nan │\n",
      "│ repulsive_weighted        │ 0.00052 │ 0.00001 │\n",
      "│ repulsive_weighted_train  │ 0.00058 │     nan │\n",
      "│ total                     │ 0.00184 │ 0.00001 │\n",
      "│ total_train               │ 0.00187 │     nan │\n",
      "└───────────────────────────┴─────────┴─────────┘\n",
      "\n"
     ]
    },
    {
     "data": {
      "application/vnd.jupyter.widget-view+json": {
       "model_id": "",
       "version_major": 2,
       "version_minor": 0
      },
      "text/plain": [
       "Validation: 0it [00:00, ?it/s]"
      ]
     },
     "metadata": {},
     "output_type": "display_data"
    },
    {
     "data": {
      "text/html": [
       "<pre style=\"white-space:pre;overflow-x:auto;line-height:normal;font-family:Menlo,'DejaVu Sans Mono',consolas,'Courier New',monospace\"></pre>\n"
      ],
      "text/plain": []
     },
     "metadata": {},
     "output_type": "display_data"
    },
    {
     "name": "stdout",
     "output_type": "stream",
     "text": [
      "\u001b[3m               Validation epoch=18               \u001b[0m\n",
      "┏━━━━━━━━━━━━━━━━━━━━━━━━━━━┳━━━━━━━━━┳━━━━━━━━━┓\n",
      "┃\u001b[1m \u001b[0m\u001b[1mMetric                   \u001b[0m\u001b[1m \u001b[0m┃\u001b[1m \u001b[0m\u001b[1m  Value\u001b[0m\u001b[1m \u001b[0m┃\u001b[1m \u001b[0m\u001b[1m  Error\u001b[0m\u001b[1m \u001b[0m┃\n",
      "┡━━━━━━━━━━━━━━━━━━━━━━━━━━━╇━━━━━━━━━╇━━━━━━━━━┩\n",
      "│ attractive                │ 0.00130 │ 0.00001 │\n",
      "│ attractive_train          │ 0.00124 │     nan │\n",
      "│ attractive_weighted       │ 0.00130 │ 0.00001 │\n",
      "│ attractive_weighted_train │ 0.00124 │     nan │\n",
      "│ repulsive                 │ 0.00025 │ 0.00000 │\n",
      "│ repulsive_train           │ 0.00021 │     nan │\n",
      "│ repulsive_weighted        │ 0.00050 │ 0.00001 │\n",
      "│ repulsive_weighted_train  │ 0.00041 │     nan │\n",
      "│ total                     │ 0.00180 │ 0.00001 │\n",
      "│ total_train               │ 0.00165 │     nan │\n",
      "└───────────────────────────┴─────────┴─────────┘\n",
      "\n"
     ]
    },
    {
     "data": {
      "application/vnd.jupyter.widget-view+json": {
       "model_id": "",
       "version_major": 2,
       "version_minor": 0
      },
      "text/plain": [
       "Validation: 0it [00:00, ?it/s]"
      ]
     },
     "metadata": {},
     "output_type": "display_data"
    },
    {
     "data": {
      "text/html": [
       "<pre style=\"white-space:pre;overflow-x:auto;line-height:normal;font-family:Menlo,'DejaVu Sans Mono',consolas,'Courier New',monospace\"></pre>\n"
      ],
      "text/plain": []
     },
     "metadata": {},
     "output_type": "display_data"
    },
    {
     "name": "stdout",
     "output_type": "stream",
     "text": [
      "\u001b[3m               Validation epoch=19               \u001b[0m\n",
      "┏━━━━━━━━━━━━━━━━━━━━━━━━━━━┳━━━━━━━━━┳━━━━━━━━━┓\n",
      "┃\u001b[1m \u001b[0m\u001b[1mMetric                   \u001b[0m\u001b[1m \u001b[0m┃\u001b[1m \u001b[0m\u001b[1m  Value\u001b[0m\u001b[1m \u001b[0m┃\u001b[1m \u001b[0m\u001b[1m  Error\u001b[0m\u001b[1m \u001b[0m┃\n",
      "┡━━━━━━━━━━━━━━━━━━━━━━━━━━━╇━━━━━━━━━╇━━━━━━━━━┩\n",
      "│ attractive                │ 0.00134 │ 0.00001 │\n",
      "│ attractive_train          │ 0.00134 │     nan │\n",
      "│ attractive_weighted       │ 0.00134 │ 0.00001 │\n",
      "│ attractive_weighted_train │ 0.00134 │     nan │\n",
      "│ repulsive                 │ 0.00022 │ 0.00000 │\n",
      "│ repulsive_train           │ 0.00030 │     nan │\n",
      "│ repulsive_weighted        │ 0.00044 │ 0.00001 │\n",
      "│ repulsive_weighted_train  │ 0.00061 │     nan │\n",
      "│ total                     │ 0.00179 │ 0.00001 │\n",
      "│ total_train               │ 0.00195 │     nan │\n",
      "└───────────────────────────┴─────────┴─────────┘\n",
      "\n"
     ]
    },
    {
     "data": {
      "application/vnd.jupyter.widget-view+json": {
       "model_id": "",
       "version_major": 2,
       "version_minor": 0
      },
      "text/plain": [
       "Validation: 0it [00:00, ?it/s]"
      ]
     },
     "metadata": {},
     "output_type": "display_data"
    },
    {
     "data": {
      "text/html": [
       "<pre style=\"white-space:pre;overflow-x:auto;line-height:normal;font-family:Menlo,'DejaVu Sans Mono',consolas,'Courier New',monospace\"></pre>\n"
      ],
      "text/plain": []
     },
     "metadata": {},
     "output_type": "display_data"
    },
    {
     "name": "stderr",
     "output_type": "stream",
     "text": [
      "`Trainer.fit` stopped: `max_epochs=20` reached.\n",
      "GPU available: True (cuda), used: True\n",
      "TPU available: False, using: 0 TPU cores\n",
      "IPU available: False, using: 0 IPUs\n",
      "HPU available: False, using: 0 HPUs\n",
      "You are using a CUDA device ('NVIDIA A100-SXM4-80GB') that has Tensor Cores. To properly utilize them, you should set `torch.set_float32_matmul_precision('medium' | 'high')` which will trade-off precision for performance. For more details, read https://pytorch.org/docs/stable/generated/torch.set_float32_matmul_precision.html#torch.set_float32_matmul_precision\n",
      "\u001b[32m[03:43:00] INFO: DataLoader will load 810 graphs (out of 900 available).\u001b[0m\n",
      "\u001b[36m[03:43:00] DEBUG: First graph is /scratch/gpfs/IOJALVO/gnn-tracking/object_condensation/point_clouds_v5/part1_pt1/part_1_0/data21025_s0.pt, last graph is /scratch/gpfs/IOJALVO/gnn-tracking/object_condensation/point_clouds_v5/part1_pt1/part_1_8/data21999_s0.pt\u001b[0m\n",
      "\u001b[32m[03:43:00] INFO: DataLoader will load 90 graphs (out of 900 available).\u001b[0m\n",
      "\u001b[36m[03:43:00] DEBUG: First graph is /scratch/gpfs/IOJALVO/gnn-tracking/object_condensation/point_clouds_v5/part1_pt1/part_1_9/data21009_s0.pt, last graph is /scratch/gpfs/IOJALVO/gnn-tracking/object_condensation/point_clouds_v5/part1_pt1/part_1_9/data21986_s0.pt\u001b[0m\n",
      "/scratch/gpfs/dc3896/micromamba/envs/gnn/lib/python3.10/site-packages/pytorch_lightning/callbacks/model_checkpoint.py:615: UserWarning: Checkpoint directory /home/dc3896/notebooks/lightning_logs/version_49016548/checkpoints exists and is not empty.\n",
      "  rank_zero_warn(f\"Checkpoint directory {dirpath} exists and is not empty.\")\n",
      "LOCAL_RANK: 0 - CUDA_VISIBLE_DEVICES: [0]\n",
      "\n",
      "  | Name     | Type                                | Params\n",
      "-----------------------------------------------------------------\n",
      "0 | model    | GraphConstructionFCNN               | 17.9 K\n",
      "1 | loss_fct | GraphConstructionHingeEmbeddingLoss | 0     \n",
      "-----------------------------------------------------------------\n",
      "17.9 K    Trainable params\n",
      "0         Non-trainable params\n",
      "17.9 K    Total params\n",
      "0.072     Total estimated model params size (MB)\n",
      "SLURM auto-requeueing enabled. Setting signal handlers.\n"
     ]
    },
    {
     "name": "stdout",
     "output_type": "stream",
     "text": [
      "\u001b[3m               Validation epoch=20               \u001b[0m\n",
      "┏━━━━━━━━━━━━━━━━━━━━━━━━━━━┳━━━━━━━━━┳━━━━━━━━━┓\n",
      "┃\u001b[1m \u001b[0m\u001b[1mMetric                   \u001b[0m\u001b[1m \u001b[0m┃\u001b[1m \u001b[0m\u001b[1m  Value\u001b[0m\u001b[1m \u001b[0m┃\u001b[1m \u001b[0m\u001b[1m  Error\u001b[0m\u001b[1m \u001b[0m┃\n",
      "┡━━━━━━━━━━━━━━━━━━━━━━━━━━━╇━━━━━━━━━╇━━━━━━━━━┩\n",
      "│ attractive                │ 0.00128 │ 0.00001 │\n",
      "│ attractive_train          │ 0.00133 │     nan │\n",
      "│ attractive_weighted       │ 0.00128 │ 0.00001 │\n",
      "│ attractive_weighted_train │ 0.00133 │     nan │\n",
      "│ repulsive                 │ 0.00025 │ 0.00000 │\n",
      "│ repulsive_train           │ 0.00027 │     nan │\n",
      "│ repulsive_weighted        │ 0.00050 │ 0.00001 │\n",
      "│ repulsive_weighted_train  │ 0.00053 │     nan │\n",
      "│ total                     │ 0.00179 │ 0.00001 │\n",
      "│ total_train               │ 0.00186 │     nan │\n",
      "└───────────────────────────┴─────────┴─────────┘\n",
      "\n",
      "\n",
      "\n",
      "Training for scaling coefficients = 4.0\n"
     ]
    },
    {
     "data": {
      "application/vnd.jupyter.widget-view+json": {
       "model_id": "",
       "version_major": 2,
       "version_minor": 0
      },
      "text/plain": [
       "Sanity Checking: 0it [00:00, ?it/s]"
      ]
     },
     "metadata": {},
     "output_type": "display_data"
    },
    {
     "name": "stderr",
     "output_type": "stream",
     "text": [
      "/scratch/gpfs/dc3896/micromamba/envs/gnn/lib/python3.10/site-packages/pytorch_lightning/trainer/connectors/data_connector.py:432: PossibleUserWarning: The dataloader, val_dataloader, does not have many workers which may be a bottleneck. Consider increasing the value of the `num_workers` argument` (try 48 which is the number of cpus on this machine) in the `DataLoader` init to improve performance.\n",
      "  rank_zero_warn(\n"
     ]
    },
    {
     "data": {
      "text/html": [
       "<pre style=\"white-space:pre;overflow-x:auto;line-height:normal;font-family:Menlo,'DejaVu Sans Mono',consolas,'Courier New',monospace\"></pre>\n"
      ],
      "text/plain": []
     },
     "metadata": {},
     "output_type": "display_data"
    },
    {
     "name": "stderr",
     "output_type": "stream",
     "text": [
      "/scratch/gpfs/dc3896/micromamba/envs/gnn/lib/python3.10/site-packages/pytorch_lightning/trainer/connectors/data_connector.py:432: PossibleUserWarning: The dataloader, train_dataloader, does not have many workers which may be a bottleneck. Consider increasing the value of the `num_workers` argument` (try 48 which is the number of cpus on this machine) in the `DataLoader` init to improve performance.\n",
      "  rank_zero_warn(\n"
     ]
    },
    {
     "data": {
      "application/vnd.jupyter.widget-view+json": {
       "model_id": "a0663adeca9b4bbeaf1e39c8e1eae8bc",
       "version_major": 2,
       "version_minor": 0
      },
      "text/plain": [
       "Training: 0it [00:00, ?it/s]"
      ]
     },
     "metadata": {},
     "output_type": "display_data"
    },
    {
     "data": {
      "application/vnd.jupyter.widget-view+json": {
       "model_id": "",
       "version_major": 2,
       "version_minor": 0
      },
      "text/plain": [
       "Validation: 0it [00:00, ?it/s]"
      ]
     },
     "metadata": {},
     "output_type": "display_data"
    },
    {
     "data": {
      "text/html": [
       "<pre style=\"white-space:pre;overflow-x:auto;line-height:normal;font-family:Menlo,'DejaVu Sans Mono',consolas,'Courier New',monospace\"></pre>\n"
      ],
      "text/plain": []
     },
     "metadata": {},
     "output_type": "display_data"
    },
    {
     "name": "stdout",
     "output_type": "stream",
     "text": [
      "\u001b[3m               Validation epoch=1                \u001b[0m\n",
      "┏━━━━━━━━━━━━━━━━━━━━━━━━━━━┳━━━━━━━━━┳━━━━━━━━━┓\n",
      "┃\u001b[1m \u001b[0m\u001b[1mMetric                   \u001b[0m\u001b[1m \u001b[0m┃\u001b[1m \u001b[0m\u001b[1m  Value\u001b[0m\u001b[1m \u001b[0m┃\u001b[1m \u001b[0m\u001b[1m  Error\u001b[0m\u001b[1m \u001b[0m┃\n",
      "┡━━━━━━━━━━━━━━━━━━━━━━━━━━━╇━━━━━━━━━╇━━━━━━━━━┩\n",
      "│ attractive                │ 0.00327 │ 0.00001 │\n",
      "│ attractive_train          │ 0.00315 │     nan │\n",
      "│ attractive_weighted       │ 0.00327 │ 0.00001 │\n",
      "│ attractive_weighted_train │ 0.00315 │     nan │\n",
      "│ repulsive                 │ 0.00025 │ 0.00000 │\n",
      "│ repulsive_train           │ 0.00028 │     nan │\n",
      "│ repulsive_weighted        │ 0.00099 │ 0.00002 │\n",
      "│ repulsive_weighted_train  │ 0.00113 │     nan │\n",
      "│ total                     │ 0.00425 │ 0.00002 │\n",
      "│ total_train               │ 0.00429 │     nan │\n",
      "└───────────────────────────┴─────────┴─────────┘\n",
      "\n"
     ]
    },
    {
     "data": {
      "application/vnd.jupyter.widget-view+json": {
       "model_id": "",
       "version_major": 2,
       "version_minor": 0
      },
      "text/plain": [
       "Validation: 0it [00:00, ?it/s]"
      ]
     },
     "metadata": {},
     "output_type": "display_data"
    },
    {
     "data": {
      "text/html": [
       "<pre style=\"white-space:pre;overflow-x:auto;line-height:normal;font-family:Menlo,'DejaVu Sans Mono',consolas,'Courier New',monospace\"></pre>\n"
      ],
      "text/plain": []
     },
     "metadata": {},
     "output_type": "display_data"
    },
    {
     "name": "stdout",
     "output_type": "stream",
     "text": [
      "\u001b[3m               Validation epoch=2                \u001b[0m\n",
      "┏━━━━━━━━━━━━━━━━━━━━━━━━━━━┳━━━━━━━━━┳━━━━━━━━━┓\n",
      "┃\u001b[1m \u001b[0m\u001b[1mMetric                   \u001b[0m\u001b[1m \u001b[0m┃\u001b[1m \u001b[0m\u001b[1m  Value\u001b[0m\u001b[1m \u001b[0m┃\u001b[1m \u001b[0m\u001b[1m  Error\u001b[0m\u001b[1m \u001b[0m┃\n",
      "┡━━━━━━━━━━━━━━━━━━━━━━━━━━━╇━━━━━━━━━╇━━━━━━━━━┩\n",
      "│ attractive                │ 0.00272 │ 0.00001 │\n",
      "│ attractive_train          │ 0.00270 │     nan │\n",
      "│ attractive_weighted       │ 0.00272 │ 0.00001 │\n",
      "│ attractive_weighted_train │ 0.00270 │     nan │\n",
      "│ repulsive                 │ 0.00017 │ 0.00000 │\n",
      "│ repulsive_train           │ 0.00022 │     nan │\n",
      "│ repulsive_weighted        │ 0.00069 │ 0.00001 │\n",
      "│ repulsive_weighted_train  │ 0.00087 │     nan │\n",
      "│ total                     │ 0.00341 │ 0.00002 │\n",
      "│ total_train               │ 0.00356 │     nan │\n",
      "└───────────────────────────┴─────────┴─────────┘\n",
      "\n"
     ]
    },
    {
     "data": {
      "application/vnd.jupyter.widget-view+json": {
       "model_id": "",
       "version_major": 2,
       "version_minor": 0
      },
      "text/plain": [
       "Validation: 0it [00:00, ?it/s]"
      ]
     },
     "metadata": {},
     "output_type": "display_data"
    },
    {
     "data": {
      "text/html": [
       "<pre style=\"white-space:pre;overflow-x:auto;line-height:normal;font-family:Menlo,'DejaVu Sans Mono',consolas,'Courier New',monospace\"></pre>\n"
      ],
      "text/plain": []
     },
     "metadata": {},
     "output_type": "display_data"
    },
    {
     "name": "stdout",
     "output_type": "stream",
     "text": [
      "\u001b[3m               Validation epoch=3                \u001b[0m\n",
      "┏━━━━━━━━━━━━━━━━━━━━━━━━━━━┳━━━━━━━━━┳━━━━━━━━━┓\n",
      "┃\u001b[1m \u001b[0m\u001b[1mMetric                   \u001b[0m\u001b[1m \u001b[0m┃\u001b[1m \u001b[0m\u001b[1m  Value\u001b[0m\u001b[1m \u001b[0m┃\u001b[1m \u001b[0m\u001b[1m  Error\u001b[0m\u001b[1m \u001b[0m┃\n",
      "┡━━━━━━━━━━━━━━━━━━━━━━━━━━━╇━━━━━━━━━╇━━━━━━━━━┩\n",
      "│ attractive                │ 0.00255 │ 0.00001 │\n",
      "│ attractive_train          │ 0.00249 │     nan │\n",
      "│ attractive_weighted       │ 0.00255 │ 0.00001 │\n",
      "│ attractive_weighted_train │ 0.00249 │     nan │\n",
      "│ repulsive                 │ 0.00018 │ 0.00000 │\n",
      "│ repulsive_train           │ 0.00023 │     nan │\n",
      "│ repulsive_weighted        │ 0.00071 │ 0.00001 │\n",
      "│ repulsive_weighted_train  │ 0.00092 │     nan │\n",
      "│ total                     │ 0.00326 │ 0.00002 │\n",
      "│ total_train               │ 0.00341 │     nan │\n",
      "└───────────────────────────┴─────────┴─────────┘\n",
      "\n"
     ]
    },
    {
     "data": {
      "application/vnd.jupyter.widget-view+json": {
       "model_id": "",
       "version_major": 2,
       "version_minor": 0
      },
      "text/plain": [
       "Validation: 0it [00:00, ?it/s]"
      ]
     },
     "metadata": {},
     "output_type": "display_data"
    },
    {
     "data": {
      "text/html": [
       "<pre style=\"white-space:pre;overflow-x:auto;line-height:normal;font-family:Menlo,'DejaVu Sans Mono',consolas,'Courier New',monospace\"></pre>\n"
      ],
      "text/plain": []
     },
     "metadata": {},
     "output_type": "display_data"
    },
    {
     "name": "stdout",
     "output_type": "stream",
     "text": [
      "\u001b[3m               Validation epoch=4                \u001b[0m\n",
      "┏━━━━━━━━━━━━━━━━━━━━━━━━━━━┳━━━━━━━━━┳━━━━━━━━━┓\n",
      "┃\u001b[1m \u001b[0m\u001b[1mMetric                   \u001b[0m\u001b[1m \u001b[0m┃\u001b[1m \u001b[0m\u001b[1m  Value\u001b[0m\u001b[1m \u001b[0m┃\u001b[1m \u001b[0m\u001b[1m  Error\u001b[0m\u001b[1m \u001b[0m┃\n",
      "┡━━━━━━━━━━━━━━━━━━━━━━━━━━━╇━━━━━━━━━╇━━━━━━━━━┩\n",
      "│ attractive                │ 0.00245 │ 0.00001 │\n",
      "│ attractive_train          │ 0.00258 │     nan │\n",
      "│ attractive_weighted       │ 0.00245 │ 0.00001 │\n",
      "│ attractive_weighted_train │ 0.00258 │     nan │\n",
      "│ repulsive                 │ 0.00018 │ 0.00000 │\n",
      "│ repulsive_train           │ 0.00019 │     nan │\n",
      "│ repulsive_weighted        │ 0.00071 │ 0.00001 │\n",
      "│ repulsive_weighted_train  │ 0.00078 │     nan │\n",
      "│ total                     │ 0.00317 │ 0.00002 │\n",
      "│ total_train               │ 0.00335 │     nan │\n",
      "└───────────────────────────┴─────────┴─────────┘\n",
      "\n"
     ]
    },
    {
     "data": {
      "application/vnd.jupyter.widget-view+json": {
       "model_id": "",
       "version_major": 2,
       "version_minor": 0
      },
      "text/plain": [
       "Validation: 0it [00:00, ?it/s]"
      ]
     },
     "metadata": {},
     "output_type": "display_data"
    },
    {
     "data": {
      "text/html": [
       "<pre style=\"white-space:pre;overflow-x:auto;line-height:normal;font-family:Menlo,'DejaVu Sans Mono',consolas,'Courier New',monospace\"></pre>\n"
      ],
      "text/plain": []
     },
     "metadata": {},
     "output_type": "display_data"
    },
    {
     "name": "stdout",
     "output_type": "stream",
     "text": [
      "\u001b[3m               Validation epoch=5                \u001b[0m\n",
      "┏━━━━━━━━━━━━━━━━━━━━━━━━━━━┳━━━━━━━━━┳━━━━━━━━━┓\n",
      "┃\u001b[1m \u001b[0m\u001b[1mMetric                   \u001b[0m\u001b[1m \u001b[0m┃\u001b[1m \u001b[0m\u001b[1m  Value\u001b[0m\u001b[1m \u001b[0m┃\u001b[1m \u001b[0m\u001b[1m  Error\u001b[0m\u001b[1m \u001b[0m┃\n",
      "┡━━━━━━━━━━━━━━━━━━━━━━━━━━━╇━━━━━━━━━╇━━━━━━━━━┩\n",
      "│ attractive                │ 0.00243 │ 0.00001 │\n",
      "│ attractive_train          │ 0.00248 │     nan │\n",
      "│ attractive_weighted       │ 0.00243 │ 0.00001 │\n",
      "│ attractive_weighted_train │ 0.00248 │     nan │\n",
      "│ repulsive                 │ 0.00015 │ 0.00000 │\n",
      "│ repulsive_train           │ 0.00017 │     nan │\n",
      "│ repulsive_weighted        │ 0.00060 │ 0.00001 │\n",
      "│ repulsive_weighted_train  │ 0.00068 │     nan │\n",
      "│ total                     │ 0.00303 │ 0.00002 │\n",
      "│ total_train               │ 0.00316 │     nan │\n",
      "└───────────────────────────┴─────────┴─────────┘\n",
      "\n"
     ]
    },
    {
     "data": {
      "application/vnd.jupyter.widget-view+json": {
       "model_id": "",
       "version_major": 2,
       "version_minor": 0
      },
      "text/plain": [
       "Validation: 0it [00:00, ?it/s]"
      ]
     },
     "metadata": {},
     "output_type": "display_data"
    },
    {
     "data": {
      "text/html": [
       "<pre style=\"white-space:pre;overflow-x:auto;line-height:normal;font-family:Menlo,'DejaVu Sans Mono',consolas,'Courier New',monospace\"></pre>\n"
      ],
      "text/plain": []
     },
     "metadata": {},
     "output_type": "display_data"
    },
    {
     "name": "stdout",
     "output_type": "stream",
     "text": [
      "\u001b[3m               Validation epoch=6                \u001b[0m\n",
      "┏━━━━━━━━━━━━━━━━━━━━━━━━━━━┳━━━━━━━━━┳━━━━━━━━━┓\n",
      "┃\u001b[1m \u001b[0m\u001b[1mMetric                   \u001b[0m\u001b[1m \u001b[0m┃\u001b[1m \u001b[0m\u001b[1m  Value\u001b[0m\u001b[1m \u001b[0m┃\u001b[1m \u001b[0m\u001b[1m  Error\u001b[0m\u001b[1m \u001b[0m┃\n",
      "┡━━━━━━━━━━━━━━━━━━━━━━━━━━━╇━━━━━━━━━╇━━━━━━━━━┩\n",
      "│ attractive                │ 0.00230 │ 0.00001 │\n",
      "│ attractive_train          │ 0.00225 │     nan │\n",
      "│ attractive_weighted       │ 0.00230 │ 0.00001 │\n",
      "│ attractive_weighted_train │ 0.00225 │     nan │\n",
      "│ repulsive                 │ 0.00014 │ 0.00000 │\n",
      "│ repulsive_train           │ 0.00015 │     nan │\n",
      "│ repulsive_weighted        │ 0.00057 │ 0.00001 │\n",
      "│ repulsive_weighted_train  │ 0.00059 │     nan │\n",
      "│ total                     │ 0.00287 │ 0.00001 │\n",
      "│ total_train               │ 0.00284 │     nan │\n",
      "└───────────────────────────┴─────────┴─────────┘\n",
      "\n"
     ]
    },
    {
     "data": {
      "application/vnd.jupyter.widget-view+json": {
       "model_id": "",
       "version_major": 2,
       "version_minor": 0
      },
      "text/plain": [
       "Validation: 0it [00:00, ?it/s]"
      ]
     },
     "metadata": {},
     "output_type": "display_data"
    },
    {
     "data": {
      "text/html": [
       "<pre style=\"white-space:pre;overflow-x:auto;line-height:normal;font-family:Menlo,'DejaVu Sans Mono',consolas,'Courier New',monospace\"></pre>\n"
      ],
      "text/plain": []
     },
     "metadata": {},
     "output_type": "display_data"
    },
    {
     "name": "stdout",
     "output_type": "stream",
     "text": [
      "\u001b[3m               Validation epoch=7                \u001b[0m\n",
      "┏━━━━━━━━━━━━━━━━━━━━━━━━━━━┳━━━━━━━━━┳━━━━━━━━━┓\n",
      "┃\u001b[1m \u001b[0m\u001b[1mMetric                   \u001b[0m\u001b[1m \u001b[0m┃\u001b[1m \u001b[0m\u001b[1m  Value\u001b[0m\u001b[1m \u001b[0m┃\u001b[1m \u001b[0m\u001b[1m  Error\u001b[0m\u001b[1m \u001b[0m┃\n",
      "┡━━━━━━━━━━━━━━━━━━━━━━━━━━━╇━━━━━━━━━╇━━━━━━━━━┩\n",
      "│ attractive                │ 0.00224 │ 0.00001 │\n",
      "│ attractive_train          │ 0.00230 │     nan │\n",
      "│ attractive_weighted       │ 0.00224 │ 0.00001 │\n",
      "│ attractive_weighted_train │ 0.00230 │     nan │\n",
      "│ repulsive                 │ 0.00016 │ 0.00000 │\n",
      "│ repulsive_train           │ 0.00016 │     nan │\n",
      "│ repulsive_weighted        │ 0.00064 │ 0.00001 │\n",
      "│ repulsive_weighted_train  │ 0.00065 │     nan │\n",
      "│ total                     │ 0.00288 │ 0.00001 │\n",
      "│ total_train               │ 0.00296 │     nan │\n",
      "└───────────────────────────┴─────────┴─────────┘\n",
      "\n"
     ]
    },
    {
     "data": {
      "application/vnd.jupyter.widget-view+json": {
       "model_id": "",
       "version_major": 2,
       "version_minor": 0
      },
      "text/plain": [
       "Validation: 0it [00:00, ?it/s]"
      ]
     },
     "metadata": {},
     "output_type": "display_data"
    },
    {
     "data": {
      "text/html": [
       "<pre style=\"white-space:pre;overflow-x:auto;line-height:normal;font-family:Menlo,'DejaVu Sans Mono',consolas,'Courier New',monospace\"></pre>\n"
      ],
      "text/plain": []
     },
     "metadata": {},
     "output_type": "display_data"
    },
    {
     "name": "stdout",
     "output_type": "stream",
     "text": [
      "\u001b[3m               Validation epoch=8                \u001b[0m\n",
      "┏━━━━━━━━━━━━━━━━━━━━━━━━━━━┳━━━━━━━━━┳━━━━━━━━━┓\n",
      "┃\u001b[1m \u001b[0m\u001b[1mMetric                   \u001b[0m\u001b[1m \u001b[0m┃\u001b[1m \u001b[0m\u001b[1m  Value\u001b[0m\u001b[1m \u001b[0m┃\u001b[1m \u001b[0m\u001b[1m  Error\u001b[0m\u001b[1m \u001b[0m┃\n",
      "┡━━━━━━━━━━━━━━━━━━━━━━━━━━━╇━━━━━━━━━╇━━━━━━━━━┩\n",
      "│ attractive                │ 0.00221 │ 0.00001 │\n",
      "│ attractive_train          │ 0.00232 │     nan │\n",
      "│ attractive_weighted       │ 0.00221 │ 0.00001 │\n",
      "│ attractive_weighted_train │ 0.00232 │     nan │\n",
      "│ repulsive                 │ 0.00017 │ 0.00000 │\n",
      "│ repulsive_train           │ 0.00014 │     nan │\n",
      "│ repulsive_weighted        │ 0.00068 │ 0.00001 │\n",
      "│ repulsive_weighted_train  │ 0.00056 │     nan │\n",
      "│ total                     │ 0.00289 │ 0.00002 │\n",
      "│ total_train               │ 0.00288 │     nan │\n",
      "└───────────────────────────┴─────────┴─────────┘\n",
      "\n"
     ]
    },
    {
     "data": {
      "application/vnd.jupyter.widget-view+json": {
       "model_id": "",
       "version_major": 2,
       "version_minor": 0
      },
      "text/plain": [
       "Validation: 0it [00:00, ?it/s]"
      ]
     },
     "metadata": {},
     "output_type": "display_data"
    },
    {
     "data": {
      "text/html": [
       "<pre style=\"white-space:pre;overflow-x:auto;line-height:normal;font-family:Menlo,'DejaVu Sans Mono',consolas,'Courier New',monospace\"></pre>\n"
      ],
      "text/plain": []
     },
     "metadata": {},
     "output_type": "display_data"
    },
    {
     "name": "stdout",
     "output_type": "stream",
     "text": [
      "\u001b[3m               Validation epoch=9                \u001b[0m\n",
      "┏━━━━━━━━━━━━━━━━━━━━━━━━━━━┳━━━━━━━━━┳━━━━━━━━━┓\n",
      "┃\u001b[1m \u001b[0m\u001b[1mMetric                   \u001b[0m\u001b[1m \u001b[0m┃\u001b[1m \u001b[0m\u001b[1m  Value\u001b[0m\u001b[1m \u001b[0m┃\u001b[1m \u001b[0m\u001b[1m  Error\u001b[0m\u001b[1m \u001b[0m┃\n",
      "┡━━━━━━━━━━━━━━━━━━━━━━━━━━━╇━━━━━━━━━╇━━━━━━━━━┩\n",
      "│ attractive                │ 0.00208 │ 0.00001 │\n",
      "│ attractive_train          │ 0.00193 │     nan │\n",
      "│ attractive_weighted       │ 0.00208 │ 0.00001 │\n",
      "│ attractive_weighted_train │ 0.00193 │     nan │\n",
      "│ repulsive                 │ 0.00015 │ 0.00000 │\n",
      "│ repulsive_train           │ 0.00019 │     nan │\n",
      "│ repulsive_weighted        │ 0.00061 │ 0.00001 │\n",
      "│ repulsive_weighted_train  │ 0.00076 │     nan │\n",
      "│ total                     │ 0.00268 │ 0.00001 │\n",
      "│ total_train               │ 0.00269 │     nan │\n",
      "└───────────────────────────┴─────────┴─────────┘\n",
      "\n"
     ]
    },
    {
     "data": {
      "application/vnd.jupyter.widget-view+json": {
       "model_id": "",
       "version_major": 2,
       "version_minor": 0
      },
      "text/plain": [
       "Validation: 0it [00:00, ?it/s]"
      ]
     },
     "metadata": {},
     "output_type": "display_data"
    },
    {
     "data": {
      "text/html": [
       "<pre style=\"white-space:pre;overflow-x:auto;line-height:normal;font-family:Menlo,'DejaVu Sans Mono',consolas,'Courier New',monospace\"></pre>\n"
      ],
      "text/plain": []
     },
     "metadata": {},
     "output_type": "display_data"
    },
    {
     "name": "stdout",
     "output_type": "stream",
     "text": [
      "\u001b[3m               Validation epoch=10               \u001b[0m\n",
      "┏━━━━━━━━━━━━━━━━━━━━━━━━━━━┳━━━━━━━━━┳━━━━━━━━━┓\n",
      "┃\u001b[1m \u001b[0m\u001b[1mMetric                   \u001b[0m\u001b[1m \u001b[0m┃\u001b[1m \u001b[0m\u001b[1m  Value\u001b[0m\u001b[1m \u001b[0m┃\u001b[1m \u001b[0m\u001b[1m  Error\u001b[0m\u001b[1m \u001b[0m┃\n",
      "┡━━━━━━━━━━━━━━━━━━━━━━━━━━━╇━━━━━━━━━╇━━━━━━━━━┩\n",
      "│ attractive                │ 0.00200 │ 0.00001 │\n",
      "│ attractive_train          │ 0.00214 │     nan │\n",
      "│ attractive_weighted       │ 0.00200 │ 0.00001 │\n",
      "│ attractive_weighted_train │ 0.00214 │     nan │\n",
      "│ repulsive                 │ 0.00015 │ 0.00000 │\n",
      "│ repulsive_train           │ 0.00015 │     nan │\n",
      "│ repulsive_weighted        │ 0.00061 │ 0.00001 │\n",
      "│ repulsive_weighted_train  │ 0.00059 │     nan │\n",
      "│ total                     │ 0.00261 │ 0.00001 │\n",
      "│ total_train               │ 0.00272 │     nan │\n",
      "└───────────────────────────┴─────────┴─────────┘\n",
      "\n"
     ]
    },
    {
     "data": {
      "application/vnd.jupyter.widget-view+json": {
       "model_id": "",
       "version_major": 2,
       "version_minor": 0
      },
      "text/plain": [
       "Validation: 0it [00:00, ?it/s]"
      ]
     },
     "metadata": {},
     "output_type": "display_data"
    },
    {
     "data": {
      "text/html": [
       "<pre style=\"white-space:pre;overflow-x:auto;line-height:normal;font-family:Menlo,'DejaVu Sans Mono',consolas,'Courier New',monospace\"></pre>\n"
      ],
      "text/plain": []
     },
     "metadata": {},
     "output_type": "display_data"
    },
    {
     "name": "stdout",
     "output_type": "stream",
     "text": [
      "\u001b[3m               Validation epoch=11               \u001b[0m\n",
      "┏━━━━━━━━━━━━━━━━━━━━━━━━━━━┳━━━━━━━━━┳━━━━━━━━━┓\n",
      "┃\u001b[1m \u001b[0m\u001b[1mMetric                   \u001b[0m\u001b[1m \u001b[0m┃\u001b[1m \u001b[0m\u001b[1m  Value\u001b[0m\u001b[1m \u001b[0m┃\u001b[1m \u001b[0m\u001b[1m  Error\u001b[0m\u001b[1m \u001b[0m┃\n",
      "┡━━━━━━━━━━━━━━━━━━━━━━━━━━━╇━━━━━━━━━╇━━━━━━━━━┩\n",
      "│ attractive                │ 0.00200 │ 0.00001 │\n",
      "│ attractive_train          │ 0.00202 │     nan │\n",
      "│ attractive_weighted       │ 0.00200 │ 0.00001 │\n",
      "│ attractive_weighted_train │ 0.00202 │     nan │\n",
      "│ repulsive                 │ 0.00015 │ 0.00000 │\n",
      "│ repulsive_train           │ 0.00015 │     nan │\n",
      "│ repulsive_weighted        │ 0.00060 │ 0.00001 │\n",
      "│ repulsive_weighted_train  │ 0.00059 │     nan │\n",
      "│ total                     │ 0.00259 │ 0.00001 │\n",
      "│ total_train               │ 0.00261 │     nan │\n",
      "└───────────────────────────┴─────────┴─────────┘\n",
      "\n"
     ]
    },
    {
     "data": {
      "application/vnd.jupyter.widget-view+json": {
       "model_id": "",
       "version_major": 2,
       "version_minor": 0
      },
      "text/plain": [
       "Validation: 0it [00:00, ?it/s]"
      ]
     },
     "metadata": {},
     "output_type": "display_data"
    },
    {
     "data": {
      "text/html": [
       "<pre style=\"white-space:pre;overflow-x:auto;line-height:normal;font-family:Menlo,'DejaVu Sans Mono',consolas,'Courier New',monospace\"></pre>\n"
      ],
      "text/plain": []
     },
     "metadata": {},
     "output_type": "display_data"
    },
    {
     "name": "stdout",
     "output_type": "stream",
     "text": [
      "\u001b[3m               Validation epoch=12               \u001b[0m\n",
      "┏━━━━━━━━━━━━━━━━━━━━━━━━━━━┳━━━━━━━━━┳━━━━━━━━━┓\n",
      "┃\u001b[1m \u001b[0m\u001b[1mMetric                   \u001b[0m\u001b[1m \u001b[0m┃\u001b[1m \u001b[0m\u001b[1m  Value\u001b[0m\u001b[1m \u001b[0m┃\u001b[1m \u001b[0m\u001b[1m  Error\u001b[0m\u001b[1m \u001b[0m┃\n",
      "┡━━━━━━━━━━━━━━━━━━━━━━━━━━━╇━━━━━━━━━╇━━━━━━━━━┩\n",
      "│ attractive                │ 0.00196 │ 0.00001 │\n",
      "│ attractive_train          │ 0.00193 │     nan │\n",
      "│ attractive_weighted       │ 0.00196 │ 0.00001 │\n",
      "│ attractive_weighted_train │ 0.00193 │     nan │\n",
      "│ repulsive                 │ 0.00017 │ 0.00000 │\n",
      "│ repulsive_train           │ 0.00016 │     nan │\n",
      "│ repulsive_weighted        │ 0.00067 │ 0.00001 │\n",
      "│ repulsive_weighted_train  │ 0.00064 │     nan │\n",
      "│ total                     │ 0.00262 │ 0.00002 │\n",
      "│ total_train               │ 0.00257 │     nan │\n",
      "└───────────────────────────┴─────────┴─────────┘\n",
      "\n"
     ]
    },
    {
     "data": {
      "application/vnd.jupyter.widget-view+json": {
       "model_id": "",
       "version_major": 2,
       "version_minor": 0
      },
      "text/plain": [
       "Validation: 0it [00:00, ?it/s]"
      ]
     },
     "metadata": {},
     "output_type": "display_data"
    },
    {
     "data": {
      "text/html": [
       "<pre style=\"white-space:pre;overflow-x:auto;line-height:normal;font-family:Menlo,'DejaVu Sans Mono',consolas,'Courier New',monospace\"></pre>\n"
      ],
      "text/plain": []
     },
     "metadata": {},
     "output_type": "display_data"
    },
    {
     "name": "stdout",
     "output_type": "stream",
     "text": [
      "\u001b[3m               Validation epoch=13               \u001b[0m\n",
      "┏━━━━━━━━━━━━━━━━━━━━━━━━━━━┳━━━━━━━━━┳━━━━━━━━━┓\n",
      "┃\u001b[1m \u001b[0m\u001b[1mMetric                   \u001b[0m\u001b[1m \u001b[0m┃\u001b[1m \u001b[0m\u001b[1m  Value\u001b[0m\u001b[1m \u001b[0m┃\u001b[1m \u001b[0m\u001b[1m  Error\u001b[0m\u001b[1m \u001b[0m┃\n",
      "┡━━━━━━━━━━━━━━━━━━━━━━━━━━━╇━━━━━━━━━╇━━━━━━━━━┩\n",
      "│ attractive                │ 0.00179 │ 0.00001 │\n",
      "│ attractive_train          │ 0.00192 │     nan │\n",
      "│ attractive_weighted       │ 0.00179 │ 0.00001 │\n",
      "│ attractive_weighted_train │ 0.00192 │     nan │\n",
      "│ repulsive                 │ 0.00015 │ 0.00000 │\n",
      "│ repulsive_train           │ 0.00014 │     nan │\n",
      "│ repulsive_weighted        │ 0.00059 │ 0.00001 │\n",
      "│ repulsive_weighted_train  │ 0.00054 │     nan │\n",
      "│ total                     │ 0.00237 │ 0.00001 │\n",
      "│ total_train               │ 0.00247 │     nan │\n",
      "└───────────────────────────┴─────────┴─────────┘\n",
      "\n"
     ]
    },
    {
     "data": {
      "application/vnd.jupyter.widget-view+json": {
       "model_id": "",
       "version_major": 2,
       "version_minor": 0
      },
      "text/plain": [
       "Validation: 0it [00:00, ?it/s]"
      ]
     },
     "metadata": {},
     "output_type": "display_data"
    },
    {
     "data": {
      "text/html": [
       "<pre style=\"white-space:pre;overflow-x:auto;line-height:normal;font-family:Menlo,'DejaVu Sans Mono',consolas,'Courier New',monospace\"></pre>\n"
      ],
      "text/plain": []
     },
     "metadata": {},
     "output_type": "display_data"
    },
    {
     "name": "stdout",
     "output_type": "stream",
     "text": [
      "\u001b[3m               Validation epoch=14               \u001b[0m\n",
      "┏━━━━━━━━━━━━━━━━━━━━━━━━━━━┳━━━━━━━━━┳━━━━━━━━━┓\n",
      "┃\u001b[1m \u001b[0m\u001b[1mMetric                   \u001b[0m\u001b[1m \u001b[0m┃\u001b[1m \u001b[0m\u001b[1m  Value\u001b[0m\u001b[1m \u001b[0m┃\u001b[1m \u001b[0m\u001b[1m  Error\u001b[0m\u001b[1m \u001b[0m┃\n",
      "┡━━━━━━━━━━━━━━━━━━━━━━━━━━━╇━━━━━━━━━╇━━━━━━━━━┩\n",
      "│ attractive                │ 0.00184 │ 0.00001 │\n",
      "│ attractive_train          │ 0.00175 │     nan │\n",
      "│ attractive_weighted       │ 0.00184 │ 0.00001 │\n",
      "│ attractive_weighted_train │ 0.00175 │     nan │\n",
      "│ repulsive                 │ 0.00017 │ 0.00000 │\n",
      "│ repulsive_train           │ 0.00018 │     nan │\n",
      "│ repulsive_weighted        │ 0.00066 │ 0.00001 │\n",
      "│ repulsive_weighted_train  │ 0.00072 │     nan │\n",
      "│ total                     │ 0.00250 │ 0.00001 │\n",
      "│ total_train               │ 0.00246 │     nan │\n",
      "└───────────────────────────┴─────────┴─────────┘\n",
      "\n"
     ]
    },
    {
     "data": {
      "application/vnd.jupyter.widget-view+json": {
       "model_id": "",
       "version_major": 2,
       "version_minor": 0
      },
      "text/plain": [
       "Validation: 0it [00:00, ?it/s]"
      ]
     },
     "metadata": {},
     "output_type": "display_data"
    },
    {
     "data": {
      "text/html": [
       "<pre style=\"white-space:pre;overflow-x:auto;line-height:normal;font-family:Menlo,'DejaVu Sans Mono',consolas,'Courier New',monospace\"></pre>\n"
      ],
      "text/plain": []
     },
     "metadata": {},
     "output_type": "display_data"
    },
    {
     "name": "stdout",
     "output_type": "stream",
     "text": [
      "\u001b[3m               Validation epoch=15               \u001b[0m\n",
      "┏━━━━━━━━━━━━━━━━━━━━━━━━━━━┳━━━━━━━━━┳━━━━━━━━━┓\n",
      "┃\u001b[1m \u001b[0m\u001b[1mMetric                   \u001b[0m\u001b[1m \u001b[0m┃\u001b[1m \u001b[0m\u001b[1m  Value\u001b[0m\u001b[1m \u001b[0m┃\u001b[1m \u001b[0m\u001b[1m  Error\u001b[0m\u001b[1m \u001b[0m┃\n",
      "┡━━━━━━━━━━━━━━━━━━━━━━━━━━━╇━━━━━━━━━╇━━━━━━━━━┩\n",
      "│ attractive                │ 0.00181 │ 0.00001 │\n",
      "│ attractive_train          │ 0.00167 │     nan │\n",
      "│ attractive_weighted       │ 0.00181 │ 0.00001 │\n",
      "│ attractive_weighted_train │ 0.00167 │     nan │\n",
      "│ repulsive                 │ 0.00014 │ 0.00000 │\n",
      "│ repulsive_train           │ 0.00018 │     nan │\n",
      "│ repulsive_weighted        │ 0.00058 │ 0.00001 │\n",
      "│ repulsive_weighted_train  │ 0.00071 │     nan │\n",
      "│ total                     │ 0.00239 │ 0.00001 │\n",
      "│ total_train               │ 0.00237 │     nan │\n",
      "└───────────────────────────┴─────────┴─────────┘\n",
      "\n"
     ]
    },
    {
     "data": {
      "application/vnd.jupyter.widget-view+json": {
       "model_id": "",
       "version_major": 2,
       "version_minor": 0
      },
      "text/plain": [
       "Validation: 0it [00:00, ?it/s]"
      ]
     },
     "metadata": {},
     "output_type": "display_data"
    },
    {
     "data": {
      "text/html": [
       "<pre style=\"white-space:pre;overflow-x:auto;line-height:normal;font-family:Menlo,'DejaVu Sans Mono',consolas,'Courier New',monospace\"></pre>\n"
      ],
      "text/plain": []
     },
     "metadata": {},
     "output_type": "display_data"
    },
    {
     "name": "stdout",
     "output_type": "stream",
     "text": [
      "\u001b[3m               Validation epoch=16               \u001b[0m\n",
      "┏━━━━━━━━━━━━━━━━━━━━━━━━━━━┳━━━━━━━━━┳━━━━━━━━━┓\n",
      "┃\u001b[1m \u001b[0m\u001b[1mMetric                   \u001b[0m\u001b[1m \u001b[0m┃\u001b[1m \u001b[0m\u001b[1m  Value\u001b[0m\u001b[1m \u001b[0m┃\u001b[1m \u001b[0m\u001b[1m  Error\u001b[0m\u001b[1m \u001b[0m┃\n",
      "┡━━━━━━━━━━━━━━━━━━━━━━━━━━━╇━━━━━━━━━╇━━━━━━━━━┩\n",
      "│ attractive                │ 0.00174 │ 0.00001 │\n",
      "│ attractive_train          │ 0.00173 │     nan │\n",
      "│ attractive_weighted       │ 0.00174 │ 0.00001 │\n",
      "│ attractive_weighted_train │ 0.00173 │     nan │\n",
      "│ repulsive                 │ 0.00015 │ 0.00000 │\n",
      "│ repulsive_train           │ 0.00011 │     nan │\n",
      "│ repulsive_weighted        │ 0.00059 │ 0.00001 │\n",
      "│ repulsive_weighted_train  │ 0.00043 │     nan │\n",
      "│ total                     │ 0.00233 │ 0.00001 │\n",
      "│ total_train               │ 0.00216 │     nan │\n",
      "└───────────────────────────┴─────────┴─────────┘\n",
      "\n"
     ]
    },
    {
     "data": {
      "application/vnd.jupyter.widget-view+json": {
       "model_id": "",
       "version_major": 2,
       "version_minor": 0
      },
      "text/plain": [
       "Validation: 0it [00:00, ?it/s]"
      ]
     },
     "metadata": {},
     "output_type": "display_data"
    },
    {
     "data": {
      "text/html": [
       "<pre style=\"white-space:pre;overflow-x:auto;line-height:normal;font-family:Menlo,'DejaVu Sans Mono',consolas,'Courier New',monospace\"></pre>\n"
      ],
      "text/plain": []
     },
     "metadata": {},
     "output_type": "display_data"
    },
    {
     "name": "stdout",
     "output_type": "stream",
     "text": [
      "\u001b[3m               Validation epoch=17               \u001b[0m\n",
      "┏━━━━━━━━━━━━━━━━━━━━━━━━━━━┳━━━━━━━━━┳━━━━━━━━━┓\n",
      "┃\u001b[1m \u001b[0m\u001b[1mMetric                   \u001b[0m\u001b[1m \u001b[0m┃\u001b[1m \u001b[0m\u001b[1m  Value\u001b[0m\u001b[1m \u001b[0m┃\u001b[1m \u001b[0m\u001b[1m  Error\u001b[0m\u001b[1m \u001b[0m┃\n",
      "┡━━━━━━━━━━━━━━━━━━━━━━━━━━━╇━━━━━━━━━╇━━━━━━━━━┩\n",
      "│ attractive                │ 0.00172 │ 0.00001 │\n",
      "│ attractive_train          │ 0.00169 │     nan │\n",
      "│ attractive_weighted       │ 0.00172 │ 0.00001 │\n",
      "│ attractive_weighted_train │ 0.00169 │     nan │\n",
      "│ repulsive                 │ 0.00013 │ 0.00000 │\n",
      "│ repulsive_train           │ 0.00014 │     nan │\n",
      "│ repulsive_weighted        │ 0.00052 │ 0.00001 │\n",
      "│ repulsive_weighted_train  │ 0.00057 │     nan │\n",
      "│ total                     │ 0.00224 │ 0.00001 │\n",
      "│ total_train               │ 0.00226 │     nan │\n",
      "└───────────────────────────┴─────────┴─────────┘\n",
      "\n"
     ]
    },
    {
     "data": {
      "application/vnd.jupyter.widget-view+json": {
       "model_id": "",
       "version_major": 2,
       "version_minor": 0
      },
      "text/plain": [
       "Validation: 0it [00:00, ?it/s]"
      ]
     },
     "metadata": {},
     "output_type": "display_data"
    },
    {
     "data": {
      "text/html": [
       "<pre style=\"white-space:pre;overflow-x:auto;line-height:normal;font-family:Menlo,'DejaVu Sans Mono',consolas,'Courier New',monospace\"></pre>\n"
      ],
      "text/plain": []
     },
     "metadata": {},
     "output_type": "display_data"
    },
    {
     "name": "stdout",
     "output_type": "stream",
     "text": [
      "\u001b[3m               Validation epoch=18               \u001b[0m\n",
      "┏━━━━━━━━━━━━━━━━━━━━━━━━━━━┳━━━━━━━━━┳━━━━━━━━━┓\n",
      "┃\u001b[1m \u001b[0m\u001b[1mMetric                   \u001b[0m\u001b[1m \u001b[0m┃\u001b[1m \u001b[0m\u001b[1m  Value\u001b[0m\u001b[1m \u001b[0m┃\u001b[1m \u001b[0m\u001b[1m  Error\u001b[0m\u001b[1m \u001b[0m┃\n",
      "┡━━━━━━━━━━━━━━━━━━━━━━━━━━━╇━━━━━━━━━╇━━━━━━━━━┩\n",
      "│ attractive                │ 0.00180 │ 0.00001 │\n",
      "│ attractive_train          │ 0.00185 │     nan │\n",
      "│ attractive_weighted       │ 0.00180 │ 0.00001 │\n",
      "│ attractive_weighted_train │ 0.00185 │     nan │\n",
      "│ repulsive                 │ 0.00013 │ 0.00000 │\n",
      "│ repulsive_train           │ 0.00014 │     nan │\n",
      "│ repulsive_weighted        │ 0.00051 │ 0.00001 │\n",
      "│ repulsive_weighted_train  │ 0.00055 │     nan │\n",
      "│ total                     │ 0.00231 │ 0.00001 │\n",
      "│ total_train               │ 0.00239 │     nan │\n",
      "└───────────────────────────┴─────────┴─────────┘\n",
      "\n"
     ]
    },
    {
     "data": {
      "application/vnd.jupyter.widget-view+json": {
       "model_id": "",
       "version_major": 2,
       "version_minor": 0
      },
      "text/plain": [
       "Validation: 0it [00:00, ?it/s]"
      ]
     },
     "metadata": {},
     "output_type": "display_data"
    },
    {
     "data": {
      "text/html": [
       "<pre style=\"white-space:pre;overflow-x:auto;line-height:normal;font-family:Menlo,'DejaVu Sans Mono',consolas,'Courier New',monospace\"></pre>\n"
      ],
      "text/plain": []
     },
     "metadata": {},
     "output_type": "display_data"
    },
    {
     "name": "stdout",
     "output_type": "stream",
     "text": [
      "\u001b[3m               Validation epoch=19               \u001b[0m\n",
      "┏━━━━━━━━━━━━━━━━━━━━━━━━━━━┳━━━━━━━━━┳━━━━━━━━━┓\n",
      "┃\u001b[1m \u001b[0m\u001b[1mMetric                   \u001b[0m\u001b[1m \u001b[0m┃\u001b[1m \u001b[0m\u001b[1m  Value\u001b[0m\u001b[1m \u001b[0m┃\u001b[1m \u001b[0m\u001b[1m  Error\u001b[0m\u001b[1m \u001b[0m┃\n",
      "┡━━━━━━━━━━━━━━━━━━━━━━━━━━━╇━━━━━━━━━╇━━━━━━━━━┩\n",
      "│ attractive                │ 0.00172 │ 0.00001 │\n",
      "│ attractive_train          │ 0.00180 │     nan │\n",
      "│ attractive_weighted       │ 0.00172 │ 0.00001 │\n",
      "│ attractive_weighted_train │ 0.00180 │     nan │\n",
      "│ repulsive                 │ 0.00015 │ 0.00000 │\n",
      "│ repulsive_train           │ 0.00014 │     nan │\n",
      "│ repulsive_weighted        │ 0.00058 │ 0.00001 │\n",
      "│ repulsive_weighted_train  │ 0.00056 │     nan │\n",
      "│ total                     │ 0.00230 │ 0.00001 │\n",
      "│ total_train               │ 0.00236 │     nan │\n",
      "└───────────────────────────┴─────────┴─────────┘\n",
      "\n"
     ]
    },
    {
     "data": {
      "application/vnd.jupyter.widget-view+json": {
       "model_id": "",
       "version_major": 2,
       "version_minor": 0
      },
      "text/plain": [
       "Validation: 0it [00:00, ?it/s]"
      ]
     },
     "metadata": {},
     "output_type": "display_data"
    },
    {
     "data": {
      "text/html": [
       "<pre style=\"white-space:pre;overflow-x:auto;line-height:normal;font-family:Menlo,'DejaVu Sans Mono',consolas,'Courier New',monospace\"></pre>\n"
      ],
      "text/plain": []
     },
     "metadata": {},
     "output_type": "display_data"
    },
    {
     "name": "stderr",
     "output_type": "stream",
     "text": [
      "`Trainer.fit` stopped: `max_epochs=20` reached.\n"
     ]
    },
    {
     "name": "stdout",
     "output_type": "stream",
     "text": [
      "\u001b[3m               Validation epoch=20               \u001b[0m\n",
      "┏━━━━━━━━━━━━━━━━━━━━━━━━━━━┳━━━━━━━━━┳━━━━━━━━━┓\n",
      "┃\u001b[1m \u001b[0m\u001b[1mMetric                   \u001b[0m\u001b[1m \u001b[0m┃\u001b[1m \u001b[0m\u001b[1m  Value\u001b[0m\u001b[1m \u001b[0m┃\u001b[1m \u001b[0m\u001b[1m  Error\u001b[0m\u001b[1m \u001b[0m┃\n",
      "┡━━━━━━━━━━━━━━━━━━━━━━━━━━━╇━━━━━━━━━╇━━━━━━━━━┩\n",
      "│ attractive                │ 0.00173 │ 0.00001 │\n",
      "│ attractive_train          │ 0.00167 │     nan │\n",
      "│ attractive_weighted       │ 0.00173 │ 0.00001 │\n",
      "│ attractive_weighted_train │ 0.00167 │     nan │\n",
      "│ repulsive                 │ 0.00015 │ 0.00000 │\n",
      "│ repulsive_train           │ 0.00013 │     nan │\n",
      "│ repulsive_weighted        │ 0.00058 │ 0.00001 │\n",
      "│ repulsive_weighted_train  │ 0.00053 │     nan │\n",
      "│ total                     │ 0.00231 │ 0.00001 │\n",
      "│ total_train               │ 0.00220 │     nan │\n",
      "└───────────────────────────┴─────────┴─────────┘\n",
      "\n",
      "\n",
      "\n"
     ]
    }
   ],
   "source": [
    "models_dict = {}\n",
    "for scaling_coeff in scaling_coeffs:\n",
    "    print(f'Training for scaling coefficients = {scaling_coeff}')\n",
    "    loss_history = train_model(weight_repulsive=scaling_coeff, dm=dm, max_epochs=20)\n",
    "    models_dict[f'{scaling_coeff}'] = {'loss_history':loss_history,\n",
    "                                       'weight_attractive':1,\n",
    "                                       'weight_repulsive':scaling_coeff}\n",
    "    print(\"\\n\")"
   ]
  },
  {
   "cell_type": "code",
   "execution_count": 18,
   "id": "3c553a15",
   "metadata": {},
   "outputs": [],
   "source": [
    "import matplotlib.pyplot as plt"
   ]
  },
  {
   "cell_type": "code",
   "execution_count": 19,
   "id": "8ae29956",
   "metadata": {},
   "outputs": [],
   "source": [
    "plt.figure(figsize=(10, 6))\n",
    "\n",
    "for key, model_dict in models_dict.items():\n",
    "    label = f'Scaling coefficient = {model_dict[\"weight_attractive\"]} (attractive), {model_dict[\"weight_repulsive\"]} (repulsive)'\n",
    "    plt.plot(model_dict['loss_history']['attractive_train'], \n",
    "             model_dict['loss_history']['repulsive_train'],\n",
    "             marker='o', markersize=3, label=label)\n",
    "\n",
    "plt.xlabel('embedding_loss_attractive_train')\n",
    "plt.ylabel('embedding_loss_repulsive_train')\n",
    "plt.title('Loss Functions')\n",
    "\n",
    "plt.legend()\n",
    "plt.show()"
   ]
  },
  {
   "cell_type": "code",
   "execution_count": 15,
   "id": "9b4b032b",
   "metadata": {},
   "outputs": [
    {
     "data": {
      "image/png": "[encoded data removed]",
      "text/plain": [
       "<Figure size 1000x600 with 1 Axes>"
      ]
     },
     "metadata": {},
     "output_type": "display_data"
    }
   ],
   "source": [
    "plt.figure(figsize=(10, 6))\n",
    "\n",
    "for key, model_dict in models_dict.items():\n",
    "    label = f'Scaling coefficient = {model_dict[\"weight_attractive\"]} (attractive), {model_dict[\"weight_repulsive\"]} (repulsive)'\n",
    "    plt.plot(model_dict['loss_history']['attractive'], \n",
    "             model_dict['loss_history']['repulsive'],\n",
    "             marker='o', markersize=3, label=label)\n",
    "\n",
    "plt.xlabel('embedding_loss_attractive')\n",
    "plt.ylabel('embedding_loss_repulsive')\n",
    "plt.title('Loss Functions')\n",
    "\n",
    "plt.legend()\n",
    "plt.show()"
   ]
  },
  {
   "cell_type": "code",
   "execution_count": 18,
   "id": "45231bfd",
   "metadata": {},
   "outputs": [
    {
     "name": "stdout",
     "output_type": "stream",
     "text": [
      "Scaling coefficient = 1 (attractive), 0.2 (repulsive)\n",
      "attractive_train = 0.0005748728872276843\n",
      "repulsive_train = 0.0011069910833612084\n",
      "attractive = 0.0005817562923766673\n",
      "repulsive = 0.0012404819717630744\n",
      "\n",
      "\n",
      "Scaling coefficient = 1 (attractive), 0.5 (repulsive)\n",
      "attractive_train = 0.0008114342344924808\n",
      "repulsive_train = 0.0007505328394472599\n",
      "attractive = 0.0007998778019100428\n",
      "repulsive = 0.0006983964703977108\n",
      "\n",
      "\n",
      "Scaling coefficient = 1 (attractive), 1.0 (repulsive)\n",
      "attractive_train = 0.0009808961767703295\n",
      "repulsive_train = 0.00041287270141765475\n",
      "attractive = 0.001040896400809288\n",
      "repulsive = 0.0003898827126249671\n",
      "\n",
      "\n",
      "Scaling coefficient = 1 (attractive), 2.0 (repulsive)\n",
      "attractive_train = 0.0013302370207384229\n",
      "repulsive_train = 0.0002665876236278564\n",
      "attractive = 0.0012832093052566051\n",
      "repulsive = 0.0002523448783904314\n",
      "\n",
      "\n",
      "Scaling coefficient = 1 (attractive), 4.0 (repulsive)\n",
      "attractive_train = 0.0016745271859690547\n",
      "repulsive_train = 0.00013125120312906802\n",
      "attractive = 0.0017290508840233088\n",
      "repulsive = 0.00014555205416399986\n",
      "\n",
      "\n"
     ]
    }
   ],
   "source": [
    "for key, model_dict in models_dict.items():\n",
    "    print(f'Scaling coefficient = {model_dict[\"weight_attractive\"]} (attractive), {model_dict[\"weight_repulsive\"]} (repulsive)')\n",
    "    print(f\"attractive_train = {model_dict['loss_history']['attractive_train'][-1]}\") \n",
    "    print(f\"repulsive_train = {model_dict['loss_history']['repulsive_train'][-1]}\")\n",
    "    print(f\"attractive = {model_dict['loss_history']['attractive'][-1]}\") \n",
    "    print(f\"repulsive = {model_dict['loss_history']['repulsive'][-1]}\")\n",
    "    print('\\n')"
   ]
  },
  {
   "cell_type": "code",
   "execution_count": null,
   "id": "cd76ccd1",
   "metadata": {},
   "outputs": [],
   "source": []
  }
 ],
 "metadata": {
  "kernelspec": {
   "display_name": "Python 3 (ipykernel)",
   "language": "python",
   "name": "python3"
  },
  "language_info": {
   "codemirror_mode": {
    "name": "ipython",
    "version": 3
   },
   "file_extension": ".py",
   "mimetype": "text/x-python",
   "name": "python",
   "nbconvert_exporter": "python",
   "pygments_lexer": "ipython3",
   "version": "3.10.11"
  }
 },
 "nbformat": 4,
 "nbformat_minor": 5
}
