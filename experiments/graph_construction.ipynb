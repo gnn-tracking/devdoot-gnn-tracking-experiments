{
 "cells": [
  {
   "cell_type": "code",
   "execution_count": 1,
   "id": "ca391c05",
   "metadata": {},
   "outputs": [
    {
     "name": "stdout",
     "output_type": "stream",
     "text": [
      "Fri Jul 14 11:24:43 2023       \r\n",
      "+-----------------------------------------------------------------------------+\r\n",
      "| NVIDIA-SMI 525.105.17   Driver Version: 525.105.17   CUDA Version: 12.0     |\r\n",
      "|-------------------------------+----------------------+----------------------+\r\n",
      "| GPU  Name        Persistence-M| Bus-Id        Disp.A | Volatile Uncorr. ECC |\r\n",
      "| Fan  Temp  Perf  Pwr:Usage/Cap|         Memory-Usage | GPU-Util  Compute M. |\r\n",
      "|                               |                      |               MIG M. |\r\n",
      "|===============================+======================+======================|\r\n",
      "|   0  NVIDIA A100-PCI...  On   | 00000000:21:00.0 Off |                    0 |\r\n",
      "| N/A   30C    P0    57W / 250W |      0MiB / 40960MiB |      0%      Default |\r\n",
      "|                               |                      |             Disabled |\r\n",
      "+-------------------------------+----------------------+----------------------+\r\n",
      "                                                                               \r\n",
      "+-----------------------------------------------------------------------------+\r\n",
      "| Processes:                                                                  |\r\n",
      "|  GPU   GI   CI        PID   Type   Process name                  GPU Memory |\r\n",
      "|        ID   ID                                                   Usage      |\r\n",
      "|=============================================================================|\r\n",
      "|  No running processes found                                                 |\r\n",
      "+-----------------------------------------------------------------------------+\r\n"
     ]
    }
   ],
   "source": [
    "!nvidia-smi"
   ]
  },
  {
   "cell_type": "code",
   "execution_count": 2,
   "id": "161b3409",
   "metadata": {},
   "outputs": [],
   "source": [
    "import os\n",
    "from pathlib import Path\n",
    "from functools import partial\n",
    "\n",
    "import torch\n",
    "\n",
    "from gnn_tracking.training.ml import MLModule\n",
    "from gnn_tracking.training.callbacks import PrintValidationMetrics\n",
    "from gnn_tracking.models.graph_construction import GraphConstructionFCNN\n",
    "from gnn_tracking.metrics.losses import GraphConstructionHingeEmbeddingLoss\n",
    "\n",
    "from pytorch_lightning import Trainer\n",
    "from pytorch_lightning.callbacks import Callback, TQDMProgressBar\n",
    "from gnn_tracking.utils.loading import TrackingDataModule\n",
    "from gnn_tracking.utils.dictionaries import to_floats\n",
    "\n",
    "from torch_geometric.data import Data\n",
    "from torch import nn\n",
    "from pytorch_lightning.core.mixins import HyperparametersMixin\n",
    "\n",
    "import pandas as pd"
   ]
  },
  {
   "cell_type": "code",
   "execution_count": 3,
   "id": "000771e0",
   "metadata": {},
   "outputs": [],
   "source": [
    "val_dir = Path(\"/scratch/gpfs/IOJALVO/gnn-tracking/object_condensation/point_clouds_v5/part_9\")\n",
    "assert val_dir.is_dir()"
   ]
  },
  {
   "cell_type": "code",
   "execution_count": 4,
   "id": "fb50c604",
   "metadata": {},
   "outputs": [],
   "source": [
    "train_dirs = []\n",
    "train_dir = Path(\"/scratch/gpfs/IOJALVO/gnn-tracking/object_condensation/point_clouds_v5/\")\n",
    "for i in range(1,9):\n",
    "    d = os.path.join(train_dir, f\"part_{i}\")\n",
    "    if os.path.isdir(d):\n",
    "        train_dirs.append(d)"
   ]
  },
  {
   "cell_type": "code",
   "execution_count": 5,
   "id": "81ffb819",
   "metadata": {},
   "outputs": [
    {
     "data": {
      "text/plain": [
       "['/scratch/gpfs/IOJALVO/gnn-tracking/object_condensation/point_clouds_v5/part_1',\n",
       " '/scratch/gpfs/IOJALVO/gnn-tracking/object_condensation/point_clouds_v5/part_2',\n",
       " '/scratch/gpfs/IOJALVO/gnn-tracking/object_condensation/point_clouds_v5/part_3',\n",
       " '/scratch/gpfs/IOJALVO/gnn-tracking/object_condensation/point_clouds_v5/part_4',\n",
       " '/scratch/gpfs/IOJALVO/gnn-tracking/object_condensation/point_clouds_v5/part_5',\n",
       " '/scratch/gpfs/IOJALVO/gnn-tracking/object_condensation/point_clouds_v5/part_6',\n",
       " '/scratch/gpfs/IOJALVO/gnn-tracking/object_condensation/point_clouds_v5/part_7',\n",
       " '/scratch/gpfs/IOJALVO/gnn-tracking/object_condensation/point_clouds_v5/part_8']"
      ]
     },
     "execution_count": 5,
     "metadata": {},
     "output_type": "execute_result"
    }
   ],
   "source": [
    "train_dirs"
   ]
  },
  {
   "cell_type": "code",
   "execution_count": 6,
   "id": "f41c9f9e",
   "metadata": {},
   "outputs": [],
   "source": [
    "dm = TrackingDataModule(\n",
    "    train=dict(\n",
    "        dirs=train_dirs,\n",
    "        batch_size=1\n",
    "    ),\n",
    "    val=dict(\n",
    "        dirs=[val_dir],\n",
    "        stop=500,\n",
    "    ),\n",
    "    # could also configure a 'test' set here\n",
    ")"
   ]
  },
  {
   "cell_type": "code",
   "execution_count": 7,
   "id": "0f82c130",
   "metadata": {},
   "outputs": [
    {
     "name": "stderr",
     "output_type": "stream",
     "text": [
      "\u001b[32m[11:25:03] INFO: DataLoader will load 7743 graphs (out of 7743 available).\u001b[0m\n",
      "\u001b[36m[11:25:03] DEBUG: First graph is /scratch/gpfs/IOJALVO/gnn-tracking/object_condensation/point_clouds_v5/part_1/data21000_s0.pt, last graph is /scratch/gpfs/IOJALVO/gnn-tracking/object_condensation/point_clouds_v5/part_8/data28999_s0.pt\u001b[0m\n",
      "\u001b[32m[11:25:03] INFO: DataLoader will load 500 graphs (out of 1000 available).\u001b[0m\n",
      "\u001b[36m[11:25:03] DEBUG: First graph is /scratch/gpfs/IOJALVO/gnn-tracking/object_condensation/point_clouds_v5/part_9/data29000_s0.pt, last graph is /scratch/gpfs/IOJALVO/gnn-tracking/object_condensation/point_clouds_v5/part_9/data29499_s0.pt\u001b[0m\n"
     ]
    },
    {
     "data": {
      "text/plain": [
       "{'train': TrackingDataset(7743), 'val': TrackingDataset(500)}"
      ]
     },
     "execution_count": 7,
     "metadata": {},
     "output_type": "execute_result"
    }
   ],
   "source": [
    "# This is called by the Trainer automatically and sets up the datasets\n",
    "dm.setup(stage=\"fit\")  # 'fit' combines 'train' and 'val'\n",
    "# Now the datasets are available:\n",
    "dm.datasets"
   ]
  },
  {
   "cell_type": "code",
   "execution_count": 8,
   "id": "b42a9afd",
   "metadata": {},
   "outputs": [],
   "source": [
    "class CollectLossHistory(Callback):\n",
    "    def __init__(self):\n",
    "        self.data_list = []\n",
    "\n",
    "    def on_validation_epoch_end(self, trainer, *args):\n",
    "        if not trainer.sanity_checking:\n",
    "            self.data_list.append(to_floats(trainer.callback_metrics))\n",
    "\n",
    "    def get_history(self):\n",
    "        return pd.DataFrame.from_records(self.data_list)"
   ]
  },
  {
   "cell_type": "code",
   "execution_count": 9,
   "id": "f7b82aef",
   "metadata": {},
   "outputs": [],
   "source": [
    "from torch.optim.lr_scheduler import StepLR"
   ]
  },
  {
   "cell_type": "code",
   "execution_count": 10,
   "id": "7e0a8d05",
   "metadata": {},
   "outputs": [],
   "source": [
    "import matplotlib.pyplot as plt"
   ]
  },
  {
   "cell_type": "code",
   "execution_count": 11,
   "id": "f6916088",
   "metadata": {},
   "outputs": [],
   "source": [
    "import collections\n",
    "from torch import Tensor\n",
    "from gnn_tracking.utils.dictionaries import add_key_suffix"
   ]
  },
  {
   "cell_type": "code",
   "execution_count": 12,
   "id": "7206ca41",
   "metadata": {},
   "outputs": [],
   "source": [
    "class MLModule_2(MLModule):\n",
    "    def __init__(self, **kwargs):\n",
    "        super().__init__(**kwargs)\n",
    "        self.loss_history = []\n",
    "        self.curr_loss = collections.defaultdict(lambda: 0.0)\n",
    "    \n",
    "    def training_step(self, batch: Data, batch_idx: int) -> Tensor | None:\n",
    "        batch = self.data_preproc(batch)\n",
    "        out = self(batch)\n",
    "        loss, loss_dct = self.get_losses(out, batch)\n",
    "        self.log_dict(add_key_suffix(loss_dct, \"_train\"), prog_bar=True, on_epoch=True, on_step=False,\n",
    "                      batch_size=self.trainer.train_dataloader.batch_size)\n",
    "        for k,v in loss_dct.items():\n",
    "            self.curr_loss[f\"{k}_train\"] += v\n",
    "        return loss\n",
    "    \n",
    "    def validation_step(self, batch: Data, batch_idx: int):\n",
    "        batch = self.data_preproc(batch)\n",
    "        out = self(batch)\n",
    "        loss, loss_dct = self.get_losses(out, batch)\n",
    "        self.log_dict_with_errors(\n",
    "            loss_dct, batch_size=self.trainer.val_dataloaders.batch_size\n",
    "        )\n",
    "        if not self.trainer.sanity_checking:\n",
    "            for k,v in loss_dct.items():\n",
    "                self.curr_loss[f\"{k}\"] += v\n",
    "        \n",
    "    def on_validation_epoch_end(self, *args) -> None:\n",
    "        self._log_errors()\n",
    "        \n",
    "        if self.trainer.sanity_checking:\n",
    "            return\n",
    "        \n",
    "        loss_dict = {}\n",
    "        for k,v in self.curr_loss.items():\n",
    "            if k.endswith(\"_train\"):\n",
    "                loss_dict[k] = v/self.trainer.num_training_batches\n",
    "            else:\n",
    "                loss_dict[k] = v/self.trainer.num_val_batches[0]\n",
    "            self.curr_loss[k] = 0.0\n",
    "        \n",
    "        self.loss_history.append(loss_dict)\n",
    "    \n",
    "    def get_loss_history(self):\n",
    "        return pd.DataFrame.from_records(self.loss_history)"
   ]
  },
  {
   "cell_type": "code",
   "execution_count": 13,
   "id": "f2ef3beb",
   "metadata": {},
   "outputs": [],
   "source": [
    "from gnn_tracking.utils.nomenclature import random_trial_name\n",
    "from pytorch_lightning.loggers import WandbLogger\n",
    "from pytorch_lightning.loggers import TensorBoardLogger\n",
    "\n",
    "from wandb_osh.lightning_hooks import TriggerWandbSyncLightningCallback"
   ]
  },
  {
   "cell_type": "code",
   "execution_count": 14,
   "id": "3bff3772",
   "metadata": {},
   "outputs": [
    {
     "data": {
      "text/html": [
       "<pre style=\"white-space:pre;overflow-x:auto;line-height:normal;font-family:Menlo,'DejaVu Sans Mono',consolas,'Courier New',monospace\"><span style=\"color: #00ff00; text-decoration-color: #00ff00\">─────────────────────────────── </span><span style=\"color: #808000; text-decoration-color: #808000; font-weight: bold\">modest-wine-puma</span><span style=\"color: #00ff00; text-decoration-color: #00ff00\"> ───────────────────────────────</span>\n",
       "</pre>\n"
      ],
      "text/plain": [
       "\u001b[92m─────────────────────────────── \u001b[0m\u001b[1;33mmodest-wine-puma\u001b[0m\u001b[92m ───────────────────────────────\u001b[0m\n"
      ]
     },
     "metadata": {},
     "output_type": "display_data"
    }
   ],
   "source": [
    "name = random_trial_name()"
   ]
  },
  {
   "cell_type": "code",
   "execution_count": 15,
   "id": "2c8227da",
   "metadata": {},
   "outputs": [
    {
     "name": "stderr",
     "output_type": "stream",
     "text": [
      "Failed to detect the name of this notebook, you can set it manually with the WANDB_NOTEBOOK_NAME environment variable to enable code saving.\n",
      "\u001b[34m\u001b[1mwandb\u001b[0m: \u001b[33mWARNING\u001b[0m `resume` will be ignored since W&B syncing is set to `offline`. Starting a new run with run id modest-wine-puma.\n"
     ]
    },
    {
     "data": {
      "text/html": [
       "Tracking run with wandb version 0.15.4"
      ],
      "text/plain": [
       "<IPython.core.display.HTML object>"
      ]
     },
     "metadata": {},
     "output_type": "display_data"
    },
    {
     "data": {
      "text/html": [
       "W&B syncing is set to <code>`offline`<code> in this directory.  <br/>Run <code>`wandb online`<code> or set <code>WANDB_MODE=online<code> to enable cloud syncing."
      ],
      "text/plain": [
       "<IPython.core.display.HTML object>"
      ]
     },
     "metadata": {},
     "output_type": "display_data"
    }
   ],
   "source": [
    "wandb_logger = WandbLogger(\n",
    "    project=\"mdmm\",\n",
    "    group=\"graph-construction\",\n",
    "    offline=True,\n",
    "    version=name,\n",
    ")"
   ]
  },
  {
   "cell_type": "code",
   "execution_count": 16,
   "id": "e28de148",
   "metadata": {},
   "outputs": [],
   "source": [
    "tb_logger = TensorBoardLogger(\".\", version=name)"
   ]
  },
  {
   "cell_type": "code",
   "execution_count": 19,
   "id": "36d855ca",
   "metadata": {},
   "outputs": [],
   "source": [
    "def train_model(weight_repulsive, dm, max_epochs=50):\n",
    "\n",
    "    model = GraphConstructionFCNN(in_dim=14, out_dim=8, depth=6, hidden_dim=512)\n",
    "\n",
    "    lmodel = MLModule_2(\n",
    "        model=model,\n",
    "        loss_fct=GraphConstructionHingeEmbeddingLoss(p_attr=2, p_rep=2),\n",
    "        lw_repulsive=weight_repulsive,\n",
    "        optimizer=partial(torch.optim.Adam, lr=0.001),\n",
    "    )\n",
    "\n",
    "    loss_history_cb = CollectLossHistory()\n",
    "\n",
    "    trainer = Trainer(max_epochs=max_epochs, accelerator=\"gpu\",\n",
    "                      log_every_n_steps=1, callbacks=[TriggerWandbSyncLightningCallback(),\n",
    "                                                      PrintValidationMetrics(),\n",
    "                                                      loss_history_cb,\n",
    "                                                      TQDMProgressBar(refresh_rate=5)],\n",
    "                      logger=[wandb_logger,tb_logger,])\n",
    "    \n",
    "    trainer.fit(model=lmodel, datamodule=dm)\n",
    "\n",
    "    loss_history = loss_history_cb.get_history()\n",
    "    loss_history_2 = lmodel.get_loss_history()\n",
    "    return loss_history, loss_history_2"
   ]
  },
  {
   "cell_type": "code",
   "execution_count": 20,
   "id": "46ceb665",
   "metadata": {},
   "outputs": [
    {
     "name": "stderr",
     "output_type": "stream",
     "text": [
      "\u001b[32m11:29:31 INFO: This is wandb-osh v1.1.0 using communication directory /home/dc3896/.wandb_osh_command_dir\u001b[0m\n",
      "GPU available: True (cuda), used: True\n",
      "TPU available: False, using: 0 TPU cores\n",
      "IPU available: False, using: 0 IPUs\n",
      "HPU available: False, using: 0 HPUs\n",
      "You are using a CUDA device ('NVIDIA A100-PCIE-40GB') that has Tensor Cores. To properly utilize them, you should set `torch.set_float32_matmul_precision('medium' | 'high')` which will trade-off precision for performance. For more details, read https://pytorch.org/docs/stable/generated/torch.set_float32_matmul_precision.html#torch.set_float32_matmul_precision\n",
      "\u001b[32m[11:29:31] INFO: DataLoader will load 7743 graphs (out of 7743 available).\u001b[0m\n",
      "\u001b[36m[11:29:31] DEBUG: First graph is /scratch/gpfs/IOJALVO/gnn-tracking/object_condensation/point_clouds_v5/part_1/data21000_s0.pt, last graph is /scratch/gpfs/IOJALVO/gnn-tracking/object_condensation/point_clouds_v5/part_8/data28999_s0.pt\u001b[0m\n",
      "\u001b[32m[11:29:31] INFO: DataLoader will load 500 graphs (out of 1000 available).\u001b[0m\n",
      "\u001b[36m[11:29:31] DEBUG: First graph is /scratch/gpfs/IOJALVO/gnn-tracking/object_condensation/point_clouds_v5/part_9/data29000_s0.pt, last graph is /scratch/gpfs/IOJALVO/gnn-tracking/object_condensation/point_clouds_v5/part_9/data29499_s0.pt\u001b[0m\n",
      "LOCAL_RANK: 0 - CUDA_VISIBLE_DEVICES: [0]\n",
      "\n",
      "  | Name     | Type                                | Params\n",
      "-----------------------------------------------------------------\n",
      "0 | model    | GraphConstructionFCNN               | 1.3 M \n",
      "1 | loss_fct | GraphConstructionHingeEmbeddingLoss | 0     \n",
      "-----------------------------------------------------------------\n",
      "1.3 M     Trainable params\n",
      "0         Non-trainable params\n",
      "1.3 M     Total params\n",
      "5.288     Total estimated model params size (MB)\n",
      "SLURM auto-requeueing enabled. Setting signal handlers.\n"
     ]
    },
    {
     "data": {
      "application/vnd.jupyter.widget-view+json": {
       "model_id": "",
       "version_major": 2,
       "version_minor": 0
      },
      "text/plain": [
       "Sanity Checking: 0it [00:00, ?it/s]"
      ]
     },
     "metadata": {},
     "output_type": "display_data"
    },
    {
     "name": "stderr",
     "output_type": "stream",
     "text": [
      "/scratch/gpfs/dc3896/micromamba/envs/gnn/lib/python3.10/site-packages/pytorch_lightning/trainer/connectors/data_connector.py:432: PossibleUserWarning: The dataloader, val_dataloader, does not have many workers which may be a bottleneck. Consider increasing the value of the `num_workers` argument` (try 128 which is the number of cpus on this machine) in the `DataLoader` init to improve performance.\n",
      "  rank_zero_warn(\n",
      "\u001b[36m11:29:32 DEBUG: Wrote command file /home/dc3896/.wandb_osh_command_dir/c99145.command\u001b[0m\n"
     ]
    },
    {
     "data": {
      "text/html": [
       "<pre style=\"white-space:pre;overflow-x:auto;line-height:normal;font-family:Menlo,'DejaVu Sans Mono',consolas,'Courier New',monospace\"></pre>\n"
      ],
      "text/plain": []
     },
     "metadata": {},
     "output_type": "display_data"
    },
    {
     "name": "stdout",
     "output_type": "stream",
     "text": [
      "\u001b[3m             Validation epoch=1              \u001b[0m\n",
      "┏━━━━━━━━━━━━━━━━━━━━━┳━━━━━━━━━━━┳━━━━━━━━━┓\n",
      "┃\u001b[1m \u001b[0m\u001b[1mMetric             \u001b[0m\u001b[1m \u001b[0m┃\u001b[1m \u001b[0m\u001b[1m    Value\u001b[0m\u001b[1m \u001b[0m┃\u001b[1m \u001b[0m\u001b[1m  Error\u001b[0m\u001b[1m \u001b[0m┃\n",
      "┡━━━━━━━━━━━━━━━━━━━━━╇━━━━━━━━━━━╇━━━━━━━━━┩\n",
      "│ attractive          │   0.01034 │ 0.00015 │\n",
      "│ attractive_weighted │   0.01034 │ 0.00015 │\n",
      "│ repulsive           │ 220.34586 │ 1.75755 │\n",
      "│ repulsive_weighted  │   0.43034 │ 0.00343 │\n",
      "│ total               │   0.44068 │ 0.00358 │\n",
      "└─────────────────────┴───────────┴─────────┘\n",
      "\n"
     ]
    },
    {
     "name": "stderr",
     "output_type": "stream",
     "text": [
      "/scratch/gpfs/dc3896/micromamba/envs/gnn/lib/python3.10/site-packages/pytorch_lightning/trainer/connectors/data_connector.py:432: PossibleUserWarning: The dataloader, train_dataloader, does not have many workers which may be a bottleneck. Consider increasing the value of the `num_workers` argument` (try 128 which is the number of cpus on this machine) in the `DataLoader` init to improve performance.\n",
      "  rank_zero_warn(\n"
     ]
    },
    {
     "data": {
      "application/vnd.jupyter.widget-view+json": {
       "model_id": "cfd8738567e2411a9d8489f212dc8195",
       "version_major": 2,
       "version_minor": 0
      },
      "text/plain": [
       "Training: 0it [00:00, ?it/s]"
      ]
     },
     "metadata": {},
     "output_type": "display_data"
    },
    {
     "data": {
      "application/vnd.jupyter.widget-view+json": {
       "model_id": "",
       "version_major": 2,
       "version_minor": 0
      },
      "text/plain": [
       "Validation: 0it [00:00, ?it/s]"
      ]
     },
     "metadata": {},
     "output_type": "display_data"
    },
    {
     "name": "stderr",
     "output_type": "stream",
     "text": [
      "\u001b[36m11:48:22 DEBUG: Wrote command file /home/dc3896/.wandb_osh_command_dir/c99145.command\u001b[0m\n"
     ]
    },
    {
     "data": {
      "text/html": [
       "<pre style=\"white-space:pre;overflow-x:auto;line-height:normal;font-family:Menlo,'DejaVu Sans Mono',consolas,'Courier New',monospace\"></pre>\n"
      ],
      "text/plain": []
     },
     "metadata": {},
     "output_type": "display_data"
    },
    {
     "name": "stdout",
     "output_type": "stream",
     "text": [
      "\u001b[3m             Validation epoch=1             \u001b[0m\n",
      "┏━━━━━━━━━━━━━━━━━━━━━┳━━━━━━━━━━┳━━━━━━━━━┓\n",
      "┃\u001b[1m \u001b[0m\u001b[1mMetric             \u001b[0m\u001b[1m \u001b[0m┃\u001b[1m \u001b[0m\u001b[1m   Value\u001b[0m\u001b[1m \u001b[0m┃\u001b[1m \u001b[0m\u001b[1m  Error\u001b[0m\u001b[1m \u001b[0m┃\n",
      "┡━━━━━━━━━━━━━━━━━━━━━╇━━━━━━━━━━╇━━━━━━━━━┩\n",
      "│ attractive          │  0.15029 │ 0.00091 │\n",
      "│ attractive_weighted │  0.15029 │ 0.00091 │\n",
      "│ repulsive           │ 65.42538 │ 0.26376 │\n",
      "│ repulsive_weighted  │  0.12778 │ 0.00052 │\n",
      "│ total               │  0.27806 │ 0.00108 │\n",
      "└─────────────────────┴──────────┴─────────┘\n",
      "\n"
     ]
    },
    {
     "data": {
      "application/vnd.jupyter.widget-view+json": {
       "model_id": "",
       "version_major": 2,
       "version_minor": 0
      },
      "text/plain": [
       "Validation: 0it [00:00, ?it/s]"
      ]
     },
     "metadata": {},
     "output_type": "display_data"
    },
    {
     "name": "stderr",
     "output_type": "stream",
     "text": [
      "\u001b[36m12:06:16 DEBUG: Wrote command file /home/dc3896/.wandb_osh_command_dir/c99145.command\u001b[0m\n"
     ]
    },
    {
     "data": {
      "text/html": [
       "<pre style=\"white-space:pre;overflow-x:auto;line-height:normal;font-family:Menlo,'DejaVu Sans Mono',consolas,'Courier New',monospace\"></pre>\n"
      ],
      "text/plain": []
     },
     "metadata": {},
     "output_type": "display_data"
    },
    {
     "name": "stdout",
     "output_type": "stream",
     "text": [
      "\u001b[3m                Validation epoch=2                \u001b[0m\n",
      "┏━━━━━━━━━━━━━━━━━━━━━━━━━━━┳━━━━━━━━━━┳━━━━━━━━━┓\n",
      "┃\u001b[1m \u001b[0m\u001b[1mMetric                   \u001b[0m\u001b[1m \u001b[0m┃\u001b[1m \u001b[0m\u001b[1m   Value\u001b[0m\u001b[1m \u001b[0m┃\u001b[1m \u001b[0m\u001b[1m  Error\u001b[0m\u001b[1m \u001b[0m┃\n",
      "┡━━━━━━━━━━━━━━━━━━━━━━━━━━━╇━━━━━━━━━━╇━━━━━━━━━┩\n",
      "│ attractive                │  0.14143 │ 0.00054 │\n",
      "│ attractive_train          │  0.21920 │     nan │\n",
      "│ attractive_weighted       │  0.14143 │ 0.00054 │\n",
      "│ attractive_weighted_train │  0.21920 │     nan │\n",
      "│ repulsive                 │ 53.39483 │ 0.22921 │\n",
      "│ repulsive_train           │ 98.39658 │     nan │\n",
      "│ repulsive_weighted        │  0.10428 │ 0.00045 │\n",
      "│ repulsive_weighted_train  │  0.19217 │     nan │\n",
      "│ total                     │  0.24571 │ 0.00073 │\n",
      "│ total_train               │  0.41137 │     nan │\n",
      "└───────────────────────────┴──────────┴─────────┘\n",
      "\n"
     ]
    },
    {
     "data": {
      "application/vnd.jupyter.widget-view+json": {
       "model_id": "",
       "version_major": 2,
       "version_minor": 0
      },
      "text/plain": [
       "Validation: 0it [00:00, ?it/s]"
      ]
     },
     "metadata": {},
     "output_type": "display_data"
    },
    {
     "name": "stderr",
     "output_type": "stream",
     "text": [
      "\u001b[36m12:23:39 DEBUG: Wrote command file /home/dc3896/.wandb_osh_command_dir/c99145.command\u001b[0m\n"
     ]
    },
    {
     "data": {
      "text/html": [
       "<pre style=\"white-space:pre;overflow-x:auto;line-height:normal;font-family:Menlo,'DejaVu Sans Mono',consolas,'Courier New',monospace\"></pre>\n"
      ],
      "text/plain": []
     },
     "metadata": {},
     "output_type": "display_data"
    },
    {
     "name": "stdout",
     "output_type": "stream",
     "text": [
      "\u001b[3m                Validation epoch=3                \u001b[0m\n",
      "┏━━━━━━━━━━━━━━━━━━━━━━━━━━━┳━━━━━━━━━━┳━━━━━━━━━┓\n",
      "┃\u001b[1m \u001b[0m\u001b[1mMetric                   \u001b[0m\u001b[1m \u001b[0m┃\u001b[1m \u001b[0m\u001b[1m   Value\u001b[0m\u001b[1m \u001b[0m┃\u001b[1m \u001b[0m\u001b[1m  Error\u001b[0m\u001b[1m \u001b[0m┃\n",
      "┡━━━━━━━━━━━━━━━━━━━━━━━━━━━╇━━━━━━━━━━╇━━━━━━━━━┩\n",
      "│ attractive                │  0.10488 │ 0.00047 │\n",
      "│ attractive_train          │  0.12423 │     nan │\n",
      "│ attractive_weighted       │  0.10488 │ 0.00047 │\n",
      "│ attractive_weighted_train │  0.12423 │     nan │\n",
      "│ repulsive                 │ 42.49561 │ 0.18615 │\n",
      "│ repulsive_train           │ 54.54250 │     nan │\n",
      "│ repulsive_weighted        │  0.08300 │ 0.00036 │\n",
      "│ repulsive_weighted_train  │  0.10652 │     nan │\n",
      "│ total                     │  0.18787 │ 0.00062 │\n",
      "│ total_train               │  0.23075 │     nan │\n",
      "└───────────────────────────┴──────────┴─────────┘\n",
      "\n"
     ]
    },
    {
     "data": {
      "application/vnd.jupyter.widget-view+json": {
       "model_id": "",
       "version_major": 2,
       "version_minor": 0
      },
      "text/plain": [
       "Validation: 0it [00:00, ?it/s]"
      ]
     },
     "metadata": {},
     "output_type": "display_data"
    },
    {
     "name": "stderr",
     "output_type": "stream",
     "text": [
      "\u001b[36m12:40:46 DEBUG: Wrote command file /home/dc3896/.wandb_osh_command_dir/c99145.command\u001b[0m\n"
     ]
    },
    {
     "data": {
      "text/html": [
       "<pre style=\"white-space:pre;overflow-x:auto;line-height:normal;font-family:Menlo,'DejaVu Sans Mono',consolas,'Courier New',monospace\"></pre>\n"
      ],
      "text/plain": []
     },
     "metadata": {},
     "output_type": "display_data"
    },
    {
     "name": "stdout",
     "output_type": "stream",
     "text": [
      "\u001b[3m                Validation epoch=4                \u001b[0m\n",
      "┏━━━━━━━━━━━━━━━━━━━━━━━━━━━┳━━━━━━━━━━┳━━━━━━━━━┓\n",
      "┃\u001b[1m \u001b[0m\u001b[1mMetric                   \u001b[0m\u001b[1m \u001b[0m┃\u001b[1m \u001b[0m\u001b[1m   Value\u001b[0m\u001b[1m \u001b[0m┃\u001b[1m \u001b[0m\u001b[1m  Error\u001b[0m\u001b[1m \u001b[0m┃\n",
      "┡━━━━━━━━━━━━━━━━━━━━━━━━━━━╇━━━━━━━━━━╇━━━━━━━━━┩\n",
      "│ attractive                │  0.08099 │ 0.00043 │\n",
      "│ attractive_train          │  0.10643 │     nan │\n",
      "│ attractive_weighted       │  0.08099 │ 0.00043 │\n",
      "│ attractive_weighted_train │  0.10643 │     nan │\n",
      "│ repulsive                 │ 42.65965 │ 0.18651 │\n",
      "│ repulsive_train           │ 46.68798 │     nan │\n",
      "│ repulsive_weighted        │  0.08332 │ 0.00036 │\n",
      "│ repulsive_weighted_train  │  0.09118 │     nan │\n",
      "│ total                     │  0.16431 │ 0.00059 │\n",
      "│ total_train               │  0.19761 │     nan │\n",
      "└───────────────────────────┴──────────┴─────────┘\n",
      "\n"
     ]
    },
    {
     "data": {
      "application/vnd.jupyter.widget-view+json": {
       "model_id": "",
       "version_major": 2,
       "version_minor": 0
      },
      "text/plain": [
       "Validation: 0it [00:00, ?it/s]"
      ]
     },
     "metadata": {},
     "output_type": "display_data"
    },
    {
     "name": "stderr",
     "output_type": "stream",
     "text": [
      "\u001b[36m12:57:43 DEBUG: Wrote command file /home/dc3896/.wandb_osh_command_dir/c99145.command\u001b[0m\n"
     ]
    },
    {
     "data": {
      "text/html": [
       "<pre style=\"white-space:pre;overflow-x:auto;line-height:normal;font-family:Menlo,'DejaVu Sans Mono',consolas,'Courier New',monospace\"></pre>\n"
      ],
      "text/plain": []
     },
     "metadata": {},
     "output_type": "display_data"
    },
    {
     "name": "stdout",
     "output_type": "stream",
     "text": [
      "\u001b[3m                Validation epoch=5                \u001b[0m\n",
      "┏━━━━━━━━━━━━━━━━━━━━━━━━━━━┳━━━━━━━━━━┳━━━━━━━━━┓\n",
      "┃\u001b[1m \u001b[0m\u001b[1mMetric                   \u001b[0m\u001b[1m \u001b[0m┃\u001b[1m \u001b[0m\u001b[1m   Value\u001b[0m\u001b[1m \u001b[0m┃\u001b[1m \u001b[0m\u001b[1m  Error\u001b[0m\u001b[1m \u001b[0m┃\n",
      "┡━━━━━━━━━━━━━━━━━━━━━━━━━━━╇━━━━━━━━━━╇━━━━━━━━━┩\n",
      "│ attractive                │  0.07346 │ 0.00046 │\n",
      "│ attractive_train          │  0.09712 │     nan │\n",
      "│ attractive_weighted       │  0.07346 │ 0.00046 │\n",
      "│ attractive_weighted_train │  0.09712 │     nan │\n",
      "│ repulsive                 │ 39.18258 │ 0.17183 │\n",
      "│ repulsive_train           │ 42.48894 │     nan │\n",
      "│ repulsive_weighted        │  0.07652 │ 0.00034 │\n",
      "│ repulsive_weighted_train  │  0.08298 │     nan │\n",
      "│ total                     │  0.14998 │ 0.00059 │\n",
      "│ total_train               │  0.18010 │     nan │\n",
      "└───────────────────────────┴──────────┴─────────┘\n",
      "\n"
     ]
    },
    {
     "data": {
      "application/vnd.jupyter.widget-view+json": {
       "model_id": "",
       "version_major": 2,
       "version_minor": 0
      },
      "text/plain": [
       "Validation: 0it [00:00, ?it/s]"
      ]
     },
     "metadata": {},
     "output_type": "display_data"
    },
    {
     "name": "stderr",
     "output_type": "stream",
     "text": [
      "\u001b[36m13:15:19 DEBUG: Wrote command file /home/dc3896/.wandb_osh_command_dir/c99145.command\u001b[0m\n"
     ]
    },
    {
     "data": {
      "text/html": [
       "<pre style=\"white-space:pre;overflow-x:auto;line-height:normal;font-family:Menlo,'DejaVu Sans Mono',consolas,'Courier New',monospace\"></pre>\n"
      ],
      "text/plain": []
     },
     "metadata": {},
     "output_type": "display_data"
    },
    {
     "name": "stdout",
     "output_type": "stream",
     "text": [
      "\u001b[3m                Validation epoch=6                \u001b[0m\n",
      "┏━━━━━━━━━━━━━━━━━━━━━━━━━━━┳━━━━━━━━━━┳━━━━━━━━━┓\n",
      "┃\u001b[1m \u001b[0m\u001b[1mMetric                   \u001b[0m\u001b[1m \u001b[0m┃\u001b[1m \u001b[0m\u001b[1m   Value\u001b[0m\u001b[1m \u001b[0m┃\u001b[1m \u001b[0m\u001b[1m  Error\u001b[0m\u001b[1m \u001b[0m┃\n",
      "┡━━━━━━━━━━━━━━━━━━━━━━━━━━━╇━━━━━━━━━━╇━━━━━━━━━┩\n",
      "│ attractive                │  0.10252 │ 0.00046 │\n",
      "│ attractive_train          │  0.09123 │     nan │\n",
      "│ attractive_weighted       │  0.10252 │ 0.00046 │\n",
      "│ attractive_weighted_train │  0.09123 │     nan │\n",
      "│ repulsive                 │ 41.74807 │ 0.18312 │\n",
      "│ repulsive_train           │ 39.92460 │     nan │\n",
      "│ repulsive_weighted        │  0.08154 │ 0.00036 │\n",
      "│ repulsive_weighted_train  │  0.07797 │     nan │\n",
      "│ total                     │  0.18406 │ 0.00061 │\n",
      "│ total_train               │  0.16921 │     nan │\n",
      "└───────────────────────────┴──────────┴─────────┘\n",
      "\n"
     ]
    },
    {
     "data": {
      "application/vnd.jupyter.widget-view+json": {
       "model_id": "",
       "version_major": 2,
       "version_minor": 0
      },
      "text/plain": [
       "Validation: 0it [00:00, ?it/s]"
      ]
     },
     "metadata": {},
     "output_type": "display_data"
    },
    {
     "name": "stderr",
     "output_type": "stream",
     "text": [
      "\u001b[36m13:32:13 DEBUG: Wrote command file /home/dc3896/.wandb_osh_command_dir/c99145.command\u001b[0m\n"
     ]
    },
    {
     "data": {
      "text/html": [
       "<pre style=\"white-space:pre;overflow-x:auto;line-height:normal;font-family:Menlo,'DejaVu Sans Mono',consolas,'Courier New',monospace\"></pre>\n"
      ],
      "text/plain": []
     },
     "metadata": {},
     "output_type": "display_data"
    },
    {
     "name": "stdout",
     "output_type": "stream",
     "text": [
      "\u001b[3m                Validation epoch=7                \u001b[0m\n",
      "┏━━━━━━━━━━━━━━━━━━━━━━━━━━━┳━━━━━━━━━━┳━━━━━━━━━┓\n",
      "┃\u001b[1m \u001b[0m\u001b[1mMetric                   \u001b[0m\u001b[1m \u001b[0m┃\u001b[1m \u001b[0m\u001b[1m   Value\u001b[0m\u001b[1m \u001b[0m┃\u001b[1m \u001b[0m\u001b[1m  Error\u001b[0m\u001b[1m \u001b[0m┃\n",
      "┡━━━━━━━━━━━━━━━━━━━━━━━━━━━╇━━━━━━━━━━╇━━━━━━━━━┩\n",
      "│ attractive                │  0.07716 │ 0.00045 │\n",
      "│ attractive_train          │  0.11772 │     nan │\n",
      "│ attractive_weighted       │  0.07716 │ 0.00045 │\n",
      "│ attractive_weighted_train │  0.11772 │     nan │\n",
      "│ repulsive                 │ 36.74059 │ 0.16255 │\n",
      "│ repulsive_train           │ 52.70134 │     nan │\n",
      "│ repulsive_weighted        │  0.07176 │ 0.00032 │\n",
      "│ repulsive_weighted_train  │  0.10293 │     nan │\n",
      "│ total                     │  0.14892 │ 0.00058 │\n",
      "│ total_train               │  0.22064 │     nan │\n",
      "└───────────────────────────┴──────────┴─────────┘\n",
      "\n"
     ]
    },
    {
     "data": {
      "application/vnd.jupyter.widget-view+json": {
       "model_id": "",
       "version_major": 2,
       "version_minor": 0
      },
      "text/plain": [
       "Validation: 0it [00:00, ?it/s]"
      ]
     },
     "metadata": {},
     "output_type": "display_data"
    },
    {
     "name": "stderr",
     "output_type": "stream",
     "text": [
      "\u001b[36m13:48:51 DEBUG: Wrote command file /home/dc3896/.wandb_osh_command_dir/c99145.command\u001b[0m\n"
     ]
    },
    {
     "data": {
      "text/html": [
       "<pre style=\"white-space:pre;overflow-x:auto;line-height:normal;font-family:Menlo,'DejaVu Sans Mono',consolas,'Courier New',monospace\"></pre>\n"
      ],
      "text/plain": []
     },
     "metadata": {},
     "output_type": "display_data"
    },
    {
     "name": "stdout",
     "output_type": "stream",
     "text": [
      "\u001b[3m                Validation epoch=8                \u001b[0m\n",
      "┏━━━━━━━━━━━━━━━━━━━━━━━━━━━┳━━━━━━━━━━┳━━━━━━━━━┓\n",
      "┃\u001b[1m \u001b[0m\u001b[1mMetric                   \u001b[0m\u001b[1m \u001b[0m┃\u001b[1m \u001b[0m\u001b[1m   Value\u001b[0m\u001b[1m \u001b[0m┃\u001b[1m \u001b[0m\u001b[1m  Error\u001b[0m\u001b[1m \u001b[0m┃\n",
      "┡━━━━━━━━━━━━━━━━━━━━━━━━━━━╇━━━━━━━━━━╇━━━━━━━━━┩\n",
      "│ attractive                │  0.08096 │ 0.00044 │\n",
      "│ attractive_train          │  0.09237 │     nan │\n",
      "│ attractive_weighted       │  0.08096 │ 0.00044 │\n",
      "│ attractive_weighted_train │  0.09237 │     nan │\n",
      "│ repulsive                 │ 34.74887 │ 0.15453 │\n",
      "│ repulsive_train           │ 40.91962 │     nan │\n",
      "│ repulsive_weighted        │  0.06787 │ 0.00030 │\n",
      "│ repulsive_weighted_train  │  0.07992 │     nan │\n",
      "│ total                     │  0.14882 │ 0.00055 │\n",
      "│ total_train               │  0.17228 │     nan │\n",
      "└───────────────────────────┴──────────┴─────────┘\n",
      "\n"
     ]
    },
    {
     "data": {
      "application/vnd.jupyter.widget-view+json": {
       "model_id": "",
       "version_major": 2,
       "version_minor": 0
      },
      "text/plain": [
       "Validation: 0it [00:00, ?it/s]"
      ]
     },
     "metadata": {},
     "output_type": "display_data"
    },
    {
     "name": "stderr",
     "output_type": "stream",
     "text": [
      "\u001b[36m14:05:18 DEBUG: Wrote command file /home/dc3896/.wandb_osh_command_dir/c99145.command\u001b[0m\n"
     ]
    },
    {
     "data": {
      "text/html": [
       "<pre style=\"white-space:pre;overflow-x:auto;line-height:normal;font-family:Menlo,'DejaVu Sans Mono',consolas,'Courier New',monospace\"></pre>\n"
      ],
      "text/plain": []
     },
     "metadata": {},
     "output_type": "display_data"
    },
    {
     "name": "stdout",
     "output_type": "stream",
     "text": [
      "\u001b[3m                Validation epoch=9                \u001b[0m\n",
      "┏━━━━━━━━━━━━━━━━━━━━━━━━━━━┳━━━━━━━━━━┳━━━━━━━━━┓\n",
      "┃\u001b[1m \u001b[0m\u001b[1mMetric                   \u001b[0m\u001b[1m \u001b[0m┃\u001b[1m \u001b[0m\u001b[1m   Value\u001b[0m\u001b[1m \u001b[0m┃\u001b[1m \u001b[0m\u001b[1m  Error\u001b[0m\u001b[1m \u001b[0m┃\n",
      "┡━━━━━━━━━━━━━━━━━━━━━━━━━━━╇━━━━━━━━━━╇━━━━━━━━━┩\n",
      "│ attractive                │  0.07832 │ 0.00044 │\n",
      "│ attractive_train          │  0.08268 │     nan │\n",
      "│ attractive_weighted       │  0.07832 │ 0.00044 │\n",
      "│ attractive_weighted_train │  0.08268 │     nan │\n",
      "│ repulsive                 │ 33.40894 │ 0.14932 │\n",
      "│ repulsive_train           │ 36.50113 │     nan │\n",
      "│ repulsive_weighted        │  0.06525 │ 0.00029 │\n",
      "│ repulsive_weighted_train  │  0.07129 │     nan │\n",
      "│ total                     │  0.14356 │ 0.00054 │\n",
      "│ total_train               │  0.15397 │     nan │\n",
      "└───────────────────────────┴──────────┴─────────┘\n",
      "\n"
     ]
    },
    {
     "data": {
      "application/vnd.jupyter.widget-view+json": {
       "model_id": "",
       "version_major": 2,
       "version_minor": 0
      },
      "text/plain": [
       "Validation: 0it [00:00, ?it/s]"
      ]
     },
     "metadata": {},
     "output_type": "display_data"
    },
    {
     "name": "stderr",
     "output_type": "stream",
     "text": [
      "\u001b[36m14:21:40 DEBUG: Wrote command file /home/dc3896/.wandb_osh_command_dir/c99145.command\u001b[0m\n"
     ]
    },
    {
     "data": {
      "text/html": [
       "<pre style=\"white-space:pre;overflow-x:auto;line-height:normal;font-family:Menlo,'DejaVu Sans Mono',consolas,'Courier New',monospace\"></pre>\n"
      ],
      "text/plain": []
     },
     "metadata": {},
     "output_type": "display_data"
    },
    {
     "name": "stderr",
     "output_type": "stream",
     "text": [
      "`Trainer.fit` stopped: `max_epochs=10` reached.\n"
     ]
    },
    {
     "name": "stdout",
     "output_type": "stream",
     "text": [
      "\u001b[3m               Validation epoch=10                \u001b[0m\n",
      "┏━━━━━━━━━━━━━━━━━━━━━━━━━━━┳━━━━━━━━━━┳━━━━━━━━━┓\n",
      "┃\u001b[1m \u001b[0m\u001b[1mMetric                   \u001b[0m\u001b[1m \u001b[0m┃\u001b[1m \u001b[0m\u001b[1m   Value\u001b[0m\u001b[1m \u001b[0m┃\u001b[1m \u001b[0m\u001b[1m  Error\u001b[0m\u001b[1m \u001b[0m┃\n",
      "┡━━━━━━━━━━━━━━━━━━━━━━━━━━━╇━━━━━━━━━━╇━━━━━━━━━┩\n",
      "│ attractive                │  0.08776 │ 0.00051 │\n",
      "│ attractive_train          │  0.07687 │     nan │\n",
      "│ attractive_weighted       │  0.08776 │ 0.00051 │\n",
      "│ attractive_weighted_train │  0.07687 │     nan │\n",
      "│ repulsive                 │ 27.87493 │ 0.12575 │\n",
      "│ repulsive_train           │ 33.75695 │     nan │\n",
      "│ repulsive_weighted        │  0.05444 │ 0.00025 │\n",
      "│ repulsive_weighted_train  │  0.06593 │     nan │\n",
      "│ total                     │  0.14220 │ 0.00058 │\n",
      "│ total_train               │  0.14280 │     nan │\n",
      "└───────────────────────────┴──────────┴─────────┘\n",
      "\n"
     ]
    }
   ],
   "source": [
    "loss_history, loss_history_2 = train_model(weight_repulsive=0.001953029788887701, dm=dm, max_epochs=10)"
   ]
  },
  {
   "cell_type": "code",
   "execution_count": 21,
   "id": "484603b7",
   "metadata": {},
   "outputs": [
    {
     "data": {
      "text/html": [
       "<div>\n",
       "<style scoped>\n",
       "    .dataframe tbody tr th:only-of-type {\n",
       "        vertical-align: middle;\n",
       "    }\n",
       "\n",
       "    .dataframe tbody tr th {\n",
       "        vertical-align: top;\n",
       "    }\n",
       "\n",
       "    .dataframe thead th {\n",
       "        text-align: right;\n",
       "    }\n",
       "</style>\n",
       "<table border=\"1\" class=\"dataframe\">\n",
       "  <thead>\n",
       "    <tr style=\"text-align: right;\">\n",
       "      <th></th>\n",
       "      <th>attractive</th>\n",
       "      <th>repulsive</th>\n",
       "      <th>attractive_weighted</th>\n",
       "      <th>repulsive_weighted</th>\n",
       "      <th>total</th>\n",
       "      <th>attractive_std</th>\n",
       "      <th>repulsive_std</th>\n",
       "      <th>attractive_weighted_std</th>\n",
       "      <th>repulsive_weighted_std</th>\n",
       "      <th>total_std</th>\n",
       "      <th>attractive_train</th>\n",
       "      <th>repulsive_train</th>\n",
       "      <th>attractive_weighted_train</th>\n",
       "      <th>repulsive_weighted_train</th>\n",
       "      <th>total_train</th>\n",
       "    </tr>\n",
       "  </thead>\n",
       "  <tbody>\n",
       "    <tr>\n",
       "      <th>0</th>\n",
       "      <td>0.150287</td>\n",
       "      <td>65.425377</td>\n",
       "      <td>0.150287</td>\n",
       "      <td>0.127778</td>\n",
       "      <td>0.278065</td>\n",
       "      <td>NaN</td>\n",
       "      <td>NaN</td>\n",
       "      <td>NaN</td>\n",
       "      <td>NaN</td>\n",
       "      <td>NaN</td>\n",
       "      <td>NaN</td>\n",
       "      <td>NaN</td>\n",
       "      <td>NaN</td>\n",
       "      <td>NaN</td>\n",
       "      <td>NaN</td>\n",
       "    </tr>\n",
       "    <tr>\n",
       "      <th>1</th>\n",
       "      <td>0.141433</td>\n",
       "      <td>53.394833</td>\n",
       "      <td>0.141433</td>\n",
       "      <td>0.104282</td>\n",
       "      <td>0.245715</td>\n",
       "      <td>0.000911</td>\n",
       "      <td>0.263757</td>\n",
       "      <td>0.000911</td>\n",
       "      <td>0.000515</td>\n",
       "      <td>0.001084</td>\n",
       "      <td>0.219199</td>\n",
       "      <td>98.396576</td>\n",
       "      <td>0.219199</td>\n",
       "      <td>0.192171</td>\n",
       "      <td>0.411370</td>\n",
       "    </tr>\n",
       "    <tr>\n",
       "      <th>2</th>\n",
       "      <td>0.104879</td>\n",
       "      <td>42.495609</td>\n",
       "      <td>0.104879</td>\n",
       "      <td>0.082995</td>\n",
       "      <td>0.187874</td>\n",
       "      <td>0.000537</td>\n",
       "      <td>0.229208</td>\n",
       "      <td>0.000537</td>\n",
       "      <td>0.000448</td>\n",
       "      <td>0.000726</td>\n",
       "      <td>0.124229</td>\n",
       "      <td>54.542500</td>\n",
       "      <td>0.124229</td>\n",
       "      <td>0.106523</td>\n",
       "      <td>0.230753</td>\n",
       "    </tr>\n",
       "    <tr>\n",
       "      <th>3</th>\n",
       "      <td>0.080993</td>\n",
       "      <td>42.659645</td>\n",
       "      <td>0.080993</td>\n",
       "      <td>0.083316</td>\n",
       "      <td>0.164308</td>\n",
       "      <td>0.000475</td>\n",
       "      <td>0.186154</td>\n",
       "      <td>0.000475</td>\n",
       "      <td>0.000364</td>\n",
       "      <td>0.000616</td>\n",
       "      <td>0.106431</td>\n",
       "      <td>46.687984</td>\n",
       "      <td>0.106431</td>\n",
       "      <td>0.091183</td>\n",
       "      <td>0.197614</td>\n",
       "    </tr>\n",
       "    <tr>\n",
       "      <th>4</th>\n",
       "      <td>0.073458</td>\n",
       "      <td>39.182583</td>\n",
       "      <td>0.073458</td>\n",
       "      <td>0.076525</td>\n",
       "      <td>0.149983</td>\n",
       "      <td>0.000434</td>\n",
       "      <td>0.186509</td>\n",
       "      <td>0.000434</td>\n",
       "      <td>0.000364</td>\n",
       "      <td>0.000587</td>\n",
       "      <td>0.097122</td>\n",
       "      <td>42.488941</td>\n",
       "      <td>0.097122</td>\n",
       "      <td>0.082982</td>\n",
       "      <td>0.180104</td>\n",
       "    </tr>\n",
       "    <tr>\n",
       "      <th>5</th>\n",
       "      <td>0.102523</td>\n",
       "      <td>41.748066</td>\n",
       "      <td>0.102523</td>\n",
       "      <td>0.081535</td>\n",
       "      <td>0.184059</td>\n",
       "      <td>0.000465</td>\n",
       "      <td>0.171830</td>\n",
       "      <td>0.000465</td>\n",
       "      <td>0.000336</td>\n",
       "      <td>0.000593</td>\n",
       "      <td>0.091233</td>\n",
       "      <td>39.924599</td>\n",
       "      <td>0.091233</td>\n",
       "      <td>0.077974</td>\n",
       "      <td>0.169207</td>\n",
       "    </tr>\n",
       "    <tr>\n",
       "      <th>6</th>\n",
       "      <td>0.077163</td>\n",
       "      <td>36.740585</td>\n",
       "      <td>0.077163</td>\n",
       "      <td>0.071755</td>\n",
       "      <td>0.148919</td>\n",
       "      <td>0.000462</td>\n",
       "      <td>0.183116</td>\n",
       "      <td>0.000462</td>\n",
       "      <td>0.000358</td>\n",
       "      <td>0.000607</td>\n",
       "      <td>0.117717</td>\n",
       "      <td>52.701340</td>\n",
       "      <td>0.117717</td>\n",
       "      <td>0.102928</td>\n",
       "      <td>0.220645</td>\n",
       "    </tr>\n",
       "    <tr>\n",
       "      <th>7</th>\n",
       "      <td>0.080959</td>\n",
       "      <td>34.748875</td>\n",
       "      <td>0.080959</td>\n",
       "      <td>0.067866</td>\n",
       "      <td>0.148824</td>\n",
       "      <td>0.000455</td>\n",
       "      <td>0.162555</td>\n",
       "      <td>0.000455</td>\n",
       "      <td>0.000317</td>\n",
       "      <td>0.000575</td>\n",
       "      <td>0.092368</td>\n",
       "      <td>40.919624</td>\n",
       "      <td>0.092368</td>\n",
       "      <td>0.079917</td>\n",
       "      <td>0.172284</td>\n",
       "    </tr>\n",
       "    <tr>\n",
       "      <th>8</th>\n",
       "      <td>0.078316</td>\n",
       "      <td>33.408943</td>\n",
       "      <td>0.078316</td>\n",
       "      <td>0.065249</td>\n",
       "      <td>0.143565</td>\n",
       "      <td>0.000444</td>\n",
       "      <td>0.154532</td>\n",
       "      <td>0.000444</td>\n",
       "      <td>0.000302</td>\n",
       "      <td>0.000550</td>\n",
       "      <td>0.082679</td>\n",
       "      <td>36.501125</td>\n",
       "      <td>0.082679</td>\n",
       "      <td>0.071288</td>\n",
       "      <td>0.153968</td>\n",
       "    </tr>\n",
       "    <tr>\n",
       "      <th>9</th>\n",
       "      <td>0.087757</td>\n",
       "      <td>27.874933</td>\n",
       "      <td>0.087757</td>\n",
       "      <td>0.054441</td>\n",
       "      <td>0.142198</td>\n",
       "      <td>0.000436</td>\n",
       "      <td>0.149322</td>\n",
       "      <td>0.000436</td>\n",
       "      <td>0.000292</td>\n",
       "      <td>0.000538</td>\n",
       "      <td>0.076872</td>\n",
       "      <td>33.756950</td>\n",
       "      <td>0.076872</td>\n",
       "      <td>0.065928</td>\n",
       "      <td>0.142801</td>\n",
       "    </tr>\n",
       "  </tbody>\n",
       "</table>\n",
       "</div>"
      ],
      "text/plain": [
       "   attractive  repulsive  attractive_weighted  repulsive_weighted     total  \\\n",
       "0    0.150287  65.425377             0.150287            0.127778  0.278065   \n",
       "1    0.141433  53.394833             0.141433            0.104282  0.245715   \n",
       "2    0.104879  42.495609             0.104879            0.082995  0.187874   \n",
       "3    0.080993  42.659645             0.080993            0.083316  0.164308   \n",
       "4    0.073458  39.182583             0.073458            0.076525  0.149983   \n",
       "5    0.102523  41.748066             0.102523            0.081535  0.184059   \n",
       "6    0.077163  36.740585             0.077163            0.071755  0.148919   \n",
       "7    0.080959  34.748875             0.080959            0.067866  0.148824   \n",
       "8    0.078316  33.408943             0.078316            0.065249  0.143565   \n",
       "9    0.087757  27.874933             0.087757            0.054441  0.142198   \n",
       "\n",
       "   attractive_std  repulsive_std  attractive_weighted_std  \\\n",
       "0             NaN            NaN                      NaN   \n",
       "1        0.000911       0.263757                 0.000911   \n",
       "2        0.000537       0.229208                 0.000537   \n",
       "3        0.000475       0.186154                 0.000475   \n",
       "4        0.000434       0.186509                 0.000434   \n",
       "5        0.000465       0.171830                 0.000465   \n",
       "6        0.000462       0.183116                 0.000462   \n",
       "7        0.000455       0.162555                 0.000455   \n",
       "8        0.000444       0.154532                 0.000444   \n",
       "9        0.000436       0.149322                 0.000436   \n",
       "\n",
       "   repulsive_weighted_std  total_std  attractive_train  repulsive_train  \\\n",
       "0                     NaN        NaN               NaN              NaN   \n",
       "1                0.000515   0.001084          0.219199        98.396576   \n",
       "2                0.000448   0.000726          0.124229        54.542500   \n",
       "3                0.000364   0.000616          0.106431        46.687984   \n",
       "4                0.000364   0.000587          0.097122        42.488941   \n",
       "5                0.000336   0.000593          0.091233        39.924599   \n",
       "6                0.000358   0.000607          0.117717        52.701340   \n",
       "7                0.000317   0.000575          0.092368        40.919624   \n",
       "8                0.000302   0.000550          0.082679        36.501125   \n",
       "9                0.000292   0.000538          0.076872        33.756950   \n",
       "\n",
       "   attractive_weighted_train  repulsive_weighted_train  total_train  \n",
       "0                        NaN                       NaN          NaN  \n",
       "1                   0.219199                  0.192171     0.411370  \n",
       "2                   0.124229                  0.106523     0.230753  \n",
       "3                   0.106431                  0.091183     0.197614  \n",
       "4                   0.097122                  0.082982     0.180104  \n",
       "5                   0.091233                  0.077974     0.169207  \n",
       "6                   0.117717                  0.102928     0.220645  \n",
       "7                   0.092368                  0.079917     0.172284  \n",
       "8                   0.082679                  0.071288     0.153968  \n",
       "9                   0.076872                  0.065928     0.142801  "
      ]
     },
     "execution_count": 21,
     "metadata": {},
     "output_type": "execute_result"
    }
   ],
   "source": [
    "loss_history"
   ]
  },
  {
   "cell_type": "code",
   "execution_count": 22,
   "id": "356cfef6",
   "metadata": {},
   "outputs": [
    {
     "data": {
      "text/html": [
       "<div>\n",
       "<style scoped>\n",
       "    .dataframe tbody tr th:only-of-type {\n",
       "        vertical-align: middle;\n",
       "    }\n",
       "\n",
       "    .dataframe tbody tr th {\n",
       "        vertical-align: top;\n",
       "    }\n",
       "\n",
       "    .dataframe thead th {\n",
       "        text-align: right;\n",
       "    }\n",
       "</style>\n",
       "<table border=\"1\" class=\"dataframe\">\n",
       "  <thead>\n",
       "    <tr style=\"text-align: right;\">\n",
       "      <th></th>\n",
       "      <th>attractive_train</th>\n",
       "      <th>repulsive_train</th>\n",
       "      <th>attractive_weighted_train</th>\n",
       "      <th>repulsive_weighted_train</th>\n",
       "      <th>total_train</th>\n",
       "      <th>attractive</th>\n",
       "      <th>repulsive</th>\n",
       "      <th>attractive_weighted</th>\n",
       "      <th>repulsive_weighted</th>\n",
       "      <th>total</th>\n",
       "    </tr>\n",
       "  </thead>\n",
       "  <tbody>\n",
       "    <tr>\n",
       "      <th>0</th>\n",
       "      <td>0.219199</td>\n",
       "      <td>98.396459</td>\n",
       "      <td>0.219199</td>\n",
       "      <td>0.192171</td>\n",
       "      <td>0.411370</td>\n",
       "      <td>0.150287</td>\n",
       "      <td>65.425395</td>\n",
       "      <td>0.150287</td>\n",
       "      <td>0.127778</td>\n",
       "      <td>0.278065</td>\n",
       "    </tr>\n",
       "    <tr>\n",
       "      <th>1</th>\n",
       "      <td>0.124229</td>\n",
       "      <td>54.542654</td>\n",
       "      <td>0.124229</td>\n",
       "      <td>0.106523</td>\n",
       "      <td>0.230753</td>\n",
       "      <td>0.141433</td>\n",
       "      <td>53.394836</td>\n",
       "      <td>0.141433</td>\n",
       "      <td>0.104282</td>\n",
       "      <td>0.245715</td>\n",
       "    </tr>\n",
       "    <tr>\n",
       "      <th>2</th>\n",
       "      <td>0.106431</td>\n",
       "      <td>46.687959</td>\n",
       "      <td>0.106431</td>\n",
       "      <td>0.091183</td>\n",
       "      <td>0.197614</td>\n",
       "      <td>0.104879</td>\n",
       "      <td>42.495610</td>\n",
       "      <td>0.104879</td>\n",
       "      <td>0.082995</td>\n",
       "      <td>0.187874</td>\n",
       "    </tr>\n",
       "    <tr>\n",
       "      <th>3</th>\n",
       "      <td>0.097122</td>\n",
       "      <td>42.488977</td>\n",
       "      <td>0.097122</td>\n",
       "      <td>0.082982</td>\n",
       "      <td>0.180105</td>\n",
       "      <td>0.080993</td>\n",
       "      <td>42.659631</td>\n",
       "      <td>0.080993</td>\n",
       "      <td>0.083316</td>\n",
       "      <td>0.164309</td>\n",
       "    </tr>\n",
       "    <tr>\n",
       "      <th>4</th>\n",
       "      <td>0.091233</td>\n",
       "      <td>39.924526</td>\n",
       "      <td>0.091233</td>\n",
       "      <td>0.077974</td>\n",
       "      <td>0.169207</td>\n",
       "      <td>0.073458</td>\n",
       "      <td>39.182577</td>\n",
       "      <td>0.073458</td>\n",
       "      <td>0.076525</td>\n",
       "      <td>0.149983</td>\n",
       "    </tr>\n",
       "    <tr>\n",
       "      <th>5</th>\n",
       "      <td>0.117717</td>\n",
       "      <td>52.701438</td>\n",
       "      <td>0.117717</td>\n",
       "      <td>0.102927</td>\n",
       "      <td>0.220645</td>\n",
       "      <td>0.102523</td>\n",
       "      <td>41.748068</td>\n",
       "      <td>0.102523</td>\n",
       "      <td>0.081535</td>\n",
       "      <td>0.184059</td>\n",
       "    </tr>\n",
       "    <tr>\n",
       "      <th>6</th>\n",
       "      <td>0.092368</td>\n",
       "      <td>40.919655</td>\n",
       "      <td>0.092368</td>\n",
       "      <td>0.079917</td>\n",
       "      <td>0.172285</td>\n",
       "      <td>0.077163</td>\n",
       "      <td>36.740609</td>\n",
       "      <td>0.077163</td>\n",
       "      <td>0.071756</td>\n",
       "      <td>0.148919</td>\n",
       "    </tr>\n",
       "    <tr>\n",
       "      <th>7</th>\n",
       "      <td>0.082680</td>\n",
       "      <td>36.501123</td>\n",
       "      <td>0.082680</td>\n",
       "      <td>0.071288</td>\n",
       "      <td>0.153967</td>\n",
       "      <td>0.080959</td>\n",
       "      <td>34.748870</td>\n",
       "      <td>0.080959</td>\n",
       "      <td>0.067866</td>\n",
       "      <td>0.148824</td>\n",
       "    </tr>\n",
       "    <tr>\n",
       "      <th>8</th>\n",
       "      <td>0.076872</td>\n",
       "      <td>33.756986</td>\n",
       "      <td>0.076872</td>\n",
       "      <td>0.065928</td>\n",
       "      <td>0.142801</td>\n",
       "      <td>0.078316</td>\n",
       "      <td>33.408931</td>\n",
       "      <td>0.078316</td>\n",
       "      <td>0.065249</td>\n",
       "      <td>0.143565</td>\n",
       "    </tr>\n",
       "    <tr>\n",
       "      <th>9</th>\n",
       "      <td>0.073713</td>\n",
       "      <td>32.276105</td>\n",
       "      <td>0.073713</td>\n",
       "      <td>0.063036</td>\n",
       "      <td>0.136749</td>\n",
       "      <td>0.087757</td>\n",
       "      <td>27.874932</td>\n",
       "      <td>0.087757</td>\n",
       "      <td>0.054441</td>\n",
       "      <td>0.142198</td>\n",
       "    </tr>\n",
       "  </tbody>\n",
       "</table>\n",
       "</div>"
      ],
      "text/plain": [
       "   attractive_train  repulsive_train  attractive_weighted_train  \\\n",
       "0          0.219199        98.396459                   0.219199   \n",
       "1          0.124229        54.542654                   0.124229   \n",
       "2          0.106431        46.687959                   0.106431   \n",
       "3          0.097122        42.488977                   0.097122   \n",
       "4          0.091233        39.924526                   0.091233   \n",
       "5          0.117717        52.701438                   0.117717   \n",
       "6          0.092368        40.919655                   0.092368   \n",
       "7          0.082680        36.501123                   0.082680   \n",
       "8          0.076872        33.756986                   0.076872   \n",
       "9          0.073713        32.276105                   0.073713   \n",
       "\n",
       "   repulsive_weighted_train  total_train  attractive  repulsive  \\\n",
       "0                  0.192171     0.411370    0.150287  65.425395   \n",
       "1                  0.106523     0.230753    0.141433  53.394836   \n",
       "2                  0.091183     0.197614    0.104879  42.495610   \n",
       "3                  0.082982     0.180105    0.080993  42.659631   \n",
       "4                  0.077974     0.169207    0.073458  39.182577   \n",
       "5                  0.102927     0.220645    0.102523  41.748068   \n",
       "6                  0.079917     0.172285    0.077163  36.740609   \n",
       "7                  0.071288     0.153967    0.080959  34.748870   \n",
       "8                  0.065928     0.142801    0.078316  33.408931   \n",
       "9                  0.063036     0.136749    0.087757  27.874932   \n",
       "\n",
       "   attractive_weighted  repulsive_weighted     total  \n",
       "0             0.150287            0.127778  0.278065  \n",
       "1             0.141433            0.104282  0.245715  \n",
       "2             0.104879            0.082995  0.187874  \n",
       "3             0.080993            0.083316  0.164309  \n",
       "4             0.073458            0.076525  0.149983  \n",
       "5             0.102523            0.081535  0.184059  \n",
       "6             0.077163            0.071756  0.148919  \n",
       "7             0.080959            0.067866  0.148824  \n",
       "8             0.078316            0.065249  0.143565  \n",
       "9             0.087757            0.054441  0.142198  "
      ]
     },
     "execution_count": 22,
     "metadata": {},
     "output_type": "execute_result"
    }
   ],
   "source": [
    "loss_history_2"
   ]
  },
  {
   "cell_type": "code",
   "execution_count": 23,
   "id": "eaf687af",
   "metadata": {},
   "outputs": [
    {
     "data": {
      "image/png": "[encoded data removed]",
      "text/plain": [
       "<Figure size 640x480 with 1 Axes>"
      ]
     },
     "metadata": {},
     "output_type": "display_data"
    }
   ],
   "source": [
    "label = f'Scaling coefficients = {1.0} (attractive), {0.2} (repulsive)'\n",
    "loss_history.plot(x='attractive_train', y='repulsive_train', marker='o', markersize=3, label=label)\n",
    "\n",
    "plt.xlabel('embedding_loss_attractive_train')\n",
    "plt.ylabel('embedding_loss_repulsive_train')\n",
    "\n",
    "plt.legend()\n",
    "plt.show()"
   ]
  },
  {
   "cell_type": "code",
   "execution_count": 24,
   "id": "ad97a7de",
   "metadata": {},
   "outputs": [
    {
     "data": {
      "image/png": "[encoded data removed]",
      "text/plain": [
       "<Figure size 640x480 with 1 Axes>"
      ]
     },
     "metadata": {},
     "output_type": "display_data"
    }
   ],
   "source": [
    "label = f'Scaling coefficients = {1.0} (attractive), {0.2} (repulsive)'\n",
    "loss_history_2.plot(x='attractive_train', y='repulsive_train', marker='o', markersize=3, label=label)\n",
    "\n",
    "plt.xlabel('embedding_loss_attractive_train')\n",
    "plt.ylabel('embedding_loss_repulsive_train')\n",
    "\n",
    "plt.legend()\n",
    "plt.show()"
   ]
  },
  {
   "cell_type": "code",
   "execution_count": 25,
   "id": "e514e278",
   "metadata": {},
   "outputs": [
    {
     "data": {
      "image/png": "[encoded data removed]",
      "text/plain": [
       "<Figure size 640x480 with 1 Axes>"
      ]
     },
     "metadata": {},
     "output_type": "display_data"
    }
   ],
   "source": [
    "label = f'Scaling coefficients = {1.0} (attractive), {0.2} (repulsive)'\n",
    "loss_history.plot(x='attractive', y='repulsive', marker='o', markersize=3, label=label)\n",
    "\n",
    "plt.xlabel('embedding_loss_attractive')\n",
    "plt.ylabel('embedding_loss_repulsive')\n",
    "\n",
    "plt.legend()\n",
    "plt.show()"
   ]
  },
  {
   "cell_type": "code",
   "execution_count": 26,
   "id": "5ddd9173",
   "metadata": {},
   "outputs": [
    {
     "data": {
      "image/png": "[encoded data removed]",
      "text/plain": [
       "<Figure size 640x480 with 1 Axes>"
      ]
     },
     "metadata": {},
     "output_type": "display_data"
    }
   ],
   "source": [
    "label = f'Scaling coefficients = {1.0} (attractive), {0.2} (repulsive)'\n",
    "loss_history_2.plot(x='attractive', y='repulsive', marker='o', markersize=3, label=label)\n",
    "\n",
    "plt.xlabel('embedding_loss_attractive')\n",
    "plt.ylabel('embedding_loss_repulsive')\n",
    "\n",
    "plt.legend()\n",
    "plt.show()"
   ]
  },
  {
   "cell_type": "code",
   "execution_count": 27,
   "id": "5232c99d",
   "metadata": {},
   "outputs": [
    {
     "data": {
      "image/png": "[encoded data removed]",
      "text/plain": [
       "<Figure size 640x480 with 1 Axes>"
      ]
     },
     "metadata": {},
     "output_type": "display_data"
    }
   ],
   "source": [
    "loss_history_2.plot(y=['total_train','total'], use_index=True, marker='o', markersize=3)\n",
    "\n",
    "plt.xlabel('epoch')\n",
    "plt.ylabel('total_train_loss')\n",
    "\n",
    "plt.legend()\n",
    "plt.show()"
   ]
  },
  {
   "cell_type": "code",
   "execution_count": null,
   "id": "44e2aa17",
   "metadata": {},
   "outputs": [],
   "source": []
  },
  {
   "cell_type": "code",
   "execution_count": null,
   "id": "d9c8a42c",
   "metadata": {},
   "outputs": [],
   "source": []
  },
  {
   "cell_type": "code",
   "execution_count": null,
   "id": "03cc39a9",
   "metadata": {},
   "outputs": [],
   "source": []
  },
  {
   "cell_type": "code",
   "execution_count": 11,
   "id": "b86321ff",
   "metadata": {},
   "outputs": [],
   "source": [
    "scaling_coeffs = [0.2, 0.5, 1.0, 2.0, 4.0]"
   ]
  },
  {
   "cell_type": "code",
   "execution_count": 12,
   "id": "a866f64e",
   "metadata": {},
   "outputs": [
    {
     "name": "stderr",
     "output_type": "stream",
     "text": [
      "GPU available: True (cuda), used: True\n",
      "TPU available: False, using: 0 TPU cores\n",
      "IPU available: False, using: 0 IPUs\n",
      "HPU available: False, using: 0 HPUs\n"
     ]
    },
    {
     "name": "stdout",
     "output_type": "stream",
     "text": [
      "Training for scaling coefficients = 0.2\n"
     ]
    },
    {
     "name": "stderr",
     "output_type": "stream",
     "text": [
      "You are using a CUDA device ('NVIDIA A100-SXM4-80GB') that has Tensor Cores. To properly utilize them, you should set `torch.set_float32_matmul_precision('medium' | 'high')` which will trade-off precision for performance. For more details, read https://pytorch.org/docs/stable/generated/torch.set_float32_matmul_precision.html#torch.set_float32_matmul_precision\n",
      "\u001b[32m[03:36:30] INFO: DataLoader will load 810 graphs (out of 900 available).\u001b[0m\n",
      "\u001b[36m[03:36:30] DEBUG: First graph is /scratch/gpfs/IOJALVO/gnn-tracking/object_condensation/point_clouds_v5/part1_pt1/part_1_0/data21025_s0.pt, last graph is /scratch/gpfs/IOJALVO/gnn-tracking/object_condensation/point_clouds_v5/part1_pt1/part_1_8/data21999_s0.pt\u001b[0m\n",
      "\u001b[32m[03:36:30] INFO: DataLoader will load 90 graphs (out of 900 available).\u001b[0m\n",
      "\u001b[36m[03:36:30] DEBUG: First graph is /scratch/gpfs/IOJALVO/gnn-tracking/object_condensation/point_clouds_v5/part1_pt1/part_1_9/data21009_s0.pt, last graph is /scratch/gpfs/IOJALVO/gnn-tracking/object_condensation/point_clouds_v5/part1_pt1/part_1_9/data21986_s0.pt\u001b[0m\n",
      "LOCAL_RANK: 0 - CUDA_VISIBLE_DEVICES: [0]\n",
      "\n",
      "  | Name     | Type                                | Params\n",
      "-----------------------------------------------------------------\n",
      "0 | model    | GraphConstructionFCNN               | 17.9 K\n",
      "1 | loss_fct | GraphConstructionHingeEmbeddingLoss | 0     \n",
      "-----------------------------------------------------------------\n",
      "17.9 K    Trainable params\n",
      "0         Non-trainable params\n",
      "17.9 K    Total params\n",
      "0.072     Total estimated model params size (MB)\n",
      "SLURM auto-requeueing enabled. Setting signal handlers.\n"
     ]
    },
    {
     "data": {
      "application/vnd.jupyter.widget-view+json": {
       "model_id": "",
       "version_major": 2,
       "version_minor": 0
      },
      "text/plain": [
       "Sanity Checking: 0it [00:00, ?it/s]"
      ]
     },
     "metadata": {},
     "output_type": "display_data"
    },
    {
     "name": "stderr",
     "output_type": "stream",
     "text": [
      "/scratch/gpfs/dc3896/micromamba/envs/gnn/lib/python3.10/site-packages/pytorch_lightning/trainer/connectors/data_connector.py:432: PossibleUserWarning: The dataloader, val_dataloader, does not have many workers which may be a bottleneck. Consider increasing the value of the `num_workers` argument` (try 48 which is the number of cpus on this machine) in the `DataLoader` init to improve performance.\n",
      "  rank_zero_warn(\n"
     ]
    },
    {
     "data": {
      "text/html": [
       "<pre style=\"white-space:pre;overflow-x:auto;line-height:normal;font-family:Menlo,'DejaVu Sans Mono',consolas,'Courier New',monospace\"></pre>\n"
      ],
      "text/plain": []
     },
     "metadata": {},
     "output_type": "display_data"
    },
    {
     "name": "stderr",
     "output_type": "stream",
     "text": [
      "/scratch/gpfs/dc3896/micromamba/envs/gnn/lib/python3.10/site-packages/pytorch_lightning/trainer/connectors/data_connector.py:432: PossibleUserWarning: The dataloader, train_dataloader, does not have many workers which may be a bottleneck. Consider increasing the value of the `num_workers` argument` (try 48 which is the number of cpus on this machine) in the `DataLoader` init to improve performance.\n",
      "  rank_zero_warn(\n"
     ]
    },
    {
     "data": {
      "application/vnd.jupyter.widget-view+json": {
       "model_id": "c6f7c54245c747cfbc333a805be2b1ed",
       "version_major": 2,
       "version_minor": 0
      },
      "text/plain": [
       "Training: 0it [00:00, ?it/s]"
      ]
     },
     "metadata": {},
     "output_type": "display_data"
    },
    {
     "data": {
      "application/vnd.jupyter.widget-view+json": {
       "model_id": "",
       "version_major": 2,
       "version_minor": 0
      },
      "text/plain": [
       "Validation: 0it [00:00, ?it/s]"
      ]
     },
     "metadata": {},
     "output_type": "display_data"
    },
    {
     "data": {
      "text/html": [
       "<pre style=\"white-space:pre;overflow-x:auto;line-height:normal;font-family:Menlo,'DejaVu Sans Mono',consolas,'Courier New',monospace\"></pre>\n"
      ],
      "text/plain": []
     },
     "metadata": {},
     "output_type": "display_data"
    },
    {
     "name": "stdout",
     "output_type": "stream",
     "text": [
      "\u001b[3m               Validation epoch=1                \u001b[0m\n",
      "┏━━━━━━━━━━━━━━━━━━━━━━━━━━━┳━━━━━━━━━┳━━━━━━━━━┓\n",
      "┃\u001b[1m \u001b[0m\u001b[1mMetric                   \u001b[0m\u001b[1m \u001b[0m┃\u001b[1m \u001b[0m\u001b[1m  Value\u001b[0m\u001b[1m \u001b[0m┃\u001b[1m \u001b[0m\u001b[1m  Error\u001b[0m\u001b[1m \u001b[0m┃\n",
      "┡━━━━━━━━━━━━━━━━━━━━━━━━━━━╇━━━━━━━━━╇━━━━━━━━━┩\n",
      "│ attractive                │ 0.00127 │ 0.00001 │\n",
      "│ attractive_train          │ 0.00135 │     nan │\n",
      "│ attractive_weighted       │ 0.00127 │ 0.00001 │\n",
      "│ attractive_weighted_train │ 0.00135 │     nan │\n",
      "│ repulsive                 │ 0.00254 │ 0.00004 │\n",
      "│ repulsive_train           │ 0.00273 │     nan │\n",
      "│ repulsive_weighted        │ 0.00051 │ 0.00001 │\n",
      "│ repulsive_weighted_train  │ 0.00055 │     nan │\n",
      "│ total                     │ 0.00178 │ 0.00001 │\n",
      "│ total_train               │ 0.00189 │     nan │\n",
      "└───────────────────────────┴─────────┴─────────┘\n",
      "\n"
     ]
    },
    {
     "data": {
      "application/vnd.jupyter.widget-view+json": {
       "model_id": "",
       "version_major": 2,
       "version_minor": 0
      },
      "text/plain": [
       "Validation: 0it [00:00, ?it/s]"
      ]
     },
     "metadata": {},
     "output_type": "display_data"
    },
    {
     "data": {
      "text/html": [
       "<pre style=\"white-space:pre;overflow-x:auto;line-height:normal;font-family:Menlo,'DejaVu Sans Mono',consolas,'Courier New',monospace\"></pre>\n"
      ],
      "text/plain": []
     },
     "metadata": {},
     "output_type": "display_data"
    },
    {
     "name": "stdout",
     "output_type": "stream",
     "text": [
      "\u001b[3m               Validation epoch=2                \u001b[0m\n",
      "┏━━━━━━━━━━━━━━━━━━━━━━━━━━━┳━━━━━━━━━┳━━━━━━━━━┓\n",
      "┃\u001b[1m \u001b[0m\u001b[1mMetric                   \u001b[0m\u001b[1m \u001b[0m┃\u001b[1m \u001b[0m\u001b[1m  Value\u001b[0m\u001b[1m \u001b[0m┃\u001b[1m \u001b[0m\u001b[1m  Error\u001b[0m\u001b[1m \u001b[0m┃\n",
      "┡━━━━━━━━━━━━━━━━━━━━━━━━━━━╇━━━━━━━━━╇━━━━━━━━━┩\n",
      "│ attractive                │ 0.00114 │ 0.00001 │\n",
      "│ attractive_train          │ 0.00105 │     nan │\n",
      "│ attractive_weighted       │ 0.00114 │ 0.00001 │\n",
      "│ attractive_weighted_train │ 0.00105 │     nan │\n",
      "│ repulsive                 │ 0.00220 │ 0.00004 │\n",
      "│ repulsive_train           │ 0.00251 │     nan │\n",
      "│ repulsive_weighted        │ 0.00044 │ 0.00001 │\n",
      "│ repulsive_weighted_train  │ 0.00050 │     nan │\n",
      "│ total                     │ 0.00158 │ 0.00001 │\n",
      "│ total_train               │ 0.00155 │     nan │\n",
      "└───────────────────────────┴─────────┴─────────┘\n",
      "\n"
     ]
    },
    {
     "data": {
      "application/vnd.jupyter.widget-view+json": {
       "model_id": "",
       "version_major": 2,
       "version_minor": 0
      },
      "text/plain": [
       "Validation: 0it [00:00, ?it/s]"
      ]
     },
     "metadata": {},
     "output_type": "display_data"
    },
    {
     "data": {
      "text/html": [
       "<pre style=\"white-space:pre;overflow-x:auto;line-height:normal;font-family:Menlo,'DejaVu Sans Mono',consolas,'Courier New',monospace\"></pre>\n"
      ],
      "text/plain": []
     },
     "metadata": {},
     "output_type": "display_data"
    },
    {
     "name": "stdout",
     "output_type": "stream",
     "text": [
      "\u001b[3m               Validation epoch=3                \u001b[0m\n",
      "┏━━━━━━━━━━━━━━━━━━━━━━━━━━━┳━━━━━━━━━┳━━━━━━━━━┓\n",
      "┃\u001b[1m \u001b[0m\u001b[1mMetric                   \u001b[0m\u001b[1m \u001b[0m┃\u001b[1m \u001b[0m\u001b[1m  Value\u001b[0m\u001b[1m \u001b[0m┃\u001b[1m \u001b[0m\u001b[1m  Error\u001b[0m\u001b[1m \u001b[0m┃\n",
      "┡━━━━━━━━━━━━━━━━━━━━━━━━━━━╇━━━━━━━━━╇━━━━━━━━━┩\n",
      "│ attractive                │ 0.00112 │ 0.00000 │\n",
      "│ attractive_train          │ 0.00092 │     nan │\n",
      "│ attractive_weighted       │ 0.00112 │ 0.00000 │\n",
      "│ attractive_weighted_train │ 0.00092 │     nan │\n",
      "│ repulsive                 │ 0.00213 │ 0.00003 │\n",
      "│ repulsive_train           │ 0.00250 │     nan │\n",
      "│ repulsive_weighted        │ 0.00043 │ 0.00001 │\n",
      "│ repulsive_weighted_train  │ 0.00050 │     nan │\n",
      "│ total                     │ 0.00154 │ 0.00001 │\n",
      "│ total_train               │ 0.00142 │     nan │\n",
      "└───────────────────────────┴─────────┴─────────┘\n",
      "\n"
     ]
    },
    {
     "data": {
      "application/vnd.jupyter.widget-view+json": {
       "model_id": "",
       "version_major": 2,
       "version_minor": 0
      },
      "text/plain": [
       "Validation: 0it [00:00, ?it/s]"
      ]
     },
     "metadata": {},
     "output_type": "display_data"
    },
    {
     "data": {
      "text/html": [
       "<pre style=\"white-space:pre;overflow-x:auto;line-height:normal;font-family:Menlo,'DejaVu Sans Mono',consolas,'Courier New',monospace\"></pre>\n"
      ],
      "text/plain": []
     },
     "metadata": {},
     "output_type": "display_data"
    },
    {
     "name": "stdout",
     "output_type": "stream",
     "text": [
      "\u001b[3m               Validation epoch=4                \u001b[0m\n",
      "┏━━━━━━━━━━━━━━━━━━━━━━━━━━━┳━━━━━━━━━┳━━━━━━━━━┓\n",
      "┃\u001b[1m \u001b[0m\u001b[1mMetric                   \u001b[0m\u001b[1m \u001b[0m┃\u001b[1m \u001b[0m\u001b[1m  Value\u001b[0m\u001b[1m \u001b[0m┃\u001b[1m \u001b[0m\u001b[1m  Error\u001b[0m\u001b[1m \u001b[0m┃\n",
      "┡━━━━━━━━━━━━━━━━━━━━━━━━━━━╇━━━━━━━━━╇━━━━━━━━━┩\n",
      "│ attractive                │ 0.00093 │ 0.00001 │\n",
      "│ attractive_train          │ 0.00087 │     nan │\n",
      "│ attractive_weighted       │ 0.00093 │ 0.00001 │\n",
      "│ attractive_weighted_train │ 0.00087 │     nan │\n",
      "│ repulsive                 │ 0.00173 │ 0.00003 │\n",
      "│ repulsive_train           │ 0.00253 │     nan │\n",
      "│ repulsive_weighted        │ 0.00035 │ 0.00001 │\n",
      "│ repulsive_weighted_train  │ 0.00051 │     nan │\n",
      "│ total                     │ 0.00128 │ 0.00001 │\n",
      "│ total_train               │ 0.00138 │     nan │\n",
      "└───────────────────────────┴─────────┴─────────┘\n",
      "\n"
     ]
    },
    {
     "data": {
      "application/vnd.jupyter.widget-view+json": {
       "model_id": "",
       "version_major": 2,
       "version_minor": 0
      },
      "text/plain": [
       "Validation: 0it [00:00, ?it/s]"
      ]
     },
     "metadata": {},
     "output_type": "display_data"
    },
    {
     "data": {
      "text/html": [
       "<pre style=\"white-space:pre;overflow-x:auto;line-height:normal;font-family:Menlo,'DejaVu Sans Mono',consolas,'Courier New',monospace\"></pre>\n"
      ],
      "text/plain": []
     },
     "metadata": {},
     "output_type": "display_data"
    },
    {
     "name": "stdout",
     "output_type": "stream",
     "text": [
      "\u001b[3m               Validation epoch=5                \u001b[0m\n",
      "┏━━━━━━━━━━━━━━━━━━━━━━━━━━━┳━━━━━━━━━┳━━━━━━━━━┓\n",
      "┃\u001b[1m \u001b[0m\u001b[1mMetric                   \u001b[0m\u001b[1m \u001b[0m┃\u001b[1m \u001b[0m\u001b[1m  Value\u001b[0m\u001b[1m \u001b[0m┃\u001b[1m \u001b[0m\u001b[1m  Error\u001b[0m\u001b[1m \u001b[0m┃\n",
      "┡━━━━━━━━━━━━━━━━━━━━━━━━━━━╇━━━━━━━━━╇━━━━━━━━━┩\n",
      "│ attractive                │ 0.00087 │ 0.00000 │\n",
      "│ attractive_train          │ 0.00084 │     nan │\n",
      "│ attractive_weighted       │ 0.00087 │ 0.00000 │\n",
      "│ attractive_weighted_train │ 0.00084 │     nan │\n",
      "│ repulsive                 │ 0.00190 │ 0.00003 │\n",
      "│ repulsive_train           │ 0.00186 │     nan │\n",
      "│ repulsive_weighted        │ 0.00038 │ 0.00001 │\n",
      "│ repulsive_weighted_train  │ 0.00037 │     nan │\n",
      "│ total                     │ 0.00125 │ 0.00001 │\n",
      "│ total_train               │ 0.00121 │     nan │\n",
      "└───────────────────────────┴─────────┴─────────┘\n",
      "\n"
     ]
    },
    {
     "data": {
      "application/vnd.jupyter.widget-view+json": {
       "model_id": "",
       "version_major": 2,
       "version_minor": 0
      },
      "text/plain": [
       "Validation: 0it [00:00, ?it/s]"
      ]
     },
     "metadata": {},
     "output_type": "display_data"
    },
    {
     "data": {
      "text/html": [
       "<pre style=\"white-space:pre;overflow-x:auto;line-height:normal;font-family:Menlo,'DejaVu Sans Mono',consolas,'Courier New',monospace\"></pre>\n"
      ],
      "text/plain": []
     },
     "metadata": {},
     "output_type": "display_data"
    },
    {
     "name": "stdout",
     "output_type": "stream",
     "text": [
      "\u001b[3m               Validation epoch=6                \u001b[0m\n",
      "┏━━━━━━━━━━━━━━━━━━━━━━━━━━━┳━━━━━━━━━┳━━━━━━━━━┓\n",
      "┃\u001b[1m \u001b[0m\u001b[1mMetric                   \u001b[0m\u001b[1m \u001b[0m┃\u001b[1m \u001b[0m\u001b[1m  Value\u001b[0m\u001b[1m \u001b[0m┃\u001b[1m \u001b[0m\u001b[1m  Error\u001b[0m\u001b[1m \u001b[0m┃\n",
      "┡━━━━━━━━━━━━━━━━━━━━━━━━━━━╇━━━━━━━━━╇━━━━━━━━━┩\n",
      "│ attractive                │ 0.00075 │ 0.00000 │\n",
      "│ attractive_train          │ 0.00078 │     nan │\n",
      "│ attractive_weighted       │ 0.00075 │ 0.00000 │\n",
      "│ attractive_weighted_train │ 0.00078 │     nan │\n",
      "│ repulsive                 │ 0.00179 │ 0.00003 │\n",
      "│ repulsive_train           │ 0.00169 │     nan │\n",
      "│ repulsive_weighted        │ 0.00036 │ 0.00001 │\n",
      "│ repulsive_weighted_train  │ 0.00034 │     nan │\n",
      "│ total                     │ 0.00111 │ 0.00001 │\n",
      "│ total_train               │ 0.00111 │     nan │\n",
      "└───────────────────────────┴─────────┴─────────┘\n",
      "\n"
     ]
    },
    {
     "data": {
      "application/vnd.jupyter.widget-view+json": {
       "model_id": "",
       "version_major": 2,
       "version_minor": 0
      },
      "text/plain": [
       "Validation: 0it [00:00, ?it/s]"
      ]
     },
     "metadata": {},
     "output_type": "display_data"
    },
    {
     "data": {
      "text/html": [
       "<pre style=\"white-space:pre;overflow-x:auto;line-height:normal;font-family:Menlo,'DejaVu Sans Mono',consolas,'Courier New',monospace\"></pre>\n"
      ],
      "text/plain": []
     },
     "metadata": {},
     "output_type": "display_data"
    },
    {
     "name": "stdout",
     "output_type": "stream",
     "text": [
      "\u001b[3m               Validation epoch=7                \u001b[0m\n",
      "┏━━━━━━━━━━━━━━━━━━━━━━━━━━━┳━━━━━━━━━┳━━━━━━━━━┓\n",
      "┃\u001b[1m \u001b[0m\u001b[1mMetric                   \u001b[0m\u001b[1m \u001b[0m┃\u001b[1m \u001b[0m\u001b[1m  Value\u001b[0m\u001b[1m \u001b[0m┃\u001b[1m \u001b[0m\u001b[1m  Error\u001b[0m\u001b[1m \u001b[0m┃\n",
      "┡━━━━━━━━━━━━━━━━━━━━━━━━━━━╇━━━━━━━━━╇━━━━━━━━━┩\n",
      "│ attractive                │ 0.00082 │ 0.00000 │\n",
      "│ attractive_train          │ 0.00074 │     nan │\n",
      "│ attractive_weighted       │ 0.00082 │ 0.00000 │\n",
      "│ attractive_weighted_train │ 0.00074 │     nan │\n",
      "│ repulsive                 │ 0.00144 │ 0.00002 │\n",
      "│ repulsive_train           │ 0.00155 │     nan │\n",
      "│ repulsive_weighted        │ 0.00029 │ 0.00000 │\n",
      "│ repulsive_weighted_train  │ 0.00031 │     nan │\n",
      "│ total                     │ 0.00110 │ 0.00001 │\n",
      "│ total_train               │ 0.00105 │     nan │\n",
      "└───────────────────────────┴─────────┴─────────┘\n",
      "\n"
     ]
    },
    {
     "data": {
      "application/vnd.jupyter.widget-view+json": {
       "model_id": "",
       "version_major": 2,
       "version_minor": 0
      },
      "text/plain": [
       "Validation: 0it [00:00, ?it/s]"
      ]
     },
     "metadata": {},
     "output_type": "display_data"
    },
    {
     "data": {
      "text/html": [
       "<pre style=\"white-space:pre;overflow-x:auto;line-height:normal;font-family:Menlo,'DejaVu Sans Mono',consolas,'Courier New',monospace\"></pre>\n"
      ],
      "text/plain": []
     },
     "metadata": {},
     "output_type": "display_data"
    },
    {
     "name": "stdout",
     "output_type": "stream",
     "text": [
      "\u001b[3m               Validation epoch=8                \u001b[0m\n",
      "┏━━━━━━━━━━━━━━━━━━━━━━━━━━━┳━━━━━━━━━┳━━━━━━━━━┓\n",
      "┃\u001b[1m \u001b[0m\u001b[1mMetric                   \u001b[0m\u001b[1m \u001b[0m┃\u001b[1m \u001b[0m\u001b[1m  Value\u001b[0m\u001b[1m \u001b[0m┃\u001b[1m \u001b[0m\u001b[1m  Error\u001b[0m\u001b[1m \u001b[0m┃\n",
      "┡━━━━━━━━━━━━━━━━━━━━━━━━━━━╇━━━━━━━━━╇━━━━━━━━━┩\n",
      "│ attractive                │ 0.00078 │ 0.00000 │\n",
      "│ attractive_train          │ 0.00069 │     nan │\n",
      "│ attractive_weighted       │ 0.00078 │ 0.00000 │\n",
      "│ attractive_weighted_train │ 0.00069 │     nan │\n",
      "│ repulsive                 │ 0.00177 │ 0.00003 │\n",
      "│ repulsive_train           │ 0.00196 │     nan │\n",
      "│ repulsive_weighted        │ 0.00035 │ 0.00001 │\n",
      "│ repulsive_weighted_train  │ 0.00039 │     nan │\n",
      "│ total                     │ 0.00113 │ 0.00001 │\n",
      "│ total_train               │ 0.00109 │     nan │\n",
      "└───────────────────────────┴─────────┴─────────┘\n",
      "\n"
     ]
    },
    {
     "data": {
      "application/vnd.jupyter.widget-view+json": {
       "model_id": "",
       "version_major": 2,
       "version_minor": 0
      },
      "text/plain": [
       "Validation: 0it [00:00, ?it/s]"
      ]
     },
     "metadata": {},
     "output_type": "display_data"
    },
    {
     "data": {
      "text/html": [
       "<pre style=\"white-space:pre;overflow-x:auto;line-height:normal;font-family:Menlo,'DejaVu Sans Mono',consolas,'Courier New',monospace\"></pre>\n"
      ],
      "text/plain": []
     },
     "metadata": {},
     "output_type": "display_data"
    },
    {
     "name": "stdout",
     "output_type": "stream",
     "text": [
      "\u001b[3m               Validation epoch=9                \u001b[0m\n",
      "┏━━━━━━━━━━━━━━━━━━━━━━━━━━━┳━━━━━━━━━┳━━━━━━━━━┓\n",
      "┃\u001b[1m \u001b[0m\u001b[1mMetric                   \u001b[0m\u001b[1m \u001b[0m┃\u001b[1m \u001b[0m\u001b[1m  Value\u001b[0m\u001b[1m \u001b[0m┃\u001b[1m \u001b[0m\u001b[1m  Error\u001b[0m\u001b[1m \u001b[0m┃\n",
      "┡━━━━━━━━━━━━━━━━━━━━━━━━━━━╇━━━━━━━━━╇━━━━━━━━━┩\n",
      "│ attractive                │ 0.00072 │ 0.00000 │\n",
      "│ attractive_train          │ 0.00076 │     nan │\n",
      "│ attractive_weighted       │ 0.00072 │ 0.00000 │\n",
      "│ attractive_weighted_train │ 0.00076 │     nan │\n",
      "│ repulsive                 │ 0.00158 │ 0.00003 │\n",
      "│ repulsive_train           │ 0.00126 │     nan │\n",
      "│ repulsive_weighted        │ 0.00032 │ 0.00001 │\n",
      "│ repulsive_weighted_train  │ 0.00025 │     nan │\n",
      "│ total                     │ 0.00103 │ 0.00001 │\n",
      "│ total_train               │ 0.00102 │     nan │\n",
      "└───────────────────────────┴─────────┴─────────┘\n",
      "\n"
     ]
    },
    {
     "data": {
      "application/vnd.jupyter.widget-view+json": {
       "model_id": "",
       "version_major": 2,
       "version_minor": 0
      },
      "text/plain": [
       "Validation: 0it [00:00, ?it/s]"
      ]
     },
     "metadata": {},
     "output_type": "display_data"
    },
    {
     "data": {
      "text/html": [
       "<pre style=\"white-space:pre;overflow-x:auto;line-height:normal;font-family:Menlo,'DejaVu Sans Mono',consolas,'Courier New',monospace\"></pre>\n"
      ],
      "text/plain": []
     },
     "metadata": {},
     "output_type": "display_data"
    },
    {
     "name": "stdout",
     "output_type": "stream",
     "text": [
      "\u001b[3m               Validation epoch=10               \u001b[0m\n",
      "┏━━━━━━━━━━━━━━━━━━━━━━━━━━━┳━━━━━━━━━┳━━━━━━━━━┓\n",
      "┃\u001b[1m \u001b[0m\u001b[1mMetric                   \u001b[0m\u001b[1m \u001b[0m┃\u001b[1m \u001b[0m\u001b[1m  Value\u001b[0m\u001b[1m \u001b[0m┃\u001b[1m \u001b[0m\u001b[1m  Error\u001b[0m\u001b[1m \u001b[0m┃\n",
      "┡━━━━━━━━━━━━━━━━━━━━━━━━━━━╇━━━━━━━━━╇━━━━━━━━━┩\n",
      "│ attractive                │ 0.00066 │ 0.00000 │\n",
      "│ attractive_train          │ 0.00077 │     nan │\n",
      "│ attractive_weighted       │ 0.00066 │ 0.00000 │\n",
      "│ attractive_weighted_train │ 0.00077 │     nan │\n",
      "│ repulsive                 │ 0.00146 │ 0.00002 │\n",
      "│ repulsive_train           │ 0.00132 │     nan │\n",
      "│ repulsive_weighted        │ 0.00029 │ 0.00000 │\n",
      "│ repulsive_weighted_train  │ 0.00026 │     nan │\n",
      "│ total                     │ 0.00096 │ 0.00001 │\n",
      "│ total_train               │ 0.00103 │     nan │\n",
      "└───────────────────────────┴─────────┴─────────┘\n",
      "\n"
     ]
    },
    {
     "data": {
      "application/vnd.jupyter.widget-view+json": {
       "model_id": "",
       "version_major": 2,
       "version_minor": 0
      },
      "text/plain": [
       "Validation: 0it [00:00, ?it/s]"
      ]
     },
     "metadata": {},
     "output_type": "display_data"
    },
    {
     "data": {
      "text/html": [
       "<pre style=\"white-space:pre;overflow-x:auto;line-height:normal;font-family:Menlo,'DejaVu Sans Mono',consolas,'Courier New',monospace\"></pre>\n"
      ],
      "text/plain": []
     },
     "metadata": {},
     "output_type": "display_data"
    },
    {
     "name": "stdout",
     "output_type": "stream",
     "text": [
      "\u001b[3m               Validation epoch=11               \u001b[0m\n",
      "┏━━━━━━━━━━━━━━━━━━━━━━━━━━━┳━━━━━━━━━┳━━━━━━━━━┓\n",
      "┃\u001b[1m \u001b[0m\u001b[1mMetric                   \u001b[0m\u001b[1m \u001b[0m┃\u001b[1m \u001b[0m\u001b[1m  Value\u001b[0m\u001b[1m \u001b[0m┃\u001b[1m \u001b[0m\u001b[1m  Error\u001b[0m\u001b[1m \u001b[0m┃\n",
      "┡━━━━━━━━━━━━━━━━━━━━━━━━━━━╇━━━━━━━━━╇━━━━━━━━━┩\n",
      "│ attractive                │ 0.00070 │ 0.00000 │\n",
      "│ attractive_train          │ 0.00074 │     nan │\n",
      "│ attractive_weighted       │ 0.00070 │ 0.00000 │\n",
      "│ attractive_weighted_train │ 0.00074 │     nan │\n",
      "│ repulsive                 │ 0.00150 │ 0.00002 │\n",
      "│ repulsive_train           │ 0.00177 │     nan │\n",
      "│ repulsive_weighted        │ 0.00030 │ 0.00000 │\n",
      "│ repulsive_weighted_train  │ 0.00035 │     nan │\n",
      "│ total                     │ 0.00100 │ 0.00001 │\n",
      "│ total_train               │ 0.00110 │     nan │\n",
      "└───────────────────────────┴─────────┴─────────┘\n",
      "\n"
     ]
    },
    {
     "data": {
      "application/vnd.jupyter.widget-view+json": {
       "model_id": "",
       "version_major": 2,
       "version_minor": 0
      },
      "text/plain": [
       "Validation: 0it [00:00, ?it/s]"
      ]
     },
     "metadata": {},
     "output_type": "display_data"
    },
    {
     "data": {
      "text/html": [
       "<pre style=\"white-space:pre;overflow-x:auto;line-height:normal;font-family:Menlo,'DejaVu Sans Mono',consolas,'Courier New',monospace\"></pre>\n"
      ],
      "text/plain": []
     },
     "metadata": {},
     "output_type": "display_data"
    },
    {
     "name": "stdout",
     "output_type": "stream",
     "text": [
      "\u001b[3m               Validation epoch=12               \u001b[0m\n",
      "┏━━━━━━━━━━━━━━━━━━━━━━━━━━━┳━━━━━━━━━┳━━━━━━━━━┓\n",
      "┃\u001b[1m \u001b[0m\u001b[1mMetric                   \u001b[0m\u001b[1m \u001b[0m┃\u001b[1m \u001b[0m\u001b[1m  Value\u001b[0m\u001b[1m \u001b[0m┃\u001b[1m \u001b[0m\u001b[1m  Error\u001b[0m\u001b[1m \u001b[0m┃\n",
      "┡━━━━━━━━━━━━━━━━━━━━━━━━━━━╇━━━━━━━━━╇━━━━━━━━━┩\n",
      "│ attractive                │ 0.00063 │ 0.00000 │\n",
      "│ attractive_train          │ 0.00066 │     nan │\n",
      "│ attractive_weighted       │ 0.00063 │ 0.00000 │\n",
      "│ attractive_weighted_train │ 0.00066 │     nan │\n",
      "│ repulsive                 │ 0.00149 │ 0.00002 │\n",
      "│ repulsive_train           │ 0.00143 │     nan │\n",
      "│ repulsive_weighted        │ 0.00030 │ 0.00000 │\n",
      "│ repulsive_weighted_train  │ 0.00029 │     nan │\n",
      "│ total                     │ 0.00093 │ 0.00001 │\n",
      "│ total_train               │ 0.00094 │     nan │\n",
      "└───────────────────────────┴─────────┴─────────┘\n",
      "\n"
     ]
    },
    {
     "data": {
      "application/vnd.jupyter.widget-view+json": {
       "model_id": "",
       "version_major": 2,
       "version_minor": 0
      },
      "text/plain": [
       "Validation: 0it [00:00, ?it/s]"
      ]
     },
     "metadata": {},
     "output_type": "display_data"
    },
    {
     "data": {
      "text/html": [
       "<pre style=\"white-space:pre;overflow-x:auto;line-height:normal;font-family:Menlo,'DejaVu Sans Mono',consolas,'Courier New',monospace\"></pre>\n"
      ],
      "text/plain": []
     },
     "metadata": {},
     "output_type": "display_data"
    },
    {
     "name": "stdout",
     "output_type": "stream",
     "text": [
      "\u001b[3m               Validation epoch=13               \u001b[0m\n",
      "┏━━━━━━━━━━━━━━━━━━━━━━━━━━━┳━━━━━━━━━┳━━━━━━━━━┓\n",
      "┃\u001b[1m \u001b[0m\u001b[1mMetric                   \u001b[0m\u001b[1m \u001b[0m┃\u001b[1m \u001b[0m\u001b[1m  Value\u001b[0m\u001b[1m \u001b[0m┃\u001b[1m \u001b[0m\u001b[1m  Error\u001b[0m\u001b[1m \u001b[0m┃\n",
      "┡━━━━━━━━━━━━━━━━━━━━━━━━━━━╇━━━━━━━━━╇━━━━━━━━━┩\n",
      "│ attractive                │ 0.00068 │ 0.00000 │\n",
      "│ attractive_train          │ 0.00065 │     nan │\n",
      "│ attractive_weighted       │ 0.00068 │ 0.00000 │\n",
      "│ attractive_weighted_train │ 0.00065 │     nan │\n",
      "│ repulsive                 │ 0.00142 │ 0.00002 │\n",
      "│ repulsive_train           │ 0.00118 │     nan │\n",
      "│ repulsive_weighted        │ 0.00028 │ 0.00000 │\n",
      "│ repulsive_weighted_train  │ 0.00024 │     nan │\n",
      "│ total                     │ 0.00097 │ 0.00001 │\n",
      "│ total_train               │ 0.00089 │     nan │\n",
      "└───────────────────────────┴─────────┴─────────┘\n",
      "\n"
     ]
    },
    {
     "data": {
      "application/vnd.jupyter.widget-view+json": {
       "model_id": "",
       "version_major": 2,
       "version_minor": 0
      },
      "text/plain": [
       "Validation: 0it [00:00, ?it/s]"
      ]
     },
     "metadata": {},
     "output_type": "display_data"
    },
    {
     "data": {
      "text/html": [
       "<pre style=\"white-space:pre;overflow-x:auto;line-height:normal;font-family:Menlo,'DejaVu Sans Mono',consolas,'Courier New',monospace\"></pre>\n"
      ],
      "text/plain": []
     },
     "metadata": {},
     "output_type": "display_data"
    },
    {
     "name": "stdout",
     "output_type": "stream",
     "text": [
      "\u001b[3m               Validation epoch=14               \u001b[0m\n",
      "┏━━━━━━━━━━━━━━━━━━━━━━━━━━━┳━━━━━━━━━┳━━━━━━━━━┓\n",
      "┃\u001b[1m \u001b[0m\u001b[1mMetric                   \u001b[0m\u001b[1m \u001b[0m┃\u001b[1m \u001b[0m\u001b[1m  Value\u001b[0m\u001b[1m \u001b[0m┃\u001b[1m \u001b[0m\u001b[1m  Error\u001b[0m\u001b[1m \u001b[0m┃\n",
      "┡━━━━━━━━━━━━━━━━━━━━━━━━━━━╇━━━━━━━━━╇━━━━━━━━━┩\n",
      "│ attractive                │ 0.00064 │ 0.00000 │\n",
      "│ attractive_train          │ 0.00061 │     nan │\n",
      "│ attractive_weighted       │ 0.00064 │ 0.00000 │\n",
      "│ attractive_weighted_train │ 0.00061 │     nan │\n",
      "│ repulsive                 │ 0.00135 │ 0.00002 │\n",
      "│ repulsive_train           │ 0.00139 │     nan │\n",
      "│ repulsive_weighted        │ 0.00027 │ 0.00000 │\n",
      "│ repulsive_weighted_train  │ 0.00028 │     nan │\n",
      "│ total                     │ 0.00091 │ 0.00001 │\n",
      "│ total_train               │ 0.00089 │     nan │\n",
      "└───────────────────────────┴─────────┴─────────┘\n",
      "\n"
     ]
    },
    {
     "data": {
      "application/vnd.jupyter.widget-view+json": {
       "model_id": "",
       "version_major": 2,
       "version_minor": 0
      },
      "text/plain": [
       "Validation: 0it [00:00, ?it/s]"
      ]
     },
     "metadata": {},
     "output_type": "display_data"
    },
    {
     "data": {
      "text/html": [
       "<pre style=\"white-space:pre;overflow-x:auto;line-height:normal;font-family:Menlo,'DejaVu Sans Mono',consolas,'Courier New',monospace\"></pre>\n"
      ],
      "text/plain": []
     },
     "metadata": {},
     "output_type": "display_data"
    },
    {
     "name": "stdout",
     "output_type": "stream",
     "text": [
      "\u001b[3m               Validation epoch=15               \u001b[0m\n",
      "┏━━━━━━━━━━━━━━━━━━━━━━━━━━━┳━━━━━━━━━┳━━━━━━━━━┓\n",
      "┃\u001b[1m \u001b[0m\u001b[1mMetric                   \u001b[0m\u001b[1m \u001b[0m┃\u001b[1m \u001b[0m\u001b[1m  Value\u001b[0m\u001b[1m \u001b[0m┃\u001b[1m \u001b[0m\u001b[1m  Error\u001b[0m\u001b[1m \u001b[0m┃\n",
      "┡━━━━━━━━━━━━━━━━━━━━━━━━━━━╇━━━━━━━━━╇━━━━━━━━━┩\n",
      "│ attractive                │ 0.00065 │ 0.00000 │\n",
      "│ attractive_train          │ 0.00068 │     nan │\n",
      "│ attractive_weighted       │ 0.00065 │ 0.00000 │\n",
      "│ attractive_weighted_train │ 0.00068 │     nan │\n",
      "│ repulsive                 │ 0.00144 │ 0.00002 │\n",
      "│ repulsive_train           │ 0.00140 │     nan │\n",
      "│ repulsive_weighted        │ 0.00029 │ 0.00000 │\n",
      "│ repulsive_weighted_train  │ 0.00028 │     nan │\n",
      "│ total                     │ 0.00094 │ 0.00001 │\n",
      "│ total_train               │ 0.00096 │     nan │\n",
      "└───────────────────────────┴─────────┴─────────┘\n",
      "\n"
     ]
    },
    {
     "data": {
      "application/vnd.jupyter.widget-view+json": {
       "model_id": "",
       "version_major": 2,
       "version_minor": 0
      },
      "text/plain": [
       "Validation: 0it [00:00, ?it/s]"
      ]
     },
     "metadata": {},
     "output_type": "display_data"
    },
    {
     "data": {
      "text/html": [
       "<pre style=\"white-space:pre;overflow-x:auto;line-height:normal;font-family:Menlo,'DejaVu Sans Mono',consolas,'Courier New',monospace\"></pre>\n"
      ],
      "text/plain": []
     },
     "metadata": {},
     "output_type": "display_data"
    },
    {
     "name": "stdout",
     "output_type": "stream",
     "text": [
      "\u001b[3m               Validation epoch=16               \u001b[0m\n",
      "┏━━━━━━━━━━━━━━━━━━━━━━━━━━━┳━━━━━━━━━┳━━━━━━━━━┓\n",
      "┃\u001b[1m \u001b[0m\u001b[1mMetric                   \u001b[0m\u001b[1m \u001b[0m┃\u001b[1m \u001b[0m\u001b[1m  Value\u001b[0m\u001b[1m \u001b[0m┃\u001b[1m \u001b[0m\u001b[1m  Error\u001b[0m\u001b[1m \u001b[0m┃\n",
      "┡━━━━━━━━━━━━━━━━━━━━━━━━━━━╇━━━━━━━━━╇━━━━━━━━━┩\n",
      "│ attractive                │ 0.00065 │ 0.00000 │\n",
      "│ attractive_train          │ 0.00061 │     nan │\n",
      "│ attractive_weighted       │ 0.00065 │ 0.00000 │\n",
      "│ attractive_weighted_train │ 0.00061 │     nan │\n",
      "│ repulsive                 │ 0.00155 │ 0.00002 │\n",
      "│ repulsive_train           │ 0.00132 │     nan │\n",
      "│ repulsive_weighted        │ 0.00031 │ 0.00000 │\n",
      "│ repulsive_weighted_train  │ 0.00026 │     nan │\n",
      "│ total                     │ 0.00096 │ 0.00001 │\n",
      "│ total_train               │ 0.00088 │     nan │\n",
      "└───────────────────────────┴─────────┴─────────┘\n",
      "\n"
     ]
    },
    {
     "data": {
      "application/vnd.jupyter.widget-view+json": {
       "model_id": "",
       "version_major": 2,
       "version_minor": 0
      },
      "text/plain": [
       "Validation: 0it [00:00, ?it/s]"
      ]
     },
     "metadata": {},
     "output_type": "display_data"
    },
    {
     "data": {
      "text/html": [
       "<pre style=\"white-space:pre;overflow-x:auto;line-height:normal;font-family:Menlo,'DejaVu Sans Mono',consolas,'Courier New',monospace\"></pre>\n"
      ],
      "text/plain": []
     },
     "metadata": {},
     "output_type": "display_data"
    },
    {
     "name": "stdout",
     "output_type": "stream",
     "text": [
      "\u001b[3m               Validation epoch=17               \u001b[0m\n",
      "┏━━━━━━━━━━━━━━━━━━━━━━━━━━━┳━━━━━━━━━┳━━━━━━━━━┓\n",
      "┃\u001b[1m \u001b[0m\u001b[1mMetric                   \u001b[0m\u001b[1m \u001b[0m┃\u001b[1m \u001b[0m\u001b[1m  Value\u001b[0m\u001b[1m \u001b[0m┃\u001b[1m \u001b[0m\u001b[1m  Error\u001b[0m\u001b[1m \u001b[0m┃\n",
      "┡━━━━━━━━━━━━━━━━━━━━━━━━━━━╇━━━━━━━━━╇━━━━━━━━━┩\n",
      "│ attractive                │ 0.00066 │ 0.00000 │\n",
      "│ attractive_train          │ 0.00060 │     nan │\n",
      "│ attractive_weighted       │ 0.00066 │ 0.00000 │\n",
      "│ attractive_weighted_train │ 0.00060 │     nan │\n",
      "│ repulsive                 │ 0.00135 │ 0.00002 │\n",
      "│ repulsive_train           │ 0.00121 │     nan │\n",
      "│ repulsive_weighted        │ 0.00027 │ 0.00000 │\n",
      "│ repulsive_weighted_train  │ 0.00024 │     nan │\n",
      "│ total                     │ 0.00093 │ 0.00001 │\n",
      "│ total_train               │ 0.00084 │     nan │\n",
      "└───────────────────────────┴─────────┴─────────┘\n",
      "\n"
     ]
    },
    {
     "data": {
      "application/vnd.jupyter.widget-view+json": {
       "model_id": "",
       "version_major": 2,
       "version_minor": 0
      },
      "text/plain": [
       "Validation: 0it [00:00, ?it/s]"
      ]
     },
     "metadata": {},
     "output_type": "display_data"
    },
    {
     "data": {
      "text/html": [
       "<pre style=\"white-space:pre;overflow-x:auto;line-height:normal;font-family:Menlo,'DejaVu Sans Mono',consolas,'Courier New',monospace\"></pre>\n"
      ],
      "text/plain": []
     },
     "metadata": {},
     "output_type": "display_data"
    },
    {
     "name": "stdout",
     "output_type": "stream",
     "text": [
      "\u001b[3m               Validation epoch=18               \u001b[0m\n",
      "┏━━━━━━━━━━━━━━━━━━━━━━━━━━━┳━━━━━━━━━┳━━━━━━━━━┓\n",
      "┃\u001b[1m \u001b[0m\u001b[1mMetric                   \u001b[0m\u001b[1m \u001b[0m┃\u001b[1m \u001b[0m\u001b[1m  Value\u001b[0m\u001b[1m \u001b[0m┃\u001b[1m \u001b[0m\u001b[1m  Error\u001b[0m\u001b[1m \u001b[0m┃\n",
      "┡━━━━━━━━━━━━━━━━━━━━━━━━━━━╇━━━━━━━━━╇━━━━━━━━━┩\n",
      "│ attractive                │ 0.00060 │ 0.00000 │\n",
      "│ attractive_train          │ 0.00065 │     nan │\n",
      "│ attractive_weighted       │ 0.00060 │ 0.00000 │\n",
      "│ attractive_weighted_train │ 0.00065 │     nan │\n",
      "│ repulsive                 │ 0.00130 │ 0.00002 │\n",
      "│ repulsive_train           │ 0.00133 │     nan │\n",
      "│ repulsive_weighted        │ 0.00026 │ 0.00000 │\n",
      "│ repulsive_weighted_train  │ 0.00027 │     nan │\n",
      "│ total                     │ 0.00086 │ 0.00001 │\n",
      "│ total_train               │ 0.00092 │     nan │\n",
      "└───────────────────────────┴─────────┴─────────┘\n",
      "\n"
     ]
    },
    {
     "data": {
      "application/vnd.jupyter.widget-view+json": {
       "model_id": "",
       "version_major": 2,
       "version_minor": 0
      },
      "text/plain": [
       "Validation: 0it [00:00, ?it/s]"
      ]
     },
     "metadata": {},
     "output_type": "display_data"
    },
    {
     "data": {
      "text/html": [
       "<pre style=\"white-space:pre;overflow-x:auto;line-height:normal;font-family:Menlo,'DejaVu Sans Mono',consolas,'Courier New',monospace\"></pre>\n"
      ],
      "text/plain": []
     },
     "metadata": {},
     "output_type": "display_data"
    },
    {
     "name": "stdout",
     "output_type": "stream",
     "text": [
      "\u001b[3m               Validation epoch=19               \u001b[0m\n",
      "┏━━━━━━━━━━━━━━━━━━━━━━━━━━━┳━━━━━━━━━┳━━━━━━━━━┓\n",
      "┃\u001b[1m \u001b[0m\u001b[1mMetric                   \u001b[0m\u001b[1m \u001b[0m┃\u001b[1m \u001b[0m\u001b[1m  Value\u001b[0m\u001b[1m \u001b[0m┃\u001b[1m \u001b[0m\u001b[1m  Error\u001b[0m\u001b[1m \u001b[0m┃\n",
      "┡━━━━━━━━━━━━━━━━━━━━━━━━━━━╇━━━━━━━━━╇━━━━━━━━━┩\n",
      "│ attractive                │ 0.00064 │ 0.00000 │\n",
      "│ attractive_train          │ 0.00058 │     nan │\n",
      "│ attractive_weighted       │ 0.00064 │ 0.00000 │\n",
      "│ attractive_weighted_train │ 0.00058 │     nan │\n",
      "│ repulsive                 │ 0.00133 │ 0.00002 │\n",
      "│ repulsive_train           │ 0.00129 │     nan │\n",
      "│ repulsive_weighted        │ 0.00027 │ 0.00000 │\n",
      "│ repulsive_weighted_train  │ 0.00026 │     nan │\n",
      "│ total                     │ 0.00091 │ 0.00001 │\n",
      "│ total_train               │ 0.00084 │     nan │\n",
      "└───────────────────────────┴─────────┴─────────┘\n",
      "\n"
     ]
    },
    {
     "data": {
      "application/vnd.jupyter.widget-view+json": {
       "model_id": "",
       "version_major": 2,
       "version_minor": 0
      },
      "text/plain": [
       "Validation: 0it [00:00, ?it/s]"
      ]
     },
     "metadata": {},
     "output_type": "display_data"
    },
    {
     "data": {
      "text/html": [
       "<pre style=\"white-space:pre;overflow-x:auto;line-height:normal;font-family:Menlo,'DejaVu Sans Mono',consolas,'Courier New',monospace\"></pre>\n"
      ],
      "text/plain": []
     },
     "metadata": {},
     "output_type": "display_data"
    },
    {
     "name": "stderr",
     "output_type": "stream",
     "text": [
      "`Trainer.fit` stopped: `max_epochs=20` reached.\n",
      "GPU available: True (cuda), used: True\n",
      "TPU available: False, using: 0 TPU cores\n",
      "IPU available: False, using: 0 IPUs\n",
      "HPU available: False, using: 0 HPUs\n",
      "You are using a CUDA device ('NVIDIA A100-SXM4-80GB') that has Tensor Cores. To properly utilize them, you should set `torch.set_float32_matmul_precision('medium' | 'high')` which will trade-off precision for performance. For more details, read https://pytorch.org/docs/stable/generated/torch.set_float32_matmul_precision.html#torch.set_float32_matmul_precision\n",
      "\u001b[32m[03:38:16] INFO: DataLoader will load 810 graphs (out of 900 available).\u001b[0m\n",
      "\u001b[36m[03:38:16] DEBUG: First graph is /scratch/gpfs/IOJALVO/gnn-tracking/object_condensation/point_clouds_v5/part1_pt1/part_1_0/data21025_s0.pt, last graph is /scratch/gpfs/IOJALVO/gnn-tracking/object_condensation/point_clouds_v5/part1_pt1/part_1_8/data21999_s0.pt\u001b[0m\n",
      "\u001b[32m[03:38:16] INFO: DataLoader will load 90 graphs (out of 900 available).\u001b[0m\n",
      "\u001b[36m[03:38:16] DEBUG: First graph is /scratch/gpfs/IOJALVO/gnn-tracking/object_condensation/point_clouds_v5/part1_pt1/part_1_9/data21009_s0.pt, last graph is /scratch/gpfs/IOJALVO/gnn-tracking/object_condensation/point_clouds_v5/part1_pt1/part_1_9/data21986_s0.pt\u001b[0m\n",
      "/scratch/gpfs/dc3896/micromamba/envs/gnn/lib/python3.10/site-packages/pytorch_lightning/callbacks/model_checkpoint.py:615: UserWarning: Checkpoint directory /home/dc3896/notebooks/lightning_logs/version_49016548/checkpoints exists and is not empty.\n",
      "  rank_zero_warn(f\"Checkpoint directory {dirpath} exists and is not empty.\")\n",
      "LOCAL_RANK: 0 - CUDA_VISIBLE_DEVICES: [0]\n",
      "\n",
      "  | Name     | Type                                | Params\n",
      "-----------------------------------------------------------------\n",
      "0 | model    | GraphConstructionFCNN               | 17.9 K\n",
      "1 | loss_fct | GraphConstructionHingeEmbeddingLoss | 0     \n",
      "-----------------------------------------------------------------\n",
      "17.9 K    Trainable params\n",
      "0         Non-trainable params\n",
      "17.9 K    Total params\n",
      "0.072     Total estimated model params size (MB)\n",
      "SLURM auto-requeueing enabled. Setting signal handlers.\n"
     ]
    },
    {
     "name": "stdout",
     "output_type": "stream",
     "text": [
      "\u001b[3m               Validation epoch=20               \u001b[0m\n",
      "┏━━━━━━━━━━━━━━━━━━━━━━━━━━━┳━━━━━━━━━┳━━━━━━━━━┓\n",
      "┃\u001b[1m \u001b[0m\u001b[1mMetric                   \u001b[0m\u001b[1m \u001b[0m┃\u001b[1m \u001b[0m\u001b[1m  Value\u001b[0m\u001b[1m \u001b[0m┃\u001b[1m \u001b[0m\u001b[1m  Error\u001b[0m\u001b[1m \u001b[0m┃\n",
      "┡━━━━━━━━━━━━━━━━━━━━━━━━━━━╇━━━━━━━━━╇━━━━━━━━━┩\n",
      "│ attractive                │ 0.00058 │ 0.00000 │\n",
      "│ attractive_train          │ 0.00057 │     nan │\n",
      "│ attractive_weighted       │ 0.00058 │ 0.00000 │\n",
      "│ attractive_weighted_train │ 0.00057 │     nan │\n",
      "│ repulsive                 │ 0.00124 │ 0.00002 │\n",
      "│ repulsive_train           │ 0.00111 │     nan │\n",
      "│ repulsive_weighted        │ 0.00025 │ 0.00000 │\n",
      "│ repulsive_weighted_train  │ 0.00022 │     nan │\n",
      "│ total                     │ 0.00083 │ 0.00001 │\n",
      "│ total_train               │ 0.00080 │     nan │\n",
      "└───────────────────────────┴─────────┴─────────┘\n",
      "\n",
      "\n",
      "\n",
      "Training for scaling coefficients = 0.5\n"
     ]
    },
    {
     "data": {
      "application/vnd.jupyter.widget-view+json": {
       "model_id": "",
       "version_major": 2,
       "version_minor": 0
      },
      "text/plain": [
       "Sanity Checking: 0it [00:00, ?it/s]"
      ]
     },
     "metadata": {},
     "output_type": "display_data"
    },
    {
     "name": "stderr",
     "output_type": "stream",
     "text": [
      "/scratch/gpfs/dc3896/micromamba/envs/gnn/lib/python3.10/site-packages/pytorch_lightning/trainer/connectors/data_connector.py:432: PossibleUserWarning: The dataloader, val_dataloader, does not have many workers which may be a bottleneck. Consider increasing the value of the `num_workers` argument` (try 48 which is the number of cpus on this machine) in the `DataLoader` init to improve performance.\n",
      "  rank_zero_warn(\n"
     ]
    },
    {
     "data": {
      "text/html": [
       "<pre style=\"white-space:pre;overflow-x:auto;line-height:normal;font-family:Menlo,'DejaVu Sans Mono',consolas,'Courier New',monospace\"></pre>\n"
      ],
      "text/plain": []
     },
     "metadata": {},
     "output_type": "display_data"
    },
    {
     "name": "stderr",
     "output_type": "stream",
     "text": [
      "/scratch/gpfs/dc3896/micromamba/envs/gnn/lib/python3.10/site-packages/pytorch_lightning/trainer/connectors/data_connector.py:432: PossibleUserWarning: The dataloader, train_dataloader, does not have many workers which may be a bottleneck. Consider increasing the value of the `num_workers` argument` (try 48 which is the number of cpus on this machine) in the `DataLoader` init to improve performance.\n",
      "  rank_zero_warn(\n"
     ]
    },
    {
     "data": {
      "application/vnd.jupyter.widget-view+json": {
       "model_id": "2f5d74c2ec9f4603a3c8831a9251a769",
       "version_major": 2,
       "version_minor": 0
      },
      "text/plain": [
       "Training: 0it [00:00, ?it/s]"
      ]
     },
     "metadata": {},
     "output_type": "display_data"
    },
    {
     "data": {
      "application/vnd.jupyter.widget-view+json": {
       "model_id": "",
       "version_major": 2,
       "version_minor": 0
      },
      "text/plain": [
       "Validation: 0it [00:00, ?it/s]"
      ]
     },
     "metadata": {},
     "output_type": "display_data"
    },
    {
     "data": {
      "text/html": [
       "<pre style=\"white-space:pre;overflow-x:auto;line-height:normal;font-family:Menlo,'DejaVu Sans Mono',consolas,'Courier New',monospace\"></pre>\n"
      ],
      "text/plain": []
     },
     "metadata": {},
     "output_type": "display_data"
    },
    {
     "name": "stdout",
     "output_type": "stream",
     "text": [
      "\u001b[3m               Validation epoch=1                \u001b[0m\n",
      "┏━━━━━━━━━━━━━━━━━━━━━━━━━━━┳━━━━━━━━━┳━━━━━━━━━┓\n",
      "┃\u001b[1m \u001b[0m\u001b[1mMetric                   \u001b[0m\u001b[1m \u001b[0m┃\u001b[1m \u001b[0m\u001b[1m  Value\u001b[0m\u001b[1m \u001b[0m┃\u001b[1m \u001b[0m\u001b[1m  Error\u001b[0m\u001b[1m \u001b[0m┃\n",
      "┡━━━━━━━━━━━━━━━━━━━━━━━━━━━╇━━━━━━━━━╇━━━━━━━━━┩\n",
      "│ attractive                │ 0.00188 │ 0.00001 │\n",
      "│ attractive_train          │ 0.00182 │     nan │\n",
      "│ attractive_weighted       │ 0.00188 │ 0.00001 │\n",
      "│ attractive_weighted_train │ 0.00182 │     nan │\n",
      "│ repulsive                 │ 0.00127 │ 0.00002 │\n",
      "│ repulsive_train           │ 0.00117 │     nan │\n",
      "│ repulsive_weighted        │ 0.00064 │ 0.00001 │\n",
      "│ repulsive_weighted_train  │ 0.00058 │     nan │\n",
      "│ total                     │ 0.00252 │ 0.00001 │\n",
      "│ total_train               │ 0.00241 │     nan │\n",
      "└───────────────────────────┴─────────┴─────────┘\n",
      "\n"
     ]
    },
    {
     "data": {
      "application/vnd.jupyter.widget-view+json": {
       "model_id": "",
       "version_major": 2,
       "version_minor": 0
      },
      "text/plain": [
       "Validation: 0it [00:00, ?it/s]"
      ]
     },
     "metadata": {},
     "output_type": "display_data"
    },
    {
     "data": {
      "text/html": [
       "<pre style=\"white-space:pre;overflow-x:auto;line-height:normal;font-family:Menlo,'DejaVu Sans Mono',consolas,'Courier New',monospace\"></pre>\n"
      ],
      "text/plain": []
     },
     "metadata": {},
     "output_type": "display_data"
    },
    {
     "name": "stdout",
     "output_type": "stream",
     "text": [
      "\u001b[3m               Validation epoch=2                \u001b[0m\n",
      "┏━━━━━━━━━━━━━━━━━━━━━━━━━━━┳━━━━━━━━━┳━━━━━━━━━┓\n",
      "┃\u001b[1m \u001b[0m\u001b[1mMetric                   \u001b[0m\u001b[1m \u001b[0m┃\u001b[1m \u001b[0m\u001b[1m  Value\u001b[0m\u001b[1m \u001b[0m┃\u001b[1m \u001b[0m\u001b[1m  Error\u001b[0m\u001b[1m \u001b[0m┃\n",
      "┡━━━━━━━━━━━━━━━━━━━━━━━━━━━╇━━━━━━━━━╇━━━━━━━━━┩\n",
      "│ attractive                │ 0.00159 │ 0.00001 │\n",
      "│ attractive_train          │ 0.00150 │     nan │\n",
      "│ attractive_weighted       │ 0.00159 │ 0.00001 │\n",
      "│ attractive_weighted_train │ 0.00150 │     nan │\n",
      "│ repulsive                 │ 0.00121 │ 0.00002 │\n",
      "│ repulsive_train           │ 0.00130 │     nan │\n",
      "│ repulsive_weighted        │ 0.00061 │ 0.00001 │\n",
      "│ repulsive_weighted_train  │ 0.00065 │     nan │\n",
      "│ total                     │ 0.00220 │ 0.00001 │\n",
      "│ total_train               │ 0.00215 │     nan │\n",
      "└───────────────────────────┴─────────┴─────────┘\n",
      "\n"
     ]
    },
    {
     "data": {
      "application/vnd.jupyter.widget-view+json": {
       "model_id": "",
       "version_major": 2,
       "version_minor": 0
      },
      "text/plain": [
       "Validation: 0it [00:00, ?it/s]"
      ]
     },
     "metadata": {},
     "output_type": "display_data"
    },
    {
     "data": {
      "text/html": [
       "<pre style=\"white-space:pre;overflow-x:auto;line-height:normal;font-family:Menlo,'DejaVu Sans Mono',consolas,'Courier New',monospace\"></pre>\n"
      ],
      "text/plain": []
     },
     "metadata": {},
     "output_type": "display_data"
    },
    {
     "name": "stdout",
     "output_type": "stream",
     "text": [
      "\u001b[3m               Validation epoch=3                \u001b[0m\n",
      "┏━━━━━━━━━━━━━━━━━━━━━━━━━━━┳━━━━━━━━━┳━━━━━━━━━┓\n",
      "┃\u001b[1m \u001b[0m\u001b[1mMetric                   \u001b[0m\u001b[1m \u001b[0m┃\u001b[1m \u001b[0m\u001b[1m  Value\u001b[0m\u001b[1m \u001b[0m┃\u001b[1m \u001b[0m\u001b[1m  Error\u001b[0m\u001b[1m \u001b[0m┃\n",
      "┡━━━━━━━━━━━━━━━━━━━━━━━━━━━╇━━━━━━━━━╇━━━━━━━━━┩\n",
      "│ attractive                │ 0.00144 │ 0.00001 │\n",
      "│ attractive_train          │ 0.00153 │     nan │\n",
      "│ attractive_weighted       │ 0.00144 │ 0.00001 │\n",
      "│ attractive_weighted_train │ 0.00153 │     nan │\n",
      "│ repulsive                 │ 0.00110 │ 0.00002 │\n",
      "│ repulsive_train           │ 0.00099 │     nan │\n",
      "│ repulsive_weighted        │ 0.00055 │ 0.00001 │\n",
      "│ repulsive_weighted_train  │ 0.00050 │     nan │\n",
      "│ total                     │ 0.00199 │ 0.00001 │\n",
      "│ total_train               │ 0.00203 │     nan │\n",
      "└───────────────────────────┴─────────┴─────────┘\n",
      "\n"
     ]
    },
    {
     "data": {
      "application/vnd.jupyter.widget-view+json": {
       "model_id": "",
       "version_major": 2,
       "version_minor": 0
      },
      "text/plain": [
       "Validation: 0it [00:00, ?it/s]"
      ]
     },
     "metadata": {},
     "output_type": "display_data"
    },
    {
     "data": {
      "text/html": [
       "<pre style=\"white-space:pre;overflow-x:auto;line-height:normal;font-family:Menlo,'DejaVu Sans Mono',consolas,'Courier New',monospace\"></pre>\n"
      ],
      "text/plain": []
     },
     "metadata": {},
     "output_type": "display_data"
    },
    {
     "name": "stdout",
     "output_type": "stream",
     "text": [
      "\u001b[3m               Validation epoch=4                \u001b[0m\n",
      "┏━━━━━━━━━━━━━━━━━━━━━━━━━━━┳━━━━━━━━━┳━━━━━━━━━┓\n",
      "┃\u001b[1m \u001b[0m\u001b[1mMetric                   \u001b[0m\u001b[1m \u001b[0m┃\u001b[1m \u001b[0m\u001b[1m  Value\u001b[0m\u001b[1m \u001b[0m┃\u001b[1m \u001b[0m\u001b[1m  Error\u001b[0m\u001b[1m \u001b[0m┃\n",
      "┡━━━━━━━━━━━━━━━━━━━━━━━━━━━╇━━━━━━━━━╇━━━━━━━━━┩\n",
      "│ attractive                │ 0.00132 │ 0.00001 │\n",
      "│ attractive_train          │ 0.00132 │     nan │\n",
      "│ attractive_weighted       │ 0.00132 │ 0.00001 │\n",
      "│ attractive_weighted_train │ 0.00132 │     nan │\n",
      "│ repulsive                 │ 0.00097 │ 0.00002 │\n",
      "│ repulsive_train           │ 0.00103 │     nan │\n",
      "│ repulsive_weighted        │ 0.00049 │ 0.00001 │\n",
      "│ repulsive_weighted_train  │ 0.00052 │     nan │\n",
      "│ total                     │ 0.00181 │ 0.00001 │\n",
      "│ total_train               │ 0.00184 │     nan │\n",
      "└───────────────────────────┴─────────┴─────────┘\n",
      "\n"
     ]
    },
    {
     "data": {
      "application/vnd.jupyter.widget-view+json": {
       "model_id": "",
       "version_major": 2,
       "version_minor": 0
      },
      "text/plain": [
       "Validation: 0it [00:00, ?it/s]"
      ]
     },
     "metadata": {},
     "output_type": "display_data"
    },
    {
     "data": {
      "text/html": [
       "<pre style=\"white-space:pre;overflow-x:auto;line-height:normal;font-family:Menlo,'DejaVu Sans Mono',consolas,'Courier New',monospace\"></pre>\n"
      ],
      "text/plain": []
     },
     "metadata": {},
     "output_type": "display_data"
    },
    {
     "name": "stdout",
     "output_type": "stream",
     "text": [
      "\u001b[3m               Validation epoch=5                \u001b[0m\n",
      "┏━━━━━━━━━━━━━━━━━━━━━━━━━━━┳━━━━━━━━━┳━━━━━━━━━┓\n",
      "┃\u001b[1m \u001b[0m\u001b[1mMetric                   \u001b[0m\u001b[1m \u001b[0m┃\u001b[1m \u001b[0m\u001b[1m  Value\u001b[0m\u001b[1m \u001b[0m┃\u001b[1m \u001b[0m\u001b[1m  Error\u001b[0m\u001b[1m \u001b[0m┃\n",
      "┡━━━━━━━━━━━━━━━━━━━━━━━━━━━╇━━━━━━━━━╇━━━━━━━━━┩\n",
      "│ attractive                │ 0.00113 │ 0.00001 │\n",
      "│ attractive_train          │ 0.00114 │     nan │\n",
      "│ attractive_weighted       │ 0.00113 │ 0.00001 │\n",
      "│ attractive_weighted_train │ 0.00114 │     nan │\n",
      "│ repulsive                 │ 0.00096 │ 0.00002 │\n",
      "│ repulsive_train           │ 0.00113 │     nan │\n",
      "│ repulsive_weighted        │ 0.00048 │ 0.00001 │\n",
      "│ repulsive_weighted_train  │ 0.00057 │     nan │\n",
      "│ total                     │ 0.00161 │ 0.00001 │\n",
      "│ total_train               │ 0.00171 │     nan │\n",
      "└───────────────────────────┴─────────┴─────────┘\n",
      "\n"
     ]
    },
    {
     "data": {
      "application/vnd.jupyter.widget-view+json": {
       "model_id": "",
       "version_major": 2,
       "version_minor": 0
      },
      "text/plain": [
       "Validation: 0it [00:00, ?it/s]"
      ]
     },
     "metadata": {},
     "output_type": "display_data"
    },
    {
     "data": {
      "text/html": [
       "<pre style=\"white-space:pre;overflow-x:auto;line-height:normal;font-family:Menlo,'DejaVu Sans Mono',consolas,'Courier New',monospace\"></pre>\n"
      ],
      "text/plain": []
     },
     "metadata": {},
     "output_type": "display_data"
    },
    {
     "name": "stdout",
     "output_type": "stream",
     "text": [
      "\u001b[3m               Validation epoch=6                \u001b[0m\n",
      "┏━━━━━━━━━━━━━━━━━━━━━━━━━━━┳━━━━━━━━━┳━━━━━━━━━┓\n",
      "┃\u001b[1m \u001b[0m\u001b[1mMetric                   \u001b[0m\u001b[1m \u001b[0m┃\u001b[1m \u001b[0m\u001b[1m  Value\u001b[0m\u001b[1m \u001b[0m┃\u001b[1m \u001b[0m\u001b[1m  Error\u001b[0m\u001b[1m \u001b[0m┃\n",
      "┡━━━━━━━━━━━━━━━━━━━━━━━━━━━╇━━━━━━━━━╇━━━━━━━━━┩\n",
      "│ attractive                │ 0.00116 │ 0.00001 │\n",
      "│ attractive_train          │ 0.00115 │     nan │\n",
      "│ attractive_weighted       │ 0.00116 │ 0.00001 │\n",
      "│ attractive_weighted_train │ 0.00115 │     nan │\n",
      "│ repulsive                 │ 0.00091 │ 0.00002 │\n",
      "│ repulsive_train           │ 0.00101 │     nan │\n",
      "│ repulsive_weighted        │ 0.00045 │ 0.00001 │\n",
      "│ repulsive_weighted_train  │ 0.00050 │     nan │\n",
      "│ total                     │ 0.00161 │ 0.00001 │\n",
      "│ total_train               │ 0.00165 │     nan │\n",
      "└───────────────────────────┴─────────┴─────────┘\n",
      "\n"
     ]
    },
    {
     "data": {
      "application/vnd.jupyter.widget-view+json": {
       "model_id": "",
       "version_major": 2,
       "version_minor": 0
      },
      "text/plain": [
       "Validation: 0it [00:00, ?it/s]"
      ]
     },
     "metadata": {},
     "output_type": "display_data"
    },
    {
     "data": {
      "text/html": [
       "<pre style=\"white-space:pre;overflow-x:auto;line-height:normal;font-family:Menlo,'DejaVu Sans Mono',consolas,'Courier New',monospace\"></pre>\n"
      ],
      "text/plain": []
     },
     "metadata": {},
     "output_type": "display_data"
    },
    {
     "name": "stdout",
     "output_type": "stream",
     "text": [
      "\u001b[3m               Validation epoch=7                \u001b[0m\n",
      "┏━━━━━━━━━━━━━━━━━━━━━━━━━━━┳━━━━━━━━━┳━━━━━━━━━┓\n",
      "┃\u001b[1m \u001b[0m\u001b[1mMetric                   \u001b[0m\u001b[1m \u001b[0m┃\u001b[1m \u001b[0m\u001b[1m  Value\u001b[0m\u001b[1m \u001b[0m┃\u001b[1m \u001b[0m\u001b[1m  Error\u001b[0m\u001b[1m \u001b[0m┃\n",
      "┡━━━━━━━━━━━━━━━━━━━━━━━━━━━╇━━━━━━━━━╇━━━━━━━━━┩\n",
      "│ attractive                │ 0.00113 │ 0.00001 │\n",
      "│ attractive_train          │ 0.00100 │     nan │\n",
      "│ attractive_weighted       │ 0.00113 │ 0.00001 │\n",
      "│ attractive_weighted_train │ 0.00100 │     nan │\n",
      "│ repulsive                 │ 0.00086 │ 0.00001 │\n",
      "│ repulsive_train           │ 0.00089 │     nan │\n",
      "│ repulsive_weighted        │ 0.00043 │ 0.00001 │\n",
      "│ repulsive_weighted_train  │ 0.00044 │     nan │\n",
      "│ total                     │ 0.00156 │ 0.00001 │\n",
      "│ total_train               │ 0.00144 │     nan │\n",
      "└───────────────────────────┴─────────┴─────────┘\n",
      "\n"
     ]
    },
    {
     "data": {
      "application/vnd.jupyter.widget-view+json": {
       "model_id": "",
       "version_major": 2,
       "version_minor": 0
      },
      "text/plain": [
       "Validation: 0it [00:00, ?it/s]"
      ]
     },
     "metadata": {},
     "output_type": "display_data"
    },
    {
     "data": {
      "text/html": [
       "<pre style=\"white-space:pre;overflow-x:auto;line-height:normal;font-family:Menlo,'DejaVu Sans Mono',consolas,'Courier New',monospace\"></pre>\n"
      ],
      "text/plain": []
     },
     "metadata": {},
     "output_type": "display_data"
    },
    {
     "name": "stdout",
     "output_type": "stream",
     "text": [
      "\u001b[3m               Validation epoch=8                \u001b[0m\n",
      "┏━━━━━━━━━━━━━━━━━━━━━━━━━━━┳━━━━━━━━━┳━━━━━━━━━┓\n",
      "┃\u001b[1m \u001b[0m\u001b[1mMetric                   \u001b[0m\u001b[1m \u001b[0m┃\u001b[1m \u001b[0m\u001b[1m  Value\u001b[0m\u001b[1m \u001b[0m┃\u001b[1m \u001b[0m\u001b[1m  Error\u001b[0m\u001b[1m \u001b[0m┃\n",
      "┡━━━━━━━━━━━━━━━━━━━━━━━━━━━╇━━━━━━━━━╇━━━━━━━━━┩\n",
      "│ attractive                │ 0.00107 │ 0.00001 │\n",
      "│ attractive_train          │ 0.00101 │     nan │\n",
      "│ attractive_weighted       │ 0.00107 │ 0.00001 │\n",
      "│ attractive_weighted_train │ 0.00101 │     nan │\n",
      "│ repulsive                 │ 0.00081 │ 0.00001 │\n",
      "│ repulsive_train           │ 0.00093 │     nan │\n",
      "│ repulsive_weighted        │ 0.00041 │ 0.00001 │\n",
      "│ repulsive_weighted_train  │ 0.00046 │     nan │\n",
      "│ total                     │ 0.00147 │ 0.00001 │\n",
      "│ total_train               │ 0.00147 │     nan │\n",
      "└───────────────────────────┴─────────┴─────────┘\n",
      "\n"
     ]
    },
    {
     "data": {
      "application/vnd.jupyter.widget-view+json": {
       "model_id": "",
       "version_major": 2,
       "version_minor": 0
      },
      "text/plain": [
       "Validation: 0it [00:00, ?it/s]"
      ]
     },
     "metadata": {},
     "output_type": "display_data"
    },
    {
     "data": {
      "text/html": [
       "<pre style=\"white-space:pre;overflow-x:auto;line-height:normal;font-family:Menlo,'DejaVu Sans Mono',consolas,'Courier New',monospace\"></pre>\n"
      ],
      "text/plain": []
     },
     "metadata": {},
     "output_type": "display_data"
    },
    {
     "name": "stdout",
     "output_type": "stream",
     "text": [
      "\u001b[3m               Validation epoch=9                \u001b[0m\n",
      "┏━━━━━━━━━━━━━━━━━━━━━━━━━━━┳━━━━━━━━━┳━━━━━━━━━┓\n",
      "┃\u001b[1m \u001b[0m\u001b[1mMetric                   \u001b[0m\u001b[1m \u001b[0m┃\u001b[1m \u001b[0m\u001b[1m  Value\u001b[0m\u001b[1m \u001b[0m┃\u001b[1m \u001b[0m\u001b[1m  Error\u001b[0m\u001b[1m \u001b[0m┃\n",
      "┡━━━━━━━━━━━━━━━━━━━━━━━━━━━╇━━━━━━━━━╇━━━━━━━━━┩\n",
      "│ attractive                │ 0.00097 │ 0.00001 │\n",
      "│ attractive_train          │ 0.00097 │     nan │\n",
      "│ attractive_weighted       │ 0.00097 │ 0.00001 │\n",
      "│ attractive_weighted_train │ 0.00097 │     nan │\n",
      "│ repulsive                 │ 0.00084 │ 0.00001 │\n",
      "│ repulsive_train           │ 0.00072 │     nan │\n",
      "│ repulsive_weighted        │ 0.00042 │ 0.00001 │\n",
      "│ repulsive_weighted_train  │ 0.00036 │     nan │\n",
      "│ total                     │ 0.00139 │ 0.00001 │\n",
      "│ total_train               │ 0.00134 │     nan │\n",
      "└───────────────────────────┴─────────┴─────────┘\n",
      "\n"
     ]
    },
    {
     "data": {
      "application/vnd.jupyter.widget-view+json": {
       "model_id": "",
       "version_major": 2,
       "version_minor": 0
      },
      "text/plain": [
       "Validation: 0it [00:00, ?it/s]"
      ]
     },
     "metadata": {},
     "output_type": "display_data"
    },
    {
     "data": {
      "text/html": [
       "<pre style=\"white-space:pre;overflow-x:auto;line-height:normal;font-family:Menlo,'DejaVu Sans Mono',consolas,'Courier New',monospace\"></pre>\n"
      ],
      "text/plain": []
     },
     "metadata": {},
     "output_type": "display_data"
    },
    {
     "name": "stdout",
     "output_type": "stream",
     "text": [
      "\u001b[3m               Validation epoch=10               \u001b[0m\n",
      "┏━━━━━━━━━━━━━━━━━━━━━━━━━━━┳━━━━━━━━━┳━━━━━━━━━┓\n",
      "┃\u001b[1m \u001b[0m\u001b[1mMetric                   \u001b[0m\u001b[1m \u001b[0m┃\u001b[1m \u001b[0m\u001b[1m  Value\u001b[0m\u001b[1m \u001b[0m┃\u001b[1m \u001b[0m\u001b[1m  Error\u001b[0m\u001b[1m \u001b[0m┃\n",
      "┡━━━━━━━━━━━━━━━━━━━━━━━━━━━╇━━━━━━━━━╇━━━━━━━━━┩\n",
      "│ attractive                │ 0.00107 │ 0.00001 │\n",
      "│ attractive_train          │ 0.00097 │     nan │\n",
      "│ attractive_weighted       │ 0.00107 │ 0.00001 │\n",
      "│ attractive_weighted_train │ 0.00097 │     nan │\n",
      "│ repulsive                 │ 0.00077 │ 0.00001 │\n",
      "│ repulsive_train           │ 0.00098 │     nan │\n",
      "│ repulsive_weighted        │ 0.00038 │ 0.00001 │\n",
      "│ repulsive_weighted_train  │ 0.00049 │     nan │\n",
      "│ total                     │ 0.00145 │ 0.00001 │\n",
      "│ total_train               │ 0.00145 │     nan │\n",
      "└───────────────────────────┴─────────┴─────────┘\n",
      "\n"
     ]
    },
    {
     "data": {
      "application/vnd.jupyter.widget-view+json": {
       "model_id": "",
       "version_major": 2,
       "version_minor": 0
      },
      "text/plain": [
       "Validation: 0it [00:00, ?it/s]"
      ]
     },
     "metadata": {},
     "output_type": "display_data"
    },
    {
     "data": {
      "text/html": [
       "<pre style=\"white-space:pre;overflow-x:auto;line-height:normal;font-family:Menlo,'DejaVu Sans Mono',consolas,'Courier New',monospace\"></pre>\n"
      ],
      "text/plain": []
     },
     "metadata": {},
     "output_type": "display_data"
    },
    {
     "name": "stdout",
     "output_type": "stream",
     "text": [
      "\u001b[3m               Validation epoch=11               \u001b[0m\n",
      "┏━━━━━━━━━━━━━━━━━━━━━━━━━━━┳━━━━━━━━━┳━━━━━━━━━┓\n",
      "┃\u001b[1m \u001b[0m\u001b[1mMetric                   \u001b[0m\u001b[1m \u001b[0m┃\u001b[1m \u001b[0m\u001b[1m  Value\u001b[0m\u001b[1m \u001b[0m┃\u001b[1m \u001b[0m\u001b[1m  Error\u001b[0m\u001b[1m \u001b[0m┃\n",
      "┡━━━━━━━━━━━━━━━━━━━━━━━━━━━╇━━━━━━━━━╇━━━━━━━━━┩\n",
      "│ attractive                │ 0.00091 │ 0.00001 │\n",
      "│ attractive_train          │ 0.00092 │     nan │\n",
      "│ attractive_weighted       │ 0.00091 │ 0.00001 │\n",
      "│ attractive_weighted_train │ 0.00092 │     nan │\n",
      "│ repulsive                 │ 0.00084 │ 0.00001 │\n",
      "│ repulsive_train           │ 0.00075 │     nan │\n",
      "│ repulsive_weighted        │ 0.00042 │ 0.00001 │\n",
      "│ repulsive_weighted_train  │ 0.00037 │     nan │\n",
      "│ total                     │ 0.00133 │ 0.00001 │\n",
      "│ total_train               │ 0.00129 │     nan │\n",
      "└───────────────────────────┴─────────┴─────────┘\n",
      "\n"
     ]
    },
    {
     "data": {
      "application/vnd.jupyter.widget-view+json": {
       "model_id": "",
       "version_major": 2,
       "version_minor": 0
      },
      "text/plain": [
       "Validation: 0it [00:00, ?it/s]"
      ]
     },
     "metadata": {},
     "output_type": "display_data"
    },
    {
     "data": {
      "text/html": [
       "<pre style=\"white-space:pre;overflow-x:auto;line-height:normal;font-family:Menlo,'DejaVu Sans Mono',consolas,'Courier New',monospace\"></pre>\n"
      ],
      "text/plain": []
     },
     "metadata": {},
     "output_type": "display_data"
    },
    {
     "name": "stdout",
     "output_type": "stream",
     "text": [
      "\u001b[3m               Validation epoch=12               \u001b[0m\n",
      "┏━━━━━━━━━━━━━━━━━━━━━━━━━━━┳━━━━━━━━━┳━━━━━━━━━┓\n",
      "┃\u001b[1m \u001b[0m\u001b[1mMetric                   \u001b[0m\u001b[1m \u001b[0m┃\u001b[1m \u001b[0m\u001b[1m  Value\u001b[0m\u001b[1m \u001b[0m┃\u001b[1m \u001b[0m\u001b[1m  Error\u001b[0m\u001b[1m \u001b[0m┃\n",
      "┡━━━━━━━━━━━━━━━━━━━━━━━━━━━╇━━━━━━━━━╇━━━━━━━━━┩\n",
      "│ attractive                │ 0.00091 │ 0.00001 │\n",
      "│ attractive_train          │ 0.00097 │     nan │\n",
      "│ attractive_weighted       │ 0.00091 │ 0.00001 │\n",
      "│ attractive_weighted_train │ 0.00097 │     nan │\n",
      "│ repulsive                 │ 0.00076 │ 0.00001 │\n",
      "│ repulsive_train           │ 0.00077 │     nan │\n",
      "│ repulsive_weighted        │ 0.00038 │ 0.00001 │\n",
      "│ repulsive_weighted_train  │ 0.00039 │     nan │\n",
      "│ total                     │ 0.00129 │ 0.00001 │\n",
      "│ total_train               │ 0.00136 │     nan │\n",
      "└───────────────────────────┴─────────┴─────────┘\n",
      "\n"
     ]
    },
    {
     "data": {
      "application/vnd.jupyter.widget-view+json": {
       "model_id": "",
       "version_major": 2,
       "version_minor": 0
      },
      "text/plain": [
       "Validation: 0it [00:00, ?it/s]"
      ]
     },
     "metadata": {},
     "output_type": "display_data"
    },
    {
     "data": {
      "text/html": [
       "<pre style=\"white-space:pre;overflow-x:auto;line-height:normal;font-family:Menlo,'DejaVu Sans Mono',consolas,'Courier New',monospace\"></pre>\n"
      ],
      "text/plain": []
     },
     "metadata": {},
     "output_type": "display_data"
    },
    {
     "name": "stdout",
     "output_type": "stream",
     "text": [
      "\u001b[3m               Validation epoch=13               \u001b[0m\n",
      "┏━━━━━━━━━━━━━━━━━━━━━━━━━━━┳━━━━━━━━━┳━━━━━━━━━┓\n",
      "┃\u001b[1m \u001b[0m\u001b[1mMetric                   \u001b[0m\u001b[1m \u001b[0m┃\u001b[1m \u001b[0m\u001b[1m  Value\u001b[0m\u001b[1m \u001b[0m┃\u001b[1m \u001b[0m\u001b[1m  Error\u001b[0m\u001b[1m \u001b[0m┃\n",
      "┡━━━━━━━━━━━━━━━━━━━━━━━━━━━╇━━━━━━━━━╇━━━━━━━━━┩\n",
      "│ attractive                │ 0.00083 │ 0.00001 │\n",
      "│ attractive_train          │ 0.00087 │     nan │\n",
      "│ attractive_weighted       │ 0.00083 │ 0.00001 │\n",
      "│ attractive_weighted_train │ 0.00087 │     nan │\n",
      "│ repulsive                 │ 0.00083 │ 0.00001 │\n",
      "│ repulsive_train           │ 0.00067 │     nan │\n",
      "│ repulsive_weighted        │ 0.00041 │ 0.00001 │\n",
      "│ repulsive_weighted_train  │ 0.00033 │     nan │\n",
      "│ total                     │ 0.00124 │ 0.00001 │\n",
      "│ total_train               │ 0.00120 │     nan │\n",
      "└───────────────────────────┴─────────┴─────────┘\n",
      "\n"
     ]
    },
    {
     "data": {
      "application/vnd.jupyter.widget-view+json": {
       "model_id": "",
       "version_major": 2,
       "version_minor": 0
      },
      "text/plain": [
       "Validation: 0it [00:00, ?it/s]"
      ]
     },
     "metadata": {},
     "output_type": "display_data"
    },
    {
     "data": {
      "text/html": [
       "<pre style=\"white-space:pre;overflow-x:auto;line-height:normal;font-family:Menlo,'DejaVu Sans Mono',consolas,'Courier New',monospace\"></pre>\n"
      ],
      "text/plain": []
     },
     "metadata": {},
     "output_type": "display_data"
    },
    {
     "name": "stdout",
     "output_type": "stream",
     "text": [
      "\u001b[3m               Validation epoch=14               \u001b[0m\n",
      "┏━━━━━━━━━━━━━━━━━━━━━━━━━━━┳━━━━━━━━━┳━━━━━━━━━┓\n",
      "┃\u001b[1m \u001b[0m\u001b[1mMetric                   \u001b[0m\u001b[1m \u001b[0m┃\u001b[1m \u001b[0m\u001b[1m  Value\u001b[0m\u001b[1m \u001b[0m┃\u001b[1m \u001b[0m\u001b[1m  Error\u001b[0m\u001b[1m \u001b[0m┃\n",
      "┡━━━━━━━━━━━━━━━━━━━━━━━━━━━╇━━━━━━━━━╇━━━━━━━━━┩\n",
      "│ attractive                │ 0.00088 │ 0.00001 │\n",
      "│ attractive_train          │ 0.00081 │     nan │\n",
      "│ attractive_weighted       │ 0.00088 │ 0.00001 │\n",
      "│ attractive_weighted_train │ 0.00081 │     nan │\n",
      "│ repulsive                 │ 0.00073 │ 0.00001 │\n",
      "│ repulsive_train           │ 0.00078 │     nan │\n",
      "│ repulsive_weighted        │ 0.00037 │ 0.00001 │\n",
      "│ repulsive_weighted_train  │ 0.00039 │     nan │\n",
      "│ total                     │ 0.00124 │ 0.00001 │\n",
      "│ total_train               │ 0.00120 │     nan │\n",
      "└───────────────────────────┴─────────┴─────────┘\n",
      "\n"
     ]
    },
    {
     "data": {
      "application/vnd.jupyter.widget-view+json": {
       "model_id": "",
       "version_major": 2,
       "version_minor": 0
      },
      "text/plain": [
       "Validation: 0it [00:00, ?it/s]"
      ]
     },
     "metadata": {},
     "output_type": "display_data"
    },
    {
     "data": {
      "text/html": [
       "<pre style=\"white-space:pre;overflow-x:auto;line-height:normal;font-family:Menlo,'DejaVu Sans Mono',consolas,'Courier New',monospace\"></pre>\n"
      ],
      "text/plain": []
     },
     "metadata": {},
     "output_type": "display_data"
    },
    {
     "name": "stdout",
     "output_type": "stream",
     "text": [
      "\u001b[3m               Validation epoch=15               \u001b[0m\n",
      "┏━━━━━━━━━━━━━━━━━━━━━━━━━━━┳━━━━━━━━━┳━━━━━━━━━┓\n",
      "┃\u001b[1m \u001b[0m\u001b[1mMetric                   \u001b[0m\u001b[1m \u001b[0m┃\u001b[1m \u001b[0m\u001b[1m  Value\u001b[0m\u001b[1m \u001b[0m┃\u001b[1m \u001b[0m\u001b[1m  Error\u001b[0m\u001b[1m \u001b[0m┃\n",
      "┡━━━━━━━━━━━━━━━━━━━━━━━━━━━╇━━━━━━━━━╇━━━━━━━━━┩\n",
      "│ attractive                │ 0.00082 │ 0.00001 │\n",
      "│ attractive_train          │ 0.00080 │     nan │\n",
      "│ attractive_weighted       │ 0.00082 │ 0.00001 │\n",
      "│ attractive_weighted_train │ 0.00080 │     nan │\n",
      "│ repulsive                 │ 0.00072 │ 0.00001 │\n",
      "│ repulsive_train           │ 0.00092 │     nan │\n",
      "│ repulsive_weighted        │ 0.00036 │ 0.00001 │\n",
      "│ repulsive_weighted_train  │ 0.00046 │     nan │\n",
      "│ total                     │ 0.00118 │ 0.00001 │\n",
      "│ total_train               │ 0.00126 │     nan │\n",
      "└───────────────────────────┴─────────┴─────────┘\n",
      "\n"
     ]
    },
    {
     "data": {
      "application/vnd.jupyter.widget-view+json": {
       "model_id": "",
       "version_major": 2,
       "version_minor": 0
      },
      "text/plain": [
       "Validation: 0it [00:00, ?it/s]"
      ]
     },
     "metadata": {},
     "output_type": "display_data"
    },
    {
     "data": {
      "text/html": [
       "<pre style=\"white-space:pre;overflow-x:auto;line-height:normal;font-family:Menlo,'DejaVu Sans Mono',consolas,'Courier New',monospace\"></pre>\n"
      ],
      "text/plain": []
     },
     "metadata": {},
     "output_type": "display_data"
    },
    {
     "name": "stdout",
     "output_type": "stream",
     "text": [
      "\u001b[3m               Validation epoch=16               \u001b[0m\n",
      "┏━━━━━━━━━━━━━━━━━━━━━━━━━━━┳━━━━━━━━━┳━━━━━━━━━┓\n",
      "┃\u001b[1m \u001b[0m\u001b[1mMetric                   \u001b[0m\u001b[1m \u001b[0m┃\u001b[1m \u001b[0m\u001b[1m  Value\u001b[0m\u001b[1m \u001b[0m┃\u001b[1m \u001b[0m\u001b[1m  Error\u001b[0m\u001b[1m \u001b[0m┃\n",
      "┡━━━━━━━━━━━━━━━━━━━━━━━━━━━╇━━━━━━━━━╇━━━━━━━━━┩\n",
      "│ attractive                │ 0.00086 │ 0.00001 │\n",
      "│ attractive_train          │ 0.00087 │     nan │\n",
      "│ attractive_weighted       │ 0.00086 │ 0.00001 │\n",
      "│ attractive_weighted_train │ 0.00087 │     nan │\n",
      "│ repulsive                 │ 0.00069 │ 0.00001 │\n",
      "│ repulsive_train           │ 0.00069 │     nan │\n",
      "│ repulsive_weighted        │ 0.00034 │ 0.00001 │\n",
      "│ repulsive_weighted_train  │ 0.00034 │     nan │\n",
      "│ total                     │ 0.00120 │ 0.00001 │\n",
      "│ total_train               │ 0.00121 │     nan │\n",
      "└───────────────────────────┴─────────┴─────────┘\n",
      "\n"
     ]
    },
    {
     "data": {
      "application/vnd.jupyter.widget-view+json": {
       "model_id": "",
       "version_major": 2,
       "version_minor": 0
      },
      "text/plain": [
       "Validation: 0it [00:00, ?it/s]"
      ]
     },
     "metadata": {},
     "output_type": "display_data"
    },
    {
     "data": {
      "text/html": [
       "<pre style=\"white-space:pre;overflow-x:auto;line-height:normal;font-family:Menlo,'DejaVu Sans Mono',consolas,'Courier New',monospace\"></pre>\n"
      ],
      "text/plain": []
     },
     "metadata": {},
     "output_type": "display_data"
    },
    {
     "name": "stdout",
     "output_type": "stream",
     "text": [
      "\u001b[3m               Validation epoch=17               \u001b[0m\n",
      "┏━━━━━━━━━━━━━━━━━━━━━━━━━━━┳━━━━━━━━━┳━━━━━━━━━┓\n",
      "┃\u001b[1m \u001b[0m\u001b[1mMetric                   \u001b[0m\u001b[1m \u001b[0m┃\u001b[1m \u001b[0m\u001b[1m  Value\u001b[0m\u001b[1m \u001b[0m┃\u001b[1m \u001b[0m\u001b[1m  Error\u001b[0m\u001b[1m \u001b[0m┃\n",
      "┡━━━━━━━━━━━━━━━━━━━━━━━━━━━╇━━━━━━━━━╇━━━━━━━━━┩\n",
      "│ attractive                │ 0.00079 │ 0.00001 │\n",
      "│ attractive_train          │ 0.00088 │     nan │\n",
      "│ attractive_weighted       │ 0.00079 │ 0.00001 │\n",
      "│ attractive_weighted_train │ 0.00088 │     nan │\n",
      "│ repulsive                 │ 0.00073 │ 0.00001 │\n",
      "│ repulsive_train           │ 0.00078 │     nan │\n",
      "│ repulsive_weighted        │ 0.00036 │ 0.00001 │\n",
      "│ repulsive_weighted_train  │ 0.00039 │     nan │\n",
      "│ total                     │ 0.00116 │ 0.00001 │\n",
      "│ total_train               │ 0.00127 │     nan │\n",
      "└───────────────────────────┴─────────┴─────────┘\n",
      "\n"
     ]
    },
    {
     "data": {
      "application/vnd.jupyter.widget-view+json": {
       "model_id": "",
       "version_major": 2,
       "version_minor": 0
      },
      "text/plain": [
       "Validation: 0it [00:00, ?it/s]"
      ]
     },
     "metadata": {},
     "output_type": "display_data"
    },
    {
     "data": {
      "text/html": [
       "<pre style=\"white-space:pre;overflow-x:auto;line-height:normal;font-family:Menlo,'DejaVu Sans Mono',consolas,'Courier New',monospace\"></pre>\n"
      ],
      "text/plain": []
     },
     "metadata": {},
     "output_type": "display_data"
    },
    {
     "name": "stdout",
     "output_type": "stream",
     "text": [
      "\u001b[3m               Validation epoch=18               \u001b[0m\n",
      "┏━━━━━━━━━━━━━━━━━━━━━━━━━━━┳━━━━━━━━━┳━━━━━━━━━┓\n",
      "┃\u001b[1m \u001b[0m\u001b[1mMetric                   \u001b[0m\u001b[1m \u001b[0m┃\u001b[1m \u001b[0m\u001b[1m  Value\u001b[0m\u001b[1m \u001b[0m┃\u001b[1m \u001b[0m\u001b[1m  Error\u001b[0m\u001b[1m \u001b[0m┃\n",
      "┡━━━━━━━━━━━━━━━━━━━━━━━━━━━╇━━━━━━━━━╇━━━━━━━━━┩\n",
      "│ attractive                │ 0.00080 │ 0.00001 │\n",
      "│ attractive_train          │ 0.00080 │     nan │\n",
      "│ attractive_weighted       │ 0.00080 │ 0.00001 │\n",
      "│ attractive_weighted_train │ 0.00080 │     nan │\n",
      "│ repulsive                 │ 0.00069 │ 0.00001 │\n",
      "│ repulsive_train           │ 0.00075 │     nan │\n",
      "│ repulsive_weighted        │ 0.00035 │ 0.00001 │\n",
      "│ repulsive_weighted_train  │ 0.00037 │     nan │\n",
      "│ total                     │ 0.00115 │ 0.00001 │\n",
      "│ total_train               │ 0.00118 │     nan │\n",
      "└───────────────────────────┴─────────┴─────────┘\n",
      "\n"
     ]
    },
    {
     "data": {
      "application/vnd.jupyter.widget-view+json": {
       "model_id": "",
       "version_major": 2,
       "version_minor": 0
      },
      "text/plain": [
       "Validation: 0it [00:00, ?it/s]"
      ]
     },
     "metadata": {},
     "output_type": "display_data"
    },
    {
     "data": {
      "text/html": [
       "<pre style=\"white-space:pre;overflow-x:auto;line-height:normal;font-family:Menlo,'DejaVu Sans Mono',consolas,'Courier New',monospace\"></pre>\n"
      ],
      "text/plain": []
     },
     "metadata": {},
     "output_type": "display_data"
    },
    {
     "name": "stdout",
     "output_type": "stream",
     "text": [
      "\u001b[3m               Validation epoch=19               \u001b[0m\n",
      "┏━━━━━━━━━━━━━━━━━━━━━━━━━━━┳━━━━━━━━━┳━━━━━━━━━┓\n",
      "┃\u001b[1m \u001b[0m\u001b[1mMetric                   \u001b[0m\u001b[1m \u001b[0m┃\u001b[1m \u001b[0m\u001b[1m  Value\u001b[0m\u001b[1m \u001b[0m┃\u001b[1m \u001b[0m\u001b[1m  Error\u001b[0m\u001b[1m \u001b[0m┃\n",
      "┡━━━━━━━━━━━━━━━━━━━━━━━━━━━╇━━━━━━━━━╇━━━━━━━━━┩\n",
      "│ attractive                │ 0.00084 │ 0.00001 │\n",
      "│ attractive_train          │ 0.00077 │     nan │\n",
      "│ attractive_weighted       │ 0.00084 │ 0.00001 │\n",
      "│ attractive_weighted_train │ 0.00077 │     nan │\n",
      "│ repulsive                 │ 0.00068 │ 0.00001 │\n",
      "│ repulsive_train           │ 0.00083 │     nan │\n",
      "│ repulsive_weighted        │ 0.00034 │ 0.00001 │\n",
      "│ repulsive_weighted_train  │ 0.00042 │     nan │\n",
      "│ total                     │ 0.00118 │ 0.00001 │\n",
      "│ total_train               │ 0.00118 │     nan │\n",
      "└───────────────────────────┴─────────┴─────────┘\n",
      "\n"
     ]
    },
    {
     "data": {
      "application/vnd.jupyter.widget-view+json": {
       "model_id": "",
       "version_major": 2,
       "version_minor": 0
      },
      "text/plain": [
       "Validation: 0it [00:00, ?it/s]"
      ]
     },
     "metadata": {},
     "output_type": "display_data"
    },
    {
     "data": {
      "text/html": [
       "<pre style=\"white-space:pre;overflow-x:auto;line-height:normal;font-family:Menlo,'DejaVu Sans Mono',consolas,'Courier New',monospace\"></pre>\n"
      ],
      "text/plain": []
     },
     "metadata": {},
     "output_type": "display_data"
    },
    {
     "name": "stderr",
     "output_type": "stream",
     "text": [
      "`Trainer.fit` stopped: `max_epochs=20` reached.\n",
      "GPU available: True (cuda), used: True\n",
      "TPU available: False, using: 0 TPU cores\n",
      "IPU available: False, using: 0 IPUs\n",
      "HPU available: False, using: 0 HPUs\n",
      "You are using a CUDA device ('NVIDIA A100-SXM4-80GB') that has Tensor Cores. To properly utilize them, you should set `torch.set_float32_matmul_precision('medium' | 'high')` which will trade-off precision for performance. For more details, read https://pytorch.org/docs/stable/generated/torch.set_float32_matmul_precision.html#torch.set_float32_matmul_precision\n",
      "\u001b[32m[03:39:50] INFO: DataLoader will load 810 graphs (out of 900 available).\u001b[0m\n",
      "\u001b[36m[03:39:50] DEBUG: First graph is /scratch/gpfs/IOJALVO/gnn-tracking/object_condensation/point_clouds_v5/part1_pt1/part_1_0/data21025_s0.pt, last graph is /scratch/gpfs/IOJALVO/gnn-tracking/object_condensation/point_clouds_v5/part1_pt1/part_1_8/data21999_s0.pt\u001b[0m\n",
      "\u001b[32m[03:39:50] INFO: DataLoader will load 90 graphs (out of 900 available).\u001b[0m\n",
      "\u001b[36m[03:39:50] DEBUG: First graph is /scratch/gpfs/IOJALVO/gnn-tracking/object_condensation/point_clouds_v5/part1_pt1/part_1_9/data21009_s0.pt, last graph is /scratch/gpfs/IOJALVO/gnn-tracking/object_condensation/point_clouds_v5/part1_pt1/part_1_9/data21986_s0.pt\u001b[0m\n",
      "/scratch/gpfs/dc3896/micromamba/envs/gnn/lib/python3.10/site-packages/pytorch_lightning/callbacks/model_checkpoint.py:615: UserWarning: Checkpoint directory /home/dc3896/notebooks/lightning_logs/version_49016548/checkpoints exists and is not empty.\n",
      "  rank_zero_warn(f\"Checkpoint directory {dirpath} exists and is not empty.\")\n",
      "LOCAL_RANK: 0 - CUDA_VISIBLE_DEVICES: [0]\n",
      "\n",
      "  | Name     | Type                                | Params\n",
      "-----------------------------------------------------------------\n",
      "0 | model    | GraphConstructionFCNN               | 17.9 K\n",
      "1 | loss_fct | GraphConstructionHingeEmbeddingLoss | 0     \n",
      "-----------------------------------------------------------------\n",
      "17.9 K    Trainable params\n",
      "0         Non-trainable params\n",
      "17.9 K    Total params\n",
      "0.072     Total estimated model params size (MB)\n",
      "SLURM auto-requeueing enabled. Setting signal handlers.\n"
     ]
    },
    {
     "name": "stdout",
     "output_type": "stream",
     "text": [
      "\u001b[3m               Validation epoch=20               \u001b[0m\n",
      "┏━━━━━━━━━━━━━━━━━━━━━━━━━━━┳━━━━━━━━━┳━━━━━━━━━┓\n",
      "┃\u001b[1m \u001b[0m\u001b[1mMetric                   \u001b[0m\u001b[1m \u001b[0m┃\u001b[1m \u001b[0m\u001b[1m  Value\u001b[0m\u001b[1m \u001b[0m┃\u001b[1m \u001b[0m\u001b[1m  Error\u001b[0m\u001b[1m \u001b[0m┃\n",
      "┡━━━━━━━━━━━━━━━━━━━━━━━━━━━╇━━━━━━━━━╇━━━━━━━━━┩\n",
      "│ attractive                │ 0.00080 │ 0.00001 │\n",
      "│ attractive_train          │ 0.00081 │     nan │\n",
      "│ attractive_weighted       │ 0.00080 │ 0.00001 │\n",
      "│ attractive_weighted_train │ 0.00081 │     nan │\n",
      "│ repulsive                 │ 0.00070 │ 0.00001 │\n",
      "│ repulsive_train           │ 0.00075 │     nan │\n",
      "│ repulsive_weighted        │ 0.00035 │ 0.00001 │\n",
      "│ repulsive_weighted_train  │ 0.00038 │     nan │\n",
      "│ total                     │ 0.00115 │ 0.00001 │\n",
      "│ total_train               │ 0.00119 │     nan │\n",
      "└───────────────────────────┴─────────┴─────────┘\n",
      "\n",
      "\n",
      "\n",
      "Training for scaling coefficients = 1.0\n"
     ]
    },
    {
     "data": {
      "application/vnd.jupyter.widget-view+json": {
       "model_id": "",
       "version_major": 2,
       "version_minor": 0
      },
      "text/plain": [
       "Sanity Checking: 0it [00:00, ?it/s]"
      ]
     },
     "metadata": {},
     "output_type": "display_data"
    },
    {
     "name": "stderr",
     "output_type": "stream",
     "text": [
      "/scratch/gpfs/dc3896/micromamba/envs/gnn/lib/python3.10/site-packages/pytorch_lightning/trainer/connectors/data_connector.py:432: PossibleUserWarning: The dataloader, val_dataloader, does not have many workers which may be a bottleneck. Consider increasing the value of the `num_workers` argument` (try 48 which is the number of cpus on this machine) in the `DataLoader` init to improve performance.\n",
      "  rank_zero_warn(\n"
     ]
    },
    {
     "data": {
      "text/html": [
       "<pre style=\"white-space:pre;overflow-x:auto;line-height:normal;font-family:Menlo,'DejaVu Sans Mono',consolas,'Courier New',monospace\"></pre>\n"
      ],
      "text/plain": []
     },
     "metadata": {},
     "output_type": "display_data"
    },
    {
     "name": "stderr",
     "output_type": "stream",
     "text": [
      "/scratch/gpfs/dc3896/micromamba/envs/gnn/lib/python3.10/site-packages/pytorch_lightning/trainer/connectors/data_connector.py:432: PossibleUserWarning: The dataloader, train_dataloader, does not have many workers which may be a bottleneck. Consider increasing the value of the `num_workers` argument` (try 48 which is the number of cpus on this machine) in the `DataLoader` init to improve performance.\n",
      "  rank_zero_warn(\n"
     ]
    },
    {
     "data": {
      "application/vnd.jupyter.widget-view+json": {
       "model_id": "8a7618bfcb2c405ba7aadffe1379cc76",
       "version_major": 2,
       "version_minor": 0
      },
      "text/plain": [
       "Training: 0it [00:00, ?it/s]"
      ]
     },
     "metadata": {},
     "output_type": "display_data"
    },
    {
     "data": {
      "application/vnd.jupyter.widget-view+json": {
       "model_id": "",
       "version_major": 2,
       "version_minor": 0
      },
      "text/plain": [
       "Validation: 0it [00:00, ?it/s]"
      ]
     },
     "metadata": {},
     "output_type": "display_data"
    },
    {
     "data": {
      "text/html": [
       "<pre style=\"white-space:pre;overflow-x:auto;line-height:normal;font-family:Menlo,'DejaVu Sans Mono',consolas,'Courier New',monospace\"></pre>\n"
      ],
      "text/plain": []
     },
     "metadata": {},
     "output_type": "display_data"
    },
    {
     "name": "stdout",
     "output_type": "stream",
     "text": [
      "\u001b[3m               Validation epoch=1                \u001b[0m\n",
      "┏━━━━━━━━━━━━━━━━━━━━━━━━━━━┳━━━━━━━━━┳━━━━━━━━━┓\n",
      "┃\u001b[1m \u001b[0m\u001b[1mMetric                   \u001b[0m\u001b[1m \u001b[0m┃\u001b[1m \u001b[0m\u001b[1m  Value\u001b[0m\u001b[1m \u001b[0m┃\u001b[1m \u001b[0m\u001b[1m  Error\u001b[0m\u001b[1m \u001b[0m┃\n",
      "┡━━━━━━━━━━━━━━━━━━━━━━━━━━━╇━━━━━━━━━╇━━━━━━━━━┩\n",
      "│ attractive                │ 0.00208 │ 0.00001 │\n",
      "│ attractive_train          │ 0.00208 │     nan │\n",
      "│ attractive_weighted       │ 0.00208 │ 0.00001 │\n",
      "│ attractive_weighted_train │ 0.00208 │     nan │\n",
      "│ repulsive                 │ 0.00074 │ 0.00001 │\n",
      "│ repulsive_train           │ 0.00086 │     nan │\n",
      "│ repulsive_weighted        │ 0.00074 │ 0.00001 │\n",
      "│ repulsive_weighted_train  │ 0.00086 │     nan │\n",
      "│ total                     │ 0.00281 │ 0.00002 │\n",
      "│ total_train               │ 0.00295 │     nan │\n",
      "└───────────────────────────┴─────────┴─────────┘\n",
      "\n"
     ]
    },
    {
     "data": {
      "application/vnd.jupyter.widget-view+json": {
       "model_id": "",
       "version_major": 2,
       "version_minor": 0
      },
      "text/plain": [
       "Validation: 0it [00:00, ?it/s]"
      ]
     },
     "metadata": {},
     "output_type": "display_data"
    },
    {
     "data": {
      "text/html": [
       "<pre style=\"white-space:pre;overflow-x:auto;line-height:normal;font-family:Menlo,'DejaVu Sans Mono',consolas,'Courier New',monospace\"></pre>\n"
      ],
      "text/plain": []
     },
     "metadata": {},
     "output_type": "display_data"
    },
    {
     "name": "stdout",
     "output_type": "stream",
     "text": [
      "\u001b[3m               Validation epoch=2                \u001b[0m\n",
      "┏━━━━━━━━━━━━━━━━━━━━━━━━━━━┳━━━━━━━━━┳━━━━━━━━━┓\n",
      "┃\u001b[1m \u001b[0m\u001b[1mMetric                   \u001b[0m\u001b[1m \u001b[0m┃\u001b[1m \u001b[0m\u001b[1m  Value\u001b[0m\u001b[1m \u001b[0m┃\u001b[1m \u001b[0m\u001b[1m  Error\u001b[0m\u001b[1m \u001b[0m┃\n",
      "┡━━━━━━━━━━━━━━━━━━━━━━━━━━━╇━━━━━━━━━╇━━━━━━━━━┩\n",
      "│ attractive                │ 0.00195 │ 0.00001 │\n",
      "│ attractive_train          │ 0.00187 │     nan │\n",
      "│ attractive_weighted       │ 0.00195 │ 0.00001 │\n",
      "│ attractive_weighted_train │ 0.00187 │     nan │\n",
      "│ repulsive                 │ 0.00061 │ 0.00001 │\n",
      "│ repulsive_train           │ 0.00055 │     nan │\n",
      "│ repulsive_weighted        │ 0.00061 │ 0.00001 │\n",
      "│ repulsive_weighted_train  │ 0.00055 │     nan │\n",
      "│ total                     │ 0.00256 │ 0.00001 │\n",
      "│ total_train               │ 0.00242 │     nan │\n",
      "└───────────────────────────┴─────────┴─────────┘\n",
      "\n"
     ]
    },
    {
     "data": {
      "application/vnd.jupyter.widget-view+json": {
       "model_id": "",
       "version_major": 2,
       "version_minor": 0
      },
      "text/plain": [
       "Validation: 0it [00:00, ?it/s]"
      ]
     },
     "metadata": {},
     "output_type": "display_data"
    },
    {
     "data": {
      "text/html": [
       "<pre style=\"white-space:pre;overflow-x:auto;line-height:normal;font-family:Menlo,'DejaVu Sans Mono',consolas,'Courier New',monospace\"></pre>\n"
      ],
      "text/plain": []
     },
     "metadata": {},
     "output_type": "display_data"
    },
    {
     "name": "stdout",
     "output_type": "stream",
     "text": [
      "\u001b[3m               Validation epoch=3                \u001b[0m\n",
      "┏━━━━━━━━━━━━━━━━━━━━━━━━━━━┳━━━━━━━━━┳━━━━━━━━━┓\n",
      "┃\u001b[1m \u001b[0m\u001b[1mMetric                   \u001b[0m\u001b[1m \u001b[0m┃\u001b[1m \u001b[0m\u001b[1m  Value\u001b[0m\u001b[1m \u001b[0m┃\u001b[1m \u001b[0m\u001b[1m  Error\u001b[0m\u001b[1m \u001b[0m┃\n",
      "┡━━━━━━━━━━━━━━━━━━━━━━━━━━━╇━━━━━━━━━╇━━━━━━━━━┩\n",
      "│ attractive                │ 0.00170 │ 0.00001 │\n",
      "│ attractive_train          │ 0.00149 │     nan │\n",
      "│ attractive_weighted       │ 0.00170 │ 0.00001 │\n",
      "│ attractive_weighted_train │ 0.00149 │     nan │\n",
      "│ repulsive                 │ 0.00050 │ 0.00001 │\n",
      "│ repulsive_train           │ 0.00063 │     nan │\n",
      "│ repulsive_weighted        │ 0.00050 │ 0.00001 │\n",
      "│ repulsive_weighted_train  │ 0.00063 │     nan │\n",
      "│ total                     │ 0.00221 │ 0.00001 │\n",
      "│ total_train               │ 0.00213 │     nan │\n",
      "└───────────────────────────┴─────────┴─────────┘\n",
      "\n"
     ]
    },
    {
     "data": {
      "application/vnd.jupyter.widget-view+json": {
       "model_id": "",
       "version_major": 2,
       "version_minor": 0
      },
      "text/plain": [
       "Validation: 0it [00:00, ?it/s]"
      ]
     },
     "metadata": {},
     "output_type": "display_data"
    },
    {
     "data": {
      "text/html": [
       "<pre style=\"white-space:pre;overflow-x:auto;line-height:normal;font-family:Menlo,'DejaVu Sans Mono',consolas,'Courier New',monospace\"></pre>\n"
      ],
      "text/plain": []
     },
     "metadata": {},
     "output_type": "display_data"
    },
    {
     "name": "stdout",
     "output_type": "stream",
     "text": [
      "\u001b[3m               Validation epoch=4                \u001b[0m\n",
      "┏━━━━━━━━━━━━━━━━━━━━━━━━━━━┳━━━━━━━━━┳━━━━━━━━━┓\n",
      "┃\u001b[1m \u001b[0m\u001b[1mMetric                   \u001b[0m\u001b[1m \u001b[0m┃\u001b[1m \u001b[0m\u001b[1m  Value\u001b[0m\u001b[1m \u001b[0m┃\u001b[1m \u001b[0m\u001b[1m  Error\u001b[0m\u001b[1m \u001b[0m┃\n",
      "┡━━━━━━━━━━━━━━━━━━━━━━━━━━━╇━━━━━━━━━╇━━━━━━━━━┩\n",
      "│ attractive                │ 0.00154 │ 0.00001 │\n",
      "│ attractive_train          │ 0.00139 │     nan │\n",
      "│ attractive_weighted       │ 0.00154 │ 0.00001 │\n",
      "│ attractive_weighted_train │ 0.00139 │     nan │\n",
      "│ repulsive                 │ 0.00060 │ 0.00001 │\n",
      "│ repulsive_train           │ 0.00061 │     nan │\n",
      "│ repulsive_weighted        │ 0.00060 │ 0.00001 │\n",
      "│ repulsive_weighted_train  │ 0.00061 │     nan │\n",
      "│ total                     │ 0.00214 │ 0.00001 │\n",
      "│ total_train               │ 0.00199 │     nan │\n",
      "└───────────────────────────┴─────────┴─────────┘\n",
      "\n"
     ]
    },
    {
     "data": {
      "application/vnd.jupyter.widget-view+json": {
       "model_id": "",
       "version_major": 2,
       "version_minor": 0
      },
      "text/plain": [
       "Validation: 0it [00:00, ?it/s]"
      ]
     },
     "metadata": {},
     "output_type": "display_data"
    },
    {
     "data": {
      "text/html": [
       "<pre style=\"white-space:pre;overflow-x:auto;line-height:normal;font-family:Menlo,'DejaVu Sans Mono',consolas,'Courier New',monospace\"></pre>\n"
      ],
      "text/plain": []
     },
     "metadata": {},
     "output_type": "display_data"
    },
    {
     "name": "stdout",
     "output_type": "stream",
     "text": [
      "\u001b[3m               Validation epoch=5                \u001b[0m\n",
      "┏━━━━━━━━━━━━━━━━━━━━━━━━━━━┳━━━━━━━━━┳━━━━━━━━━┓\n",
      "┃\u001b[1m \u001b[0m\u001b[1mMetric                   \u001b[0m\u001b[1m \u001b[0m┃\u001b[1m \u001b[0m\u001b[1m  Value\u001b[0m\u001b[1m \u001b[0m┃\u001b[1m \u001b[0m\u001b[1m  Error\u001b[0m\u001b[1m \u001b[0m┃\n",
      "┡━━━━━━━━━━━━━━━━━━━━━━━━━━━╇━━━━━━━━━╇━━━━━━━━━┩\n",
      "│ attractive                │ 0.00134 │ 0.00001 │\n",
      "│ attractive_train          │ 0.00140 │     nan │\n",
      "│ attractive_weighted       │ 0.00134 │ 0.00001 │\n",
      "│ attractive_weighted_train │ 0.00140 │     nan │\n",
      "│ repulsive                 │ 0.00057 │ 0.00001 │\n",
      "│ repulsive_train           │ 0.00059 │     nan │\n",
      "│ repulsive_weighted        │ 0.00057 │ 0.00001 │\n",
      "│ repulsive_weighted_train  │ 0.00059 │     nan │\n",
      "│ total                     │ 0.00191 │ 0.00001 │\n",
      "│ total_train               │ 0.00199 │     nan │\n",
      "└───────────────────────────┴─────────┴─────────┘\n",
      "\n"
     ]
    },
    {
     "data": {
      "application/vnd.jupyter.widget-view+json": {
       "model_id": "",
       "version_major": 2,
       "version_minor": 0
      },
      "text/plain": [
       "Validation: 0it [00:00, ?it/s]"
      ]
     },
     "metadata": {},
     "output_type": "display_data"
    },
    {
     "data": {
      "text/html": [
       "<pre style=\"white-space:pre;overflow-x:auto;line-height:normal;font-family:Menlo,'DejaVu Sans Mono',consolas,'Courier New',monospace\"></pre>\n"
      ],
      "text/plain": []
     },
     "metadata": {},
     "output_type": "display_data"
    },
    {
     "name": "stdout",
     "output_type": "stream",
     "text": [
      "\u001b[3m               Validation epoch=6                \u001b[0m\n",
      "┏━━━━━━━━━━━━━━━━━━━━━━━━━━━┳━━━━━━━━━┳━━━━━━━━━┓\n",
      "┃\u001b[1m \u001b[0m\u001b[1mMetric                   \u001b[0m\u001b[1m \u001b[0m┃\u001b[1m \u001b[0m\u001b[1m  Value\u001b[0m\u001b[1m \u001b[0m┃\u001b[1m \u001b[0m\u001b[1m  Error\u001b[0m\u001b[1m \u001b[0m┃\n",
      "┡━━━━━━━━━━━━━━━━━━━━━━━━━━━╇━━━━━━━━━╇━━━━━━━━━┩\n",
      "│ attractive                │ 0.00132 │ 0.00001 │\n",
      "│ attractive_train          │ 0.00131 │     nan │\n",
      "│ attractive_weighted       │ 0.00132 │ 0.00001 │\n",
      "│ attractive_weighted_train │ 0.00131 │     nan │\n",
      "│ repulsive                 │ 0.00049 │ 0.00001 │\n",
      "│ repulsive_train           │ 0.00058 │     nan │\n",
      "│ repulsive_weighted        │ 0.00049 │ 0.00001 │\n",
      "│ repulsive_weighted_train  │ 0.00058 │     nan │\n",
      "│ total                     │ 0.00181 │ 0.00001 │\n",
      "│ total_train               │ 0.00189 │     nan │\n",
      "└───────────────────────────┴─────────┴─────────┘\n",
      "\n"
     ]
    },
    {
     "data": {
      "application/vnd.jupyter.widget-view+json": {
       "model_id": "",
       "version_major": 2,
       "version_minor": 0
      },
      "text/plain": [
       "Validation: 0it [00:00, ?it/s]"
      ]
     },
     "metadata": {},
     "output_type": "display_data"
    },
    {
     "data": {
      "text/html": [
       "<pre style=\"white-space:pre;overflow-x:auto;line-height:normal;font-family:Menlo,'DejaVu Sans Mono',consolas,'Courier New',monospace\"></pre>\n"
      ],
      "text/plain": []
     },
     "metadata": {},
     "output_type": "display_data"
    },
    {
     "name": "stdout",
     "output_type": "stream",
     "text": [
      "\u001b[3m               Validation epoch=7                \u001b[0m\n",
      "┏━━━━━━━━━━━━━━━━━━━━━━━━━━━┳━━━━━━━━━┳━━━━━━━━━┓\n",
      "┃\u001b[1m \u001b[0m\u001b[1mMetric                   \u001b[0m\u001b[1m \u001b[0m┃\u001b[1m \u001b[0m\u001b[1m  Value\u001b[0m\u001b[1m \u001b[0m┃\u001b[1m \u001b[0m\u001b[1m  Error\u001b[0m\u001b[1m \u001b[0m┃\n",
      "┡━━━━━━━━━━━━━━━━━━━━━━━━━━━╇━━━━━━━━━╇━━━━━━━━━┩\n",
      "│ attractive                │ 0.00143 │ 0.00001 │\n",
      "│ attractive_train          │ 0.00146 │     nan │\n",
      "│ attractive_weighted       │ 0.00143 │ 0.00001 │\n",
      "│ attractive_weighted_train │ 0.00146 │     nan │\n",
      "│ repulsive                 │ 0.00050 │ 0.00001 │\n",
      "│ repulsive_train           │ 0.00048 │     nan │\n",
      "│ repulsive_weighted        │ 0.00050 │ 0.00001 │\n",
      "│ repulsive_weighted_train  │ 0.00048 │     nan │\n",
      "│ total                     │ 0.00193 │ 0.00001 │\n",
      "│ total_train               │ 0.00195 │     nan │\n",
      "└───────────────────────────┴─────────┴─────────┘\n",
      "\n"
     ]
    },
    {
     "data": {
      "application/vnd.jupyter.widget-view+json": {
       "model_id": "",
       "version_major": 2,
       "version_minor": 0
      },
      "text/plain": [
       "Validation: 0it [00:00, ?it/s]"
      ]
     },
     "metadata": {},
     "output_type": "display_data"
    },
    {
     "data": {
      "text/html": [
       "<pre style=\"white-space:pre;overflow-x:auto;line-height:normal;font-family:Menlo,'DejaVu Sans Mono',consolas,'Courier New',monospace\"></pre>\n"
      ],
      "text/plain": []
     },
     "metadata": {},
     "output_type": "display_data"
    },
    {
     "name": "stdout",
     "output_type": "stream",
     "text": [
      "\u001b[3m               Validation epoch=8                \u001b[0m\n",
      "┏━━━━━━━━━━━━━━━━━━━━━━━━━━━┳━━━━━━━━━┳━━━━━━━━━┓\n",
      "┃\u001b[1m \u001b[0m\u001b[1mMetric                   \u001b[0m\u001b[1m \u001b[0m┃\u001b[1m \u001b[0m\u001b[1m  Value\u001b[0m\u001b[1m \u001b[0m┃\u001b[1m \u001b[0m\u001b[1m  Error\u001b[0m\u001b[1m \u001b[0m┃\n",
      "┡━━━━━━━━━━━━━━━━━━━━━━━━━━━╇━━━━━━━━━╇━━━━━━━━━┩\n",
      "│ attractive                │ 0.00141 │ 0.00001 │\n",
      "│ attractive_train          │ 0.00122 │     nan │\n",
      "│ attractive_weighted       │ 0.00141 │ 0.00001 │\n",
      "│ attractive_weighted_train │ 0.00122 │     nan │\n",
      "│ repulsive                 │ 0.00056 │ 0.00001 │\n",
      "│ repulsive_train           │ 0.00053 │     nan │\n",
      "│ repulsive_weighted        │ 0.00056 │ 0.00001 │\n",
      "│ repulsive_weighted_train  │ 0.00053 │     nan │\n",
      "│ total                     │ 0.00196 │ 0.00001 │\n",
      "│ total_train               │ 0.00175 │     nan │\n",
      "└───────────────────────────┴─────────┴─────────┘\n",
      "\n"
     ]
    },
    {
     "data": {
      "application/vnd.jupyter.widget-view+json": {
       "model_id": "",
       "version_major": 2,
       "version_minor": 0
      },
      "text/plain": [
       "Validation: 0it [00:00, ?it/s]"
      ]
     },
     "metadata": {},
     "output_type": "display_data"
    },
    {
     "data": {
      "text/html": [
       "<pre style=\"white-space:pre;overflow-x:auto;line-height:normal;font-family:Menlo,'DejaVu Sans Mono',consolas,'Courier New',monospace\"></pre>\n"
      ],
      "text/plain": []
     },
     "metadata": {},
     "output_type": "display_data"
    },
    {
     "name": "stdout",
     "output_type": "stream",
     "text": [
      "\u001b[3m               Validation epoch=9                \u001b[0m\n",
      "┏━━━━━━━━━━━━━━━━━━━━━━━━━━━┳━━━━━━━━━┳━━━━━━━━━┓\n",
      "┃\u001b[1m \u001b[0m\u001b[1mMetric                   \u001b[0m\u001b[1m \u001b[0m┃\u001b[1m \u001b[0m\u001b[1m  Value\u001b[0m\u001b[1m \u001b[0m┃\u001b[1m \u001b[0m\u001b[1m  Error\u001b[0m\u001b[1m \u001b[0m┃\n",
      "┡━━━━━━━━━━━━━━━━━━━━━━━━━━━╇━━━━━━━━━╇━━━━━━━━━┩\n",
      "│ attractive                │ 0.00119 │ 0.00001 │\n",
      "│ attractive_train          │ 0.00121 │     nan │\n",
      "│ attractive_weighted       │ 0.00119 │ 0.00001 │\n",
      "│ attractive_weighted_train │ 0.00121 │     nan │\n",
      "│ repulsive                 │ 0.00051 │ 0.00001 │\n",
      "│ repulsive_train           │ 0.00051 │     nan │\n",
      "│ repulsive_weighted        │ 0.00051 │ 0.00001 │\n",
      "│ repulsive_weighted_train  │ 0.00051 │     nan │\n",
      "│ total                     │ 0.00170 │ 0.00001 │\n",
      "│ total_train               │ 0.00172 │     nan │\n",
      "└───────────────────────────┴─────────┴─────────┘\n",
      "\n"
     ]
    },
    {
     "data": {
      "application/vnd.jupyter.widget-view+json": {
       "model_id": "",
       "version_major": 2,
       "version_minor": 0
      },
      "text/plain": [
       "Validation: 0it [00:00, ?it/s]"
      ]
     },
     "metadata": {},
     "output_type": "display_data"
    },
    {
     "data": {
      "text/html": [
       "<pre style=\"white-space:pre;overflow-x:auto;line-height:normal;font-family:Menlo,'DejaVu Sans Mono',consolas,'Courier New',monospace\"></pre>\n"
      ],
      "text/plain": []
     },
     "metadata": {},
     "output_type": "display_data"
    },
    {
     "name": "stdout",
     "output_type": "stream",
     "text": [
      "\u001b[3m               Validation epoch=10               \u001b[0m\n",
      "┏━━━━━━━━━━━━━━━━━━━━━━━━━━━┳━━━━━━━━━┳━━━━━━━━━┓\n",
      "┃\u001b[1m \u001b[0m\u001b[1mMetric                   \u001b[0m\u001b[1m \u001b[0m┃\u001b[1m \u001b[0m\u001b[1m  Value\u001b[0m\u001b[1m \u001b[0m┃\u001b[1m \u001b[0m\u001b[1m  Error\u001b[0m\u001b[1m \u001b[0m┃\n",
      "┡━━━━━━━━━━━━━━━━━━━━━━━━━━━╇━━━━━━━━━╇━━━━━━━━━┩\n",
      "│ attractive                │ 0.00122 │ 0.00001 │\n",
      "│ attractive_train          │ 0.00124 │     nan │\n",
      "│ attractive_weighted       │ 0.00122 │ 0.00001 │\n",
      "│ attractive_weighted_train │ 0.00124 │     nan │\n",
      "│ repulsive                 │ 0.00046 │ 0.00001 │\n",
      "│ repulsive_train           │ 0.00052 │     nan │\n",
      "│ repulsive_weighted        │ 0.00046 │ 0.00001 │\n",
      "│ repulsive_weighted_train  │ 0.00052 │     nan │\n",
      "│ total                     │ 0.00168 │ 0.00001 │\n",
      "│ total_train               │ 0.00176 │     nan │\n",
      "└───────────────────────────┴─────────┴─────────┘\n",
      "\n"
     ]
    },
    {
     "data": {
      "application/vnd.jupyter.widget-view+json": {
       "model_id": "",
       "version_major": 2,
       "version_minor": 0
      },
      "text/plain": [
       "Validation: 0it [00:00, ?it/s]"
      ]
     },
     "metadata": {},
     "output_type": "display_data"
    },
    {
     "data": {
      "text/html": [
       "<pre style=\"white-space:pre;overflow-x:auto;line-height:normal;font-family:Menlo,'DejaVu Sans Mono',consolas,'Courier New',monospace\"></pre>\n"
      ],
      "text/plain": []
     },
     "metadata": {},
     "output_type": "display_data"
    },
    {
     "name": "stdout",
     "output_type": "stream",
     "text": [
      "\u001b[3m               Validation epoch=11               \u001b[0m\n",
      "┏━━━━━━━━━━━━━━━━━━━━━━━━━━━┳━━━━━━━━━┳━━━━━━━━━┓\n",
      "┃\u001b[1m \u001b[0m\u001b[1mMetric                   \u001b[0m\u001b[1m \u001b[0m┃\u001b[1m \u001b[0m\u001b[1m  Value\u001b[0m\u001b[1m \u001b[0m┃\u001b[1m \u001b[0m\u001b[1m  Error\u001b[0m\u001b[1m \u001b[0m┃\n",
      "┡━━━━━━━━━━━━━━━━━━━━━━━━━━━╇━━━━━━━━━╇━━━━━━━━━┩\n",
      "│ attractive                │ 0.00121 │ 0.00001 │\n",
      "│ attractive_train          │ 0.00116 │     nan │\n",
      "│ attractive_weighted       │ 0.00121 │ 0.00001 │\n",
      "│ attractive_weighted_train │ 0.00116 │     nan │\n",
      "│ repulsive                 │ 0.00049 │ 0.00001 │\n",
      "│ repulsive_train           │ 0.00058 │     nan │\n",
      "│ repulsive_weighted        │ 0.00049 │ 0.00001 │\n",
      "│ repulsive_weighted_train  │ 0.00058 │     nan │\n",
      "│ total                     │ 0.00170 │ 0.00001 │\n",
      "│ total_train               │ 0.00174 │     nan │\n",
      "└───────────────────────────┴─────────┴─────────┘\n",
      "\n"
     ]
    },
    {
     "data": {
      "application/vnd.jupyter.widget-view+json": {
       "model_id": "",
       "version_major": 2,
       "version_minor": 0
      },
      "text/plain": [
       "Validation: 0it [00:00, ?it/s]"
      ]
     },
     "metadata": {},
     "output_type": "display_data"
    },
    {
     "data": {
      "text/html": [
       "<pre style=\"white-space:pre;overflow-x:auto;line-height:normal;font-family:Menlo,'DejaVu Sans Mono',consolas,'Courier New',monospace\"></pre>\n"
      ],
      "text/plain": []
     },
     "metadata": {},
     "output_type": "display_data"
    },
    {
     "name": "stdout",
     "output_type": "stream",
     "text": [
      "\u001b[3m               Validation epoch=12               \u001b[0m\n",
      "┏━━━━━━━━━━━━━━━━━━━━━━━━━━━┳━━━━━━━━━┳━━━━━━━━━┓\n",
      "┃\u001b[1m \u001b[0m\u001b[1mMetric                   \u001b[0m\u001b[1m \u001b[0m┃\u001b[1m \u001b[0m\u001b[1m  Value\u001b[0m\u001b[1m \u001b[0m┃\u001b[1m \u001b[0m\u001b[1m  Error\u001b[0m\u001b[1m \u001b[0m┃\n",
      "┡━━━━━━━━━━━━━━━━━━━━━━━━━━━╇━━━━━━━━━╇━━━━━━━━━┩\n",
      "│ attractive                │ 0.00113 │ 0.00001 │\n",
      "│ attractive_train          │ 0.00123 │     nan │\n",
      "│ attractive_weighted       │ 0.00113 │ 0.00001 │\n",
      "│ attractive_weighted_train │ 0.00123 │     nan │\n",
      "│ repulsive                 │ 0.00045 │ 0.00001 │\n",
      "│ repulsive_train           │ 0.00051 │     nan │\n",
      "│ repulsive_weighted        │ 0.00045 │ 0.00001 │\n",
      "│ repulsive_weighted_train  │ 0.00051 │     nan │\n",
      "│ total                     │ 0.00158 │ 0.00001 │\n",
      "│ total_train               │ 0.00174 │     nan │\n",
      "└───────────────────────────┴─────────┴─────────┘\n",
      "\n"
     ]
    },
    {
     "data": {
      "application/vnd.jupyter.widget-view+json": {
       "model_id": "",
       "version_major": 2,
       "version_minor": 0
      },
      "text/plain": [
       "Validation: 0it [00:00, ?it/s]"
      ]
     },
     "metadata": {},
     "output_type": "display_data"
    },
    {
     "data": {
      "text/html": [
       "<pre style=\"white-space:pre;overflow-x:auto;line-height:normal;font-family:Menlo,'DejaVu Sans Mono',consolas,'Courier New',monospace\"></pre>\n"
      ],
      "text/plain": []
     },
     "metadata": {},
     "output_type": "display_data"
    },
    {
     "name": "stdout",
     "output_type": "stream",
     "text": [
      "\u001b[3m               Validation epoch=13               \u001b[0m\n",
      "┏━━━━━━━━━━━━━━━━━━━━━━━━━━━┳━━━━━━━━━┳━━━━━━━━━┓\n",
      "┃\u001b[1m \u001b[0m\u001b[1mMetric                   \u001b[0m\u001b[1m \u001b[0m┃\u001b[1m \u001b[0m\u001b[1m  Value\u001b[0m\u001b[1m \u001b[0m┃\u001b[1m \u001b[0m\u001b[1m  Error\u001b[0m\u001b[1m \u001b[0m┃\n",
      "┡━━━━━━━━━━━━━━━━━━━━━━━━━━━╇━━━━━━━━━╇━━━━━━━━━┩\n",
      "│ attractive                │ 0.00109 │ 0.00001 │\n",
      "│ attractive_train          │ 0.00109 │     nan │\n",
      "│ attractive_weighted       │ 0.00109 │ 0.00001 │\n",
      "│ attractive_weighted_train │ 0.00109 │     nan │\n",
      "│ repulsive                 │ 0.00048 │ 0.00001 │\n",
      "│ repulsive_train           │ 0.00047 │     nan │\n",
      "│ repulsive_weighted        │ 0.00048 │ 0.00001 │\n",
      "│ repulsive_weighted_train  │ 0.00047 │     nan │\n",
      "│ total                     │ 0.00157 │ 0.00001 │\n",
      "│ total_train               │ 0.00156 │     nan │\n",
      "└───────────────────────────┴─────────┴─────────┘\n",
      "\n"
     ]
    },
    {
     "data": {
      "application/vnd.jupyter.widget-view+json": {
       "model_id": "",
       "version_major": 2,
       "version_minor": 0
      },
      "text/plain": [
       "Validation: 0it [00:00, ?it/s]"
      ]
     },
     "metadata": {},
     "output_type": "display_data"
    },
    {
     "data": {
      "text/html": [
       "<pre style=\"white-space:pre;overflow-x:auto;line-height:normal;font-family:Menlo,'DejaVu Sans Mono',consolas,'Courier New',monospace\"></pre>\n"
      ],
      "text/plain": []
     },
     "metadata": {},
     "output_type": "display_data"
    },
    {
     "name": "stdout",
     "output_type": "stream",
     "text": [
      "\u001b[3m               Validation epoch=14               \u001b[0m\n",
      "┏━━━━━━━━━━━━━━━━━━━━━━━━━━━┳━━━━━━━━━┳━━━━━━━━━┓\n",
      "┃\u001b[1m \u001b[0m\u001b[1mMetric                   \u001b[0m\u001b[1m \u001b[0m┃\u001b[1m \u001b[0m\u001b[1m  Value\u001b[0m\u001b[1m \u001b[0m┃\u001b[1m \u001b[0m\u001b[1m  Error\u001b[0m\u001b[1m \u001b[0m┃\n",
      "┡━━━━━━━━━━━━━━━━━━━━━━━━━━━╇━━━━━━━━━╇━━━━━━━━━┩\n",
      "│ attractive                │ 0.00117 │ 0.00001 │\n",
      "│ attractive_train          │ 0.00113 │     nan │\n",
      "│ attractive_weighted       │ 0.00117 │ 0.00001 │\n",
      "│ attractive_weighted_train │ 0.00113 │     nan │\n",
      "│ repulsive                 │ 0.00046 │ 0.00001 │\n",
      "│ repulsive_train           │ 0.00059 │     nan │\n",
      "│ repulsive_weighted        │ 0.00046 │ 0.00001 │\n",
      "│ repulsive_weighted_train  │ 0.00059 │     nan │\n",
      "│ total                     │ 0.00162 │ 0.00001 │\n",
      "│ total_train               │ 0.00172 │     nan │\n",
      "└───────────────────────────┴─────────┴─────────┘\n",
      "\n"
     ]
    },
    {
     "data": {
      "application/vnd.jupyter.widget-view+json": {
       "model_id": "",
       "version_major": 2,
       "version_minor": 0
      },
      "text/plain": [
       "Validation: 0it [00:00, ?it/s]"
      ]
     },
     "metadata": {},
     "output_type": "display_data"
    },
    {
     "data": {
      "text/html": [
       "<pre style=\"white-space:pre;overflow-x:auto;line-height:normal;font-family:Menlo,'DejaVu Sans Mono',consolas,'Courier New',monospace\"></pre>\n"
      ],
      "text/plain": []
     },
     "metadata": {},
     "output_type": "display_data"
    },
    {
     "name": "stdout",
     "output_type": "stream",
     "text": [
      "\u001b[3m               Validation epoch=15               \u001b[0m\n",
      "┏━━━━━━━━━━━━━━━━━━━━━━━━━━━┳━━━━━━━━━┳━━━━━━━━━┓\n",
      "┃\u001b[1m \u001b[0m\u001b[1mMetric                   \u001b[0m\u001b[1m \u001b[0m┃\u001b[1m \u001b[0m\u001b[1m  Value\u001b[0m\u001b[1m \u001b[0m┃\u001b[1m \u001b[0m\u001b[1m  Error\u001b[0m\u001b[1m \u001b[0m┃\n",
      "┡━━━━━━━━━━━━━━━━━━━━━━━━━━━╇━━━━━━━━━╇━━━━━━━━━┩\n",
      "│ attractive                │ 0.00111 │ 0.00001 │\n",
      "│ attractive_train          │ 0.00106 │     nan │\n",
      "│ attractive_weighted       │ 0.00111 │ 0.00001 │\n",
      "│ attractive_weighted_train │ 0.00106 │     nan │\n",
      "│ repulsive                 │ 0.00048 │ 0.00001 │\n",
      "│ repulsive_train           │ 0.00036 │     nan │\n",
      "│ repulsive_weighted        │ 0.00048 │ 0.00001 │\n",
      "│ repulsive_weighted_train  │ 0.00036 │     nan │\n",
      "│ total                     │ 0.00160 │ 0.00001 │\n",
      "│ total_train               │ 0.00141 │     nan │\n",
      "└───────────────────────────┴─────────┴─────────┘\n",
      "\n"
     ]
    },
    {
     "data": {
      "application/vnd.jupyter.widget-view+json": {
       "model_id": "",
       "version_major": 2,
       "version_minor": 0
      },
      "text/plain": [
       "Validation: 0it [00:00, ?it/s]"
      ]
     },
     "metadata": {},
     "output_type": "display_data"
    },
    {
     "data": {
      "text/html": [
       "<pre style=\"white-space:pre;overflow-x:auto;line-height:normal;font-family:Menlo,'DejaVu Sans Mono',consolas,'Courier New',monospace\"></pre>\n"
      ],
      "text/plain": []
     },
     "metadata": {},
     "output_type": "display_data"
    },
    {
     "name": "stdout",
     "output_type": "stream",
     "text": [
      "\u001b[3m               Validation epoch=16               \u001b[0m\n",
      "┏━━━━━━━━━━━━━━━━━━━━━━━━━━━┳━━━━━━━━━┳━━━━━━━━━┓\n",
      "┃\u001b[1m \u001b[0m\u001b[1mMetric                   \u001b[0m\u001b[1m \u001b[0m┃\u001b[1m \u001b[0m\u001b[1m  Value\u001b[0m\u001b[1m \u001b[0m┃\u001b[1m \u001b[0m\u001b[1m  Error\u001b[0m\u001b[1m \u001b[0m┃\n",
      "┡━━━━━━━━━━━━━━━━━━━━━━━━━━━╇━━━━━━━━━╇━━━━━━━━━┩\n",
      "│ attractive                │ 0.00107 │ 0.00001 │\n",
      "│ attractive_train          │ 0.00108 │     nan │\n",
      "│ attractive_weighted       │ 0.00107 │ 0.00001 │\n",
      "│ attractive_weighted_train │ 0.00108 │     nan │\n",
      "│ repulsive                 │ 0.00041 │ 0.00001 │\n",
      "│ repulsive_train           │ 0.00052 │     nan │\n",
      "│ repulsive_weighted        │ 0.00041 │ 0.00001 │\n",
      "│ repulsive_weighted_train  │ 0.00052 │     nan │\n",
      "│ total                     │ 0.00147 │ 0.00001 │\n",
      "│ total_train               │ 0.00160 │     nan │\n",
      "└───────────────────────────┴─────────┴─────────┘\n",
      "\n"
     ]
    },
    {
     "data": {
      "application/vnd.jupyter.widget-view+json": {
       "model_id": "",
       "version_major": 2,
       "version_minor": 0
      },
      "text/plain": [
       "Validation: 0it [00:00, ?it/s]"
      ]
     },
     "metadata": {},
     "output_type": "display_data"
    },
    {
     "data": {
      "text/html": [
       "<pre style=\"white-space:pre;overflow-x:auto;line-height:normal;font-family:Menlo,'DejaVu Sans Mono',consolas,'Courier New',monospace\"></pre>\n"
      ],
      "text/plain": []
     },
     "metadata": {},
     "output_type": "display_data"
    },
    {
     "name": "stdout",
     "output_type": "stream",
     "text": [
      "\u001b[3m               Validation epoch=17               \u001b[0m\n",
      "┏━━━━━━━━━━━━━━━━━━━━━━━━━━━┳━━━━━━━━━┳━━━━━━━━━┓\n",
      "┃\u001b[1m \u001b[0m\u001b[1mMetric                   \u001b[0m\u001b[1m \u001b[0m┃\u001b[1m \u001b[0m\u001b[1m  Value\u001b[0m\u001b[1m \u001b[0m┃\u001b[1m \u001b[0m\u001b[1m  Error\u001b[0m\u001b[1m \u001b[0m┃\n",
      "┡━━━━━━━━━━━━━━━━━━━━━━━━━━━╇━━━━━━━━━╇━━━━━━━━━┩\n",
      "│ attractive                │ 0.00112 │ 0.00001 │\n",
      "│ attractive_train          │ 0.00100 │     nan │\n",
      "│ attractive_weighted       │ 0.00112 │ 0.00001 │\n",
      "│ attractive_weighted_train │ 0.00100 │     nan │\n",
      "│ repulsive                 │ 0.00042 │ 0.00001 │\n",
      "│ repulsive_train           │ 0.00052 │     nan │\n",
      "│ repulsive_weighted        │ 0.00042 │ 0.00001 │\n",
      "│ repulsive_weighted_train  │ 0.00052 │     nan │\n",
      "│ total                     │ 0.00154 │ 0.00001 │\n",
      "│ total_train               │ 0.00152 │     nan │\n",
      "└───────────────────────────┴─────────┴─────────┘\n",
      "\n"
     ]
    },
    {
     "data": {
      "application/vnd.jupyter.widget-view+json": {
       "model_id": "",
       "version_major": 2,
       "version_minor": 0
      },
      "text/plain": [
       "Validation: 0it [00:00, ?it/s]"
      ]
     },
     "metadata": {},
     "output_type": "display_data"
    },
    {
     "data": {
      "text/html": [
       "<pre style=\"white-space:pre;overflow-x:auto;line-height:normal;font-family:Menlo,'DejaVu Sans Mono',consolas,'Courier New',monospace\"></pre>\n"
      ],
      "text/plain": []
     },
     "metadata": {},
     "output_type": "display_data"
    },
    {
     "name": "stdout",
     "output_type": "stream",
     "text": [
      "\u001b[3m               Validation epoch=18               \u001b[0m\n",
      "┏━━━━━━━━━━━━━━━━━━━━━━━━━━━┳━━━━━━━━━┳━━━━━━━━━┓\n",
      "┃\u001b[1m \u001b[0m\u001b[1mMetric                   \u001b[0m\u001b[1m \u001b[0m┃\u001b[1m \u001b[0m\u001b[1m  Value\u001b[0m\u001b[1m \u001b[0m┃\u001b[1m \u001b[0m\u001b[1m  Error\u001b[0m\u001b[1m \u001b[0m┃\n",
      "┡━━━━━━━━━━━━━━━━━━━━━━━━━━━╇━━━━━━━━━╇━━━━━━━━━┩\n",
      "│ attractive                │ 0.00107 │ 0.00001 │\n",
      "│ attractive_train          │ 0.00106 │     nan │\n",
      "│ attractive_weighted       │ 0.00107 │ 0.00001 │\n",
      "│ attractive_weighted_train │ 0.00106 │     nan │\n",
      "│ repulsive                 │ 0.00042 │ 0.00001 │\n",
      "│ repulsive_train           │ 0.00040 │     nan │\n",
      "│ repulsive_weighted        │ 0.00042 │ 0.00001 │\n",
      "│ repulsive_weighted_train  │ 0.00040 │     nan │\n",
      "│ total                     │ 0.00149 │ 0.00001 │\n",
      "│ total_train               │ 0.00145 │     nan │\n",
      "└───────────────────────────┴─────────┴─────────┘\n",
      "\n"
     ]
    },
    {
     "data": {
      "application/vnd.jupyter.widget-view+json": {
       "model_id": "",
       "version_major": 2,
       "version_minor": 0
      },
      "text/plain": [
       "Validation: 0it [00:00, ?it/s]"
      ]
     },
     "metadata": {},
     "output_type": "display_data"
    },
    {
     "data": {
      "text/html": [
       "<pre style=\"white-space:pre;overflow-x:auto;line-height:normal;font-family:Menlo,'DejaVu Sans Mono',consolas,'Courier New',monospace\"></pre>\n"
      ],
      "text/plain": []
     },
     "metadata": {},
     "output_type": "display_data"
    },
    {
     "name": "stdout",
     "output_type": "stream",
     "text": [
      "\u001b[3m               Validation epoch=19               \u001b[0m\n",
      "┏━━━━━━━━━━━━━━━━━━━━━━━━━━━┳━━━━━━━━━┳━━━━━━━━━┓\n",
      "┃\u001b[1m \u001b[0m\u001b[1mMetric                   \u001b[0m\u001b[1m \u001b[0m┃\u001b[1m \u001b[0m\u001b[1m  Value\u001b[0m\u001b[1m \u001b[0m┃\u001b[1m \u001b[0m\u001b[1m  Error\u001b[0m\u001b[1m \u001b[0m┃\n",
      "┡━━━━━━━━━━━━━━━━━━━━━━━━━━━╇━━━━━━━━━╇━━━━━━━━━┩\n",
      "│ attractive                │ 0.00108 │ 0.00001 │\n",
      "│ attractive_train          │ 0.00107 │     nan │\n",
      "│ attractive_weighted       │ 0.00108 │ 0.00001 │\n",
      "│ attractive_weighted_train │ 0.00107 │     nan │\n",
      "│ repulsive                 │ 0.00041 │ 0.00001 │\n",
      "│ repulsive_train           │ 0.00049 │     nan │\n",
      "│ repulsive_weighted        │ 0.00041 │ 0.00001 │\n",
      "│ repulsive_weighted_train  │ 0.00049 │     nan │\n",
      "│ total                     │ 0.00148 │ 0.00001 │\n",
      "│ total_train               │ 0.00156 │     nan │\n",
      "└───────────────────────────┴─────────┴─────────┘\n",
      "\n"
     ]
    },
    {
     "data": {
      "application/vnd.jupyter.widget-view+json": {
       "model_id": "",
       "version_major": 2,
       "version_minor": 0
      },
      "text/plain": [
       "Validation: 0it [00:00, ?it/s]"
      ]
     },
     "metadata": {},
     "output_type": "display_data"
    },
    {
     "data": {
      "text/html": [
       "<pre style=\"white-space:pre;overflow-x:auto;line-height:normal;font-family:Menlo,'DejaVu Sans Mono',consolas,'Courier New',monospace\"></pre>\n"
      ],
      "text/plain": []
     },
     "metadata": {},
     "output_type": "display_data"
    },
    {
     "name": "stderr",
     "output_type": "stream",
     "text": [
      "`Trainer.fit` stopped: `max_epochs=20` reached.\n",
      "GPU available: True (cuda), used: True\n",
      "TPU available: False, using: 0 TPU cores\n",
      "IPU available: False, using: 0 IPUs\n",
      "HPU available: False, using: 0 HPUs\n",
      "You are using a CUDA device ('NVIDIA A100-SXM4-80GB') that has Tensor Cores. To properly utilize them, you should set `torch.set_float32_matmul_precision('medium' | 'high')` which will trade-off precision for performance. For more details, read https://pytorch.org/docs/stable/generated/torch.set_float32_matmul_precision.html#torch.set_float32_matmul_precision\n",
      "\u001b[32m[03:41:26] INFO: DataLoader will load 810 graphs (out of 900 available).\u001b[0m\n",
      "\u001b[36m[03:41:26] DEBUG: First graph is /scratch/gpfs/IOJALVO/gnn-tracking/object_condensation/point_clouds_v5/part1_pt1/part_1_0/data21025_s0.pt, last graph is /scratch/gpfs/IOJALVO/gnn-tracking/object_condensation/point_clouds_v5/part1_pt1/part_1_8/data21999_s0.pt\u001b[0m\n",
      "\u001b[32m[03:41:26] INFO: DataLoader will load 90 graphs (out of 900 available).\u001b[0m\n",
      "\u001b[36m[03:41:26] DEBUG: First graph is /scratch/gpfs/IOJALVO/gnn-tracking/object_condensation/point_clouds_v5/part1_pt1/part_1_9/data21009_s0.pt, last graph is /scratch/gpfs/IOJALVO/gnn-tracking/object_condensation/point_clouds_v5/part1_pt1/part_1_9/data21986_s0.pt\u001b[0m\n",
      "/scratch/gpfs/dc3896/micromamba/envs/gnn/lib/python3.10/site-packages/pytorch_lightning/callbacks/model_checkpoint.py:615: UserWarning: Checkpoint directory /home/dc3896/notebooks/lightning_logs/version_49016548/checkpoints exists and is not empty.\n",
      "  rank_zero_warn(f\"Checkpoint directory {dirpath} exists and is not empty.\")\n",
      "LOCAL_RANK: 0 - CUDA_VISIBLE_DEVICES: [0]\n",
      "\n",
      "  | Name     | Type                                | Params\n",
      "-----------------------------------------------------------------\n",
      "0 | model    | GraphConstructionFCNN               | 17.9 K\n",
      "1 | loss_fct | GraphConstructionHingeEmbeddingLoss | 0     \n",
      "-----------------------------------------------------------------\n",
      "17.9 K    Trainable params\n",
      "0         Non-trainable params\n",
      "17.9 K    Total params\n",
      "0.072     Total estimated model params size (MB)\n",
      "SLURM auto-requeueing enabled. Setting signal handlers.\n"
     ]
    },
    {
     "name": "stdout",
     "output_type": "stream",
     "text": [
      "\u001b[3m               Validation epoch=20               \u001b[0m\n",
      "┏━━━━━━━━━━━━━━━━━━━━━━━━━━━┳━━━━━━━━━┳━━━━━━━━━┓\n",
      "┃\u001b[1m \u001b[0m\u001b[1mMetric                   \u001b[0m\u001b[1m \u001b[0m┃\u001b[1m \u001b[0m\u001b[1m  Value\u001b[0m\u001b[1m \u001b[0m┃\u001b[1m \u001b[0m\u001b[1m  Error\u001b[0m\u001b[1m \u001b[0m┃\n",
      "┡━━━━━━━━━━━━━━━━━━━━━━━━━━━╇━━━━━━━━━╇━━━━━━━━━┩\n",
      "│ attractive                │ 0.00104 │ 0.00001 │\n",
      "│ attractive_train          │ 0.00098 │     nan │\n",
      "│ attractive_weighted       │ 0.00104 │ 0.00001 │\n",
      "│ attractive_weighted_train │ 0.00098 │     nan │\n",
      "│ repulsive                 │ 0.00039 │ 0.00001 │\n",
      "│ repulsive_train           │ 0.00041 │     nan │\n",
      "│ repulsive_weighted        │ 0.00039 │ 0.00001 │\n",
      "│ repulsive_weighted_train  │ 0.00041 │     nan │\n",
      "│ total                     │ 0.00143 │ 0.00001 │\n",
      "│ total_train               │ 0.00139 │     nan │\n",
      "└───────────────────────────┴─────────┴─────────┘\n",
      "\n",
      "\n",
      "\n",
      "Training for scaling coefficients = 2.0\n"
     ]
    },
    {
     "data": {
      "application/vnd.jupyter.widget-view+json": {
       "model_id": "",
       "version_major": 2,
       "version_minor": 0
      },
      "text/plain": [
       "Sanity Checking: 0it [00:00, ?it/s]"
      ]
     },
     "metadata": {},
     "output_type": "display_data"
    },
    {
     "name": "stderr",
     "output_type": "stream",
     "text": [
      "/scratch/gpfs/dc3896/micromamba/envs/gnn/lib/python3.10/site-packages/pytorch_lightning/trainer/connectors/data_connector.py:432: PossibleUserWarning: The dataloader, val_dataloader, does not have many workers which may be a bottleneck. Consider increasing the value of the `num_workers` argument` (try 48 which is the number of cpus on this machine) in the `DataLoader` init to improve performance.\n",
      "  rank_zero_warn(\n"
     ]
    },
    {
     "data": {
      "text/html": [
       "<pre style=\"white-space:pre;overflow-x:auto;line-height:normal;font-family:Menlo,'DejaVu Sans Mono',consolas,'Courier New',monospace\"></pre>\n"
      ],
      "text/plain": []
     },
     "metadata": {},
     "output_type": "display_data"
    },
    {
     "name": "stderr",
     "output_type": "stream",
     "text": [
      "/scratch/gpfs/dc3896/micromamba/envs/gnn/lib/python3.10/site-packages/pytorch_lightning/trainer/connectors/data_connector.py:432: PossibleUserWarning: The dataloader, train_dataloader, does not have many workers which may be a bottleneck. Consider increasing the value of the `num_workers` argument` (try 48 which is the number of cpus on this machine) in the `DataLoader` init to improve performance.\n",
      "  rank_zero_warn(\n"
     ]
    },
    {
     "data": {
      "application/vnd.jupyter.widget-view+json": {
       "model_id": "5eaf175019c146ce872a30b340348928",
       "version_major": 2,
       "version_minor": 0
      },
      "text/plain": [
       "Training: 0it [00:00, ?it/s]"
      ]
     },
     "metadata": {},
     "output_type": "display_data"
    },
    {
     "data": {
      "application/vnd.jupyter.widget-view+json": {
       "model_id": "",
       "version_major": 2,
       "version_minor": 0
      },
      "text/plain": [
       "Validation: 0it [00:00, ?it/s]"
      ]
     },
     "metadata": {},
     "output_type": "display_data"
    },
    {
     "data": {
      "text/html": [
       "<pre style=\"white-space:pre;overflow-x:auto;line-height:normal;font-family:Menlo,'DejaVu Sans Mono',consolas,'Courier New',monospace\"></pre>\n"
      ],
      "text/plain": []
     },
     "metadata": {},
     "output_type": "display_data"
    },
    {
     "name": "stdout",
     "output_type": "stream",
     "text": [
      "\u001b[3m               Validation epoch=1                \u001b[0m\n",
      "┏━━━━━━━━━━━━━━━━━━━━━━━━━━━┳━━━━━━━━━┳━━━━━━━━━┓\n",
      "┃\u001b[1m \u001b[0m\u001b[1mMetric                   \u001b[0m\u001b[1m \u001b[0m┃\u001b[1m \u001b[0m\u001b[1m  Value\u001b[0m\u001b[1m \u001b[0m┃\u001b[1m \u001b[0m\u001b[1m  Error\u001b[0m\u001b[1m \u001b[0m┃\n",
      "┡━━━━━━━━━━━━━━━━━━━━━━━━━━━╇━━━━━━━━━╇━━━━━━━━━┩\n",
      "│ attractive                │ 0.00259 │ 0.00001 │\n",
      "│ attractive_train          │ 0.00249 │     nan │\n",
      "│ attractive_weighted       │ 0.00259 │ 0.00001 │\n",
      "│ attractive_weighted_train │ 0.00249 │     nan │\n",
      "│ repulsive                 │ 0.00041 │ 0.00001 │\n",
      "│ repulsive_train           │ 0.00035 │     nan │\n",
      "│ repulsive_weighted        │ 0.00083 │ 0.00001 │\n",
      "│ repulsive_weighted_train  │ 0.00070 │     nan │\n",
      "│ total                     │ 0.00342 │ 0.00002 │\n",
      "│ total_train               │ 0.00319 │     nan │\n",
      "└───────────────────────────┴─────────┴─────────┘\n",
      "\n"
     ]
    },
    {
     "data": {
      "application/vnd.jupyter.widget-view+json": {
       "model_id": "",
       "version_major": 2,
       "version_minor": 0
      },
      "text/plain": [
       "Validation: 0it [00:00, ?it/s]"
      ]
     },
     "metadata": {},
     "output_type": "display_data"
    },
    {
     "data": {
      "text/html": [
       "<pre style=\"white-space:pre;overflow-x:auto;line-height:normal;font-family:Menlo,'DejaVu Sans Mono',consolas,'Courier New',monospace\"></pre>\n"
      ],
      "text/plain": []
     },
     "metadata": {},
     "output_type": "display_data"
    },
    {
     "name": "stdout",
     "output_type": "stream",
     "text": [
      "\u001b[3m               Validation epoch=2                \u001b[0m\n",
      "┏━━━━━━━━━━━━━━━━━━━━━━━━━━━┳━━━━━━━━━┳━━━━━━━━━┓\n",
      "┃\u001b[1m \u001b[0m\u001b[1mMetric                   \u001b[0m\u001b[1m \u001b[0m┃\u001b[1m \u001b[0m\u001b[1m  Value\u001b[0m\u001b[1m \u001b[0m┃\u001b[1m \u001b[0m\u001b[1m  Error\u001b[0m\u001b[1m \u001b[0m┃\n",
      "┡━━━━━━━━━━━━━━━━━━━━━━━━━━━╇━━━━━━━━━╇━━━━━━━━━┩\n",
      "│ attractive                │ 0.00228 │ 0.00001 │\n",
      "│ attractive_train          │ 0.00249 │     nan │\n",
      "│ attractive_weighted       │ 0.00228 │ 0.00001 │\n",
      "│ attractive_weighted_train │ 0.00249 │     nan │\n",
      "│ repulsive                 │ 0.00040 │ 0.00001 │\n",
      "│ repulsive_train           │ 0.00031 │     nan │\n",
      "│ repulsive_weighted        │ 0.00081 │ 0.00001 │\n",
      "│ repulsive_weighted_train  │ 0.00062 │     nan │\n",
      "│ total                     │ 0.00309 │ 0.00002 │\n",
      "│ total_train               │ 0.00311 │     nan │\n",
      "└───────────────────────────┴─────────┴─────────┘\n",
      "\n"
     ]
    },
    {
     "data": {
      "application/vnd.jupyter.widget-view+json": {
       "model_id": "",
       "version_major": 2,
       "version_minor": 0
      },
      "text/plain": [
       "Validation: 0it [00:00, ?it/s]"
      ]
     },
     "metadata": {},
     "output_type": "display_data"
    },
    {
     "data": {
      "text/html": [
       "<pre style=\"white-space:pre;overflow-x:auto;line-height:normal;font-family:Menlo,'DejaVu Sans Mono',consolas,'Courier New',monospace\"></pre>\n"
      ],
      "text/plain": []
     },
     "metadata": {},
     "output_type": "display_data"
    },
    {
     "name": "stdout",
     "output_type": "stream",
     "text": [
      "\u001b[3m               Validation epoch=3                \u001b[0m\n",
      "┏━━━━━━━━━━━━━━━━━━━━━━━━━━━┳━━━━━━━━━┳━━━━━━━━━┓\n",
      "┃\u001b[1m \u001b[0m\u001b[1mMetric                   \u001b[0m\u001b[1m \u001b[0m┃\u001b[1m \u001b[0m\u001b[1m  Value\u001b[0m\u001b[1m \u001b[0m┃\u001b[1m \u001b[0m\u001b[1m  Error\u001b[0m\u001b[1m \u001b[0m┃\n",
      "┡━━━━━━━━━━━━━━━━━━━━━━━━━━━╇━━━━━━━━━╇━━━━━━━━━┩\n",
      "│ attractive                │ 0.00206 │ 0.00001 │\n",
      "│ attractive_train          │ 0.00214 │     nan │\n",
      "│ attractive_weighted       │ 0.00206 │ 0.00001 │\n",
      "│ attractive_weighted_train │ 0.00214 │     nan │\n",
      "│ repulsive                 │ 0.00032 │ 0.00001 │\n",
      "│ repulsive_train           │ 0.00039 │     nan │\n",
      "│ repulsive_weighted        │ 0.00064 │ 0.00001 │\n",
      "│ repulsive_weighted_train  │ 0.00079 │     nan │\n",
      "│ total                     │ 0.00270 │ 0.00001 │\n",
      "│ total_train               │ 0.00292 │     nan │\n",
      "└───────────────────────────┴─────────┴─────────┘\n",
      "\n"
     ]
    },
    {
     "data": {
      "application/vnd.jupyter.widget-view+json": {
       "model_id": "",
       "version_major": 2,
       "version_minor": 0
      },
      "text/plain": [
       "Validation: 0it [00:00, ?it/s]"
      ]
     },
     "metadata": {},
     "output_type": "display_data"
    },
    {
     "data": {
      "text/html": [
       "<pre style=\"white-space:pre;overflow-x:auto;line-height:normal;font-family:Menlo,'DejaVu Sans Mono',consolas,'Courier New',monospace\"></pre>\n"
      ],
      "text/plain": []
     },
     "metadata": {},
     "output_type": "display_data"
    },
    {
     "name": "stdout",
     "output_type": "stream",
     "text": [
      "\u001b[3m               Validation epoch=4                \u001b[0m\n",
      "┏━━━━━━━━━━━━━━━━━━━━━━━━━━━┳━━━━━━━━━┳━━━━━━━━━┓\n",
      "┃\u001b[1m \u001b[0m\u001b[1mMetric                   \u001b[0m\u001b[1m \u001b[0m┃\u001b[1m \u001b[0m\u001b[1m  Value\u001b[0m\u001b[1m \u001b[0m┃\u001b[1m \u001b[0m\u001b[1m  Error\u001b[0m\u001b[1m \u001b[0m┃\n",
      "┡━━━━━━━━━━━━━━━━━━━━━━━━━━━╇━━━━━━━━━╇━━━━━━━━━┩\n",
      "│ attractive                │ 0.00194 │ 0.00001 │\n",
      "│ attractive_train          │ 0.00187 │     nan │\n",
      "│ attractive_weighted       │ 0.00194 │ 0.00001 │\n",
      "│ attractive_weighted_train │ 0.00187 │     nan │\n",
      "│ repulsive                 │ 0.00034 │ 0.00001 │\n",
      "│ repulsive_train           │ 0.00034 │     nan │\n",
      "│ repulsive_weighted        │ 0.00067 │ 0.00001 │\n",
      "│ repulsive_weighted_train  │ 0.00069 │     nan │\n",
      "│ total                     │ 0.00261 │ 0.00001 │\n",
      "│ total_train               │ 0.00256 │     nan │\n",
      "└───────────────────────────┴─────────┴─────────┘\n",
      "\n"
     ]
    },
    {
     "data": {
      "application/vnd.jupyter.widget-view+json": {
       "model_id": "",
       "version_major": 2,
       "version_minor": 0
      },
      "text/plain": [
       "Validation: 0it [00:00, ?it/s]"
      ]
     },
     "metadata": {},
     "output_type": "display_data"
    },
    {
     "data": {
      "text/html": [
       "<pre style=\"white-space:pre;overflow-x:auto;line-height:normal;font-family:Menlo,'DejaVu Sans Mono',consolas,'Courier New',monospace\"></pre>\n"
      ],
      "text/plain": []
     },
     "metadata": {},
     "output_type": "display_data"
    },
    {
     "name": "stdout",
     "output_type": "stream",
     "text": [
      "\u001b[3m               Validation epoch=5                \u001b[0m\n",
      "┏━━━━━━━━━━━━━━━━━━━━━━━━━━━┳━━━━━━━━━┳━━━━━━━━━┓\n",
      "┃\u001b[1m \u001b[0m\u001b[1mMetric                   \u001b[0m\u001b[1m \u001b[0m┃\u001b[1m \u001b[0m\u001b[1m  Value\u001b[0m\u001b[1m \u001b[0m┃\u001b[1m \u001b[0m\u001b[1m  Error\u001b[0m\u001b[1m \u001b[0m┃\n",
      "┡━━━━━━━━━━━━━━━━━━━━━━━━━━━╇━━━━━━━━━╇━━━━━━━━━┩\n",
      "│ attractive                │ 0.00177 │ 0.00001 │\n",
      "│ attractive_train          │ 0.00199 │     nan │\n",
      "│ attractive_weighted       │ 0.00177 │ 0.00001 │\n",
      "│ attractive_weighted_train │ 0.00199 │     nan │\n",
      "│ repulsive                 │ 0.00034 │ 0.00001 │\n",
      "│ repulsive_train           │ 0.00033 │     nan │\n",
      "│ repulsive_weighted        │ 0.00068 │ 0.00001 │\n",
      "│ repulsive_weighted_train  │ 0.00065 │     nan │\n",
      "│ total                     │ 0.00245 │ 0.00001 │\n",
      "│ total_train               │ 0.00265 │     nan │\n",
      "└───────────────────────────┴─────────┴─────────┘\n",
      "\n"
     ]
    },
    {
     "data": {
      "application/vnd.jupyter.widget-view+json": {
       "model_id": "",
       "version_major": 2,
       "version_minor": 0
      },
      "text/plain": [
       "Validation: 0it [00:00, ?it/s]"
      ]
     },
     "metadata": {},
     "output_type": "display_data"
    },
    {
     "data": {
      "text/html": [
       "<pre style=\"white-space:pre;overflow-x:auto;line-height:normal;font-family:Menlo,'DejaVu Sans Mono',consolas,'Courier New',monospace\"></pre>\n"
      ],
      "text/plain": []
     },
     "metadata": {},
     "output_type": "display_data"
    },
    {
     "name": "stdout",
     "output_type": "stream",
     "text": [
      "\u001b[3m               Validation epoch=6                \u001b[0m\n",
      "┏━━━━━━━━━━━━━━━━━━━━━━━━━━━┳━━━━━━━━━┳━━━━━━━━━┓\n",
      "┃\u001b[1m \u001b[0m\u001b[1mMetric                   \u001b[0m\u001b[1m \u001b[0m┃\u001b[1m \u001b[0m\u001b[1m  Value\u001b[0m\u001b[1m \u001b[0m┃\u001b[1m \u001b[0m\u001b[1m  Error\u001b[0m\u001b[1m \u001b[0m┃\n",
      "┡━━━━━━━━━━━━━━━━━━━━━━━━━━━╇━━━━━━━━━╇━━━━━━━━━┩\n",
      "│ attractive                │ 0.00178 │ 0.00001 │\n",
      "│ attractive_train          │ 0.00182 │     nan │\n",
      "│ attractive_weighted       │ 0.00178 │ 0.00001 │\n",
      "│ attractive_weighted_train │ 0.00182 │     nan │\n",
      "│ repulsive                 │ 0.00028 │ 0.00000 │\n",
      "│ repulsive_train           │ 0.00027 │     nan │\n",
      "│ repulsive_weighted        │ 0.00057 │ 0.00001 │\n",
      "│ repulsive_weighted_train  │ 0.00053 │     nan │\n",
      "│ total                     │ 0.00235 │ 0.00001 │\n",
      "│ total_train               │ 0.00236 │     nan │\n",
      "└───────────────────────────┴─────────┴─────────┘\n",
      "\n"
     ]
    },
    {
     "data": {
      "application/vnd.jupyter.widget-view+json": {
       "model_id": "",
       "version_major": 2,
       "version_minor": 0
      },
      "text/plain": [
       "Validation: 0it [00:00, ?it/s]"
      ]
     },
     "metadata": {},
     "output_type": "display_data"
    },
    {
     "data": {
      "text/html": [
       "<pre style=\"white-space:pre;overflow-x:auto;line-height:normal;font-family:Menlo,'DejaVu Sans Mono',consolas,'Courier New',monospace\"></pre>\n"
      ],
      "text/plain": []
     },
     "metadata": {},
     "output_type": "display_data"
    },
    {
     "name": "stdout",
     "output_type": "stream",
     "text": [
      "\u001b[3m               Validation epoch=7                \u001b[0m\n",
      "┏━━━━━━━━━━━━━━━━━━━━━━━━━━━┳━━━━━━━━━┳━━━━━━━━━┓\n",
      "┃\u001b[1m \u001b[0m\u001b[1mMetric                   \u001b[0m\u001b[1m \u001b[0m┃\u001b[1m \u001b[0m\u001b[1m  Value\u001b[0m\u001b[1m \u001b[0m┃\u001b[1m \u001b[0m\u001b[1m  Error\u001b[0m\u001b[1m \u001b[0m┃\n",
      "┡━━━━━━━━━━━━━━━━━━━━━━━━━━━╇━━━━━━━━━╇━━━━━━━━━┩\n",
      "│ attractive                │ 0.00160 │ 0.00001 │\n",
      "│ attractive_train          │ 0.00174 │     nan │\n",
      "│ attractive_weighted       │ 0.00160 │ 0.00001 │\n",
      "│ attractive_weighted_train │ 0.00174 │     nan │\n",
      "│ repulsive                 │ 0.00034 │ 0.00001 │\n",
      "│ repulsive_train           │ 0.00023 │     nan │\n",
      "│ repulsive_weighted        │ 0.00068 │ 0.00001 │\n",
      "│ repulsive_weighted_train  │ 0.00046 │     nan │\n",
      "│ total                     │ 0.00229 │ 0.00001 │\n",
      "│ total_train               │ 0.00220 │     nan │\n",
      "└───────────────────────────┴─────────┴─────────┘\n",
      "\n"
     ]
    },
    {
     "data": {
      "application/vnd.jupyter.widget-view+json": {
       "model_id": "",
       "version_major": 2,
       "version_minor": 0
      },
      "text/plain": [
       "Validation: 0it [00:00, ?it/s]"
      ]
     },
     "metadata": {},
     "output_type": "display_data"
    },
    {
     "data": {
      "text/html": [
       "<pre style=\"white-space:pre;overflow-x:auto;line-height:normal;font-family:Menlo,'DejaVu Sans Mono',consolas,'Courier New',monospace\"></pre>\n"
      ],
      "text/plain": []
     },
     "metadata": {},
     "output_type": "display_data"
    },
    {
     "name": "stdout",
     "output_type": "stream",
     "text": [
      "\u001b[3m               Validation epoch=8                \u001b[0m\n",
      "┏━━━━━━━━━━━━━━━━━━━━━━━━━━━┳━━━━━━━━━┳━━━━━━━━━┓\n",
      "┃\u001b[1m \u001b[0m\u001b[1mMetric                   \u001b[0m\u001b[1m \u001b[0m┃\u001b[1m \u001b[0m\u001b[1m  Value\u001b[0m\u001b[1m \u001b[0m┃\u001b[1m \u001b[0m\u001b[1m  Error\u001b[0m\u001b[1m \u001b[0m┃\n",
      "┡━━━━━━━━━━━━━━━━━━━━━━━━━━━╇━━━━━━━━━╇━━━━━━━━━┩\n",
      "│ attractive                │ 0.00165 │ 0.00001 │\n",
      "│ attractive_train          │ 0.00172 │     nan │\n",
      "│ attractive_weighted       │ 0.00165 │ 0.00001 │\n",
      "│ attractive_weighted_train │ 0.00172 │     nan │\n",
      "│ repulsive                 │ 0.00029 │ 0.00000 │\n",
      "│ repulsive_train           │ 0.00027 │     nan │\n",
      "│ repulsive_weighted        │ 0.00057 │ 0.00001 │\n",
      "│ repulsive_weighted_train  │ 0.00054 │     nan │\n",
      "│ total                     │ 0.00222 │ 0.00001 │\n",
      "│ total_train               │ 0.00227 │     nan │\n",
      "└───────────────────────────┴─────────┴─────────┘\n",
      "\n"
     ]
    },
    {
     "data": {
      "application/vnd.jupyter.widget-view+json": {
       "model_id": "",
       "version_major": 2,
       "version_minor": 0
      },
      "text/plain": [
       "Validation: 0it [00:00, ?it/s]"
      ]
     },
     "metadata": {},
     "output_type": "display_data"
    },
    {
     "data": {
      "text/html": [
       "<pre style=\"white-space:pre;overflow-x:auto;line-height:normal;font-family:Menlo,'DejaVu Sans Mono',consolas,'Courier New',monospace\"></pre>\n"
      ],
      "text/plain": []
     },
     "metadata": {},
     "output_type": "display_data"
    },
    {
     "name": "stdout",
     "output_type": "stream",
     "text": [
      "\u001b[3m               Validation epoch=9                \u001b[0m\n",
      "┏━━━━━━━━━━━━━━━━━━━━━━━━━━━┳━━━━━━━━━┳━━━━━━━━━┓\n",
      "┃\u001b[1m \u001b[0m\u001b[1mMetric                   \u001b[0m\u001b[1m \u001b[0m┃\u001b[1m \u001b[0m\u001b[1m  Value\u001b[0m\u001b[1m \u001b[0m┃\u001b[1m \u001b[0m\u001b[1m  Error\u001b[0m\u001b[1m \u001b[0m┃\n",
      "┡━━━━━━━━━━━━━━━━━━━━━━━━━━━╇━━━━━━━━━╇━━━━━━━━━┩\n",
      "│ attractive                │ 0.00172 │ 0.00001 │\n",
      "│ attractive_train          │ 0.00177 │     nan │\n",
      "│ attractive_weighted       │ 0.00172 │ 0.00001 │\n",
      "│ attractive_weighted_train │ 0.00177 │     nan │\n",
      "│ repulsive                 │ 0.00027 │ 0.00000 │\n",
      "│ repulsive_train           │ 0.00024 │     nan │\n",
      "│ repulsive_weighted        │ 0.00054 │ 0.00001 │\n",
      "│ repulsive_weighted_train  │ 0.00049 │     nan │\n",
      "│ total                     │ 0.00226 │ 0.00001 │\n",
      "│ total_train               │ 0.00225 │     nan │\n",
      "└───────────────────────────┴─────────┴─────────┘\n",
      "\n"
     ]
    },
    {
     "data": {
      "application/vnd.jupyter.widget-view+json": {
       "model_id": "",
       "version_major": 2,
       "version_minor": 0
      },
      "text/plain": [
       "Validation: 0it [00:00, ?it/s]"
      ]
     },
     "metadata": {},
     "output_type": "display_data"
    },
    {
     "data": {
      "text/html": [
       "<pre style=\"white-space:pre;overflow-x:auto;line-height:normal;font-family:Menlo,'DejaVu Sans Mono',consolas,'Courier New',monospace\"></pre>\n"
      ],
      "text/plain": []
     },
     "metadata": {},
     "output_type": "display_data"
    },
    {
     "name": "stdout",
     "output_type": "stream",
     "text": [
      "\u001b[3m               Validation epoch=10               \u001b[0m\n",
      "┏━━━━━━━━━━━━━━━━━━━━━━━━━━━┳━━━━━━━━━┳━━━━━━━━━┓\n",
      "┃\u001b[1m \u001b[0m\u001b[1mMetric                   \u001b[0m\u001b[1m \u001b[0m┃\u001b[1m \u001b[0m\u001b[1m  Value\u001b[0m\u001b[1m \u001b[0m┃\u001b[1m \u001b[0m\u001b[1m  Error\u001b[0m\u001b[1m \u001b[0m┃\n",
      "┡━━━━━━━━━━━━━━━━━━━━━━━━━━━╇━━━━━━━━━╇━━━━━━━━━┩\n",
      "│ attractive                │ 0.00163 │ 0.00001 │\n",
      "│ attractive_train          │ 0.00151 │     nan │\n",
      "│ attractive_weighted       │ 0.00163 │ 0.00001 │\n",
      "│ attractive_weighted_train │ 0.00151 │     nan │\n",
      "│ repulsive                 │ 0.00030 │ 0.00001 │\n",
      "│ repulsive_train           │ 0.00029 │     nan │\n",
      "│ repulsive_weighted        │ 0.00060 │ 0.00001 │\n",
      "│ repulsive_weighted_train  │ 0.00058 │     nan │\n",
      "│ total                     │ 0.00223 │ 0.00001 │\n",
      "│ total_train               │ 0.00209 │     nan │\n",
      "└───────────────────────────┴─────────┴─────────┘\n",
      "\n"
     ]
    },
    {
     "data": {
      "application/vnd.jupyter.widget-view+json": {
       "model_id": "",
       "version_major": 2,
       "version_minor": 0
      },
      "text/plain": [
       "Validation: 0it [00:00, ?it/s]"
      ]
     },
     "metadata": {},
     "output_type": "display_data"
    },
    {
     "data": {
      "text/html": [
       "<pre style=\"white-space:pre;overflow-x:auto;line-height:normal;font-family:Menlo,'DejaVu Sans Mono',consolas,'Courier New',monospace\"></pre>\n"
      ],
      "text/plain": []
     },
     "metadata": {},
     "output_type": "display_data"
    },
    {
     "name": "stdout",
     "output_type": "stream",
     "text": [
      "\u001b[3m               Validation epoch=11               \u001b[0m\n",
      "┏━━━━━━━━━━━━━━━━━━━━━━━━━━━┳━━━━━━━━━┳━━━━━━━━━┓\n",
      "┃\u001b[1m \u001b[0m\u001b[1mMetric                   \u001b[0m\u001b[1m \u001b[0m┃\u001b[1m \u001b[0m\u001b[1m  Value\u001b[0m\u001b[1m \u001b[0m┃\u001b[1m \u001b[0m\u001b[1m  Error\u001b[0m\u001b[1m \u001b[0m┃\n",
      "┡━━━━━━━━━━━━━━━━━━━━━━━━━━━╇━━━━━━━━━╇━━━━━━━━━┩\n",
      "│ attractive                │ 0.00144 │ 0.00001 │\n",
      "│ attractive_train          │ 0.00152 │     nan │\n",
      "│ attractive_weighted       │ 0.00144 │ 0.00001 │\n",
      "│ attractive_weighted_train │ 0.00152 │     nan │\n",
      "│ repulsive                 │ 0.00030 │ 0.00001 │\n",
      "│ repulsive_train           │ 0.00032 │     nan │\n",
      "│ repulsive_weighted        │ 0.00061 │ 0.00001 │\n",
      "│ repulsive_weighted_train  │ 0.00064 │     nan │\n",
      "│ total                     │ 0.00204 │ 0.00001 │\n",
      "│ total_train               │ 0.00215 │     nan │\n",
      "└───────────────────────────┴─────────┴─────────┘\n",
      "\n"
     ]
    },
    {
     "data": {
      "application/vnd.jupyter.widget-view+json": {
       "model_id": "",
       "version_major": 2,
       "version_minor": 0
      },
      "text/plain": [
       "Validation: 0it [00:00, ?it/s]"
      ]
     },
     "metadata": {},
     "output_type": "display_data"
    },
    {
     "data": {
      "text/html": [
       "<pre style=\"white-space:pre;overflow-x:auto;line-height:normal;font-family:Menlo,'DejaVu Sans Mono',consolas,'Courier New',monospace\"></pre>\n"
      ],
      "text/plain": []
     },
     "metadata": {},
     "output_type": "display_data"
    },
    {
     "name": "stdout",
     "output_type": "stream",
     "text": [
      "\u001b[3m               Validation epoch=12               \u001b[0m\n",
      "┏━━━━━━━━━━━━━━━━━━━━━━━━━━━┳━━━━━━━━━┳━━━━━━━━━┓\n",
      "┃\u001b[1m \u001b[0m\u001b[1mMetric                   \u001b[0m\u001b[1m \u001b[0m┃\u001b[1m \u001b[0m\u001b[1m  Value\u001b[0m\u001b[1m \u001b[0m┃\u001b[1m \u001b[0m\u001b[1m  Error\u001b[0m\u001b[1m \u001b[0m┃\n",
      "┡━━━━━━━━━━━━━━━━━━━━━━━━━━━╇━━━━━━━━━╇━━━━━━━━━┩\n",
      "│ attractive                │ 0.00151 │ 0.00001 │\n",
      "│ attractive_train          │ 0.00141 │     nan │\n",
      "│ attractive_weighted       │ 0.00151 │ 0.00001 │\n",
      "│ attractive_weighted_train │ 0.00141 │     nan │\n",
      "│ repulsive                 │ 0.00026 │ 0.00000 │\n",
      "│ repulsive_train           │ 0.00025 │     nan │\n",
      "│ repulsive_weighted        │ 0.00051 │ 0.00001 │\n",
      "│ repulsive_weighted_train  │ 0.00049 │     nan │\n",
      "│ total                     │ 0.00202 │ 0.00001 │\n",
      "│ total_train               │ 0.00190 │     nan │\n",
      "└───────────────────────────┴─────────┴─────────┘\n",
      "\n"
     ]
    },
    {
     "data": {
      "application/vnd.jupyter.widget-view+json": {
       "model_id": "",
       "version_major": 2,
       "version_minor": 0
      },
      "text/plain": [
       "Validation: 0it [00:00, ?it/s]"
      ]
     },
     "metadata": {},
     "output_type": "display_data"
    },
    {
     "data": {
      "text/html": [
       "<pre style=\"white-space:pre;overflow-x:auto;line-height:normal;font-family:Menlo,'DejaVu Sans Mono',consolas,'Courier New',monospace\"></pre>\n"
      ],
      "text/plain": []
     },
     "metadata": {},
     "output_type": "display_data"
    },
    {
     "name": "stdout",
     "output_type": "stream",
     "text": [
      "\u001b[3m               Validation epoch=13               \u001b[0m\n",
      "┏━━━━━━━━━━━━━━━━━━━━━━━━━━━┳━━━━━━━━━┳━━━━━━━━━┓\n",
      "┃\u001b[1m \u001b[0m\u001b[1mMetric                   \u001b[0m\u001b[1m \u001b[0m┃\u001b[1m \u001b[0m\u001b[1m  Value\u001b[0m\u001b[1m \u001b[0m┃\u001b[1m \u001b[0m\u001b[1m  Error\u001b[0m\u001b[1m \u001b[0m┃\n",
      "┡━━━━━━━━━━━━━━━━━━━━━━━━━━━╇━━━━━━━━━╇━━━━━━━━━┩\n",
      "│ attractive                │ 0.00150 │ 0.00001 │\n",
      "│ attractive_train          │ 0.00149 │     nan │\n",
      "│ attractive_weighted       │ 0.00150 │ 0.00001 │\n",
      "│ attractive_weighted_train │ 0.00149 │     nan │\n",
      "│ repulsive                 │ 0.00027 │ 0.00000 │\n",
      "│ repulsive_train           │ 0.00034 │     nan │\n",
      "│ repulsive_weighted        │ 0.00053 │ 0.00001 │\n",
      "│ repulsive_weighted_train  │ 0.00067 │     nan │\n",
      "│ total                     │ 0.00203 │ 0.00001 │\n",
      "│ total_train               │ 0.00216 │     nan │\n",
      "└───────────────────────────┴─────────┴─────────┘\n",
      "\n"
     ]
    },
    {
     "data": {
      "application/vnd.jupyter.widget-view+json": {
       "model_id": "",
       "version_major": 2,
       "version_minor": 0
      },
      "text/plain": [
       "Validation: 0it [00:00, ?it/s]"
      ]
     },
     "metadata": {},
     "output_type": "display_data"
    },
    {
     "data": {
      "text/html": [
       "<pre style=\"white-space:pre;overflow-x:auto;line-height:normal;font-family:Menlo,'DejaVu Sans Mono',consolas,'Courier New',monospace\"></pre>\n"
      ],
      "text/plain": []
     },
     "metadata": {},
     "output_type": "display_data"
    },
    {
     "name": "stdout",
     "output_type": "stream",
     "text": [
      "\u001b[3m               Validation epoch=14               \u001b[0m\n",
      "┏━━━━━━━━━━━━━━━━━━━━━━━━━━━┳━━━━━━━━━┳━━━━━━━━━┓\n",
      "┃\u001b[1m \u001b[0m\u001b[1mMetric                   \u001b[0m\u001b[1m \u001b[0m┃\u001b[1m \u001b[0m\u001b[1m  Value\u001b[0m\u001b[1m \u001b[0m┃\u001b[1m \u001b[0m\u001b[1m  Error\u001b[0m\u001b[1m \u001b[0m┃\n",
      "┡━━━━━━━━━━━━━━━━━━━━━━━━━━━╇━━━━━━━━━╇━━━━━━━━━┩\n",
      "│ attractive                │ 0.00136 │ 0.00001 │\n",
      "│ attractive_train          │ 0.00152 │     nan │\n",
      "│ attractive_weighted       │ 0.00136 │ 0.00001 │\n",
      "│ attractive_weighted_train │ 0.00152 │     nan │\n",
      "│ repulsive                 │ 0.00029 │ 0.00000 │\n",
      "│ repulsive_train           │ 0.00025 │     nan │\n",
      "│ repulsive_weighted        │ 0.00059 │ 0.00001 │\n",
      "│ repulsive_weighted_train  │ 0.00049 │     nan │\n",
      "│ total                     │ 0.00195 │ 0.00001 │\n",
      "│ total_train               │ 0.00201 │     nan │\n",
      "└───────────────────────────┴─────────┴─────────┘\n",
      "\n"
     ]
    },
    {
     "data": {
      "application/vnd.jupyter.widget-view+json": {
       "model_id": "",
       "version_major": 2,
       "version_minor": 0
      },
      "text/plain": [
       "Validation: 0it [00:00, ?it/s]"
      ]
     },
     "metadata": {},
     "output_type": "display_data"
    },
    {
     "data": {
      "text/html": [
       "<pre style=\"white-space:pre;overflow-x:auto;line-height:normal;font-family:Menlo,'DejaVu Sans Mono',consolas,'Courier New',monospace\"></pre>\n"
      ],
      "text/plain": []
     },
     "metadata": {},
     "output_type": "display_data"
    },
    {
     "name": "stdout",
     "output_type": "stream",
     "text": [
      "\u001b[3m               Validation epoch=15               \u001b[0m\n",
      "┏━━━━━━━━━━━━━━━━━━━━━━━━━━━┳━━━━━━━━━┳━━━━━━━━━┓\n",
      "┃\u001b[1m \u001b[0m\u001b[1mMetric                   \u001b[0m\u001b[1m \u001b[0m┃\u001b[1m \u001b[0m\u001b[1m  Value\u001b[0m\u001b[1m \u001b[0m┃\u001b[1m \u001b[0m\u001b[1m  Error\u001b[0m\u001b[1m \u001b[0m┃\n",
      "┡━━━━━━━━━━━━━━━━━━━━━━━━━━━╇━━━━━━━━━╇━━━━━━━━━┩\n",
      "│ attractive                │ 0.00141 │ 0.00001 │\n",
      "│ attractive_train          │ 0.00139 │     nan │\n",
      "│ attractive_weighted       │ 0.00141 │ 0.00001 │\n",
      "│ attractive_weighted_train │ 0.00139 │     nan │\n",
      "│ repulsive                 │ 0.00026 │ 0.00000 │\n",
      "│ repulsive_train           │ 0.00026 │     nan │\n",
      "│ repulsive_weighted        │ 0.00053 │ 0.00001 │\n",
      "│ repulsive_weighted_train  │ 0.00052 │     nan │\n",
      "│ total                     │ 0.00193 │ 0.00001 │\n",
      "│ total_train               │ 0.00192 │     nan │\n",
      "└───────────────────────────┴─────────┴─────────┘\n",
      "\n"
     ]
    },
    {
     "data": {
      "application/vnd.jupyter.widget-view+json": {
       "model_id": "",
       "version_major": 2,
       "version_minor": 0
      },
      "text/plain": [
       "Validation: 0it [00:00, ?it/s]"
      ]
     },
     "metadata": {},
     "output_type": "display_data"
    },
    {
     "data": {
      "text/html": [
       "<pre style=\"white-space:pre;overflow-x:auto;line-height:normal;font-family:Menlo,'DejaVu Sans Mono',consolas,'Courier New',monospace\"></pre>\n"
      ],
      "text/plain": []
     },
     "metadata": {},
     "output_type": "display_data"
    },
    {
     "name": "stdout",
     "output_type": "stream",
     "text": [
      "\u001b[3m               Validation epoch=16               \u001b[0m\n",
      "┏━━━━━━━━━━━━━━━━━━━━━━━━━━━┳━━━━━━━━━┳━━━━━━━━━┓\n",
      "┃\u001b[1m \u001b[0m\u001b[1mMetric                   \u001b[0m\u001b[1m \u001b[0m┃\u001b[1m \u001b[0m\u001b[1m  Value\u001b[0m\u001b[1m \u001b[0m┃\u001b[1m \u001b[0m\u001b[1m  Error\u001b[0m\u001b[1m \u001b[0m┃\n",
      "┡━━━━━━━━━━━━━━━━━━━━━━━━━━━╇━━━━━━━━━╇━━━━━━━━━┩\n",
      "│ attractive                │ 0.00143 │ 0.00001 │\n",
      "│ attractive_train          │ 0.00143 │     nan │\n",
      "│ attractive_weighted       │ 0.00143 │ 0.00001 │\n",
      "│ attractive_weighted_train │ 0.00143 │     nan │\n",
      "│ repulsive                 │ 0.00025 │ 0.00000 │\n",
      "│ repulsive_train           │ 0.00031 │     nan │\n",
      "│ repulsive_weighted        │ 0.00049 │ 0.00001 │\n",
      "│ repulsive_weighted_train  │ 0.00062 │     nan │\n",
      "│ total                     │ 0.00192 │ 0.00001 │\n",
      "│ total_train               │ 0.00205 │     nan │\n",
      "└───────────────────────────┴─────────┴─────────┘\n",
      "\n"
     ]
    },
    {
     "data": {
      "application/vnd.jupyter.widget-view+json": {
       "model_id": "",
       "version_major": 2,
       "version_minor": 0
      },
      "text/plain": [
       "Validation: 0it [00:00, ?it/s]"
      ]
     },
     "metadata": {},
     "output_type": "display_data"
    },
    {
     "data": {
      "text/html": [
       "<pre style=\"white-space:pre;overflow-x:auto;line-height:normal;font-family:Menlo,'DejaVu Sans Mono',consolas,'Courier New',monospace\"></pre>\n"
      ],
      "text/plain": []
     },
     "metadata": {},
     "output_type": "display_data"
    },
    {
     "name": "stdout",
     "output_type": "stream",
     "text": [
      "\u001b[3m               Validation epoch=17               \u001b[0m\n",
      "┏━━━━━━━━━━━━━━━━━━━━━━━━━━━┳━━━━━━━━━┳━━━━━━━━━┓\n",
      "┃\u001b[1m \u001b[0m\u001b[1mMetric                   \u001b[0m\u001b[1m \u001b[0m┃\u001b[1m \u001b[0m\u001b[1m  Value\u001b[0m\u001b[1m \u001b[0m┃\u001b[1m \u001b[0m\u001b[1m  Error\u001b[0m\u001b[1m \u001b[0m┃\n",
      "┡━━━━━━━━━━━━━━━━━━━━━━━━━━━╇━━━━━━━━━╇━━━━━━━━━┩\n",
      "│ attractive                │ 0.00132 │ 0.00001 │\n",
      "│ attractive_train          │ 0.00128 │     nan │\n",
      "│ attractive_weighted       │ 0.00132 │ 0.00001 │\n",
      "│ attractive_weighted_train │ 0.00128 │     nan │\n",
      "│ repulsive                 │ 0.00026 │ 0.00000 │\n",
      "│ repulsive_train           │ 0.00029 │     nan │\n",
      "│ repulsive_weighted        │ 0.00052 │ 0.00001 │\n",
      "│ repulsive_weighted_train  │ 0.00058 │     nan │\n",
      "│ total                     │ 0.00184 │ 0.00001 │\n",
      "│ total_train               │ 0.00187 │     nan │\n",
      "└───────────────────────────┴─────────┴─────────┘\n",
      "\n"
     ]
    },
    {
     "data": {
      "application/vnd.jupyter.widget-view+json": {
       "model_id": "",
       "version_major": 2,
       "version_minor": 0
      },
      "text/plain": [
       "Validation: 0it [00:00, ?it/s]"
      ]
     },
     "metadata": {},
     "output_type": "display_data"
    },
    {
     "data": {
      "text/html": [
       "<pre style=\"white-space:pre;overflow-x:auto;line-height:normal;font-family:Menlo,'DejaVu Sans Mono',consolas,'Courier New',monospace\"></pre>\n"
      ],
      "text/plain": []
     },
     "metadata": {},
     "output_type": "display_data"
    },
    {
     "name": "stdout",
     "output_type": "stream",
     "text": [
      "\u001b[3m               Validation epoch=18               \u001b[0m\n",
      "┏━━━━━━━━━━━━━━━━━━━━━━━━━━━┳━━━━━━━━━┳━━━━━━━━━┓\n",
      "┃\u001b[1m \u001b[0m\u001b[1mMetric                   \u001b[0m\u001b[1m \u001b[0m┃\u001b[1m \u001b[0m\u001b[1m  Value\u001b[0m\u001b[1m \u001b[0m┃\u001b[1m \u001b[0m\u001b[1m  Error\u001b[0m\u001b[1m \u001b[0m┃\n",
      "┡━━━━━━━━━━━━━━━━━━━━━━━━━━━╇━━━━━━━━━╇━━━━━━━━━┩\n",
      "│ attractive                │ 0.00130 │ 0.00001 │\n",
      "│ attractive_train          │ 0.00124 │     nan │\n",
      "│ attractive_weighted       │ 0.00130 │ 0.00001 │\n",
      "│ attractive_weighted_train │ 0.00124 │     nan │\n",
      "│ repulsive                 │ 0.00025 │ 0.00000 │\n",
      "│ repulsive_train           │ 0.00021 │     nan │\n",
      "│ repulsive_weighted        │ 0.00050 │ 0.00001 │\n",
      "│ repulsive_weighted_train  │ 0.00041 │     nan │\n",
      "│ total                     │ 0.00180 │ 0.00001 │\n",
      "│ total_train               │ 0.00165 │     nan │\n",
      "└───────────────────────────┴─────────┴─────────┘\n",
      "\n"
     ]
    },
    {
     "data": {
      "application/vnd.jupyter.widget-view+json": {
       "model_id": "",
       "version_major": 2,
       "version_minor": 0
      },
      "text/plain": [
       "Validation: 0it [00:00, ?it/s]"
      ]
     },
     "metadata": {},
     "output_type": "display_data"
    },
    {
     "data": {
      "text/html": [
       "<pre style=\"white-space:pre;overflow-x:auto;line-height:normal;font-family:Menlo,'DejaVu Sans Mono',consolas,'Courier New',monospace\"></pre>\n"
      ],
      "text/plain": []
     },
     "metadata": {},
     "output_type": "display_data"
    },
    {
     "name": "stdout",
     "output_type": "stream",
     "text": [
      "\u001b[3m               Validation epoch=19               \u001b[0m\n",
      "┏━━━━━━━━━━━━━━━━━━━━━━━━━━━┳━━━━━━━━━┳━━━━━━━━━┓\n",
      "┃\u001b[1m \u001b[0m\u001b[1mMetric                   \u001b[0m\u001b[1m \u001b[0m┃\u001b[1m \u001b[0m\u001b[1m  Value\u001b[0m\u001b[1m \u001b[0m┃\u001b[1m \u001b[0m\u001b[1m  Error\u001b[0m\u001b[1m \u001b[0m┃\n",
      "┡━━━━━━━━━━━━━━━━━━━━━━━━━━━╇━━━━━━━━━╇━━━━━━━━━┩\n",
      "│ attractive                │ 0.00134 │ 0.00001 │\n",
      "│ attractive_train          │ 0.00134 │     nan │\n",
      "│ attractive_weighted       │ 0.00134 │ 0.00001 │\n",
      "│ attractive_weighted_train │ 0.00134 │     nan │\n",
      "│ repulsive                 │ 0.00022 │ 0.00000 │\n",
      "│ repulsive_train           │ 0.00030 │     nan │\n",
      "│ repulsive_weighted        │ 0.00044 │ 0.00001 │\n",
      "│ repulsive_weighted_train  │ 0.00061 │     nan │\n",
      "│ total                     │ 0.00179 │ 0.00001 │\n",
      "│ total_train               │ 0.00195 │     nan │\n",
      "└───────────────────────────┴─────────┴─────────┘\n",
      "\n"
     ]
    },
    {
     "data": {
      "application/vnd.jupyter.widget-view+json": {
       "model_id": "",
       "version_major": 2,
       "version_minor": 0
      },
      "text/plain": [
       "Validation: 0it [00:00, ?it/s]"
      ]
     },
     "metadata": {},
     "output_type": "display_data"
    },
    {
     "data": {
      "text/html": [
       "<pre style=\"white-space:pre;overflow-x:auto;line-height:normal;font-family:Menlo,'DejaVu Sans Mono',consolas,'Courier New',monospace\"></pre>\n"
      ],
      "text/plain": []
     },
     "metadata": {},
     "output_type": "display_data"
    },
    {
     "name": "stderr",
     "output_type": "stream",
     "text": [
      "`Trainer.fit` stopped: `max_epochs=20` reached.\n",
      "GPU available: True (cuda), used: True\n",
      "TPU available: False, using: 0 TPU cores\n",
      "IPU available: False, using: 0 IPUs\n",
      "HPU available: False, using: 0 HPUs\n",
      "You are using a CUDA device ('NVIDIA A100-SXM4-80GB') that has Tensor Cores. To properly utilize them, you should set `torch.set_float32_matmul_precision('medium' | 'high')` which will trade-off precision for performance. For more details, read https://pytorch.org/docs/stable/generated/torch.set_float32_matmul_precision.html#torch.set_float32_matmul_precision\n",
      "\u001b[32m[03:43:00] INFO: DataLoader will load 810 graphs (out of 900 available).\u001b[0m\n",
      "\u001b[36m[03:43:00] DEBUG: First graph is /scratch/gpfs/IOJALVO/gnn-tracking/object_condensation/point_clouds_v5/part1_pt1/part_1_0/data21025_s0.pt, last graph is /scratch/gpfs/IOJALVO/gnn-tracking/object_condensation/point_clouds_v5/part1_pt1/part_1_8/data21999_s0.pt\u001b[0m\n",
      "\u001b[32m[03:43:00] INFO: DataLoader will load 90 graphs (out of 900 available).\u001b[0m\n",
      "\u001b[36m[03:43:00] DEBUG: First graph is /scratch/gpfs/IOJALVO/gnn-tracking/object_condensation/point_clouds_v5/part1_pt1/part_1_9/data21009_s0.pt, last graph is /scratch/gpfs/IOJALVO/gnn-tracking/object_condensation/point_clouds_v5/part1_pt1/part_1_9/data21986_s0.pt\u001b[0m\n",
      "/scratch/gpfs/dc3896/micromamba/envs/gnn/lib/python3.10/site-packages/pytorch_lightning/callbacks/model_checkpoint.py:615: UserWarning: Checkpoint directory /home/dc3896/notebooks/lightning_logs/version_49016548/checkpoints exists and is not empty.\n",
      "  rank_zero_warn(f\"Checkpoint directory {dirpath} exists and is not empty.\")\n",
      "LOCAL_RANK: 0 - CUDA_VISIBLE_DEVICES: [0]\n",
      "\n",
      "  | Name     | Type                                | Params\n",
      "-----------------------------------------------------------------\n",
      "0 | model    | GraphConstructionFCNN               | 17.9 K\n",
      "1 | loss_fct | GraphConstructionHingeEmbeddingLoss | 0     \n",
      "-----------------------------------------------------------------\n",
      "17.9 K    Trainable params\n",
      "0         Non-trainable params\n",
      "17.9 K    Total params\n",
      "0.072     Total estimated model params size (MB)\n",
      "SLURM auto-requeueing enabled. Setting signal handlers.\n"
     ]
    },
    {
     "name": "stdout",
     "output_type": "stream",
     "text": [
      "\u001b[3m               Validation epoch=20               \u001b[0m\n",
      "┏━━━━━━━━━━━━━━━━━━━━━━━━━━━┳━━━━━━━━━┳━━━━━━━━━┓\n",
      "┃\u001b[1m \u001b[0m\u001b[1mMetric                   \u001b[0m\u001b[1m \u001b[0m┃\u001b[1m \u001b[0m\u001b[1m  Value\u001b[0m\u001b[1m \u001b[0m┃\u001b[1m \u001b[0m\u001b[1m  Error\u001b[0m\u001b[1m \u001b[0m┃\n",
      "┡━━━━━━━━━━━━━━━━━━━━━━━━━━━╇━━━━━━━━━╇━━━━━━━━━┩\n",
      "│ attractive                │ 0.00128 │ 0.00001 │\n",
      "│ attractive_train          │ 0.00133 │     nan │\n",
      "│ attractive_weighted       │ 0.00128 │ 0.00001 │\n",
      "│ attractive_weighted_train │ 0.00133 │     nan │\n",
      "│ repulsive                 │ 0.00025 │ 0.00000 │\n",
      "│ repulsive_train           │ 0.00027 │     nan │\n",
      "│ repulsive_weighted        │ 0.00050 │ 0.00001 │\n",
      "│ repulsive_weighted_train  │ 0.00053 │     nan │\n",
      "│ total                     │ 0.00179 │ 0.00001 │\n",
      "│ total_train               │ 0.00186 │     nan │\n",
      "└───────────────────────────┴─────────┴─────────┘\n",
      "\n",
      "\n",
      "\n",
      "Training for scaling coefficients = 4.0\n"
     ]
    },
    {
     "data": {
      "application/vnd.jupyter.widget-view+json": {
       "model_id": "",
       "version_major": 2,
       "version_minor": 0
      },
      "text/plain": [
       "Sanity Checking: 0it [00:00, ?it/s]"
      ]
     },
     "metadata": {},
     "output_type": "display_data"
    },
    {
     "name": "stderr",
     "output_type": "stream",
     "text": [
      "/scratch/gpfs/dc3896/micromamba/envs/gnn/lib/python3.10/site-packages/pytorch_lightning/trainer/connectors/data_connector.py:432: PossibleUserWarning: The dataloader, val_dataloader, does not have many workers which may be a bottleneck. Consider increasing the value of the `num_workers` argument` (try 48 which is the number of cpus on this machine) in the `DataLoader` init to improve performance.\n",
      "  rank_zero_warn(\n"
     ]
    },
    {
     "data": {
      "text/html": [
       "<pre style=\"white-space:pre;overflow-x:auto;line-height:normal;font-family:Menlo,'DejaVu Sans Mono',consolas,'Courier New',monospace\"></pre>\n"
      ],
      "text/plain": []
     },
     "metadata": {},
     "output_type": "display_data"
    },
    {
     "name": "stderr",
     "output_type": "stream",
     "text": [
      "/scratch/gpfs/dc3896/micromamba/envs/gnn/lib/python3.10/site-packages/pytorch_lightning/trainer/connectors/data_connector.py:432: PossibleUserWarning: The dataloader, train_dataloader, does not have many workers which may be a bottleneck. Consider increasing the value of the `num_workers` argument` (try 48 which is the number of cpus on this machine) in the `DataLoader` init to improve performance.\n",
      "  rank_zero_warn(\n"
     ]
    },
    {
     "data": {
      "application/vnd.jupyter.widget-view+json": {
       "model_id": "a0663adeca9b4bbeaf1e39c8e1eae8bc",
       "version_major": 2,
       "version_minor": 0
      },
      "text/plain": [
       "Training: 0it [00:00, ?it/s]"
      ]
     },
     "metadata": {},
     "output_type": "display_data"
    },
    {
     "data": {
      "application/vnd.jupyter.widget-view+json": {
       "model_id": "",
       "version_major": 2,
       "version_minor": 0
      },
      "text/plain": [
       "Validation: 0it [00:00, ?it/s]"
      ]
     },
     "metadata": {},
     "output_type": "display_data"
    },
    {
     "data": {
      "text/html": [
       "<pre style=\"white-space:pre;overflow-x:auto;line-height:normal;font-family:Menlo,'DejaVu Sans Mono',consolas,'Courier New',monospace\"></pre>\n"
      ],
      "text/plain": []
     },
     "metadata": {},
     "output_type": "display_data"
    },
    {
     "name": "stdout",
     "output_type": "stream",
     "text": [
      "\u001b[3m               Validation epoch=1                \u001b[0m\n",
      "┏━━━━━━━━━━━━━━━━━━━━━━━━━━━┳━━━━━━━━━┳━━━━━━━━━┓\n",
      "┃\u001b[1m \u001b[0m\u001b[1mMetric                   \u001b[0m\u001b[1m \u001b[0m┃\u001b[1m \u001b[0m\u001b[1m  Value\u001b[0m\u001b[1m \u001b[0m┃\u001b[1m \u001b[0m\u001b[1m  Error\u001b[0m\u001b[1m \u001b[0m┃\n",
      "┡━━━━━━━━━━━━━━━━━━━━━━━━━━━╇━━━━━━━━━╇━━━━━━━━━┩\n",
      "│ attractive                │ 0.00327 │ 0.00001 │\n",
      "│ attractive_train          │ 0.00315 │     nan │\n",
      "│ attractive_weighted       │ 0.00327 │ 0.00001 │\n",
      "│ attractive_weighted_train │ 0.00315 │     nan │\n",
      "│ repulsive                 │ 0.00025 │ 0.00000 │\n",
      "│ repulsive_train           │ 0.00028 │     nan │\n",
      "│ repulsive_weighted        │ 0.00099 │ 0.00002 │\n",
      "│ repulsive_weighted_train  │ 0.00113 │     nan │\n",
      "│ total                     │ 0.00425 │ 0.00002 │\n",
      "│ total_train               │ 0.00429 │     nan │\n",
      "└───────────────────────────┴─────────┴─────────┘\n",
      "\n"
     ]
    },
    {
     "data": {
      "application/vnd.jupyter.widget-view+json": {
       "model_id": "",
       "version_major": 2,
       "version_minor": 0
      },
      "text/plain": [
       "Validation: 0it [00:00, ?it/s]"
      ]
     },
     "metadata": {},
     "output_type": "display_data"
    },
    {
     "data": {
      "text/html": [
       "<pre style=\"white-space:pre;overflow-x:auto;line-height:normal;font-family:Menlo,'DejaVu Sans Mono',consolas,'Courier New',monospace\"></pre>\n"
      ],
      "text/plain": []
     },
     "metadata": {},
     "output_type": "display_data"
    },
    {
     "name": "stdout",
     "output_type": "stream",
     "text": [
      "\u001b[3m               Validation epoch=2                \u001b[0m\n",
      "┏━━━━━━━━━━━━━━━━━━━━━━━━━━━┳━━━━━━━━━┳━━━━━━━━━┓\n",
      "┃\u001b[1m \u001b[0m\u001b[1mMetric                   \u001b[0m\u001b[1m \u001b[0m┃\u001b[1m \u001b[0m\u001b[1m  Value\u001b[0m\u001b[1m \u001b[0m┃\u001b[1m \u001b[0m\u001b[1m  Error\u001b[0m\u001b[1m \u001b[0m┃\n",
      "┡━━━━━━━━━━━━━━━━━━━━━━━━━━━╇━━━━━━━━━╇━━━━━━━━━┩\n",
      "│ attractive                │ 0.00272 │ 0.00001 │\n",
      "│ attractive_train          │ 0.00270 │     nan │\n",
      "│ attractive_weighted       │ 0.00272 │ 0.00001 │\n",
      "│ attractive_weighted_train │ 0.00270 │     nan │\n",
      "│ repulsive                 │ 0.00017 │ 0.00000 │\n",
      "│ repulsive_train           │ 0.00022 │     nan │\n",
      "│ repulsive_weighted        │ 0.00069 │ 0.00001 │\n",
      "│ repulsive_weighted_train  │ 0.00087 │     nan │\n",
      "│ total                     │ 0.00341 │ 0.00002 │\n",
      "│ total_train               │ 0.00356 │     nan │\n",
      "└───────────────────────────┴─────────┴─────────┘\n",
      "\n"
     ]
    },
    {
     "data": {
      "application/vnd.jupyter.widget-view+json": {
       "model_id": "",
       "version_major": 2,
       "version_minor": 0
      },
      "text/plain": [
       "Validation: 0it [00:00, ?it/s]"
      ]
     },
     "metadata": {},
     "output_type": "display_data"
    },
    {
     "data": {
      "text/html": [
       "<pre style=\"white-space:pre;overflow-x:auto;line-height:normal;font-family:Menlo,'DejaVu Sans Mono',consolas,'Courier New',monospace\"></pre>\n"
      ],
      "text/plain": []
     },
     "metadata": {},
     "output_type": "display_data"
    },
    {
     "name": "stdout",
     "output_type": "stream",
     "text": [
      "\u001b[3m               Validation epoch=3                \u001b[0m\n",
      "┏━━━━━━━━━━━━━━━━━━━━━━━━━━━┳━━━━━━━━━┳━━━━━━━━━┓\n",
      "┃\u001b[1m \u001b[0m\u001b[1mMetric                   \u001b[0m\u001b[1m \u001b[0m┃\u001b[1m \u001b[0m\u001b[1m  Value\u001b[0m\u001b[1m \u001b[0m┃\u001b[1m \u001b[0m\u001b[1m  Error\u001b[0m\u001b[1m \u001b[0m┃\n",
      "┡━━━━━━━━━━━━━━━━━━━━━━━━━━━╇━━━━━━━━━╇━━━━━━━━━┩\n",
      "│ attractive                │ 0.00255 │ 0.00001 │\n",
      "│ attractive_train          │ 0.00249 │     nan │\n",
      "│ attractive_weighted       │ 0.00255 │ 0.00001 │\n",
      "│ attractive_weighted_train │ 0.00249 │     nan │\n",
      "│ repulsive                 │ 0.00018 │ 0.00000 │\n",
      "│ repulsive_train           │ 0.00023 │     nan │\n",
      "│ repulsive_weighted        │ 0.00071 │ 0.00001 │\n",
      "│ repulsive_weighted_train  │ 0.00092 │     nan │\n",
      "│ total                     │ 0.00326 │ 0.00002 │\n",
      "│ total_train               │ 0.00341 │     nan │\n",
      "└───────────────────────────┴─────────┴─────────┘\n",
      "\n"
     ]
    },
    {
     "data": {
      "application/vnd.jupyter.widget-view+json": {
       "model_id": "",
       "version_major": 2,
       "version_minor": 0
      },
      "text/plain": [
       "Validation: 0it [00:00, ?it/s]"
      ]
     },
     "metadata": {},
     "output_type": "display_data"
    },
    {
     "data": {
      "text/html": [
       "<pre style=\"white-space:pre;overflow-x:auto;line-height:normal;font-family:Menlo,'DejaVu Sans Mono',consolas,'Courier New',monospace\"></pre>\n"
      ],
      "text/plain": []
     },
     "metadata": {},
     "output_type": "display_data"
    },
    {
     "name": "stdout",
     "output_type": "stream",
     "text": [
      "\u001b[3m               Validation epoch=4                \u001b[0m\n",
      "┏━━━━━━━━━━━━━━━━━━━━━━━━━━━┳━━━━━━━━━┳━━━━━━━━━┓\n",
      "┃\u001b[1m \u001b[0m\u001b[1mMetric                   \u001b[0m\u001b[1m \u001b[0m┃\u001b[1m \u001b[0m\u001b[1m  Value\u001b[0m\u001b[1m \u001b[0m┃\u001b[1m \u001b[0m\u001b[1m  Error\u001b[0m\u001b[1m \u001b[0m┃\n",
      "┡━━━━━━━━━━━━━━━━━━━━━━━━━━━╇━━━━━━━━━╇━━━━━━━━━┩\n",
      "│ attractive                │ 0.00245 │ 0.00001 │\n",
      "│ attractive_train          │ 0.00258 │     nan │\n",
      "│ attractive_weighted       │ 0.00245 │ 0.00001 │\n",
      "│ attractive_weighted_train │ 0.00258 │     nan │\n",
      "│ repulsive                 │ 0.00018 │ 0.00000 │\n",
      "│ repulsive_train           │ 0.00019 │     nan │\n",
      "│ repulsive_weighted        │ 0.00071 │ 0.00001 │\n",
      "│ repulsive_weighted_train  │ 0.00078 │     nan │\n",
      "│ total                     │ 0.00317 │ 0.00002 │\n",
      "│ total_train               │ 0.00335 │     nan │\n",
      "└───────────────────────────┴─────────┴─────────┘\n",
      "\n"
     ]
    },
    {
     "data": {
      "application/vnd.jupyter.widget-view+json": {
       "model_id": "",
       "version_major": 2,
       "version_minor": 0
      },
      "text/plain": [
       "Validation: 0it [00:00, ?it/s]"
      ]
     },
     "metadata": {},
     "output_type": "display_data"
    },
    {
     "data": {
      "text/html": [
       "<pre style=\"white-space:pre;overflow-x:auto;line-height:normal;font-family:Menlo,'DejaVu Sans Mono',consolas,'Courier New',monospace\"></pre>\n"
      ],
      "text/plain": []
     },
     "metadata": {},
     "output_type": "display_data"
    },
    {
     "name": "stdout",
     "output_type": "stream",
     "text": [
      "\u001b[3m               Validation epoch=5                \u001b[0m\n",
      "┏━━━━━━━━━━━━━━━━━━━━━━━━━━━┳━━━━━━━━━┳━━━━━━━━━┓\n",
      "┃\u001b[1m \u001b[0m\u001b[1mMetric                   \u001b[0m\u001b[1m \u001b[0m┃\u001b[1m \u001b[0m\u001b[1m  Value\u001b[0m\u001b[1m \u001b[0m┃\u001b[1m \u001b[0m\u001b[1m  Error\u001b[0m\u001b[1m \u001b[0m┃\n",
      "┡━━━━━━━━━━━━━━━━━━━━━━━━━━━╇━━━━━━━━━╇━━━━━━━━━┩\n",
      "│ attractive                │ 0.00243 │ 0.00001 │\n",
      "│ attractive_train          │ 0.00248 │     nan │\n",
      "│ attractive_weighted       │ 0.00243 │ 0.00001 │\n",
      "│ attractive_weighted_train │ 0.00248 │     nan │\n",
      "│ repulsive                 │ 0.00015 │ 0.00000 │\n",
      "│ repulsive_train           │ 0.00017 │     nan │\n",
      "│ repulsive_weighted        │ 0.00060 │ 0.00001 │\n",
      "│ repulsive_weighted_train  │ 0.00068 │     nan │\n",
      "│ total                     │ 0.00303 │ 0.00002 │\n",
      "│ total_train               │ 0.00316 │     nan │\n",
      "└───────────────────────────┴─────────┴─────────┘\n",
      "\n"
     ]
    },
    {
     "data": {
      "application/vnd.jupyter.widget-view+json": {
       "model_id": "",
       "version_major": 2,
       "version_minor": 0
      },
      "text/plain": [
       "Validation: 0it [00:00, ?it/s]"
      ]
     },
     "metadata": {},
     "output_type": "display_data"
    },
    {
     "data": {
      "text/html": [
       "<pre style=\"white-space:pre;overflow-x:auto;line-height:normal;font-family:Menlo,'DejaVu Sans Mono',consolas,'Courier New',monospace\"></pre>\n"
      ],
      "text/plain": []
     },
     "metadata": {},
     "output_type": "display_data"
    },
    {
     "name": "stdout",
     "output_type": "stream",
     "text": [
      "\u001b[3m               Validation epoch=6                \u001b[0m\n",
      "┏━━━━━━━━━━━━━━━━━━━━━━━━━━━┳━━━━━━━━━┳━━━━━━━━━┓\n",
      "┃\u001b[1m \u001b[0m\u001b[1mMetric                   \u001b[0m\u001b[1m \u001b[0m┃\u001b[1m \u001b[0m\u001b[1m  Value\u001b[0m\u001b[1m \u001b[0m┃\u001b[1m \u001b[0m\u001b[1m  Error\u001b[0m\u001b[1m \u001b[0m┃\n",
      "┡━━━━━━━━━━━━━━━━━━━━━━━━━━━╇━━━━━━━━━╇━━━━━━━━━┩\n",
      "│ attractive                │ 0.00230 │ 0.00001 │\n",
      "│ attractive_train          │ 0.00225 │     nan │\n",
      "│ attractive_weighted       │ 0.00230 │ 0.00001 │\n",
      "│ attractive_weighted_train │ 0.00225 │     nan │\n",
      "│ repulsive                 │ 0.00014 │ 0.00000 │\n",
      "│ repulsive_train           │ 0.00015 │     nan │\n",
      "│ repulsive_weighted        │ 0.00057 │ 0.00001 │\n",
      "│ repulsive_weighted_train  │ 0.00059 │     nan │\n",
      "│ total                     │ 0.00287 │ 0.00001 │\n",
      "│ total_train               │ 0.00284 │     nan │\n",
      "└───────────────────────────┴─────────┴─────────┘\n",
      "\n"
     ]
    },
    {
     "data": {
      "application/vnd.jupyter.widget-view+json": {
       "model_id": "",
       "version_major": 2,
       "version_minor": 0
      },
      "text/plain": [
       "Validation: 0it [00:00, ?it/s]"
      ]
     },
     "metadata": {},
     "output_type": "display_data"
    },
    {
     "data": {
      "text/html": [
       "<pre style=\"white-space:pre;overflow-x:auto;line-height:normal;font-family:Menlo,'DejaVu Sans Mono',consolas,'Courier New',monospace\"></pre>\n"
      ],
      "text/plain": []
     },
     "metadata": {},
     "output_type": "display_data"
    },
    {
     "name": "stdout",
     "output_type": "stream",
     "text": [
      "\u001b[3m               Validation epoch=7                \u001b[0m\n",
      "┏━━━━━━━━━━━━━━━━━━━━━━━━━━━┳━━━━━━━━━┳━━━━━━━━━┓\n",
      "┃\u001b[1m \u001b[0m\u001b[1mMetric                   \u001b[0m\u001b[1m \u001b[0m┃\u001b[1m \u001b[0m\u001b[1m  Value\u001b[0m\u001b[1m \u001b[0m┃\u001b[1m \u001b[0m\u001b[1m  Error\u001b[0m\u001b[1m \u001b[0m┃\n",
      "┡━━━━━━━━━━━━━━━━━━━━━━━━━━━╇━━━━━━━━━╇━━━━━━━━━┩\n",
      "│ attractive                │ 0.00224 │ 0.00001 │\n",
      "│ attractive_train          │ 0.00230 │     nan │\n",
      "│ attractive_weighted       │ 0.00224 │ 0.00001 │\n",
      "│ attractive_weighted_train │ 0.00230 │     nan │\n",
      "│ repulsive                 │ 0.00016 │ 0.00000 │\n",
      "│ repulsive_train           │ 0.00016 │     nan │\n",
      "│ repulsive_weighted        │ 0.00064 │ 0.00001 │\n",
      "│ repulsive_weighted_train  │ 0.00065 │     nan │\n",
      "│ total                     │ 0.00288 │ 0.00001 │\n",
      "│ total_train               │ 0.00296 │     nan │\n",
      "└───────────────────────────┴─────────┴─────────┘\n",
      "\n"
     ]
    },
    {
     "data": {
      "application/vnd.jupyter.widget-view+json": {
       "model_id": "",
       "version_major": 2,
       "version_minor": 0
      },
      "text/plain": [
       "Validation: 0it [00:00, ?it/s]"
      ]
     },
     "metadata": {},
     "output_type": "display_data"
    },
    {
     "data": {
      "text/html": [
       "<pre style=\"white-space:pre;overflow-x:auto;line-height:normal;font-family:Menlo,'DejaVu Sans Mono',consolas,'Courier New',monospace\"></pre>\n"
      ],
      "text/plain": []
     },
     "metadata": {},
     "output_type": "display_data"
    },
    {
     "name": "stdout",
     "output_type": "stream",
     "text": [
      "\u001b[3m               Validation epoch=8                \u001b[0m\n",
      "┏━━━━━━━━━━━━━━━━━━━━━━━━━━━┳━━━━━━━━━┳━━━━━━━━━┓\n",
      "┃\u001b[1m \u001b[0m\u001b[1mMetric                   \u001b[0m\u001b[1m \u001b[0m┃\u001b[1m \u001b[0m\u001b[1m  Value\u001b[0m\u001b[1m \u001b[0m┃\u001b[1m \u001b[0m\u001b[1m  Error\u001b[0m\u001b[1m \u001b[0m┃\n",
      "┡━━━━━━━━━━━━━━━━━━━━━━━━━━━╇━━━━━━━━━╇━━━━━━━━━┩\n",
      "│ attractive                │ 0.00221 │ 0.00001 │\n",
      "│ attractive_train          │ 0.00232 │     nan │\n",
      "│ attractive_weighted       │ 0.00221 │ 0.00001 │\n",
      "│ attractive_weighted_train │ 0.00232 │     nan │\n",
      "│ repulsive                 │ 0.00017 │ 0.00000 │\n",
      "│ repulsive_train           │ 0.00014 │     nan │\n",
      "│ repulsive_weighted        │ 0.00068 │ 0.00001 │\n",
      "│ repulsive_weighted_train  │ 0.00056 │     nan │\n",
      "│ total                     │ 0.00289 │ 0.00002 │\n",
      "│ total_train               │ 0.00288 │     nan │\n",
      "└───────────────────────────┴─────────┴─────────┘\n",
      "\n"
     ]
    },
    {
     "data": {
      "application/vnd.jupyter.widget-view+json": {
       "model_id": "",
       "version_major": 2,
       "version_minor": 0
      },
      "text/plain": [
       "Validation: 0it [00:00, ?it/s]"
      ]
     },
     "metadata": {},
     "output_type": "display_data"
    },
    {
     "data": {
      "text/html": [
       "<pre style=\"white-space:pre;overflow-x:auto;line-height:normal;font-family:Menlo,'DejaVu Sans Mono',consolas,'Courier New',monospace\"></pre>\n"
      ],
      "text/plain": []
     },
     "metadata": {},
     "output_type": "display_data"
    },
    {
     "name": "stdout",
     "output_type": "stream",
     "text": [
      "\u001b[3m               Validation epoch=9                \u001b[0m\n",
      "┏━━━━━━━━━━━━━━━━━━━━━━━━━━━┳━━━━━━━━━┳━━━━━━━━━┓\n",
      "┃\u001b[1m \u001b[0m\u001b[1mMetric                   \u001b[0m\u001b[1m \u001b[0m┃\u001b[1m \u001b[0m\u001b[1m  Value\u001b[0m\u001b[1m \u001b[0m┃\u001b[1m \u001b[0m\u001b[1m  Error\u001b[0m\u001b[1m \u001b[0m┃\n",
      "┡━━━━━━━━━━━━━━━━━━━━━━━━━━━╇━━━━━━━━━╇━━━━━━━━━┩\n",
      "│ attractive                │ 0.00208 │ 0.00001 │\n",
      "│ attractive_train          │ 0.00193 │     nan │\n",
      "│ attractive_weighted       │ 0.00208 │ 0.00001 │\n",
      "│ attractive_weighted_train │ 0.00193 │     nan │\n",
      "│ repulsive                 │ 0.00015 │ 0.00000 │\n",
      "│ repulsive_train           │ 0.00019 │     nan │\n",
      "│ repulsive_weighted        │ 0.00061 │ 0.00001 │\n",
      "│ repulsive_weighted_train  │ 0.00076 │     nan │\n",
      "│ total                     │ 0.00268 │ 0.00001 │\n",
      "│ total_train               │ 0.00269 │     nan │\n",
      "└───────────────────────────┴─────────┴─────────┘\n",
      "\n"
     ]
    },
    {
     "data": {
      "application/vnd.jupyter.widget-view+json": {
       "model_id": "",
       "version_major": 2,
       "version_minor": 0
      },
      "text/plain": [
       "Validation: 0it [00:00, ?it/s]"
      ]
     },
     "metadata": {},
     "output_type": "display_data"
    },
    {
     "data": {
      "text/html": [
       "<pre style=\"white-space:pre;overflow-x:auto;line-height:normal;font-family:Menlo,'DejaVu Sans Mono',consolas,'Courier New',monospace\"></pre>\n"
      ],
      "text/plain": []
     },
     "metadata": {},
     "output_type": "display_data"
    },
    {
     "name": "stdout",
     "output_type": "stream",
     "text": [
      "\u001b[3m               Validation epoch=10               \u001b[0m\n",
      "┏━━━━━━━━━━━━━━━━━━━━━━━━━━━┳━━━━━━━━━┳━━━━━━━━━┓\n",
      "┃\u001b[1m \u001b[0m\u001b[1mMetric                   \u001b[0m\u001b[1m \u001b[0m┃\u001b[1m \u001b[0m\u001b[1m  Value\u001b[0m\u001b[1m \u001b[0m┃\u001b[1m \u001b[0m\u001b[1m  Error\u001b[0m\u001b[1m \u001b[0m┃\n",
      "┡━━━━━━━━━━━━━━━━━━━━━━━━━━━╇━━━━━━━━━╇━━━━━━━━━┩\n",
      "│ attractive                │ 0.00200 │ 0.00001 │\n",
      "│ attractive_train          │ 0.00214 │     nan │\n",
      "│ attractive_weighted       │ 0.00200 │ 0.00001 │\n",
      "│ attractive_weighted_train │ 0.00214 │     nan │\n",
      "│ repulsive                 │ 0.00015 │ 0.00000 │\n",
      "│ repulsive_train           │ 0.00015 │     nan │\n",
      "│ repulsive_weighted        │ 0.00061 │ 0.00001 │\n",
      "│ repulsive_weighted_train  │ 0.00059 │     nan │\n",
      "│ total                     │ 0.00261 │ 0.00001 │\n",
      "│ total_train               │ 0.00272 │     nan │\n",
      "└───────────────────────────┴─────────┴─────────┘\n",
      "\n"
     ]
    },
    {
     "data": {
      "application/vnd.jupyter.widget-view+json": {
       "model_id": "",
       "version_major": 2,
       "version_minor": 0
      },
      "text/plain": [
       "Validation: 0it [00:00, ?it/s]"
      ]
     },
     "metadata": {},
     "output_type": "display_data"
    },
    {
     "data": {
      "text/html": [
       "<pre style=\"white-space:pre;overflow-x:auto;line-height:normal;font-family:Menlo,'DejaVu Sans Mono',consolas,'Courier New',monospace\"></pre>\n"
      ],
      "text/plain": []
     },
     "metadata": {},
     "output_type": "display_data"
    },
    {
     "name": "stdout",
     "output_type": "stream",
     "text": [
      "\u001b[3m               Validation epoch=11               \u001b[0m\n",
      "┏━━━━━━━━━━━━━━━━━━━━━━━━━━━┳━━━━━━━━━┳━━━━━━━━━┓\n",
      "┃\u001b[1m \u001b[0m\u001b[1mMetric                   \u001b[0m\u001b[1m \u001b[0m┃\u001b[1m \u001b[0m\u001b[1m  Value\u001b[0m\u001b[1m \u001b[0m┃\u001b[1m \u001b[0m\u001b[1m  Error\u001b[0m\u001b[1m \u001b[0m┃\n",
      "┡━━━━━━━━━━━━━━━━━━━━━━━━━━━╇━━━━━━━━━╇━━━━━━━━━┩\n",
      "│ attractive                │ 0.00200 │ 0.00001 │\n",
      "│ attractive_train          │ 0.00202 │     nan │\n",
      "│ attractive_weighted       │ 0.00200 │ 0.00001 │\n",
      "│ attractive_weighted_train │ 0.00202 │     nan │\n",
      "│ repulsive                 │ 0.00015 │ 0.00000 │\n",
      "│ repulsive_train           │ 0.00015 │     nan │\n",
      "│ repulsive_weighted        │ 0.00060 │ 0.00001 │\n",
      "│ repulsive_weighted_train  │ 0.00059 │     nan │\n",
      "│ total                     │ 0.00259 │ 0.00001 │\n",
      "│ total_train               │ 0.00261 │     nan │\n",
      "└───────────────────────────┴─────────┴─────────┘\n",
      "\n"
     ]
    },
    {
     "data": {
      "application/vnd.jupyter.widget-view+json": {
       "model_id": "",
       "version_major": 2,
       "version_minor": 0
      },
      "text/plain": [
       "Validation: 0it [00:00, ?it/s]"
      ]
     },
     "metadata": {},
     "output_type": "display_data"
    },
    {
     "data": {
      "text/html": [
       "<pre style=\"white-space:pre;overflow-x:auto;line-height:normal;font-family:Menlo,'DejaVu Sans Mono',consolas,'Courier New',monospace\"></pre>\n"
      ],
      "text/plain": []
     },
     "metadata": {},
     "output_type": "display_data"
    },
    {
     "name": "stdout",
     "output_type": "stream",
     "text": [
      "\u001b[3m               Validation epoch=12               \u001b[0m\n",
      "┏━━━━━━━━━━━━━━━━━━━━━━━━━━━┳━━━━━━━━━┳━━━━━━━━━┓\n",
      "┃\u001b[1m \u001b[0m\u001b[1mMetric                   \u001b[0m\u001b[1m \u001b[0m┃\u001b[1m \u001b[0m\u001b[1m  Value\u001b[0m\u001b[1m \u001b[0m┃\u001b[1m \u001b[0m\u001b[1m  Error\u001b[0m\u001b[1m \u001b[0m┃\n",
      "┡━━━━━━━━━━━━━━━━━━━━━━━━━━━╇━━━━━━━━━╇━━━━━━━━━┩\n",
      "│ attractive                │ 0.00196 │ 0.00001 │\n",
      "│ attractive_train          │ 0.00193 │     nan │\n",
      "│ attractive_weighted       │ 0.00196 │ 0.00001 │\n",
      "│ attractive_weighted_train │ 0.00193 │     nan │\n",
      "│ repulsive                 │ 0.00017 │ 0.00000 │\n",
      "│ repulsive_train           │ 0.00016 │     nan │\n",
      "│ repulsive_weighted        │ 0.00067 │ 0.00001 │\n",
      "│ repulsive_weighted_train  │ 0.00064 │     nan │\n",
      "│ total                     │ 0.00262 │ 0.00002 │\n",
      "│ total_train               │ 0.00257 │     nan │\n",
      "└───────────────────────────┴─────────┴─────────┘\n",
      "\n"
     ]
    },
    {
     "data": {
      "application/vnd.jupyter.widget-view+json": {
       "model_id": "",
       "version_major": 2,
       "version_minor": 0
      },
      "text/plain": [
       "Validation: 0it [00:00, ?it/s]"
      ]
     },
     "metadata": {},
     "output_type": "display_data"
    },
    {
     "data": {
      "text/html": [
       "<pre style=\"white-space:pre;overflow-x:auto;line-height:normal;font-family:Menlo,'DejaVu Sans Mono',consolas,'Courier New',monospace\"></pre>\n"
      ],
      "text/plain": []
     },
     "metadata": {},
     "output_type": "display_data"
    },
    {
     "name": "stdout",
     "output_type": "stream",
     "text": [
      "\u001b[3m               Validation epoch=13               \u001b[0m\n",
      "┏━━━━━━━━━━━━━━━━━━━━━━━━━━━┳━━━━━━━━━┳━━━━━━━━━┓\n",
      "┃\u001b[1m \u001b[0m\u001b[1mMetric                   \u001b[0m\u001b[1m \u001b[0m┃\u001b[1m \u001b[0m\u001b[1m  Value\u001b[0m\u001b[1m \u001b[0m┃\u001b[1m \u001b[0m\u001b[1m  Error\u001b[0m\u001b[1m \u001b[0m┃\n",
      "┡━━━━━━━━━━━━━━━━━━━━━━━━━━━╇━━━━━━━━━╇━━━━━━━━━┩\n",
      "│ attractive                │ 0.00179 │ 0.00001 │\n",
      "│ attractive_train          │ 0.00192 │     nan │\n",
      "│ attractive_weighted       │ 0.00179 │ 0.00001 │\n",
      "│ attractive_weighted_train │ 0.00192 │     nan │\n",
      "│ repulsive                 │ 0.00015 │ 0.00000 │\n",
      "│ repulsive_train           │ 0.00014 │     nan │\n",
      "│ repulsive_weighted        │ 0.00059 │ 0.00001 │\n",
      "│ repulsive_weighted_train  │ 0.00054 │     nan │\n",
      "│ total                     │ 0.00237 │ 0.00001 │\n",
      "│ total_train               │ 0.00247 │     nan │\n",
      "└───────────────────────────┴─────────┴─────────┘\n",
      "\n"
     ]
    },
    {
     "data": {
      "application/vnd.jupyter.widget-view+json": {
       "model_id": "",
       "version_major": 2,
       "version_minor": 0
      },
      "text/plain": [
       "Validation: 0it [00:00, ?it/s]"
      ]
     },
     "metadata": {},
     "output_type": "display_data"
    },
    {
     "data": {
      "text/html": [
       "<pre style=\"white-space:pre;overflow-x:auto;line-height:normal;font-family:Menlo,'DejaVu Sans Mono',consolas,'Courier New',monospace\"></pre>\n"
      ],
      "text/plain": []
     },
     "metadata": {},
     "output_type": "display_data"
    },
    {
     "name": "stdout",
     "output_type": "stream",
     "text": [
      "\u001b[3m               Validation epoch=14               \u001b[0m\n",
      "┏━━━━━━━━━━━━━━━━━━━━━━━━━━━┳━━━━━━━━━┳━━━━━━━━━┓\n",
      "┃\u001b[1m \u001b[0m\u001b[1mMetric                   \u001b[0m\u001b[1m \u001b[0m┃\u001b[1m \u001b[0m\u001b[1m  Value\u001b[0m\u001b[1m \u001b[0m┃\u001b[1m \u001b[0m\u001b[1m  Error\u001b[0m\u001b[1m \u001b[0m┃\n",
      "┡━━━━━━━━━━━━━━━━━━━━━━━━━━━╇━━━━━━━━━╇━━━━━━━━━┩\n",
      "│ attractive                │ 0.00184 │ 0.00001 │\n",
      "│ attractive_train          │ 0.00175 │     nan │\n",
      "│ attractive_weighted       │ 0.00184 │ 0.00001 │\n",
      "│ attractive_weighted_train │ 0.00175 │     nan │\n",
      "│ repulsive                 │ 0.00017 │ 0.00000 │\n",
      "│ repulsive_train           │ 0.00018 │     nan │\n",
      "│ repulsive_weighted        │ 0.00066 │ 0.00001 │\n",
      "│ repulsive_weighted_train  │ 0.00072 │     nan │\n",
      "│ total                     │ 0.00250 │ 0.00001 │\n",
      "│ total_train               │ 0.00246 │     nan │\n",
      "└───────────────────────────┴─────────┴─────────┘\n",
      "\n"
     ]
    },
    {
     "data": {
      "application/vnd.jupyter.widget-view+json": {
       "model_id": "",
       "version_major": 2,
       "version_minor": 0
      },
      "text/plain": [
       "Validation: 0it [00:00, ?it/s]"
      ]
     },
     "metadata": {},
     "output_type": "display_data"
    },
    {
     "data": {
      "text/html": [
       "<pre style=\"white-space:pre;overflow-x:auto;line-height:normal;font-family:Menlo,'DejaVu Sans Mono',consolas,'Courier New',monospace\"></pre>\n"
      ],
      "text/plain": []
     },
     "metadata": {},
     "output_type": "display_data"
    },
    {
     "name": "stdout",
     "output_type": "stream",
     "text": [
      "\u001b[3m               Validation epoch=15               \u001b[0m\n",
      "┏━━━━━━━━━━━━━━━━━━━━━━━━━━━┳━━━━━━━━━┳━━━━━━━━━┓\n",
      "┃\u001b[1m \u001b[0m\u001b[1mMetric                   \u001b[0m\u001b[1m \u001b[0m┃\u001b[1m \u001b[0m\u001b[1m  Value\u001b[0m\u001b[1m \u001b[0m┃\u001b[1m \u001b[0m\u001b[1m  Error\u001b[0m\u001b[1m \u001b[0m┃\n",
      "┡━━━━━━━━━━━━━━━━━━━━━━━━━━━╇━━━━━━━━━╇━━━━━━━━━┩\n",
      "│ attractive                │ 0.00181 │ 0.00001 │\n",
      "│ attractive_train          │ 0.00167 │     nan │\n",
      "│ attractive_weighted       │ 0.00181 │ 0.00001 │\n",
      "│ attractive_weighted_train │ 0.00167 │     nan │\n",
      "│ repulsive                 │ 0.00014 │ 0.00000 │\n",
      "│ repulsive_train           │ 0.00018 │     nan │\n",
      "│ repulsive_weighted        │ 0.00058 │ 0.00001 │\n",
      "│ repulsive_weighted_train  │ 0.00071 │     nan │\n",
      "│ total                     │ 0.00239 │ 0.00001 │\n",
      "│ total_train               │ 0.00237 │     nan │\n",
      "└───────────────────────────┴─────────┴─────────┘\n",
      "\n"
     ]
    },
    {
     "data": {
      "application/vnd.jupyter.widget-view+json": {
       "model_id": "",
       "version_major": 2,
       "version_minor": 0
      },
      "text/plain": [
       "Validation: 0it [00:00, ?it/s]"
      ]
     },
     "metadata": {},
     "output_type": "display_data"
    },
    {
     "data": {
      "text/html": [
       "<pre style=\"white-space:pre;overflow-x:auto;line-height:normal;font-family:Menlo,'DejaVu Sans Mono',consolas,'Courier New',monospace\"></pre>\n"
      ],
      "text/plain": []
     },
     "metadata": {},
     "output_type": "display_data"
    },
    {
     "name": "stdout",
     "output_type": "stream",
     "text": [
      "\u001b[3m               Validation epoch=16               \u001b[0m\n",
      "┏━━━━━━━━━━━━━━━━━━━━━━━━━━━┳━━━━━━━━━┳━━━━━━━━━┓\n",
      "┃\u001b[1m \u001b[0m\u001b[1mMetric                   \u001b[0m\u001b[1m \u001b[0m┃\u001b[1m \u001b[0m\u001b[1m  Value\u001b[0m\u001b[1m \u001b[0m┃\u001b[1m \u001b[0m\u001b[1m  Error\u001b[0m\u001b[1m \u001b[0m┃\n",
      "┡━━━━━━━━━━━━━━━━━━━━━━━━━━━╇━━━━━━━━━╇━━━━━━━━━┩\n",
      "│ attractive                │ 0.00174 │ 0.00001 │\n",
      "│ attractive_train          │ 0.00173 │     nan │\n",
      "│ attractive_weighted       │ 0.00174 │ 0.00001 │\n",
      "│ attractive_weighted_train │ 0.00173 │     nan │\n",
      "│ repulsive                 │ 0.00015 │ 0.00000 │\n",
      "│ repulsive_train           │ 0.00011 │     nan │\n",
      "│ repulsive_weighted        │ 0.00059 │ 0.00001 │\n",
      "│ repulsive_weighted_train  │ 0.00043 │     nan │\n",
      "│ total                     │ 0.00233 │ 0.00001 │\n",
      "│ total_train               │ 0.00216 │     nan │\n",
      "└───────────────────────────┴─────────┴─────────┘\n",
      "\n"
     ]
    },
    {
     "data": {
      "application/vnd.jupyter.widget-view+json": {
       "model_id": "",
       "version_major": 2,
       "version_minor": 0
      },
      "text/plain": [
       "Validation: 0it [00:00, ?it/s]"
      ]
     },
     "metadata": {},
     "output_type": "display_data"
    },
    {
     "data": {
      "text/html": [
       "<pre style=\"white-space:pre;overflow-x:auto;line-height:normal;font-family:Menlo,'DejaVu Sans Mono',consolas,'Courier New',monospace\"></pre>\n"
      ],
      "text/plain": []
     },
     "metadata": {},
     "output_type": "display_data"
    },
    {
     "name": "stdout",
     "output_type": "stream",
     "text": [
      "\u001b[3m               Validation epoch=17               \u001b[0m\n",
      "┏━━━━━━━━━━━━━━━━━━━━━━━━━━━┳━━━━━━━━━┳━━━━━━━━━┓\n",
      "┃\u001b[1m \u001b[0m\u001b[1mMetric                   \u001b[0m\u001b[1m \u001b[0m┃\u001b[1m \u001b[0m\u001b[1m  Value\u001b[0m\u001b[1m \u001b[0m┃\u001b[1m \u001b[0m\u001b[1m  Error\u001b[0m\u001b[1m \u001b[0m┃\n",
      "┡━━━━━━━━━━━━━━━━━━━━━━━━━━━╇━━━━━━━━━╇━━━━━━━━━┩\n",
      "│ attractive                │ 0.00172 │ 0.00001 │\n",
      "│ attractive_train          │ 0.00169 │     nan │\n",
      "│ attractive_weighted       │ 0.00172 │ 0.00001 │\n",
      "│ attractive_weighted_train │ 0.00169 │     nan │\n",
      "│ repulsive                 │ 0.00013 │ 0.00000 │\n",
      "│ repulsive_train           │ 0.00014 │     nan │\n",
      "│ repulsive_weighted        │ 0.00052 │ 0.00001 │\n",
      "│ repulsive_weighted_train  │ 0.00057 │     nan │\n",
      "│ total                     │ 0.00224 │ 0.00001 │\n",
      "│ total_train               │ 0.00226 │     nan │\n",
      "└───────────────────────────┴─────────┴─────────┘\n",
      "\n"
     ]
    },
    {
     "data": {
      "application/vnd.jupyter.widget-view+json": {
       "model_id": "",
       "version_major": 2,
       "version_minor": 0
      },
      "text/plain": [
       "Validation: 0it [00:00, ?it/s]"
      ]
     },
     "metadata": {},
     "output_type": "display_data"
    },
    {
     "data": {
      "text/html": [
       "<pre style=\"white-space:pre;overflow-x:auto;line-height:normal;font-family:Menlo,'DejaVu Sans Mono',consolas,'Courier New',monospace\"></pre>\n"
      ],
      "text/plain": []
     },
     "metadata": {},
     "output_type": "display_data"
    },
    {
     "name": "stdout",
     "output_type": "stream",
     "text": [
      "\u001b[3m               Validation epoch=18               \u001b[0m\n",
      "┏━━━━━━━━━━━━━━━━━━━━━━━━━━━┳━━━━━━━━━┳━━━━━━━━━┓\n",
      "┃\u001b[1m \u001b[0m\u001b[1mMetric                   \u001b[0m\u001b[1m \u001b[0m┃\u001b[1m \u001b[0m\u001b[1m  Value\u001b[0m\u001b[1m \u001b[0m┃\u001b[1m \u001b[0m\u001b[1m  Error\u001b[0m\u001b[1m \u001b[0m┃\n",
      "┡━━━━━━━━━━━━━━━━━━━━━━━━━━━╇━━━━━━━━━╇━━━━━━━━━┩\n",
      "│ attractive                │ 0.00180 │ 0.00001 │\n",
      "│ attractive_train          │ 0.00185 │     nan │\n",
      "│ attractive_weighted       │ 0.00180 │ 0.00001 │\n",
      "│ attractive_weighted_train │ 0.00185 │     nan │\n",
      "│ repulsive                 │ 0.00013 │ 0.00000 │\n",
      "│ repulsive_train           │ 0.00014 │     nan │\n",
      "│ repulsive_weighted        │ 0.00051 │ 0.00001 │\n",
      "│ repulsive_weighted_train  │ 0.00055 │     nan │\n",
      "│ total                     │ 0.00231 │ 0.00001 │\n",
      "│ total_train               │ 0.00239 │     nan │\n",
      "└───────────────────────────┴─────────┴─────────┘\n",
      "\n"
     ]
    },
    {
     "data": {
      "application/vnd.jupyter.widget-view+json": {
       "model_id": "",
       "version_major": 2,
       "version_minor": 0
      },
      "text/plain": [
       "Validation: 0it [00:00, ?it/s]"
      ]
     },
     "metadata": {},
     "output_type": "display_data"
    },
    {
     "data": {
      "text/html": [
       "<pre style=\"white-space:pre;overflow-x:auto;line-height:normal;font-family:Menlo,'DejaVu Sans Mono',consolas,'Courier New',monospace\"></pre>\n"
      ],
      "text/plain": []
     },
     "metadata": {},
     "output_type": "display_data"
    },
    {
     "name": "stdout",
     "output_type": "stream",
     "text": [
      "\u001b[3m               Validation epoch=19               \u001b[0m\n",
      "┏━━━━━━━━━━━━━━━━━━━━━━━━━━━┳━━━━━━━━━┳━━━━━━━━━┓\n",
      "┃\u001b[1m \u001b[0m\u001b[1mMetric                   \u001b[0m\u001b[1m \u001b[0m┃\u001b[1m \u001b[0m\u001b[1m  Value\u001b[0m\u001b[1m \u001b[0m┃\u001b[1m \u001b[0m\u001b[1m  Error\u001b[0m\u001b[1m \u001b[0m┃\n",
      "┡━━━━━━━━━━━━━━━━━━━━━━━━━━━╇━━━━━━━━━╇━━━━━━━━━┩\n",
      "│ attractive                │ 0.00172 │ 0.00001 │\n",
      "│ attractive_train          │ 0.00180 │     nan │\n",
      "│ attractive_weighted       │ 0.00172 │ 0.00001 │\n",
      "│ attractive_weighted_train │ 0.00180 │     nan │\n",
      "│ repulsive                 │ 0.00015 │ 0.00000 │\n",
      "│ repulsive_train           │ 0.00014 │     nan │\n",
      "│ repulsive_weighted        │ 0.00058 │ 0.00001 │\n",
      "│ repulsive_weighted_train  │ 0.00056 │     nan │\n",
      "│ total                     │ 0.00230 │ 0.00001 │\n",
      "│ total_train               │ 0.00236 │     nan │\n",
      "└───────────────────────────┴─────────┴─────────┘\n",
      "\n"
     ]
    },
    {
     "data": {
      "application/vnd.jupyter.widget-view+json": {
       "model_id": "",
       "version_major": 2,
       "version_minor": 0
      },
      "text/plain": [
       "Validation: 0it [00:00, ?it/s]"
      ]
     },
     "metadata": {},
     "output_type": "display_data"
    },
    {
     "data": {
      "text/html": [
       "<pre style=\"white-space:pre;overflow-x:auto;line-height:normal;font-family:Menlo,'DejaVu Sans Mono',consolas,'Courier New',monospace\"></pre>\n"
      ],
      "text/plain": []
     },
     "metadata": {},
     "output_type": "display_data"
    },
    {
     "name": "stderr",
     "output_type": "stream",
     "text": [
      "`Trainer.fit` stopped: `max_epochs=20` reached.\n"
     ]
    },
    {
     "name": "stdout",
     "output_type": "stream",
     "text": [
      "\u001b[3m               Validation epoch=20               \u001b[0m\n",
      "┏━━━━━━━━━━━━━━━━━━━━━━━━━━━┳━━━━━━━━━┳━━━━━━━━━┓\n",
      "┃\u001b[1m \u001b[0m\u001b[1mMetric                   \u001b[0m\u001b[1m \u001b[0m┃\u001b[1m \u001b[0m\u001b[1m  Value\u001b[0m\u001b[1m \u001b[0m┃\u001b[1m \u001b[0m\u001b[1m  Error\u001b[0m\u001b[1m \u001b[0m┃\n",
      "┡━━━━━━━━━━━━━━━━━━━━━━━━━━━╇━━━━━━━━━╇━━━━━━━━━┩\n",
      "│ attractive                │ 0.00173 │ 0.00001 │\n",
      "│ attractive_train          │ 0.00167 │     nan │\n",
      "│ attractive_weighted       │ 0.00173 │ 0.00001 │\n",
      "│ attractive_weighted_train │ 0.00167 │     nan │\n",
      "│ repulsive                 │ 0.00015 │ 0.00000 │\n",
      "│ repulsive_train           │ 0.00013 │     nan │\n",
      "│ repulsive_weighted        │ 0.00058 │ 0.00001 │\n",
      "│ repulsive_weighted_train  │ 0.00053 │     nan │\n",
      "│ total                     │ 0.00231 │ 0.00001 │\n",
      "│ total_train               │ 0.00220 │     nan │\n",
      "└───────────────────────────┴─────────┴─────────┘\n",
      "\n",
      "\n",
      "\n"
     ]
    }
   ],
   "source": [
    "models_dict = {}\n",
    "for scaling_coeff in scaling_coeffs:\n",
    "    print(f'Training for scaling coefficients = {scaling_coeff}')\n",
    "    loss_history = train_model(weight_repulsive=scaling_coeff, dm=dm, max_epochs=20)\n",
    "    models_dict[f'{scaling_coeff}'] = {'loss_history':loss_history,\n",
    "                                       'weight_attractive':1,\n",
    "                                       'weight_repulsive':scaling_coeff}\n",
    "    print(\"\\n\")"
   ]
  },
  {
   "cell_type": "code",
   "execution_count": 18,
   "id": "3c553a15",
   "metadata": {},
   "outputs": [],
   "source": [
    "import matplotlib.pyplot as plt"
   ]
  },
  {
   "cell_type": "code",
   "execution_count": 19,
   "id": "8ae29956",
   "metadata": {},
   "outputs": [],
   "source": [
    "plt.figure(figsize=(10, 6))\n",
    "\n",
    "for key, model_dict in models_dict.items():\n",
    "    label = f'Scaling coefficient = {model_dict[\"weight_attractive\"]} (attractive), {model_dict[\"weight_repulsive\"]} (repulsive)'\n",
    "    plt.plot(model_dict['loss_history']['attractive_train'], \n",
    "             model_dict['loss_history']['repulsive_train'],\n",
    "             marker='o', markersize=3, label=label)\n",
    "\n",
    "plt.xlabel('embedding_loss_attractive_train')\n",
    "plt.ylabel('embedding_loss_repulsive_train')\n",
    "plt.title('Loss Functions')\n",
    "\n",
    "plt.legend()\n",
    "plt.show()"
   ]
  },
  {
   "cell_type": "code",
   "execution_count": 15,
   "id": "9b4b032b",
   "metadata": {},
   "outputs": [
    {
     "data": {
      "image/png": "[encoded data removed]",
      "text/plain": [
       "<Figure size 1000x600 with 1 Axes>"
      ]
     },
     "metadata": {},
     "output_type": "display_data"
    }
   ],
   "source": [
    "plt.figure(figsize=(10, 6))\n",
    "\n",
    "for key, model_dict in models_dict.items():\n",
    "    label = f'Scaling coefficient = {model_dict[\"weight_attractive\"]} (attractive), {model_dict[\"weight_repulsive\"]} (repulsive)'\n",
    "    plt.plot(model_dict['loss_history']['attractive'], \n",
    "             model_dict['loss_history']['repulsive'],\n",
    "             marker='o', markersize=3, label=label)\n",
    "\n",
    "plt.xlabel('embedding_loss_attractive')\n",
    "plt.ylabel('embedding_loss_repulsive')\n",
    "plt.title('Loss Functions')\n",
    "\n",
    "plt.legend()\n",
    "plt.show()"
   ]
  },
  {
   "cell_type": "code",
   "execution_count": 18,
   "id": "45231bfd",
   "metadata": {},
   "outputs": [
    {
     "name": "stdout",
     "output_type": "stream",
     "text": [
      "Scaling coefficient = 1 (attractive), 0.2 (repulsive)\n",
      "attractive_train = 0.0005748728872276843\n",
      "repulsive_train = 0.0011069910833612084\n",
      "attractive = 0.0005817562923766673\n",
      "repulsive = 0.0012404819717630744\n",
      "\n",
      "\n",
      "Scaling coefficient = 1 (attractive), 0.5 (repulsive)\n",
      "attractive_train = 0.0008114342344924808\n",
      "repulsive_train = 0.0007505328394472599\n",
      "attractive = 0.0007998778019100428\n",
      "repulsive = 0.0006983964703977108\n",
      "\n",
      "\n",
      "Scaling coefficient = 1 (attractive), 1.0 (repulsive)\n",
      "attractive_train = 0.0009808961767703295\n",
      "repulsive_train = 0.00041287270141765475\n",
      "attractive = 0.001040896400809288\n",
      "repulsive = 0.0003898827126249671\n",
      "\n",
      "\n",
      "Scaling coefficient = 1 (attractive), 2.0 (repulsive)\n",
      "attractive_train = 0.0013302370207384229\n",
      "repulsive_train = 0.0002665876236278564\n",
      "attractive = 0.0012832093052566051\n",
      "repulsive = 0.0002523448783904314\n",
      "\n",
      "\n",
      "Scaling coefficient = 1 (attractive), 4.0 (repulsive)\n",
      "attractive_train = 0.0016745271859690547\n",
      "repulsive_train = 0.00013125120312906802\n",
      "attractive = 0.0017290508840233088\n",
      "repulsive = 0.00014555205416399986\n",
      "\n",
      "\n"
     ]
    }
   ],
   "source": [
    "for key, model_dict in models_dict.items():\n",
    "    print(f'Scaling coefficient = {model_dict[\"weight_attractive\"]} (attractive), {model_dict[\"weight_repulsive\"]} (repulsive)')\n",
    "    print(f\"attractive_train = {model_dict['loss_history']['attractive_train'][-1]}\") \n",
    "    print(f\"repulsive_train = {model_dict['loss_history']['repulsive_train'][-1]}\")\n",
    "    print(f\"attractive = {model_dict['loss_history']['attractive'][-1]}\") \n",
    "    print(f\"repulsive = {model_dict['loss_history']['repulsive'][-1]}\")\n",
    "    print('\\n')"
   ]
  },
  {
   "cell_type": "code",
   "execution_count": null,
   "id": "cd76ccd1",
   "metadata": {},
   "outputs": [],
   "source": []
  }
 ],
 "metadata": {
  "kernelspec": {
   "display_name": "Python 3 (ipykernel)",
   "language": "python",
   "name": "python3"
  },
  "language_info": {
   "codemirror_mode": {
    "name": "ipython",
    "version": 3
   },
   "file_extension": ".py",
   "mimetype": "text/x-python",
   "name": "python",
   "nbconvert_exporter": "python",
   "pygments_lexer": "ipython3",
   "version": "3.10.11"
  }
 },
 "nbformat": 4,
 "nbformat_minor": 5
}
